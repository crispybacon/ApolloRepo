{
 "cells": [
  {
   "cell_type": "markdown",
   "metadata": {},
   "source": [
    "#Collections"
   ]
  },
  {
   "cell_type": "markdown",
   "metadata": {},
   "source": [
    "**This module implements specialized container datatypes providing alternatives to Python’s general purpose built-in containers, dict, list, set, and tuple**"
   ]
  },
  {
   "cell_type": "code",
   "execution_count": 1,
   "metadata": {
    "collapsed": true
   },
   "outputs": [],
   "source": [
    "collections_types = {\n",
    "    'namedtuple()':'Factory function for creating tuple subclasses with named fields',\n",
    "    'deque':'List-like container with fast appends and pops on either end',\n",
    "    'Counter':'dict subclass for counting hashable objects',\n",
    "    'OrderedDict':'dict subclass that remembers the order entried were added',\n",
    "    'defaultdict':'dict subclass that calls a factory function to supply missing values',\n",
    "}"
   ]
  },
  {
   "cell_type": "code",
   "execution_count": 2,
   "metadata": {
    "collapsed": false
   },
   "outputs": [],
   "source": [
    "collection_examples = {}"
   ]
  },
  {
   "cell_type": "markdown",
   "metadata": {},
   "source": [
    "##Counter"
   ]
  },
  {
   "cell_type": "code",
   "execution_count": 3,
   "metadata": {
    "collapsed": true
   },
   "outputs": [],
   "source": [
    "import collections\n",
    "from collections import Counter"
   ]
  },
  {
   "cell_type": "code",
   "execution_count": 4,
   "metadata": {
    "collapsed": false
   },
   "outputs": [],
   "source": [
    "# Tally occurrences of words in a list\n",
    "cnt = Counter()\n",
    "for word in ['red', 'blue', 'red', 'green', 'blue', 'blue']:\n",
    "    cnt[word] += 1"
   ]
  },
  {
   "cell_type": "code",
   "execution_count": 5,
   "metadata": {
    "collapsed": false
   },
   "outputs": [
    {
     "data": {
      "text/plain": [
       "Counter({'blue': 3, 'red': 2, 'green': 1})"
      ]
     },
     "execution_count": 5,
     "metadata": {},
     "output_type": "execute_result"
    }
   ],
   "source": [
    "cnt"
   ]
  },
  {
   "cell_type": "code",
   "execution_count": 6,
   "metadata": {
    "collapsed": true
   },
   "outputs": [],
   "source": [
    "# Find the ten most common words in Hamlet\n",
    "import re\n",
    "import nltk\n",
    "#words = re.findall(r'\\w+', open('hamlet.txt').read().lower())\n",
    "#Counter(words).most_common(10)"
   ]
  },
  {
   "cell_type": "code",
   "execution_count": 7,
   "metadata": {
    "collapsed": true
   },
   "outputs": [],
   "source": [
    "words = nltk.corpus.shakespeare.words(fileid='hamlet.xml')"
   ]
  },
  {
   "cell_type": "code",
   "execution_count": 8,
   "metadata": {
    "collapsed": true
   },
   "outputs": [],
   "source": [
    "C_Object = Counter(words)"
   ]
  },
  {
   "cell_type": "code",
   "execution_count": 9,
   "metadata": {
    "collapsed": false
   },
   "outputs": [
    {
     "data": {
      "text/plain": [
       "[(u',', 3211),\n",
       " (u'.', 1289),\n",
       " (u'the', 996),\n",
       " (u\"'\", 909),\n",
       " (u'and', 705),\n",
       " (u'to', 640),\n",
       " (u'of', 631),\n",
       " (u'I', 606),\n",
       " (u';', 580),\n",
       " (u':', 519)]"
      ]
     },
     "execution_count": 9,
     "metadata": {},
     "output_type": "execute_result"
    }
   ],
   "source": [
    "C_Object.most_common(10)"
   ]
  },
  {
   "cell_type": "code",
   "execution_count": 10,
   "metadata": {
    "collapsed": false
   },
   "outputs": [],
   "source": [
    "stopwords = nltk.corpus.stopwords.words('english')"
   ]
  },
  {
   "cell_type": "code",
   "execution_count": 11,
   "metadata": {
    "collapsed": false
   },
   "outputs": [],
   "source": [
    "hamlet_words = Counter()\n",
    "for word in words:\n",
    "    if word not in stopwords:\n",
    "        hamlet_words[word] += 1"
   ]
  },
  {
   "cell_type": "code",
   "execution_count": 12,
   "metadata": {
    "collapsed": false
   },
   "outputs": [
    {
     "data": {
      "text/plain": [
       "[(u',', 3211),\n",
       " (u'.', 1289),\n",
       " (u\"'\", 909),\n",
       " (u'I', 606),\n",
       " (u';', 580),\n",
       " (u':', 519),\n",
       " (u'?', 417),\n",
       " (u'HAMLET', 389),\n",
       " (u'!', 279),\n",
       " (u'And', 263)]"
      ]
     },
     "execution_count": 12,
     "metadata": {},
     "output_type": "execute_result"
    }
   ],
   "source": [
    "hamlet_words.most_common(10)"
   ]
  },
  {
   "cell_type": "code",
   "execution_count": 13,
   "metadata": {
    "collapsed": true
   },
   "outputs": [],
   "source": [
    "import string"
   ]
  },
  {
   "cell_type": "code",
   "execution_count": 14,
   "metadata": {
    "collapsed": false
   },
   "outputs": [
    {
     "data": {
      "text/plain": [
       "'!\"#$%&\\'()*+,-./:;<=>?@[\\\\]^_`{|}~'"
      ]
     },
     "execution_count": 14,
     "metadata": {},
     "output_type": "execute_result"
    }
   ],
   "source": [
    "string.punctuation"
   ]
  },
  {
   "cell_type": "code",
   "execution_count": 15,
   "metadata": {
    "collapsed": false
   },
   "outputs": [],
   "source": [
    "punctuation = list(string.punctuation)"
   ]
  },
  {
   "cell_type": "code",
   "execution_count": 96,
   "metadata": {
    "collapsed": true
   },
   "outputs": [],
   "source": [
    "hamlet_words_no_punct = Counter()"
   ]
  },
  {
   "cell_type": "code",
   "execution_count": 97,
   "metadata": {
    "collapsed": false
   },
   "outputs": [],
   "source": [
    "for word in hamlet_words:\n",
    "    if word not in punctuation:\n",
    "        hamlet_words_no_punct[word] += 1"
   ]
  },
  {
   "cell_type": "code",
   "execution_count": 98,
   "metadata": {
    "collapsed": true
   },
   "outputs": [],
   "source": [
    "collection_examples['Counter'] = 'hamlet_words_no_punct.most_common(10)'"
   ]
  },
  {
   "cell_type": "code",
   "execution_count": 99,
   "metadata": {
    "collapsed": false
   },
   "outputs": [
    {
     "data": {
      "text/plain": [
       "[(u'forgone', 1),\n",
       " (u'shelf', 1),\n",
       " (u'pardon', 1),\n",
       " (u'nunnery', 1),\n",
       " (u'lunacies', 1),\n",
       " (u'doubts', 1),\n",
       " (u'foul', 1),\n",
       " (u'Remorseless', 1),\n",
       " (u'four', 1),\n",
       " (u'hath', 1)]"
      ]
     },
     "execution_count": 99,
     "metadata": {},
     "output_type": "execute_result"
    }
   ],
   "source": [
    "eval(collection_examples['Counter'])"
   ]
  },
  {
   "cell_type": "code",
   "execution_count": 100,
   "metadata": {
    "collapsed": false
   },
   "outputs": [
    {
     "data": {
      "text/plain": [
       "[(u'forgone', 1),\n",
       " (u'shelf', 1),\n",
       " (u'pardon', 1),\n",
       " (u'nunnery', 1),\n",
       " (u'lunacies', 1),\n",
       " (u'doubts', 1),\n",
       " (u'Remorseless', 1),\n",
       " (u'four', 1),\n",
       " (u'hath', 1),\n",
       " (u'straws', 1)]"
      ]
     },
     "execution_count": 100,
     "metadata": {},
     "output_type": "execute_result"
    }
   ],
   "source": [
    "del hamlet_words_no_punct['foul']\n",
    "eval(collection_examples['Counter'])"
   ]
  },
  {
   "cell_type": "markdown",
   "metadata": {},
   "source": [
    "###elements()  \n",
    "**No Order, 0 or lower count will be skipped**  "
   ]
  },
  {
   "cell_type": "code",
   "execution_count": null,
   "metadata": {
    "collapsed": false
   },
   "outputs": [],
   "source": [
    "hamlet_words_no_punct.elements"
   ]
  },
  {
   "cell_type": "markdown",
   "metadata": {},
   "source": [
    "###most_common"
   ]
  },
  {
   "cell_type": "code",
   "execution_count": null,
   "metadata": {
    "collapsed": false
   },
   "outputs": [],
   "source": [
    "hamlet_words_no_punct.most_common(1)"
   ]
  },
  {
   "cell_type": "markdown",
   "metadata": {},
   "source": [
    "###subtract"
   ]
  },
  {
   "cell_type": "code",
   "execution_count": null,
   "metadata": {
    "collapsed": false
   },
   "outputs": [],
   "source": [
    "top10"
   ]
  },
  {
   "cell_type": "code",
   "execution_count": null,
   "metadata": {
    "collapsed": true
   },
   "outputs": [],
   "source": [
    "Counter.subtract(hamlet_words_no_punct)"
   ]
  },
  {
   "cell_type": "code",
   "execution_count": null,
   "metadata": {
    "collapsed": false
   },
   "outputs": [],
   "source": [
    "hamlet_words_no_punct.subtract(hamlet_words_no_punct)"
   ]
  },
  {
   "cell_type": "code",
   "execution_count": null,
   "metadata": {
    "collapsed": false
   },
   "outputs": [],
   "source": [
    "hamlet_words_no_punct.most_common(10)"
   ]
  },
  {
   "cell_type": "code",
   "execution_count": null,
   "metadata": {
    "collapsed": false
   },
   "outputs": [],
   "source": [
    "hamlet_words_no_punctb = hamlet_words_no_punct.copy()\n",
    "for i in range(10):\n",
    "    for word in hamlet_words_no_punctb:\n",
    "        hamlet_words_no_punct.update(word)\n",
    "hamlet_words_no_punct.most_common(10)"
   ]
  },
  {
   "cell_type": "code",
   "execution_count": 101,
   "metadata": {
    "collapsed": true
   },
   "outputs": [],
   "source": [
    "collection_examples['Counter'] = hamlet_words_no_punct"
   ]
  },
  {
   "cell_type": "markdown",
   "metadata": {},
   "source": [
    "    sum(c.values())                 # total of all counts\n",
    "    c.clear()                       # reset all counts\n",
    "    list(c)                         # list unique elements\n",
    "    set(c)                          # convert to a set\n",
    "    dict(c)                         # convert to a regular dictionary\n",
    "    c.items()                       # convert to a list of (elem, cnt) pairs\n",
    "    Counter(dict(list_of_pairs))    # convert from a list of (elem, cnt) pairs\n",
    "    c.most_common()[:-n-1:-1]       # n least common elements\n",
    "    c += Counter()                  # remove zero and negative counts"
   ]
  },
  {
   "cell_type": "markdown",
   "metadata": {},
   "source": [
    "    c = Counter(a=3, b=1)\n",
    "    d = Counter(a=1, b=2)\n",
    "    c + d                       # add two counters together:  c[x] + d[x]\n",
    "\n",
    "    c - d                       # subtract (keeping only positive counts)\n",
    "\n",
    "    c & d                       # intersection:  min(c[x], d[x])\n",
    "\n",
    "    c | d                       # union:  max(c[x], d[x])"
   ]
  },
  {
   "cell_type": "markdown",
   "metadata": {},
   "source": [
    "#deque "
   ]
  },
  {
   "cell_type": "code",
   "execution_count": 22,
   "metadata": {
    "collapsed": true
   },
   "outputs": [],
   "source": [
    "from collections import deque"
   ]
  },
  {
   "cell_type": "code",
   "execution_count": 23,
   "metadata": {
    "collapsed": true
   },
   "outputs": [],
   "source": [
    "candle = deque()"
   ]
  },
  {
   "cell_type": "markdown",
   "metadata": {},
   "source": [
    "###append(x)"
   ]
  },
  {
   "cell_type": "code",
   "execution_count": 24,
   "metadata": {
    "collapsed": true
   },
   "outputs": [],
   "source": [
    "candle.append('flame-Right')"
   ]
  },
  {
   "cell_type": "code",
   "execution_count": 25,
   "metadata": {
    "collapsed": false
   },
   "outputs": [
    {
     "data": {
      "text/plain": [
       "deque(['flame-Right'])"
      ]
     },
     "execution_count": 25,
     "metadata": {},
     "output_type": "execute_result"
    }
   ],
   "source": [
    "candle"
   ]
  },
  {
   "cell_type": "markdown",
   "metadata": {},
   "source": [
    "###candle.appendleft()"
   ]
  },
  {
   "cell_type": "code",
   "execution_count": 26,
   "metadata": {
    "collapsed": true
   },
   "outputs": [],
   "source": [
    "candle.appendleft('flame-Left')"
   ]
  },
  {
   "cell_type": "code",
   "execution_count": 27,
   "metadata": {
    "collapsed": false
   },
   "outputs": [
    {
     "data": {
      "text/plain": [
       "deque(['flame-Left', 'flame-Right'])"
      ]
     },
     "execution_count": 27,
     "metadata": {},
     "output_type": "execute_result"
    }
   ],
   "source": [
    "candle"
   ]
  },
  {
   "cell_type": "markdown",
   "metadata": {},
   "source": [
    "###clear()"
   ]
  },
  {
   "cell_type": "code",
   "execution_count": 28,
   "metadata": {
    "collapsed": false
   },
   "outputs": [],
   "source": [
    "candle.clear()"
   ]
  },
  {
   "cell_type": "code",
   "execution_count": 29,
   "metadata": {
    "collapsed": false
   },
   "outputs": [
    {
     "data": {
      "text/plain": [
       "deque([])"
      ]
     },
     "execution_count": 29,
     "metadata": {},
     "output_type": "execute_result"
    }
   ],
   "source": [
    "candle"
   ]
  },
  {
   "cell_type": "markdown",
   "metadata": {},
   "source": [
    "###count()"
   ]
  },
  {
   "cell_type": "code",
   "execution_count": 30,
   "metadata": {
    "collapsed": true
   },
   "outputs": [],
   "source": [
    "elements = ('C','C','H','N','O','O','S','Si','O','N','N','N')"
   ]
  },
  {
   "cell_type": "code",
   "execution_count": 31,
   "metadata": {
    "collapsed": false
   },
   "outputs": [
    {
     "data": {
      "text/plain": [
       "4"
      ]
     },
     "execution_count": 31,
     "metadata": {},
     "output_type": "execute_result"
    }
   ],
   "source": [
    "for element in elements:\n",
    "    candle.append(element)\n",
    "elements.count('N')"
   ]
  },
  {
   "cell_type": "markdown",
   "metadata": {},
   "source": [
    "###extend()"
   ]
  },
  {
   "cell_type": "code",
   "execution_count": 32,
   "metadata": {
    "collapsed": true
   },
   "outputs": [],
   "source": [
    "meteor = ('Ta','Fe', 'P', 'Ni', 'Mn')"
   ]
  },
  {
   "cell_type": "code",
   "execution_count": 33,
   "metadata": {
    "collapsed": true
   },
   "outputs": [],
   "source": [
    "ultima = candle.extend(meteor)"
   ]
  },
  {
   "cell_type": "code",
   "execution_count": 34,
   "metadata": {
    "collapsed": false
   },
   "outputs": [
    {
     "data": {
      "text/plain": [
       "deque(['C', 'C', 'H', 'N', 'O', 'O', 'S', 'Si', 'O', 'N', 'N', 'N', 'Ta', 'Fe', 'P', 'Ni', 'Mn'])"
      ]
     },
     "execution_count": 34,
     "metadata": {},
     "output_type": "execute_result"
    }
   ],
   "source": [
    "candle"
   ]
  },
  {
   "cell_type": "markdown",
   "metadata": {},
   "source": [
    "###extendleft()"
   ]
  },
  {
   "cell_type": "code",
   "execution_count": 35,
   "metadata": {
    "collapsed": false
   },
   "outputs": [
    {
     "data": {
      "text/plain": [
       "deque(['chno', 'chno', 'chno', 'chno', 'C', 'C', 'H', 'N', 'O', 'O', 'S', 'Si', 'O', 'N', 'N', 'N', 'Ta', 'Fe', 'P', 'Ni', 'Mn'])"
      ]
     },
     "execution_count": 35,
     "metadata": {},
     "output_type": "execute_result"
    }
   ],
   "source": [
    "organo_pattern = ('chno', 'chno', 'chno', 'chno')\n",
    "candle.extendleft(organo_pattern)\n",
    "candle"
   ]
  },
  {
   "cell_type": "markdown",
   "metadata": {},
   "source": [
    "###pop()"
   ]
  },
  {
   "cell_type": "code",
   "execution_count": 36,
   "metadata": {
    "collapsed": false
   },
   "outputs": [
    {
     "data": {
      "text/plain": [
       "'Mn'"
      ]
     },
     "execution_count": 36,
     "metadata": {},
     "output_type": "execute_result"
    }
   ],
   "source": [
    "candle.pop()"
   ]
  },
  {
   "cell_type": "code",
   "execution_count": 37,
   "metadata": {
    "collapsed": false
   },
   "outputs": [
    {
     "data": {
      "text/plain": [
       "deque(['chno', 'chno', 'chno', 'chno', 'C', 'C', 'H', 'N', 'O', 'O', 'S', 'Si', 'O', 'N', 'N', 'N', 'Ta', 'Fe', 'P', 'Ni'])"
      ]
     },
     "execution_count": 37,
     "metadata": {},
     "output_type": "execute_result"
    }
   ],
   "source": [
    "candle"
   ]
  },
  {
   "cell_type": "markdown",
   "metadata": {},
   "source": [
    "###popleft()"
   ]
  },
  {
   "cell_type": "code",
   "execution_count": 38,
   "metadata": {
    "collapsed": false
   },
   "outputs": [
    {
     "data": {
      "text/plain": [
       "'chno'"
      ]
     },
     "execution_count": 38,
     "metadata": {},
     "output_type": "execute_result"
    }
   ],
   "source": [
    "candle.popleft()"
   ]
  },
  {
   "cell_type": "code",
   "execution_count": 39,
   "metadata": {
    "collapsed": false
   },
   "outputs": [
    {
     "data": {
      "text/plain": [
       "deque(['chno', 'chno', 'chno', 'C', 'C', 'H', 'N', 'O', 'O', 'S', 'Si', 'O', 'N', 'N', 'N', 'Ta', 'Fe', 'P', 'Ni'])"
      ]
     },
     "execution_count": 39,
     "metadata": {},
     "output_type": "execute_result"
    }
   ],
   "source": [
    "candle"
   ]
  },
  {
   "cell_type": "markdown",
   "metadata": {},
   "source": [
    "###remove()"
   ]
  },
  {
   "cell_type": "code",
   "execution_count": 40,
   "metadata": {
    "collapsed": false
   },
   "outputs": [],
   "source": [
    "candle.remove('C')"
   ]
  },
  {
   "cell_type": "code",
   "execution_count": 41,
   "metadata": {
    "collapsed": false
   },
   "outputs": [
    {
     "data": {
      "text/plain": [
       "deque(['chno', 'chno', 'chno', 'C', 'H', 'N', 'O', 'O', 'S', 'Si', 'O', 'N', 'N', 'N', 'Ta', 'Fe', 'P', 'Ni'])"
      ]
     },
     "execution_count": 41,
     "metadata": {},
     "output_type": "execute_result"
    }
   ],
   "source": [
    "candle"
   ]
  },
  {
   "cell_type": "markdown",
   "metadata": {},
   "source": [
    "###reverse()"
   ]
  },
  {
   "cell_type": "code",
   "execution_count": 42,
   "metadata": {
    "collapsed": true
   },
   "outputs": [],
   "source": [
    "candle.reverse()"
   ]
  },
  {
   "cell_type": "code",
   "execution_count": 43,
   "metadata": {
    "collapsed": false
   },
   "outputs": [
    {
     "data": {
      "text/plain": [
       "deque(['Ni', 'P', 'Fe', 'Ta', 'N', 'N', 'N', 'O', 'Si', 'S', 'O', 'O', 'N', 'H', 'C', 'chno', 'chno', 'chno'])"
      ]
     },
     "execution_count": 43,
     "metadata": {},
     "output_type": "execute_result"
    }
   ],
   "source": [
    "candle"
   ]
  },
  {
   "cell_type": "code",
   "execution_count": 44,
   "metadata": {
    "collapsed": false
   },
   "outputs": [
    {
     "name": "stdout",
     "output_type": "stream",
     "text": [
      "Ni 0\n"
     ]
    }
   ],
   "source": [
    "import os\n",
    "print(candle[0]), os.system('say -v Boing ' + str(candle[0]))"
   ]
  },
  {
   "cell_type": "markdown",
   "metadata": {},
   "source": [
    "###rotate"
   ]
  },
  {
   "cell_type": "code",
   "execution_count": 45,
   "metadata": {
    "collapsed": true
   },
   "outputs": [],
   "source": [
    "candle.rotate(3)"
   ]
  },
  {
   "cell_type": "code",
   "execution_count": 46,
   "metadata": {
    "collapsed": false
   },
   "outputs": [
    {
     "data": {
      "text/plain": [
       "deque(['chno', 'chno', 'chno', 'Ni', 'P', 'Fe', 'Ta', 'N', 'N', 'N', 'O', 'Si', 'S', 'O', 'O', 'N', 'H', 'C'])"
      ]
     },
     "execution_count": 46,
     "metadata": {},
     "output_type": "execute_result"
    }
   ],
   "source": [
    "candle"
   ]
  },
  {
   "cell_type": "code",
   "execution_count": 103,
   "metadata": {
    "collapsed": false
   },
   "outputs": [],
   "source": [
    "collection_examples['deque'] = candle"
   ]
  },
  {
   "cell_type": "markdown",
   "metadata": {},
   "source": [
    "###maxlen()"
   ]
  },
  {
   "cell_type": "code",
   "execution_count": 47,
   "metadata": {
    "collapsed": false
   },
   "outputs": [],
   "source": [
    "candle.maxlen"
   ]
  },
  {
   "cell_type": "code",
   "execution_count": 48,
   "metadata": {
    "collapsed": false
   },
   "outputs": [
    {
     "name": "stdout",
     "output_type": "stream",
     "text": [
      "None\n"
     ]
    }
   ],
   "source": [
    "print(candle.maxlen)"
   ]
  },
  {
   "cell_type": "code",
   "execution_count": 49,
   "metadata": {
    "collapsed": true
   },
   "outputs": [],
   "source": [
    "match = deque(maxlen=5)"
   ]
  },
  {
   "cell_type": "code",
   "execution_count": 50,
   "metadata": {
    "collapsed": true
   },
   "outputs": [],
   "source": [
    "material = ('C','S','P','Mn','N')"
   ]
  },
  {
   "cell_type": "code",
   "execution_count": 51,
   "metadata": {
    "collapsed": true
   },
   "outputs": [],
   "source": [
    "for element in material:\n",
    "    match.append(element)"
   ]
  },
  {
   "cell_type": "code",
   "execution_count": 52,
   "metadata": {
    "collapsed": false
   },
   "outputs": [
    {
     "data": {
      "text/plain": [
       "deque(['C', 'S', 'P', 'Mn', 'N'], maxlen=5)"
      ]
     },
     "execution_count": 52,
     "metadata": {},
     "output_type": "execute_result"
    }
   ],
   "source": [
    "match"
   ]
  },
  {
   "cell_type": "code",
   "execution_count": 53,
   "metadata": {
    "collapsed": false
   },
   "outputs": [
    {
     "data": {
      "text/plain": [
       "5"
      ]
     },
     "execution_count": 53,
     "metadata": {},
     "output_type": "execute_result"
    }
   ],
   "source": [
    "len(match)"
   ]
  },
  {
   "cell_type": "code",
   "execution_count": 54,
   "metadata": {
    "collapsed": true
   },
   "outputs": [],
   "source": [
    "match.appendleft('As')"
   ]
  },
  {
   "cell_type": "code",
   "execution_count": 55,
   "metadata": {
    "collapsed": false
   },
   "outputs": [
    {
     "data": {
      "text/plain": [
       "deque(['As', 'C', 'S', 'P', 'Mn'], maxlen=5)"
      ]
     },
     "execution_count": 55,
     "metadata": {},
     "output_type": "execute_result"
    }
   ],
   "source": [
    "match"
   ]
  },
  {
   "cell_type": "markdown",
   "metadata": {},
   "source": [
    "##defaultdict()"
   ]
  },
  {
   "cell_type": "code",
   "execution_count": 56,
   "metadata": {
    "collapsed": true
   },
   "outputs": [],
   "source": [
    "from collections import defaultdict"
   ]
  },
  {
   "cell_type": "code",
   "execution_count": 57,
   "metadata": {
    "collapsed": false
   },
   "outputs": [],
   "source": [
    "stars = [('Terra','1'),('Jenna', '2'), ('Debby', '3'), ('Seka', '4'), ('Tiffany','5')]"
   ]
  },
  {
   "cell_type": "code",
   "execution_count": 58,
   "metadata": {
    "collapsed": false
   },
   "outputs": [],
   "source": [
    "screen = defaultdict(list)"
   ]
  },
  {
   "cell_type": "code",
   "execution_count": 59,
   "metadata": {
    "collapsed": false
   },
   "outputs": [],
   "source": [
    "for star, scene in stars:\n",
    "    screen[star].append(scene)"
   ]
  },
  {
   "cell_type": "code",
   "execution_count": 60,
   "metadata": {
    "collapsed": false
   },
   "outputs": [
    {
     "data": {
      "text/plain": [
       "defaultdict(<type 'list'>, {'Seka': ['4'], 'Tiffany': ['5'], 'Debby': ['3'], 'Jenna': ['2'], 'Terra': ['1']})"
      ]
     },
     "execution_count": 60,
     "metadata": {},
     "output_type": "execute_result"
    }
   ],
   "source": [
    "screen"
   ]
  },
  {
   "cell_type": "code",
   "execution_count": 61,
   "metadata": {
    "collapsed": true
   },
   "outputs": [],
   "source": [
    "screen.default_factory = 'um'"
   ]
  },
  {
   "cell_type": "code",
   "execution_count": 62,
   "metadata": {
    "collapsed": false
   },
   "outputs": [
    {
     "data": {
      "text/plain": [
       "[('Seka', ['4']),\n",
       " ('Tiffany', ['5']),\n",
       " ('Debby', ['3']),\n",
       " ('Jenna', ['2']),\n",
       " ('Terra', ['1'])]"
      ]
     },
     "execution_count": 62,
     "metadata": {},
     "output_type": "execute_result"
    }
   ],
   "source": [
    "screen.items()"
   ]
  },
  {
   "cell_type": "code",
   "execution_count": 63,
   "metadata": {
    "collapsed": true
   },
   "outputs": [],
   "source": [
    "alphabits = 'abcdefghijklmnopqrstuvwxyz'\n",
    "cake = defaultdict(int)\n",
    "for piece in alphabits:\n",
    "    cake[piece] += 0"
   ]
  },
  {
   "cell_type": "code",
   "execution_count": 64,
   "metadata": {
    "collapsed": false
   },
   "outputs": [
    {
     "data": {
      "text/plain": [
       "[('a', 0),\n",
       " ('c', 0),\n",
       " ('b', 0),\n",
       " ('e', 0),\n",
       " ('d', 0),\n",
       " ('g', 0),\n",
       " ('f', 0),\n",
       " ('i', 0),\n",
       " ('h', 0),\n",
       " ('k', 0),\n",
       " ('j', 0),\n",
       " ('m', 0),\n",
       " ('l', 0),\n",
       " ('o', 0),\n",
       " ('n', 0),\n",
       " ('q', 0),\n",
       " ('p', 0),\n",
       " ('s', 0),\n",
       " ('r', 0),\n",
       " ('u', 0),\n",
       " ('t', 0),\n",
       " ('w', 0),\n",
       " ('v', 0),\n",
       " ('y', 0),\n",
       " ('x', 0),\n",
       " ('z', 0)]"
      ]
     },
     "execution_count": 64,
     "metadata": {},
     "output_type": "execute_result"
    }
   ],
   "source": [
    "cake.items()"
   ]
  },
  {
   "cell_type": "code",
   "execution_count": 65,
   "metadata": {
    "collapsed": true
   },
   "outputs": [],
   "source": [
    "words = nltk.corpus.shakespeare.words(fileid='hamlet.xml')"
   ]
  },
  {
   "cell_type": "code",
   "execution_count": 66,
   "metadata": {
    "collapsed": true
   },
   "outputs": [],
   "source": [
    "for word in words:\n",
    "    for letter in word:\n",
    "        cake[letter] += 1"
   ]
  },
  {
   "cell_type": "code",
   "execution_count": 67,
   "metadata": {
    "collapsed": false
   },
   "outputs": [
    {
     "data": {
      "text/plain": [
       "defaultdict(<type 'int'>, {u'!': 288, u\"'\": 961, u'&': 5, u'-': 416, u',': 3269, u'.': 1317, u';': 582, u':': 531, u'?': 424, u'A': 1558, u'C': 466, u'B': 241, u'E': 1445, u'D': 517, u'G': 436, u'F': 226, u'I': 1504, u'H': 927, u'K': 131, u'J': 9, u'M': 614, u'L': 1164, u'O': 1069, u'N': 836, u'Q': 95, u'P': 301, u'S': 777, u'R': 892, u'U': 662, u'T': 1521, u'W': 436, u'V': 33, u'Y': 108, u'Z': 70, 'a': 8712, 'c': 2385, 'b': 1577, 'e': 14426, 'd': 4865, 'g': 2064, 'f': 2495, 'i': 7413, 'h': 7697, 'k': 1130, 'j': 101, 'm': 3622, 'l': 5334, 'o': 10384, 'n': 7775, 'q': 124, 'p': 1715, 's': 7920, 'r': 7235, 'u': 4078, 't': 10935, 'w': 2665, 'v': 1185, 'y': 3073, 'x': 177, 'z': 51})"
      ]
     },
     "execution_count": 67,
     "metadata": {},
     "output_type": "execute_result"
    }
   ],
   "source": [
    "cake"
   ]
  },
  {
   "cell_type": "code",
   "execution_count": 68,
   "metadata": {
    "collapsed": false
   },
   "outputs": [
    {
     "data": {
      "text/plain": [
       "[(u'!', 288),\n",
       " (u\"'\", 961),\n",
       " (u'&', 5),\n",
       " (u'-', 416),\n",
       " (u',', 3269),\n",
       " (u'.', 1317),\n",
       " (u';', 582),\n",
       " (u':', 531),\n",
       " (u'?', 424),\n",
       " (u'A', 1558),\n",
       " (u'C', 466),\n",
       " (u'B', 241),\n",
       " (u'E', 1445),\n",
       " (u'D', 517),\n",
       " (u'G', 436),\n",
       " (u'F', 226),\n",
       " (u'I', 1504),\n",
       " (u'H', 927),\n",
       " (u'K', 131),\n",
       " (u'J', 9),\n",
       " (u'M', 614),\n",
       " (u'L', 1164),\n",
       " (u'O', 1069),\n",
       " (u'N', 836),\n",
       " (u'Q', 95),\n",
       " (u'P', 301),\n",
       " (u'S', 777),\n",
       " (u'R', 892),\n",
       " (u'U', 662),\n",
       " (u'T', 1521),\n",
       " (u'W', 436),\n",
       " (u'V', 33),\n",
       " (u'Y', 108),\n",
       " (u'Z', 70),\n",
       " ('a', 8712),\n",
       " ('c', 2385),\n",
       " ('b', 1577),\n",
       " ('e', 14426),\n",
       " ('d', 4865),\n",
       " ('g', 2064),\n",
       " ('f', 2495),\n",
       " ('i', 7413),\n",
       " ('h', 7697),\n",
       " ('k', 1130),\n",
       " ('j', 101),\n",
       " ('m', 3622),\n",
       " ('l', 5334),\n",
       " ('o', 10384),\n",
       " ('n', 7775),\n",
       " ('q', 124),\n",
       " ('p', 1715),\n",
       " ('s', 7920),\n",
       " ('r', 7235),\n",
       " ('u', 4078),\n",
       " ('t', 10935),\n",
       " ('w', 2665),\n",
       " ('v', 1185),\n",
       " ('y', 3073),\n",
       " ('x', 177),\n",
       " ('z', 51)]"
      ]
     },
     "execution_count": 68,
     "metadata": {},
     "output_type": "execute_result"
    }
   ],
   "source": [
    "cake.items()"
   ]
  },
  {
   "cell_type": "code",
   "execution_count": 104,
   "metadata": {
    "collapsed": false
   },
   "outputs": [],
   "source": [
    "hamlet = plt.Figure()"
   ]
  },
  {
   "cell_type": "code",
   "execution_count": 70,
   "metadata": {
    "collapsed": false
   },
   "outputs": [],
   "source": [
    "%matplotlib inline"
   ]
  },
  {
   "cell_type": "code",
   "execution_count": 71,
   "metadata": {
    "collapsed": false
   },
   "outputs": [
    {
     "data": {
      "text/plain": [
       "<matplotlib.text.Text at 0x108855d90>"
      ]
     },
     "execution_count": 71,
     "metadata": {},
     "output_type": "execute_result"
    },
    {
     "data": {
      "image/png": "[encoded data removed]",
      "text/plain": [
       "<matplotlib.figure.Figure at 0x107f497d0>"
      ]
     },
     "metadata": {},
     "output_type": "display_data"
    }
   ],
   "source": [
    "import matplotlib.pyplot as plt\n",
    "lines = []\n",
    "counts = []\n",
    "for line, count in cake.items():\n",
    "    lines.append(line)\n",
    "    counts.append(count)\n",
    "plots = zip(lines,counts)\n",
    "plt.xlabel('Character')\n",
    "plt.ylabel('Count')\n",
    "#plt.legend\n",
    "plt.plot(counts)\n",
    "plt.xticks(range(0,len(lines)), lines, rotation=0)\n",
    "plt.title('Hamlet Distribuiton')"
   ]
  },
  {
   "cell_type": "code",
   "execution_count": 72,
   "metadata": {
    "collapsed": false
   },
   "outputs": [
    {
     "data": {
      "text/plain": [
       "288"
      ]
     },
     "execution_count": 72,
     "metadata": {},
     "output_type": "execute_result"
    }
   ],
   "source": [
    "plots[0][1]"
   ]
  },
  {
   "cell_type": "code",
   "execution_count": 73,
   "metadata": {
    "collapsed": false
   },
   "outputs": [
    {
     "name": "stdout",
     "output_type": "stream",
     "text": [
      "!\n",
      "'\n",
      "&\n",
      "-\n",
      ",\n",
      ".\n",
      ";\n",
      ":\n",
      "?\n",
      "A\n",
      "C\n",
      "B\n",
      "E\n",
      "D\n",
      "G\n",
      "F\n",
      "I\n",
      "H\n",
      "K\n",
      "J\n",
      "M\n",
      "L\n",
      "O\n",
      "N\n",
      "Q\n",
      "P\n",
      "S\n",
      "R\n",
      "U\n",
      "T\n",
      "W\n",
      "V\n",
      "Y\n",
      "Z\n",
      "a\n",
      "c\n",
      "b\n",
      "e\n",
      "d\n",
      "g\n",
      "f\n",
      "i\n",
      "h\n",
      "k\n",
      "j\n",
      "m\n",
      "l\n",
      "o\n",
      "n\n",
      "q\n",
      "p\n",
      "s\n",
      "r\n",
      "u\n",
      "t\n",
      "w\n",
      "v\n",
      "y\n",
      "x\n",
      "z\n"
     ]
    }
   ],
   "source": [
    "for entry in plots:\n",
    "    print(entry[0][0])"
   ]
  },
  {
   "cell_type": "code",
   "execution_count": 80,
   "metadata": {
    "collapsed": false
   },
   "outputs": [
    {
     "data": {
      "image/png": "[encoded data removed]",
      "text/plain": [
       "<matplotlib.figure.Figure at 0x107f44d10>"
      ]
     },
     "metadata": {},
     "output_type": "display_data"
    }
   ],
   "source": [
    "\n",
    "import matplotlib.pyplot as plt\n",
    "import nltk\n",
    "from collections import defaultdict\n",
    "#Jesse Bacon\n",
    "#Putz Moby Dick into a Matrix and then graphs the charecter frequency distribution.\n",
    "#Ready for Styles and everything.\n",
    "#Requires NLTK and Matplotlib\n",
    "\n",
    "words = nltk.corpus.gutenberg.words('melville-moby_dick.txt')\n",
    "\n",
    "def letter_matrix():\n",
    "    cake = {}\n",
    "    alphabits = 'abcdefghijklmnopqrstuvwxyz'\n",
    "    cake = defaultdict(int)\n",
    "    for piece in alphabits:\n",
    "        cake[piece] += 0\n",
    "    return cake\n",
    "\n",
    "def zip_book(wordlist,matrix):\n",
    "    for word in wordlist:\n",
    "        for letter in word:\n",
    "            matrix[letter] += 1\n",
    "    return matrix\n",
    "\n",
    "def make_frequency_chart(zipped_book, title, filename):\n",
    "    lines = []\n",
    "    counts = []\n",
    "    for line, count in zipped_book.items():\n",
    "        lines.append(line)\n",
    "        counts.append(count)\n",
    "    plots = zip(lines,counts)\n",
    "    plt.xlabel('Character')\n",
    "    plt.ylabel('Count')\n",
    "    #plt.legend #ary\n",
    "    plt.plot(counts)\n",
    "    plt.xticks(range(0,len(lines)), lines, rotation=0)\n",
    "    plt.title(title)\n",
    "    plt.savefig(filename)\n",
    "    plt.show()\n",
    "\n",
    "matrix = letter_matrix()\n",
    "frequency = zip_book(words, matrix)\n",
    "make_frequency_chart(frequency, 'Moby Dick', 'MobyDick.jpg')"
   ]
  },
  {
   "cell_type": "code",
   "execution_count": 81,
   "metadata": {
    "collapsed": false
   },
   "outputs": [
    {
     "data": {
      "text/plain": [
       "[u'austen-emma.txt',\n",
       " u'austen-persuasion.txt',\n",
       " u'austen-sense.txt',\n",
       " u'bible-kjv.txt',\n",
       " u'blake-poems.txt',\n",
       " u'bryant-stories.txt',\n",
       " u'burgess-busterbrown.txt',\n",
       " u'carroll-alice.txt',\n",
       " u'chesterton-ball.txt',\n",
       " u'chesterton-brown.txt',\n",
       " u'chesterton-thursday.txt',\n",
       " u'edgeworth-parents.txt',\n",
       " u'melville-moby_dick.txt',\n",
       " u'milton-paradise.txt',\n",
       " u'shakespeare-caesar.txt',\n",
       " u'shakespeare-hamlet.txt',\n",
       " u'shakespeare-macbeth.txt',\n",
       " u'whitman-leaves.txt']"
      ]
     },
     "execution_count": 81,
     "metadata": {},
     "output_type": "execute_result"
    }
   ],
   "source": [
    "nltk.corpus.gutenberg.fileids()"
   ]
  },
  {
   "cell_type": "code",
   "execution_count": 82,
   "metadata": {
    "collapsed": true
   },
   "outputs": [],
   "source": [
    "words = nltk.corpus.gutenberg.words('melville-moby_dick.txt')"
   ]
  },
  {
   "cell_type": "code",
   "execution_count": 83,
   "metadata": {
    "collapsed": false
   },
   "outputs": [
    {
     "data": {
      "text/plain": [
       "260819"
      ]
     },
     "execution_count": 83,
     "metadata": {},
     "output_type": "execute_result"
    }
   ],
   "source": [
    "len(words)"
   ]
  },
  {
   "cell_type": "code",
   "execution_count": 84,
   "metadata": {
    "collapsed": false
   },
   "outputs": [],
   "source": [
    "matrix = letter_matrix()"
   ]
  },
  {
   "cell_type": "code",
   "execution_count": 85,
   "metadata": {
    "collapsed": false
   },
   "outputs": [
    {
     "data": {
      "text/plain": [
       "defaultdict(<type 'int'>, {'a': 0, 'c': 0, 'b': 0, 'e': 0, 'd': 0, 'g': 0, 'f': 0, 'i': 0, 'h': 0, 'k': 0, 'j': 0, 'm': 0, 'l': 0, 'o': 0, 'n': 0, 'q': 0, 'p': 0, 's': 0, 'r': 0, 'u': 0, 't': 0, 'w': 0, 'v': 0, 'y': 0, 'x': 0, 'z': 0})"
      ]
     },
     "execution_count": 85,
     "metadata": {},
     "output_type": "execute_result"
    }
   ],
   "source": [
    "matrix"
   ]
  },
  {
   "cell_type": "code",
   "execution_count": 86,
   "metadata": {
    "collapsed": false
   },
   "outputs": [],
   "source": [
    "frequency = zip_book(words, matrix)"
   ]
  },
  {
   "cell_type": "code",
   "execution_count": 87,
   "metadata": {
    "collapsed": false
   },
   "outputs": [
    {
     "data": {
      "text/plain": [
       "defaultdict(<type 'int'>, {u'!': 1767, u'\"': 3071, u'$': 2, u\"'\": 2922, u'&': 2, u')': 215, u'(': 215, u'*': 45, u'-': 5984, u',': 19229, u'.': 7558, u'1': 142, u'0': 131, u'3': 47, u'2': 60, u'5': 55, u'4': 39, u'7': 53, u'6': 37, u'9': 35, u'8': 59, u';': 4173, u':': 196, u'?': 1004, u'A': 2650, u'C': 1147, u'B': 1426, u'E': 1237, u'D': 751, u'G': 640, u'F': 804, u'I': 3543, u'H': 1462, u'K': 177, u'J': 253, u'M': 752, u'L': 900, u'O': 988, u'N': 1186, u'Q': 322, u'P': 1048, u'S': 2209, u'R': 823, u'U': 240, u'T': 2457, u'W': 1305, u'V': 171, u'Y': 330, u'X': 23, u'[': 3, u'Z': 38, u']': 3, u'_': 26, 'a': 75266, 'c': 21360, 'b': 15451, 'e': 115855, 'd': 37468, 'g': 20180, 'f': 20029, 'i': 61891, 'h': 61434, 'k': 7882, 'j': 829, 'm': 22525, 'l': 41893, 'o': 68338, 'n': 64431, 'q': 1234, 'p': 16207, 's': 62022, 'r': 51311, 'u': 26457, 't': 85539, 'w': 20917, 'v': 8427, 'y': 16542, 'x': 1007, 'z': 594})"
      ]
     },
     "execution_count": 87,
     "metadata": {},
     "output_type": "execute_result"
    }
   ],
   "source": [
    "frequency"
   ]
  },
  {
   "cell_type": "code",
   "execution_count": 90,
   "metadata": {
    "collapsed": false
   },
   "outputs": [
    {
     "data": {
      "image/png": "[encoded data removed]",
      "text/plain": [
       "<matplotlib.figure.Figure at 0x108a73810>"
      ]
     },
     "metadata": {},
     "output_type": "display_data"
    }
   ],
   "source": [
    "make_frequency_chart(frequency, 'Moby Dick','MobyDick.jpg')"
   ]
  },
  {
   "cell_type": "code",
   "execution_count": 105,
   "metadata": {
    "collapsed": false
   },
   "outputs": [],
   "source": [
    "collection_examples['DefaultDict'] = cake"
   ]
  },
  {
   "cell_type": "code",
   "execution_count": 108,
   "metadata": {
    "collapsed": false
   },
   "outputs": [
    {
     "data": {
      "text/plain": [
       "['DefaultDict', 'deque', 'Counter']"
      ]
     },
     "execution_count": 108,
     "metadata": {},
     "output_type": "execute_result"
    }
   ],
   "source": [
    "collection_examples.keys()"
   ]
  },
  {
   "cell_type": "markdown",
   "metadata": {},
   "source": [
    "#namedtuple()"
   ]
  },
  {
   "cell_type": "markdown",
   "metadata": {},
   "source": [
    "**Named tuples are especially useful for assigning field names to result tuples returned by the csv or sqlite3 modules**"
   ]
  },
  {
   "cell_type": "code",
   "execution_count": 109,
   "metadata": {
    "collapsed": true
   },
   "outputs": [],
   "source": [
    "from collections import namedtuple"
   ]
  },
  {
   "cell_type": "code",
   "execution_count": 114,
   "metadata": {
    "collapsed": false
   },
   "outputs": [],
   "source": [
    "coordinates = namedtuple( 'marker', ['x', 'y'] )"
   ]
  },
  {
   "cell_type": "code",
   "execution_count": 140,
   "metadata": {
    "collapsed": false
   },
   "outputs": [],
   "source": [
    "id3_tages = namedtuple( 'song', ['header','title','artist', 'album', 'speed', 'genre', 'startTime', 'endTime'] )"
   ]
  },
  {
   "cell_type": "code",
   "execution_count": 118,
   "metadata": {
    "collapsed": false
   },
   "outputs": [
    {
     "data": {
      "text/plain": [
       "__main__.song"
      ]
     },
     "execution_count": 118,
     "metadata": {},
     "output_type": "execute_result"
    }
   ],
   "source": [
    "mp3s"
   ]
  },
  {
   "cell_type": "code",
   "execution_count": 119,
   "metadata": {
    "collapsed": false
   },
   "outputs": [
    {
     "data": {
      "text/plain": [
       "__main__.marker"
      ]
     },
     "execution_count": 119,
     "metadata": {},
     "output_type": "execute_result"
    }
   ],
   "source": [
    "coordinates"
   ]
  },
  {
   "cell_type": "code",
   "execution_count": 147,
   "metadata": {
    "collapsed": false
   },
   "outputs": [
    {
     "data": {
      "text/plain": [
       "['__add__',\n",
       " '__class__',\n",
       " '__contains__',\n",
       " '__delattr__',\n",
       " '__dict__',\n",
       " '__doc__',\n",
       " '__eq__',\n",
       " '__format__',\n",
       " '__ge__',\n",
       " '__getattribute__',\n",
       " '__getitem__',\n",
       " '__getnewargs__',\n",
       " '__getslice__',\n",
       " '__getstate__',\n",
       " '__gt__',\n",
       " '__hash__',\n",
       " '__init__',\n",
       " '__iter__',\n",
       " '__le__',\n",
       " '__len__',\n",
       " '__lt__',\n",
       " '__module__',\n",
       " '__mul__',\n",
       " '__ne__',\n",
       " '__new__',\n",
       " '__reduce__',\n",
       " '__reduce_ex__',\n",
       " '__repr__',\n",
       " '__rmul__',\n",
       " '__setattr__',\n",
       " '__sizeof__',\n",
       " '__slots__',\n",
       " '__str__',\n",
       " '__subclasshook__',\n",
       " '_asdict',\n",
       " '_fields',\n",
       " '_make',\n",
       " '_replace',\n",
       " 'album',\n",
       " 'artist',\n",
       " 'count',\n",
       " 'endTime',\n",
       " 'genre',\n",
       " 'header',\n",
       " 'index',\n",
       " 'speed',\n",
       " 'startTime',\n",
       " 'title']"
      ]
     },
     "execution_count": 147,
     "metadata": {},
     "output_type": "execute_result"
    }
   ],
   "source": [
    "dir(mp3s)"
   ]
  },
  {
   "cell_type": "code",
   "execution_count": 153,
   "metadata": {
    "collapsed": false
   },
   "outputs": [],
   "source": [
    "mp3s.speed = '88bpm'"
   ]
  },
  {
   "cell_type": "code",
   "execution_count": 154,
   "metadata": {
    "collapsed": false
   },
   "outputs": [
    {
     "data": {
      "text/plain": [
       "'88bpm'"
      ]
     },
     "execution_count": 154,
     "metadata": {},
     "output_type": "execute_result"
    }
   ],
   "source": [
    "mp3s.speed"
   ]
  },
  {
   "cell_type": "code",
   "execution_count": 155,
   "metadata": {
    "collapsed": false
   },
   "outputs": [
    {
     "data": {
      "text/plain": [
       "__main__.song"
      ]
     },
     "execution_count": 155,
     "metadata": {},
     "output_type": "execute_result"
    }
   ],
   "source": [
    "mp3s"
   ]
  },
  {
   "cell_type": "markdown",
   "metadata": {},
   "source": [
    "##_make"
   ]
  },
  {
   "cell_type": "code",
   "execution_count": 162,
   "metadata": {
    "collapsed": false
   },
   "outputs": [],
   "source": [
    "song = ['Itunes Authorized Purchase','Kinderszenen, Op. 15: No. 7. Träumerei','Ernst Gröschel', '100 Most Relaxing Classical', \\\n",
    "        '256 kbps', 'Classical', '0', '42']\n",
    "purchase = mp3s._make(song)"
   ]
  },
  {
   "cell_type": "code",
   "execution_count": 163,
   "metadata": {
    "collapsed": false
   },
   "outputs": [
    {
     "data": {
      "text/plain": [
       "song(header='Itunes Authorized Purchase', title='Kinderszenen, Op. 15: No. 7. Tr\\xc3\\xa4umerei', artist='Ernst Gr\\xc3\\xb6schel', album='100 Most Relaxing Classical', speed='256 kbps', genre='Classical', startTime='0', endTime='42')"
      ]
     },
     "execution_count": 163,
     "metadata": {},
     "output_type": "execute_result"
    }
   ],
   "source": [
    "purchase"
   ]
  },
  {
   "cell_type": "code",
   "execution_count": 164,
   "metadata": {
    "collapsed": false
   },
   "outputs": [
    {
     "data": {
      "text/plain": [
       "'42'"
      ]
     },
     "execution_count": 164,
     "metadata": {},
     "output_type": "execute_result"
    }
   ],
   "source": [
    "purchase.endTime"
   ]
  },
  {
   "cell_type": "code",
   "execution_count": 165,
   "metadata": {
    "collapsed": true
   },
   "outputs": [],
   "source": [
    "#for OSX\n",
    "!afplay ./1-45\\ Kinderszenen,\\ Op.\\ 15_\\ No.\\ 7.\\ Träumerei.m4a"
   ]
  },
  {
   "cell_type": "code",
   "execution_count": 166,
   "metadata": {
    "collapsed": true
   },
   "outputs": [],
   "source": [
    "collection_examples['namedtuple'] = purchase"
   ]
  },
  {
   "cell_type": "markdown",
   "metadata": {},
   "source": [
    "##_asdict()"
   ]
  },
  {
   "cell_type": "code",
   "execution_count": 168,
   "metadata": {
    "collapsed": false
   },
   "outputs": [
    {
     "data": {
      "text/plain": [
       "OrderedDict([('header', 'Itunes Authorized Purchase'), ('title', 'Kinderszenen, Op. 15: No. 7. Tr\\xc3\\xa4umerei'), ('artist', 'Ernst Gr\\xc3\\xb6schel'), ('album', '100 Most Relaxing Classical'), ('speed', '256 kbps'), ('genre', 'Classical'), ('startTime', '0'), ('endTime', '42')])"
      ]
     },
     "execution_count": 168,
     "metadata": {},
     "output_type": "execute_result"
    }
   ],
   "source": [
    "purchase._asdict()"
   ]
  },
  {
   "cell_type": "markdown",
   "metadata": {},
   "source": [
    "##_replace()"
   ]
  },
  {
   "cell_type": "code",
   "execution_count": 169,
   "metadata": {
    "collapsed": false
   },
   "outputs": [
    {
     "data": {
      "text/plain": [
       "song(header='Pirated', title='Kinderszenen, Op. 15: No. 7. Tr\\xc3\\xa4umerei', artist='Ernst Gr\\xc3\\xb6schel', album='100 Most Relaxing Classical', speed='256 kbps', genre='Classical', startTime='0', endTime='42')"
      ]
     },
     "execution_count": 169,
     "metadata": {},
     "output_type": "execute_result"
    }
   ],
   "source": [
    "purchase._replace(header='Pirated')"
   ]
  },
  {
   "cell_type": "markdown",
   "metadata": {},
   "source": [
    "##_fields()"
   ]
  },
  {
   "cell_type": "code",
   "execution_count": 171,
   "metadata": {
    "collapsed": false
   },
   "outputs": [
    {
     "data": {
      "text/plain": [
       "('header',\n",
       " 'title',\n",
       " 'artist',\n",
       " 'album',\n",
       " 'speed',\n",
       " 'genre',\n",
       " 'startTime',\n",
       " 'endTime')"
      ]
     },
     "execution_count": 171,
     "metadata": {},
     "output_type": "execute_result"
    }
   ],
   "source": [
    "purchase._fields"
   ]
  },
  {
   "cell_type": "markdown",
   "metadata": {},
   "source": [
    "##getattr()"
   ]
  },
  {
   "cell_type": "code",
   "execution_count": 173,
   "metadata": {
    "collapsed": false
   },
   "outputs": [
    {
     "data": {
      "text/plain": [
       "'88bpm'"
      ]
     },
     "execution_count": 173,
     "metadata": {},
     "output_type": "execute_result"
    }
   ],
   "source": [
    "getattr(purchase, 'speed')"
   ]
  },
  {
   "cell_type": "code",
   "execution_count": 174,
   "metadata": {
    "collapsed": false
   },
   "outputs": [
    {
     "data": {
      "text/plain": [
       "'88bpm'"
      ]
     },
     "execution_count": 174,
     "metadata": {},
     "output_type": "execute_result"
    }
   ],
   "source": [
    "purchase.speed"
   ]
  },
  {
   "cell_type": "code",
   "execution_count": 176,
   "metadata": {
    "collapsed": false
   },
   "outputs": [
    {
     "ename": "TypeError",
     "evalue": "unbound method _replace() must be called with song instance as first argument (got str instance instead)",
     "output_type": "error",
     "traceback": [
      "\u001b[0;31m---------------------------------------------------------------------------\u001b[0m",
      "\u001b[0;31mTypeError\u001b[0m                                 Traceback (most recent call last)",
      "\u001b[0;32m<ipython-input-176-c4c0a007469c>\u001b[0m in \u001b[0;36m<module>\u001b[0;34m()\u001b[0m\n\u001b[0;32m----> 1\u001b[0;31m \u001b[0mmp3s\u001b[0m\u001b[0;34m.\u001b[0m\u001b[0m_replace\u001b[0m\u001b[0;34m(\u001b[0m\u001b[0;34m'header'\u001b[0m\u001b[0;34m,\u001b[0m \u001b[0;34m'Itunes Authorized Purchase'\u001b[0m\u001b[0;34m)\u001b[0m\u001b[0;34m\u001b[0m\u001b[0m\n\u001b[0m",
      "\u001b[0;31mTypeError\u001b[0m: unbound method _replace() must be called with song instance as first argument (got str instance instead)"
     ]
    }
   ],
   "source": [
    "mp3s._replace('header', 'Itunes Authorized Purchase')"
   ]
  },
  {
   "cell_type": "code",
   "execution_count": 177,
   "metadata": {
    "collapsed": true
   },
   "outputs": [],
   "source": [
    "mp3s.header = 'Itunes Authorized Purchase'"
   ]
  },
  {
   "cell_type": "code",
   "execution_count": 178,
   "metadata": {
    "collapsed": false
   },
   "outputs": [
    {
     "data": {
      "text/plain": [
       "'Itunes Authorized Purchase'"
      ]
     },
     "execution_count": 178,
     "metadata": {},
     "output_type": "execute_result"
    }
   ],
   "source": [
    "purchase.header"
   ]
  },
  {
   "cell_type": "markdown",
   "metadata": {},
   "source": [
    "##_fields"
   ]
  },
  {
   "cell_type": "code",
   "execution_count": 179,
   "metadata": {
    "collapsed": false
   },
   "outputs": [
    {
     "data": {
      "text/plain": [
       "('header',\n",
       " 'title',\n",
       " 'artist',\n",
       " 'album',\n",
       " 'speed',\n",
       " 'genre',\n",
       " 'startTime',\n",
       " 'endTime')"
      ]
     },
     "execution_count": 179,
     "metadata": {},
     "output_type": "execute_result"
    }
   ],
   "source": [
    "purchase._fields"
   ]
  },
  {
   "cell_type": "markdown",
   "metadata": {},
   "source": [
    "#OrderedDict"
   ]
  },
  {
   "cell_type": "markdown",
   "metadata": {},
   "source": [
    "**Ordered dictionaries are just like regular dictionaries but they remember the order that items were inserted. When iterating over an ordered dictionary, the items are returned in the order their keys were first added.**"
   ]
  },
  {
   "cell_type": "code",
   "execution_count": 185,
   "metadata": {
    "collapsed": false
   },
   "outputs": [],
   "source": [
    "from collections import OrderedDict"
   ]
  },
  {
   "cell_type": "code",
   "execution_count": 186,
   "metadata": {
    "collapsed": true
   },
   "outputs": [],
   "source": [
    "gene_sequence = OrderedDict()"
   ]
  },
  {
   "cell_type": "code",
   "execution_count": 187,
   "metadata": {
    "collapsed": true
   },
   "outputs": [],
   "source": [
    "Symbols = ['A','C','G','T','U','W','S','M','K','R','Y','B','D','H','V','N','-']"
   ]
  },
  {
   "cell_type": "code",
   "execution_count": 261,
   "metadata": {
    "collapsed": true
   },
   "outputs": [],
   "source": [
    "Description = ['Adenine', 'Cytosine', 'Guanine', 'Thymine', 'Uracil', 'Weak', 'Strong', \\\n",
    "              'aMino', 'Keto', 'puRine', 'pYrimidine', 'not A (B comes after A)', \\\n",
    "              'not C (D comes adter C)', 'not G (H comes after G)', 'not T (V comes after T and U', \\\n",
    "              'any nucleotide (not a gap)', 'any nucleotide (not a gap)']"
   ]
  },
  {
   "cell_type": "code",
   "execution_count": 260,
   "metadata": {
    "collapsed": true
   },
   "outputs": [],
   "source": [
    "bases = {}\n",
    "bases['Adenine'] = ['A',0,0,0]\n",
    "bases['Cytosine'] = [0,'C',0,0]\n",
    "bases['Guanine'] = [0,0,'G',0]\n",
    "bases['Thymine'] = [0,0,0,'T']\n",
    "bases['Uracil'] = [0,0,0,'U']\n",
    "bases['Weak'] = ['A',0,0,'T']\n",
    "bases['Strong'] = [0,'C','G',0]\n",
    "bases['aMino'] = ['A','C',0,0]\n",
    "bases['Keto'] = [0,0,'G','T']\n",
    "bases['puRine'] = ['A',0,'G',0]\n",
    "bases['pYrimidine'] = [0,'C',0,'T']\n",
    "bases['not A (B comes after A)'] = [0,'C','G','T']\n",
    "bases['not C (D comes adter C)'] = ['A',0,'G','T']\n",
    "bases['not G (H comes after G)'] = ['A','C',0,'T']\n",
    "bases['not T (V comes after T and U'] = ['A','C','G',0]\n",
    "bases['any nucleotide (not a gap)'] = ['A','C','G','T']"
   ]
  },
  {
   "cell_type": "code",
   "execution_count": 228,
   "metadata": {
    "collapsed": false
   },
   "outputs": [
    {
     "data": {
      "text/plain": [
       "{}"
      ]
     },
     "execution_count": 228,
     "metadata": {},
     "output_type": "execute_result"
    }
   ],
   "source": [
    "sequences"
   ]
  },
  {
   "cell_type": "code",
   "execution_count": 199,
   "metadata": {
    "collapsed": false
   },
   "outputs": [],
   "source": [
    "singles = [ bases['Adenine'], bases['Cytosine'], bases['Guanine'], bases['Thymine'], bases['Uracil'], ]"
   ]
  },
  {
   "cell_type": "code",
   "execution_count": 200,
   "metadata": {
    "collapsed": false
   },
   "outputs": [],
   "source": [
    "doubles = [ bases['Weak'], bases['Strong'], bases['aMino'], bases['Keto'], bases['puRine'], bases['pYrimidine'],  ]"
   ]
  },
  {
   "cell_type": "code",
   "execution_count": 205,
   "metadata": {
    "collapsed": false
   },
   "outputs": [],
   "source": [
    "triples = [ bases['not A (B comes after A)'],  bases['not C (D comes adter C)'], \\\n",
    "                  bases['not G (H comes after G)'], bases['not T (V comes after T and U'], ]"
   ]
  },
  {
   "cell_type": "code",
   "execution_count": 207,
   "metadata": {
    "collapsed": false
   },
   "outputs": [],
   "source": [
    "quadruples = bases['any nucleotide (not a gap)']"
   ]
  },
  {
   "cell_type": "code",
   "execution_count": 213,
   "metadata": {
    "collapsed": false
   },
   "outputs": [],
   "source": [
    "IUPAC = {'singles':singles, 'doubles':doubles, 'triples':triples, 'quadruples':quadruples}"
   ]
  },
  {
   "cell_type": "code",
   "execution_count": 215,
   "metadata": {
    "collapsed": false
   },
   "outputs": [
    {
     "data": {
      "text/plain": [
       "['A', 0, 0, 0]"
      ]
     },
     "execution_count": 215,
     "metadata": {},
     "output_type": "execute_result"
    }
   ],
   "source": [
    "IUPAC['singles'][0]"
   ]
  },
  {
   "cell_type": "code",
   "execution_count": 216,
   "metadata": {
    "collapsed": false
   },
   "outputs": [
    {
     "data": {
      "text/plain": [
       "'A'"
      ]
     },
     "execution_count": 216,
     "metadata": {},
     "output_type": "execute_result"
    }
   ],
   "source": [
    "IUPAC['singles'][0][0]"
   ]
  },
  {
   "cell_type": "code",
   "execution_count": 217,
   "metadata": {
    "collapsed": true
   },
   "outputs": [],
   "source": [
    "import numpy as np"
   ]
  },
  {
   "cell_type": "code",
   "execution_count": 218,
   "metadata": {
    "collapsed": true
   },
   "outputs": [],
   "source": [
    "vals = range(0, len(Symbols))"
   ]
  },
  {
   "cell_type": "code",
   "execution_count": 219,
   "metadata": {
    "collapsed": true
   },
   "outputs": [],
   "source": [
    "np.random.shuffle(vals)"
   ]
  },
  {
   "cell_type": "code",
   "execution_count": 267,
   "metadata": {
    "collapsed": true
   },
   "outputs": [],
   "source": [
    "gene_sequence.clear()"
   ]
  },
  {
   "cell_type": "code",
   "execution_count": 268,
   "metadata": {
    "collapsed": false
   },
   "outputs": [
    {
     "name": "stdout",
     "output_type": "stream",
     "text": [
      "['R'] puRine\n",
      "['W'] Weak\n",
      "['-'] any nucleotide (not a gap)\n",
      "['A'] Adenine\n",
      "['D'] not C (D comes adter C)\n",
      "['K'] Keto\n",
      "['H'] not G (H comes after G)\n",
      "['S'] Strong\n",
      "['T'] Thymine\n",
      "['V'] not T (V comes after T and U\n",
      "['U'] Uracil\n",
      "['N'] any nucleotide (not a gap)\n",
      "['B'] not A (B comes after A)\n",
      "['Y'] pYrimidine\n",
      "['G'] Guanine\n",
      "['C'] Cytosine\n",
      "['M'] aMino\n"
     ]
    }
   ],
   "source": [
    "for num in vals:\n",
    "    print [Symbols[num]],Description[num]\n",
    "    gene_sequence[Symbols[num]] = Description[num]"
   ]
  },
  {
   "cell_type": "code",
   "execution_count": 277,
   "metadata": {
    "collapsed": false
   },
   "outputs": [
    {
     "data": {
      "text/plain": [
       "OrderedDict([('R', 'puRine'), ('W', 'Weak'), ('-', 'any nucleotide (not a gap)'), ('A', 'Adenine'), ('D', 'not C (D comes adter C)'), ('K', 'Keto'), ('H', 'not G (H comes after G)'), ('S', 'Strong'), ('T', 'Thymine'), ('V', 'not T (V comes after T and U'), ('U', 'Uracil'), ('N', 'any nucleotide (not a gap)'), ('B', 'not A (B comes after A)'), ('Y', 'pYrimidine'), ('G', 'Guanine'), ('C', 'Cytosine'), ('M', 'aMino')])"
      ]
     },
     "execution_count": 277,
     "metadata": {},
     "output_type": "execute_result"
    }
   ],
   "source": [
    "gene_sequence"
   ]
  },
  {
   "cell_type": "code",
   "execution_count": 293,
   "metadata": {
    "collapsed": true
   },
   "outputs": [],
   "source": [
    "dna_sample.clear()"
   ]
  },
  {
   "cell_type": "code",
   "execution_count": 294,
   "metadata": {
    "collapsed": false
   },
   "outputs": [],
   "source": [
    "dna_sample = OrderedDict()\n",
    "for base in gene_sequence.values():\n",
    "    #print(base,bases[base])\n",
    "    dna_sample[base] = bases[base]"
   ]
  },
  {
   "cell_type": "code",
   "execution_count": 295,
   "metadata": {
    "collapsed": false
   },
   "outputs": [
    {
     "data": {
      "text/plain": [
       "OrderedDict([('puRine', ['A', 0, 'G', 0]), ('Weak', ['A', 0, 0, 'T']), ('any nucleotide (not a gap)', ['A', 'C', 'G', 'T']), ('Adenine', ['A', 0, 0, 0]), ('not C (D comes adter C)', ['A', 0, 'G', 'T']), ('Keto', [0, 0, 'G', 'T']), ('not G (H comes after G)', ['A', 'C', 0, 'T']), ('Strong', [0, 'C', 'G', 0]), ('Thymine', [0, 0, 0, 'T']), ('not T (V comes after T and U', ['A', 'C', 'G', 0]), ('Uracil', [0, 0, 0, 'U']), ('not A (B comes after A)', [0, 'C', 'G', 'T']), ('pYrimidine', [0, 'C', 0, 'T']), ('Guanine', [0, 0, 'G', 0]), ('Cytosine', [0, 'C', 0, 0]), ('aMino', ['A', 'C', 0, 0])])"
      ]
     },
     "execution_count": 295,
     "metadata": {},
     "output_type": "execute_result"
    }
   ],
   "source": [
    "dna_sample"
   ]
  },
  {
   "cell_type": "code",
   "execution_count": 296,
   "metadata": {
    "collapsed": true
   },
   "outputs": [],
   "source": [
    "collection_examples['OrderedDict'] = dna_sample"
   ]
  },
  {
   "cell_type": "code",
   "execution_count": 300,
   "metadata": {
    "collapsed": false
   },
   "outputs": [
    {
     "data": {
      "text/plain": [
       "['DefaultDict', 'deque', 'Counter', 'OrderedDict', 'namedtuple']"
      ]
     },
     "execution_count": 300,
     "metadata": {},
     "output_type": "execute_result"
    }
   ],
   "source": [
    "collection_examples.keys()"
   ]
  },
  {
   "cell_type": "code",
   "execution_count": 301,
   "metadata": {
    "collapsed": true
   },
   "outputs": [],
   "source": [
    "pandora = collection_examples"
   ]
  },
  {
   "cell_type": "markdown",
   "metadata": {},
   "source": [
    "##popitem()"
   ]
  },
  {
   "cell_type": "code",
   "execution_count": 303,
   "metadata": {
    "collapsed": false
   },
   "outputs": [
    {
     "data": {
      "text/plain": [
       "('aMino', ['A', 'C', 0, 0])"
      ]
     },
     "execution_count": 303,
     "metadata": {},
     "output_type": "execute_result"
    }
   ],
   "source": [
    "dna_sample.popitem()"
   ]
  },
  {
   "cell_type": "code",
   "execution_count": 307,
   "metadata": {
    "collapsed": false
   },
   "outputs": [
    {
     "data": {
      "text/plain": [
       "['DefaultDict', 'deque', 'Counter', 'OrderedDict', 'namedtuple']"
      ]
     },
     "execution_count": 307,
     "metadata": {},
     "output_type": "execute_result"
    }
   ],
   "source": [
    "pandora.keys()"
   ]
  },
  {
   "cell_type": "code",
   "execution_count": 308,
   "metadata": {
    "collapsed": false
   },
   "outputs": [
    {
     "data": {
      "text/plain": [
       "{'Counter': Counter({u'forgone': 1, u'shelf': 1, u'pardon': 1, u'nunnery': 1, u'lunacies': 1, u'doubts': 1, u'Remorseless': 1, u'four': 1, u'hath': 1, u'straws': 1, u'Does': 1, u'sleep': 1, u'maid': 1, u'sweep': 1, u'appetite': 1, u'evermore': 1, u'hate': 1, u'yonder': 1, u'conjure': 1, u'Marcellus': 1, u'patches': 1, u'Blasting': 1, u'tween': 1, u'swoopstake': 1, u'whatsoever': 1, u'lord': 1, u'sorry': 1, u'pride': 1, u'worth': 1, u'Pelion': 1, u'mines': 1, u'beget': 1, u'moiety': 1, u'cozenage': 1, u'appal': 1, u'blanket': 1, u'rise': 1, u'Directly': 1, u'replication': 1, u'every': 1, u'wince': 1, u'govern': 1, u'Old': 1, u'month': 1, u'bringing': 1, u'winnowed': 1, u'encounter': 1, u'chapel': 1, u'jointress': 1, u'Lamond': 1, u'school': 1, u'scholar': 1, u'conceive': 1, u'withers': 1, u'companies': 1, u'wards': 1, u'solid': 1, u'convenience': 1, u'Hercules': 1, u'sexton': 1, u'succession': 1, u'Go': 1, u'graces': 1, u'triumph': 1, u'whirlwind': 1, u'achievements': 1, u'parted': 1, u'glassy': 1, u'force': 1, u'razed': 1, u'Fie': 1, u'feathers': 1, u'direct': 1, u'pulse': 1, u'twas': 1, u'second': 1, u'persuade': 1, u'valiant': 1, u'indirections': 1, u'contriving': 1, u'tether': 1, u'n': 1, u'meditation': 1, u'lapwing': 1, u'blue': 1, u'employ': 1, u'captain': 1, u'hide': 1, u'wreck': 1, u'solemn': 1, u'thunder': 1, u'beaten': 1, u'fingers': 1, u'sulphurous': 1, u'fatness': 1, u'Whiles': 1, u'sheeted': 1, u'worser': 1, u'prolongs': 1, u'pin': 1, u'handsome': 1, u'majesties': 1, u'new': 1, u'marching': 1, u'ever': 1, u'seeks': 1, u'told': 1, u'insinuation': 1, u'prate': 1, u'whose': 1, u'Conceit': 1, u'orbed': 1, u'men': 1, u'met': 1, u'mew': 1, u'pate': 1, u'cart': 1, u'Follow': 1, u'Addicted': 1, u'path': 1, u'quite': 1, u'interpret': 1, u'contraction': 1, u'dry': 1, u'substance': 1, u'daughter': 1, u'command': 1, u'rests': 1, u'study': 1, u'changed': 1, u'Jephthah': 1, u'Hail': 1, u'controversy': 1, u'Pale': 1, u'Plucks': 1, u'Advancing': 1, u'natures': 1, u'settled': 1, u'knavery': 1, u'cheerfully': 1, u'golden': 1, u'sledded': 1, u'heedful': 1, u'divide': 1, u'Giving': 1, u'sits': 1, u'tempt': 1, u'summons': 1, u'brought': 1, u'patience': 1, u'Behind': 1, u'moral': 1, u'meats': 1, u'drowned': 1, u'stern': 1, u'Whips': 1, u'total': 1, u'circumvent': 1, u'plot': 1, u'Sblood': 1, u'ominous': 1, u'spoke': 1, u'would': 1, u'army': 1, u'remainder': 1, u'lying': 1, u'Thence': 1, u'exhort': 1, u'arms': 1, u'tenders': 1, u'Stay': 1, u'suit': 1, u'escoted': 1, u'mightiest': 1, u'music': 1, u'therefore': 1, u'centre': 1, u'strike': 1, u'Polonius': 1, u'tell': 1, u'calf': 1, u'Charity': 1, u'GHOST': 1, u\".'\": 1, u'churchyard': 1, u'Exposing': 1, u'lungs': 1, u'wary': 1, u'clearly': 1, u'brings': 1, u'wart': 1, u'whirling': 1, u'wars': 1, u'canonized': 1, u'hurt': 1, u'grief': 1, u'glass': 1, u'sting': 1, u'...': 1, u'excellent': 1, u'continual': 1, u'Occasion': 1, u'Feeds': 1, u'hold': 1, u'unpack': 1, u'must': 1, u'shoot': 1, u'shepherds': 1, u'springes': 1, u'whensoever': 1, u'wore': 1, u'Baptista': 1, u'leavens': 1, u'pursue': 1, u'ratifiers': 1, u'work': 1, u'eclipse': 1, u'worm': 1, u'roof': 1, u'ere': 1, u'unbraced': 1, u'foils': 1, u'wot': 1, u'shoon': 1, u'quarrel': 1, u'compulsive': 1, u'jest': 1, u'serpent': 1, u'give': 1, u'loosed': 1, u'cataplasm': 1, u'wann': 1, u'honey': 1, u'Would': 1, u'woman': 1, u'caution': 1, u'Holding': 1, u'Lord': 1, u'indifferent': 1, u'rid': 1, u'cautel': 1, u'masterly': 1, u'ceremony': 1, u'Wittenberg': 1, u'vanish': 1, u'end': 1, u'recovery': 1, u'bung': 1, u'thing': 1, u'provide': 1, u'travel': 1, u'sitting': 1, u'feature': 1, u'Tell': 1, u'machine': 1, u'faults': 1, u'hot': 1, u'writers': 1, u'sate': 1, u'answer': 1, u'shortens': 1, u'III': 1, u'erhasty': 1, u'aboard': 1, u'A': 1, u'gaming': 1, u'hadst': 1, u'sallets': 1, u'beauty': 1, u'Wilt': 1, u'vicious': 1, u'Can': 1, u'Will': 1, u'Players': 1, u'wrong': 1, u'lay': 1, u'law': 1, u'lap': 1, u'shirt': 1, u'All': 1, u'calves': 1, u'third': 1, u'scourge': 1, u'hasty': 1, u'seduce': 1, u'prosperously': 1, u'greet': 1, u'purging': 1, u'like': 1, u'rogue': 1, u'haste': 1, u'precepts': 1, u'Another': 1, u'enter': 1, u'worst': 1, u'Rough': 1, u'first': 1, u'mightier': 1, u'wouldst': 1, u'wind': 1, u'wine': 1, u'undo': 1, u'Even': 1, u'modesty': 1, u'Hide': 1, u'office': 1, u'deck': 1, u'consent': 1, u'satisfied': 1, u'sickly': 1, u'befall': 1, u'crimeful': 1, u'knock': 1, u'responsive': 1, u'Hillo': 1, u'leperous': 1, u'clapped': 1, u'forehead': 1, u'His': 1, u'lovingly': 1, u'fit': 1, u'personal': 1, u'fix': 1, u'revenue': 1, u'Here': 1, u'crew': 1, u'better': 1, u'Discomfort': 1, u'Hic': 1, u'vast': 1, u'returneth': 1, u'fie': 1, u'bespeak': 1, u'admirable': 1, u'easier': 1, u'overcome': 1, u'harmony': 1, u'knowest': 1, u'remedy': 1, u'diseases': 1, u'prithee': 1, u'weakness': 1, u'thee': 1, u'safe': 1, u'bouts': 1, u'vouchers': 1, u'gambols': 1, u'break': 1, u'Anon': 1, u'shameful': 1, u'prophesy': 1, u'killed': 1, u'sixteen': 1, u'silver': 1, u'Affection': 1, u'prize': 1, u'shadows': 1, u'Sailors': 1, u'delivered': 1, u'coronation': 1, u'gallows': 1, u'Indeed': 1, u'persever': 1, u'lazar': 1, u'REYNALDO': 1, u'herald': 1, u'Hath': 1, u'bewept': 1, u'arrow': 1, u'fitness': 1, u'waving': 1, u'went': 1, u'CORNELIUS': 1, u'Mouse': 1, u'side': 1, u'bone': 1, u'lofty': 1, u'expectancy': 1, u'burial': 1, u'lifted': 1, u'Perchance': 1, u'oped': 1, u'jocund': 1, u'list': 1, u'Confess': 1, u'crimes': 1, u'Aside': 1, u'skins': 1, u'ministering': 1, u'Woo': 1, u'distilment': 1, u'awry': 1, u'whit': 1, u'truant': 1, u'message': 1, u'borne': 1, u'contend': 1, u'filial': 1, u'overcame': 1, u'diction': 1, u'forts': 1, u'god': 1, u'tried': 1, u'indiscretion': 1, u'freeze': 1, u'forty': 1, u'fellows': 1, u'content': 1, u'fellowship': 1, u'laid': 1, u'remorse': 1, u'easiness': 1, u'heavenly': 1, u'got': 1, u'newly': 1, u'Hold': 1, u'forth': 1, u'quietus': 1, u'Must': 1, u'stately': 1, u'impetuous': 1, u'quaintly': 1, u'assured': 1, u'whiff': 1, u'incorporal': 1, u'lawless': 1, u'Worm': 1, u'free': 1, u'HAMLET': 1, u'bestow': 1, u'chanson': 1, u'faculties': 1, u'abate': 1, u'Cyclops': 1, u'amazement': 1, u'mistress': 1, u'topp': 1, u'Soft': 1, u'fret': 1, u'delver': 1, u'Prithee': 1, u'days': 1, u'steward': 1, u'mutines': 1, u'quintessence': 1, u'shipped': 1, u'bated': 1, u'prodigal': 1, u'Dost': 1, u'comrade': 1, u'unknown': 1, u'indued': 1, u'diggers': 1, u'clothes': 1, u'loud': 1, u'purpose': 1, u'key': 1, u'GUILDENSTERN': 1, u'already': 1, u'bloodily': 1, u'render': 1, u'mountebank': 1, u'accent': 1, u'meet': 1, u'supper': 1, u'rank': 1, u'hearing': 1, u'rant': 1, u'another': 1, u'knight': 1, u'sober': 1, u'thick': 1, u'traitorous': 1, u'rashness': 1, u'Exeunt': 1, u'goblins': 1, u'service': 1, u'galled': 1, u'Offence': 1, u'top': 1, u'fiction': 1, u'plentiful': 1, u'airs': 1, u'master': 1, u'tune': 1, u'blossoms': 1, u'wildly': 1, u'airy': 1, u'bethought': 1, u'bitter': 1, u'dogs': 1, u'toe': 1, u'chanted': 1, u'tragical': 1, u'murder': 1, u'rest': 1, u'happily': 1, u'Deprived': 1, u'griefs': 1, u'LAERTES': 1, u'serve': 1, u'took': 1, u'chalice': 1, u'wisdom': 1, u'tokens': 1, u'somewhat': 1, u'deceived': 1, u'kept': 1, u'tithe': 1, u'Safely': 1, u'peculiar': 1, u'positively': 1, u'begins': 1, u'mercy': 1, u'swaddling': 1, u'Set': 1, u'target': 1, u'frankly': 1, u'trail': 1, u'Flourish': 1, u'coward': 1, u'tree': 1, u'likely': 1, u'seated': 1, u'nations': 1, u'preparation': 1, u'matter': 1, u'See': 1, u'precurse': 1, u'guilt': 1, u'mermaid': 1, u'historical': 1, u'Bestial': 1, u'mirth': 1, u'joy': 1, u'vapours': 1, u'powers': 1, u'foresaid': 1, u'hearsed': 1, u'Holla': 1, u'fashion': 1, u'sees': 1, u'groaning': 1, u'objects': 1, u'gaudy': 1, u'mind': 1, u'mine': 1, u'sconce': 1, u'return': 1, u'raw': 1, u'rat': 1, u'seed': 1, u'clouts': 1, u'manner': 1, u'seen': 1, u'seem': 1, u'sounding': 1, u'Angels': 1, u'tells': 1, u'spade': 1, u'dozen': 1, u'forced': 1, u'scapes': 1, u'wholesome': 1, u'harrows': 1, u'thoroughly': 1, u'snow': 1, u'impotent': 1, u'aptly': 1, u'fitting': 1, u'whored': 1, u'instructs': 1, u'luxury': 1, u'doors': 1, u'hatch': 1, u'cleft': 1, u'even': 1, u'Convert': 1, u'exactly': 1, u'maiden': 1, u'shall': 1, u'mother': 1, u'erweigh': 1, u'dares': 1, u'drains': 1, u'errors': 1, u'mouth': 1, u'letter': 1, u'exercises': 1, u'coted': 1, u'grave': 1, u'peevish': 1, u'potency': 1, u'observation': 1, u'oath': 1, u'alarm': 1, u'Switzers': 1, u'm': 1, u'dog': 1, u'breathes': 1, u'desirous': 1, u'orderly': 1, u'reputation': 1, u'aunt': 1, u'enterprise': 1, u'weakest': 1, u'Take': 1, u'oppress': 1, u'came': 1, u'marvel': 1, u'saying': 1, u'bait': 1, u'dupp': 1, u'mock': 1, u'Unsifted': 1, u'crust': 1, u'queen': 1, u'liest': 1, u'ending': 1, u'fennel': 1, u'liberty': 1, u'ulcer': 1, u'wrung': 1, u'earth': 1, u'next': 1, u'unworthiest': 1, u'touches': 1, u'coinage': 1, u'divinity': 1, u'sleeps': 1, u'spite': 1, u'lights': 1, u'delays': 1, u'Free': 1, u'sugar': 1, u'commandment': 1, u'theme': 1, u'rich': 1, u'Nymph': 1, u'heartily': 1, u'frowningly': 1, u'chamberlain': 1, u'wearing': 1, u'mixture': 1, u'Slanders': 1, u'observant': 1, u'watch': 1, u'perceive': 1, u'leisure': 1, u'Leave': 1, u'Put': 1, u'cat': 1, u'poniards': 1, u'borrower': 1, u'wedding': 1, u'report': 1, u'rugged': 1, u'nasty': 1, u'relish': 1, u'comply': 1, u'runs': 1, u'bar': 1, u'Pointing': 1, u'countries': 1, u'LUCIANUS': 1, u'Over': 1, u'dipping': 1, u'patch': 1, u'twice': 1, u'bad': 1, u'softly': 1, u'fitted': 1, u'ban': 1, u'erwhelm': 1, u'steal': 1, u'ears': 1, u'unworthy': 1, u'aught': 1, u'fair': 1, u'habit': 1, u'consummation': 1, u'nut': 1, u'roasted': 1, u'eleven': 1, u'proclaims': 1, u'observed': 1, u'depends': 1, u'damnation': 1, u'fail': 1, u'Shall': 1, u'fain': 1, u'John': 1, u'Repugnant': 1, u'best': 1, u'subject': 1, u'pebbles': 1, u'snuff': 1, u'said': 1, u'draws': 1, u'morn': 1, u'away': 1, u'sail': 1, u'gentleman': 1, u'unsmirched': 1, u'bier': 1, u'hallow': 1, u'pressures': 1, u'sere': 1, u'capons': 1, u'finger': 1, u'lose': 1, u'revels': 1, u'scorn': 1, u'wise': 1, u'sorts': 1, u'beshrew': 1, u'pirate': 1, u'discovery': 1, u'accord': 1, u'never': 1, u'terms': 1, u'wears': 1, u'mincing': 1, u'nature': 1, u'confusion': 1, u'yesternight': 1, u'weak': 1, u'ignorance': 1, u'wi': 1, u'weary': 1, u'retirement': 1, u'wear': 1, u'unfold': 1, u'gentry': 1, u'cousin': 1, u'debt': 1, u'Yours': 1, u'blasted': 1, u'definement': 1, u'pity': 1, u'received': 1, u'essentially': 1, u'accident': 1, u'beck': 1, u'corrupted': 1, u'country': 1, u'bray': 1, u'botch': 1, u'jelly': 1, u'demanded': 1, u'gaged': 1, u'pith': 1, u'tediousness': 1, u'faces': 1, u'hypocrites': 1, u'expense': 1, u'groans': 1, u'asked': 1, u'Termagant': 1, u'Given': 1, u'royal': 1, u'vain': 1, u'height': 1, u'hast': 1, u'springs': 1, u'trust': 1, u'speak': 1, u'conference': 1, u'stubbornness': 1, u'petty': 1, u'proceeded': 1, u'unhappily': 1, u'puts': 1, u'parley': 1, u'union': 1, u'slay': 1, u'buffets': 1, u'three': 1, u'Hazard': 1, u'quickly': 1, u'twain': 1, u'commission': 1, u'beer': 1, u'much': 1, u'villany': 1, u'nomination': 1, u'canopy': 1, u'thrice': 1, u'duties': 1, u'natured': 1, u'entreatments': 1, u'easy': 1, u'afoot': 1, u'hies': 1, u'drugs': 1, u'suppress': 1, u'Poland': 1, u'Cry': 1, u'speeches': 1, u'enterprises': 1, u'craft': 1, u'child': 1, u'catch': 1, u'Cain': 1, u'doth': 1, u'fares': 1, u'gracious': 1, u'ordnance': 1, u'horrors': 1, u'exception': 1, u'east': 1, u'gentle': 1, u'apprehension': 1, u'Beware': 1, u'Messengers': 1, u'air': 1, u'aim': 1, u'ugly': 1, u'near': 1, u'stopping': 1, u'wonted': 1, u'cracked': 1, u'voice': 1, u'leaves': 1, u'skirts': 1, u'levies': 1, u'seven': 1, u'Queen': 1, u'beetles': 1, u'truster': 1, u'Horatio': 1, u'defeated': 1, u'shame': 1, u'penetrable': 1, u'dizzy': 1, u'exterior': 1, u'levied': 1, u'march': 1, u'Nay': 1, u'mouse': 1, u'bounteous': 1, u'villanies': 1, u'Longer': 1, u'grown': 1, u'containing': 1, u'Thoughts': 1, u'perform': 1, u'things': 1, u'make': 1, u'cellarage': 1, u'Stop': 1, u'Revenge': 1, u'villanous': 1, u'rebellion': 1, u'outface': 1, u'Did': 1, u'grapple': 1, u'split': 1, u'Of': 1, u'several': 1, u'grows': 1, u'bells': 1, u'wheel': 1, u'fairly': 1, u'fust': 1, u'inheritor': 1, u'VI': 1, u'temperately': 1, u'hang': 1, u'evil': 1, u'greeted': 1, u'delight': 1, u'portal': 1, u'kin': 1, u'Resembles': 1, u'palpable': 1, u'blister': 1, u'thoughts': 1, u'shortly': 1, u'entreated': 1, u'thy': 1, u'ope': 1, u'changes': 1, u'humble': 1, u'Mine': 1, u'ocean': 1, u'Confound': 1, u'malefactions': 1, u'pagan': 1, u'incapable': 1, u'humbly': 1, u'hearts': 1, u'certain': 1, u'investments': 1, u'left': 1, u'opinions': 1, u'bellow': 1, u'Yaughan': 1, u'departed': 1, u'quoted': 1, u'Deliberate': 1, u'yea': 1, u'gods': 1, u'beteem': 1, u'swearing': 1, u'repose': 1, u'proposer': 1, u'unprevailing': 1, u'thanks': 1, u'depart': 1, u'yes': 1, u'yet': 1, u'Happy': 1, u'enters': 1, u'beauties': 1, u'ease': 1, u'character': 1, u'advancement': 1, u'Or': 1, u'straw': 1, u'wassail': 1, u'sterile': 1, u'board': 1, u'beloved': 1, u'prison': 1, u'hap': 1, u'pitiful': 1, u'save': 1, u'hat': 1, u'humanity': 1, u'gave': 1, u'desire': 1, u'courtier': 1, u'dignity': 1, u'bands': 1, u'breaks': 1, u'looks': 1, u'possible': 1, u'Try': 1, u'auspicious': 1, u'birth': 1, u'performance': 1, u'judge': 1, u'dreamt': 1, u'shadow': 1, u'burns': 1, u'burnt': 1, u'scruple': 1, u'dreams': 1, u'apart': 1, u'shoulder': 1, u'Lords': 1, u'sickness': 1, u'Art': 1, u'foolery': 1, u'havior': 1, u'seek': 1, u'shocks': 1, u'Claudio': 1, u'lapsed': 1, u'prating': 1, u'private': 1, u'steps': 1, u'Are': 1, u'night': 1, u'hung': 1, u'loathsome': 1, u'Arm': 1, u'Witness': 1, u'Too': 1, u'antique': 1, u'right': 1, u'old': 1, u'smoothness': 1, u'deal': 1, u'people': 1, u'sends': 1, u'flatter': 1, u'Divided': 1, u'At': 1, u'crown': 1, u'erdoing': 1, u'dead': 1, u'sponge': 1, u'crows': 1, u'Much': 1, u'election': 1, u'Between': 1, u'dear': 1, u'prick': 1, u'bore': 1, u'unvalued': 1, u'creep': 1, u'enemies': 1, u'ungracious': 1, u'shapes': 1, u'Life': 1, u'friend': 1, u'Led': 1, u'theatre': 1, u'ear': 1, u'companions': 1, u'fox': 1, u'headshake': 1, u'ice': 1, u'foe': 1, u'asking': 1, u'honoured': 1, u'Ho': 1, u'denied': 1, u'beating': 1, u'foh': 1, u'Appears': 1, u'He': 1, u'core': 1, u'knew': 1, u'bold': 1, u'Calls': 1, u'defend': 1, u'unwholesome': 1, u'prologue': 1, u'jester': 1, u'ply': 1, u'passeth': 1, u'monsters': 1, u'sift': 1, u'Thine': 1, u'encompassment': 1, u'posy': 1, u'losing': 1, u'Drawing': 1, u'post': 1, u'falls': 1, u'Think': 1, u'First': 1, u'trophy': 1, u'Unpeg': 1, u'eat': 1, u'conceal': 1, u'plum': 1, u'months': 1, u'accepts': 1, u'o': 1, u'Prince': 1, u'flourishes': 1, u'VOLTIMAND': 1, u'eyases': 1, u'afternoon': 1, u'done': 1, u'Still': 1, u'slightly': 1, u'marshal': 1, u'match': 1, u'treble': 1, u'nerve': 1, u'raised': 1, u'Cut': 1, u'soe': 1, u'sheets': 1, u'presence': 1, u'Greeks': 1, u'Make': 1, u'Abuses': 1, u'profession': 1, u'bound': 1, u'son': 1, u'lies': 1, u'besmirch': 1, u'undertakings': 1, u'wrap': 1, u'herods': 1, u'strangely': 1, u'despised': 1, u'Unless': 1, u'Puts': 1, u'waits': 1, u'wag': 1, u'altitude': 1, u'constantly': 1, u'jealousy': 1, u'transform': 1, u'Refrain': 1, u'tame': 1, u'Break': 1, u'stuck': 1, u'chough': 1, u'fought': 1, u'gib': 1, u'way': 1, u'greatness': 1, u'pipe': 1, u'call': 1, u'trappings': 1, u'ubique': 1, u'questionable': 1, u'became': 1, u'head': 1, u'form': 1, u'offer': 1, u'Assume': 1, u'visitation': 1, u'converse': 1, u'unmanly': 1, u'twould': 1, u'heat': 1, u'powerfully': 1, u'uncle': 1, u'Been': 1, u'obsequies': 1, u'true': 1, u'climatures': 1, u'pajock': 1, u'mouthed': 1, u'admiration': 1, u'dowry': 1, u'builds': 1, u'born': 1, u'extremity': 1, u'plurisy': 1, u'fathers': 1, u'bounds': 1, u'devices': 1, u'twixt': 1, u'perchance': 1, u'lays': 1, u'mighty': 1, u'stages': 1, u'temper': 1, u'Choose': 1, u'Sir': 1, u'napkin': 1, u'proved': 1, u'sticks': 1, u'Sit': 1, u\"'?\": 1, u'request': 1, u'abstract': 1, u'escape': 1, u'unfledged': 1, u'sale': 1, u'unweeded': 1, u'sometime': 1, u'promised': 1, u'prayer': 1, u'awhile': 1, u'pernicious': 1, u'compulsatory': 1, u'unholy': 1, u'willingly': 1, u'High': 1, u'Begin': 1, u'Francisco': 1, u'outstretched': 1, u'faithful': 1, u'dying': 1, u'agreeing': 1, u'sovereign': 1, u'stake': 1, u'hypocrite': 1, u'ne': 1, u'crowns': 1, u'tis': 1, u'flood': 1, u'Running': 1, u'falsely': 1, u'That': 1, u're': 1, u'ambitious': 1, u'vanquisher': 1, u'unwilling': 1, u'shipwrights': 1, u'superfluous': 1, u'tardy': 1, u'absurd': 1, u'eternity': 1, u'picture': 1, u'incestuous': 1, u'intend': 1, u'brothers': 1, u'garland': 1, u'faction': 1, u'helps': 1, u'dies': 1, u'preceding': 1, u'welcome': 1, u'palmy': 1, u'diet': 1, u'Hautboys': 1, u'Gives': 1, u'brief': 1, u'fell': 1, u'intent': 1, u'portraiture': 1, u'nods': 1, u'smelling': 1, u'variable': 1, u'proceeding': 1, u'died': 1, u'stops': 1, u'berattle': 1, u'younger': 1, u'FRANCISCO': 1, u'Madness': 1, u'longer': 1, u'Beggar': 1, u'bestowed': 1, u'assume': 1, u'honeying': 1, u'unsanctified': 1, u'together': 1, u'beds': 1, u'Second': 1, u'longed': 1, u'douts': 1, u'time': 1, u'push': 1, u'serious': 1, u'backward': 1, u'precedent': 1, u'songs': 1, u'Videlicet': 1, u'breadth': 1, u'coach': 1, u'customary': 1, u'matron': 1, u'impression': 1, u'keep': 1, u'V': 1, u'peruse': 1, u'souls': 1, u'horseback': 1, u'leads': 1, u'crocodile': 1, u'Tropically': 1, u'skin': 1, u'shot': 1, u'rot': 1, u'milk': 1, u'tenable': 1, u'row': 1, u'varnish': 1, u'anticipation': 1, u'depend': 1, u'zone': 1, u'religion': 1, u'drunkards': 1, u'strumpet': 1, u'flash': 1, u'father': 1, u'Truly': 1, u'amaze': 1, u'charge': 1, u'praised': 1, u'tush': 1, u'glad': 1, u'currents': 1, u'Let': 1, u'suffered': 1, u'Believe': 1, u'BERNARDO': 1, u'advantage': 1, u'vailed': 1, u'singeth': 1, u'none': 1, u'choice': 1, u'Hyperion': 1, u'embark': 1, u'mourn': 1, u'Unhousel': 1, u'stays': 1, u'word': 1, u'trouble': 1, u'blast': 1, u'Where': 1, u'pious': 1, u'minute': 1, u'room': 1, u'perceived': 1, u'Doth': 1, u'clouds': 1, u'err': 1, u'level': 1, u'tear': 1, u'die': 1, u'rights': 1, u'curd': 1, u'brother': 1, u'gum': 1, u'incontinency': 1, u'leave': 1, u'couched': 1, u'brothel': 1, u'excellence': 1, u'steep': 1, u'quick': 1, u'inclination': 1, u'dip': 1, u'round': 1, u'prevent': 1, u'brave': 1, u'says': 1, u'fearing': 1, u'sigh': 1, u'feeling': 1, u'importunity': 1, u'wherefore': 1, u'cost': 1, u'crescent': 1, u'Rich': 1, u'corner': 1, u'Finding': 1, u'patient': 1, u'excrements': 1, u'Hamlet': 1, u'tempest': 1, u'drinks': 1, u'scanter': 1, u'curse': 1, u'appear': 1, u'Form': 1, u'unripe': 1, u'avouch': 1, u'celebrated': 1, u'favour': 1, u'melt': 1, u'debate': 1, u'Sweets': 1, u'Hear': 1, u'goes': 1, u'reply': 1, u'falling': 1, u'order': 1, u'bearers': 1, u'comest': 1, u'knees': 1, u'collateral': 1, u'burn': 1, u'unsure': 1, u'nearer': 1, u'camel': 1, u'honour': 1, u'funeral': 1, u'understanding': 1, u'water': 1, u'unknowing': 1, u'slow': 1, u'witch': 1, u'twentieth': 1, u'English': 1, u'alone': 1, u'gorge': 1, u'along': 1, u'Bow': 1, u'My': 1, u'appears': 1, u'change': 1, u'wait': 1, u'box': 1, u'boy': 1, u'merriment': 1, u'thirty': 1, u'shift': 1, u'saws': 1, u'guilty': 1, u'Dead': 1, u'Sleeping': 1, u'spheres': 1, u'women': 1, u'carbuncles': 1, u'Dear': 1, u'ancient': 1, u'conveniently': 1, u'shook': 1, u'Seek': 1, u'hither': 1, u'love': 1, u'melodious': 1, u'stubborn': 1, u'By': 1, u'merely': 1, u'When': 1, u'paragon': 1, u'bloody': 1, u'withal': 1, u'Gainst': 1, u'Therefore': 1, u'cannons': 1, u'swallowed': 1, u'peep': 1, u'market': 1, u'bended': 1, u'crammed': 1, u'primrose': 1, u'working': 1, u'prove': 1, u'unfortified': 1, u'Dies': 1, u'stoops': 1, u'visit': 1, u'imaginations': 1, u'live': 1, u'Fell': 1, u'prey': 1, u'opposed': 1, u'keen': 1, u'memory': 1, u'scope': 1, u'angels': 1, u'Those': 1, u'loving': 1, u'Pity': 1, u'dismay': 1, u'entrance': 1, u'fierce': 1, u'faith': 1, u'These': 1, u'neglected': 1, u'Hecate': 1, u'repentance': 1, u'Fortinbras': 1, u'imposthume': 1, u'validity': 1, u'drown': 1, u'petard': 1, u'virtue': 1, u'Time': 1, u'cases': 1, u'Hunts': 1, u'soldiers': 1, u'robe': 1, u'epitaph': 1, u'fly': 1, u'sanctified': 1, u'defeats': 1, u'fortified': 1, u'cap': 1, u'soul': 1, u'unimproved': 1, u'sanctuarize': 1, u'Popp': 1, u'Lucianus': 1, u'handsaw': 1, u'believed': 1, u'Our': 1, u'metal': 1, u'Thrift': 1, u'bites': 1, u'Out': 1, u'Gertrude': 1, u'grained': 1, u'haply': 1, u'want': 1, u'stream': 1, u'attribute': 1, u'exploit': 1, u'sense': 1, u'define': 1, u'heard': 1, u'fortunes': 1, u'Tush': 1, u'hides': 1, u'phrase': 1, u'Damon': 1, u'provoke': 1, u'stole': 1, u'Sleep': 1, u'calumnious': 1, u'Shows': 1, u\",'\": 1, u'winter': 1, u'inheritance': 1, u'Rashly': 1, u'Who': 1, u'trophies': 1, u'truepenny': 1, u'write': 1, u'till': 1, u'speedier': 1, u'pure': 1, u'assistant': 1, u'tatters': 1, u'youth': 1, u'husbandry': 1, u'sworn': 1, u'Why': 1, u'Stabs': 1, u'bawd': 1, u'rareness': 1, u'strokes': 1, u'use': 1, u'rites': 1, u'brazen': 1, u'solicitings': 1, u'scratch': 1, u'mad': 1, u\"?'\": 1, u'heroes': 1, u'truly': 1, u'dove': 1, u'grow': 1, u'lids': 1, u'man': 1, u'indifferently': 1, u'branches': 1, u'neck': 1, u'liquid': 1, u'joint': 1, u'trumpets': 1, u'borrowing': 1, u'yielding': 1, u'tinct': 1, u'st': 1, u'tale': 1, u'inform': 1, u'thorny': 1, u'cannot': 1, u'unskilful': 1, u'garlands': 1, u'nonny': 1, u'talk': 1, u'hands': 1, u'breaking': 1, u'shoes': 1, u'duke': 1, u'indeed': 1, u'forfeit': 1, u'augury': 1, u'midnight': 1, u'Use': 1, u'making': 1, u'argues': 1, u'arm': 1, u'MARGARET': 1, u'occasion': 1, u'shake': 1, u'valenced': 1, u'plausive': 1, u'White': 1, u'still': 1, u'birds': 1, u'scale': 1, u'trifle': 1, u'wiseness': 1, u'limbs': 1, u'chiefest': 1, u'willow': 1, u'wring': 1, u'mantle': 1, u'troubles': 1, u'occurrents': 1, u'forms': 1, u'platform': 1, u'window': 1, u'spacious': 1, u'dreadfully': 1, u'policy': 1, u'Cousin': 1, u'main': 1, u'petition': 1, u'instantly': 1, u'Received': 1, u'non': 1, u'within': 1, u'qualifies': 1, u'halt': 1, u'littlest': 1, u'shatter': 1, u'sooner': 1, u'nation': 1, u'lesser': 1, u'Rome': 1, u'endure': 1, u'perdy': 1, u'Receives': 1, u'half': 1, u'chopine': 1, u'reckoning': 1, u'hall': 1, u'possess': 1, u'wont': 1, u'moist': 1, u'term': 1, u'bawdry': 1, u'name': 1, u'rendering': 1, u'servant': 1, u'certainty': 1, u'drop': 1, u'arrows': 1, u'beg': 1, u'peasant': 1, u'careless': 1, u'rock': 1, u'piteous': 1, u'quarter': 1, u'em': 1, u'mould': 1, u'en': 1, u'craven': 1, u'gape': 1, u'operant': 1, u'Perpend': 1, u'ACT': 1, u'treacherous': 1, u'Saviour': 1, u'remembrance': 1, u'fires': 1, u'blanks': 1, u'farewell': 1, u'begun': 1, u'year': 1, u'aloof': 1, u'et': 1, u'girl': 1, u'Save': 1, u'es': 1, u'er': 1, u'living': 1, u'shown': 1, u'mouths': 1, u'space': 1, u'profit': 1, u'conceit': 1, u'Welcome': 1, u'increase': 1, u'mess': 1, u'Vulcan': 1, u'pickers': 1, u'churches': 1, u'sweet': 1, u'Tragedy': 1, u'assurance': 1, u'shows': 1, u'unseal': 1, u'attended': 1, u'monster': 1, u'combated': 1, u'state': 1, u'siege': 1, u'carp': 1, u'million': 1, u'Taint': 1, u'gaffs': 1, u'spies': 1, u'intruding': 1, u'Stand': 1, u'anchor': 1, u'obligation': 1, u'ore': 1, u'orb': 1, u'clown': 1, u'outlives': 1, u'deeds': 1, u'trippingly': 1, u'Being': 1, u'Consent': 1, u'arrests': 1, u'honest': 1, u'motion': 1, u'turn': 1, u'fetters': 1, u'thine': 1, u'place': 1, u'husband': 1, u'turf': 1, u'widow': 1, u'warning': 1, u'neglect': 1, u'semblable': 1, u'Speak': 1, u'origin': 1, u'pelican': 1, u'offend': 1, u'tennis': 1, u'dwelling': 1, u'mayst': 1, u'spoken': 1, u'dungeons': 1, u'There': 1, u'crib': 1, u'one': 1, u'arras': 1, u'Till': 1, u'Black': 1, u'spokes': 1, u'directly': 1, u'carry': 1, u'temperance': 1, u'ring': 1, u'fight': 1, u'open': 1, u'engineer': 1, u'sheep': 1, u'city': 1, u'given': 1, u'Alack': 1, u'sheet': 1, u'wrath': 1, u'Monday': 1, u'virgin': 1, u'carouses': 1, u'caught': 1, u'breed': 1, u'Comes': 1, u'returns': 1, u'dews': 1, u'brevity': 1, u'fiery': 1, u'bounty': 1, u'Such': 1, u'white': 1, u'speaking': 1, u'gives': 1, u'hue': 1, u'eyes': 1, u'greenly': 1, u'Fortune': 1, u'blazon': 1, u'season': 1, u'wax': 1, u'commutual': 1, u'Naked': 1, u'alas': 1, u'Unite': 1, u'antic': 1, u'naught': 1, u'grunt': 1, u'wide': 1, u'cracks': 1, u'Love': 1, u'holds': 1, u'friending': 1, u'folly': 1, u'Until': 1, u'frontier': 1, u'war': 1, u'r': 1, u'blest': 1, u'fruits': 1, u'poisoning': 1, u'happy': 1, u'wandering': 1, u'damned': 1, u'crab': 1, u'lowest': 1, u'lick': 1, u'rend': 1, u'angel': 1, u'Lethe': 1, u'Inquire': 1, u'unwrung': 1, u'hearer': 1, u'turned': 1, u'argument': 1, u'eats': 1, u'say': 1, u'Call': 1, u'buried': 1, u'anger': 1, u'regards': 1, u'recover': 1, u'saw': 1, u'sat': 1, u'hitherto': 1, u'Do': 1, u'hears': 1, u\",'--\": 1, u'ROSENCRANTZ': 1, u'Player': 1, u'Belike': 1, u'diligence': 1, u'massy': 1, u'aside': 1, u'sewing': 1, u'Grows': 1, u'note': 1, u'Sundays': 1, u'emphasis': 1, u'wretch': 1, u'take': 1, u'Half': 1, u'impasted': 1, u'pranks': 1, u'something': 1, u'inky': 1, u'begin': 1, u'sure': 1, u'pain': 1, u'Hyrcanian': 1, u'trace': 1, u'opposite': 1, u'boarded': 1, u'Dido': 1, u'chariest': 1, u'parle': 1, u'paid': 1, u'blackest': 1, u'assault': 1, u'Good': 1, u'entreaty': 1, u'horridly': 1, u'Oft': 1, u'successive': 1, u'pair': 1, u'knee': 1, u'mettle': 1, u'exact': 1, u'especially': 1, u'garments': 1, u'considered': 1, u'dream': 1, u'removed': 1, u'proud': 1, u'drive': 1, u'wing': 1, u'bade': 1, u'axe': 1, u'stockings': 1, u'hear': 1, u'salt': 1, u'quantity': 1, u'convoy': 1, u'show': 1, u'german': 1, u'Once': 1, u'merit': 1, u'fifty': 1, u'dirge': 1, u'trespass': 1, u'Bid': 1, u'shoe': 1, u'scarce': 1, u'ground': 1, u'We': 1, u'surrender': 1, u'unkind': 1, u'gulf': 1, u'treasure': 1, u'cloak': 1, u'tears': 1, u'wood': 1, u'black': 1, u'Wherein': 1, u'stain': 1, u'shrill': 1, u'Virtue': 1, u'lighted': 1, u'guarded': 1, u'get': 1, u'infallibly': 1, u'cannon': 1, u'individable': 1, u'horrible': 1, u'counsel': 1, u'battalions': 1, u'cursing': 1, u'loath': 1, u'loins': 1, u'Turk': 1, u'Question': 1, u'dye': 1, u'savoury': 1, u'gibber': 1, u'treachery': 1, u'Having': 1, u'gem': 1, u'reveal': 1, u'beseech': 1, u'concernancy': 1, u'Striking': 1, u'conception': 1, u'hinges': 1, u'slaughters': 1, u'borrow': 1, u'yield': 1, u'morning': 1, u'naked': 1, u'carrion': 1, u'priest': 1, u'clowns': 1, u'source': 1, u'Fore': 1, u'Importing': 1, u'bought': 1, u'primy': 1, u'vision': 1, u'Stood': 1, u'honesty': 1, u'burst': 1, u'seas': 1, u'goblin': 1, u'shipwright': 1, u'compelled': 1, u'behoves': 1, u'seat': 1, u'relative': 1, u'actively': 1, u'asleep': 1, u'bodykins': 1, u'seal': 1, u'weighing': 1, u'calendar': 1, u'sport': 1, u'Into': 1, u'wonder': 1, u'Thaw': 1, u'impartment': 1, u'ways': 1, u'amen': 1, u'Forgive': 1, u'weapons': 1, u'gainst': 1, u'complexion': 1, u'indentures': 1, u'sable': 1, u'moons': 1, u'mope': 1, u'reading': 1, u'across': 1, u'whipped': 1, u'apparition': 1, u'screen': 1, u'couplets': 1, u'pluck': 1, u'blame': 1, u'countenance': 1, u'Niggard': 1, u'reigns': 1, u'hurts': 1, u'article': 1, u'spark': 1, u'come': 1, u'grieved': 1, u'Plautus': 1, u'cleave': 1, u'congregation': 1, u'Prompted': 1, u'Rosencrantz': 1, u'nill': 1, u'many': 1, u'region': 1, u'according': 1, u'contract': 1, u'blasts': 1, u'pray': 1, u'loudly': 1, u'Through': 1, u'Ophelia': 1, u'Cornelius': 1, u'utterance': 1, u'commerce': 1, u'comes': 1, u'allowance': 1, u'duty': 1, u'Then': 1, u'inclining': 1, u'madness': 1, u'afterwards': 1, u'swaggering': 1, u'Personae': 1, u'Extorted': 1, u'graveness': 1, u'inexplicable': 1, u'rheum': 1, u'pole': 1, u'compell': 1, u'learning': 1, u'sadly': 1, u'liberal': 1, u'extinct': 1, u'poll': 1, u'harshly': 1, u'hams': 1, u'Buz': 1, u'sensible': 1, u'practises': 1, u'grand': 1, u'capable': 1, u'west': 1, u'But': 1, u'mark': 1, u'mart': 1, u'Perhaps': 1, u'Observe': 1, u'combined': 1, u'carriage': 1, u'hardly': 1, u'disclosed': 1, u'wants': 1, u'thereabout': 1, u'Barbary': 1, u'dalliance': 1, u'Elsinore': 1, u'clepe': 1, u'blessing': 1, u'exclaim': 1, u'Together': 1, u'ostentation': 1, u'observers': 1, u'whips': 1, u'congruing': 1, u'observe': 1, u'wake': 1, u'minister': 1, u'drum': 1, u'extant': 1, u'evidence': 1, u'spirit': 1, u'aid': 1, u'sound': 1, u'plastering': 1, u'Look': 1, u'fiends': 1, u'profane': 1, u'howling': 1, u'winks': 1, u'mount': 1, u'Give': 1, u'chap': 1, u'trick': 1, u'cast': 1, u'associates': 1, u'dressy': 1, u'residence': 1, u'rhymed': 1, u'cherub': 1, u'cock': 1, u'Else': 1, u'understand': 1, u'Alexander': 1, u'Doom': 1, u'soil': 1, u'brow': 1, u'contrive': 1, u'quiet': 1, u'affrighted': 1, u'middle': 1, u'sudden': 1, u'embrace': 1, u'heels': 1, u'beaver': 1, u'wisely': 1, u'ship': 1, u'Treason': 1, u'candied': 1, u'Israel': 1, u'pat': 1, u'combination': 1, u'doctor': 1, u'inquire': 1, u'pay': 1, u'pester': 1, u'bowl': 1, u'GERTRUDE': 1, u'mole': 1, u'gentlemen': 1, u'Tweaks': 1, u'Touching': 1, u'speech': 1, u'distilled': 1, u'afflicts': 1, u'miching': 1, u'document': 1, u'events': 1, u'sterling': 1, u'noble': 1, u'barefoot': 1, u'assigns': 1, u'faculty': 1, u'mockery': 1, u'applaud': 1, u'overpeering': 1, u'defy': 1, u'hatchment': 1, u'drives': 1, u'IV': 1, u'II': 1, u'persons': 1, u'fruit': 1, u'barber': 1, u'delicate': 1, u'Heaven': 1, u'puff': 1, u'smelt': 1, u'weep': 1, u'violet': 1, u'six': 1, u'implements': 1, u'purer': 1, u'Guildenstern': 1, u'gibes': 1, u'journeymen': 1, u'Is': 1, u'diseased': 1, u'noted': 1, u'brood': 1, u'without': 1, u'hedge': 1, u'relief': 1, u'illume': 1, u'In': 1, u'easing': 1, u'model': 1, u'otherwise': 1, u'amazed': 1, u'If': 1, u'gates': 1, u'peace': 1, u'affair': 1, u'money': 1, u'armour': 1, u'compound': 1, u'resolution': 1, u'actions': 1, u'whereat': 1, u'sins': 1, u'violent': 1, u'kill': 1, u'greetings': 1, u'aspect': 1, u'touch': 1, u'Roughly': 1, u'Falls': 1, u'speed': 1, u'perilous': 1, u'blow': 1, u'wheaten': 1, u'pox': 1, u'Hast': 1, u'thinking': 1, u'rose': 1, u'remember': 1, u'seems': 1, u'except': 1, u'adventurous': 1, u'lender': 1, u'instrument': 1, u'lets': 1, u'warms': 1, u'pile': 1, u'bank': 1, u'struck': 1, u'bread': 1, u'dulls': 1, u'kingdom': 1, u'hover': 1, u'frown': 1, u'kills': 1, u'read': 1, u'offence': 1, u'stung': 1, u'bow': 1, u'dark': 1, u'test': 1, u'inhibition': 1, u'dispatch': 1, u'lads': 1, u'secrecy': 1, u'confined': 1, u'world': 1, u'walk': 1, u'disappointed': 1, u'imponed': 1, u'dare': 1, u'ruled': 1, u'satisfaction': 1, u'Shark': 1, u'nay': 1, u'fortune': 1, u'stranger': 1, u'Show': 1, u'clad': 1, u'pregnant': 1, u'greeting': 1, u'serves': 1, u'wisdoms': 1, u'sanity': 1, u'chamber': 1, u'benefit': 1, u'indict': 1, u'miraculous': 1, u'either': 1, u'bilboes': 1, u'Moreover': 1, u'passionate': 1, u'Aroused': 1, u'reform': 1, u'Before': 1, u'twelve': 1, u'unrighteous': 1, u'brainish': 1, u'afflict': 1, u'witchcraft': 1, u'Since': 1, u'pronounce': 1, u'dole': 1, u'Mark': 1, u'potion': 1, u'importunate': 1, u'New': 1, u'Twere': 1, u'divine': 1, u'Drabbing': 1, u'reasons': 1, u'Vienna': 1, u'provided': 1, u'mood': 1, u'Ungarter': 1, u'nobler': 1, u'slings': 1, u'spurns': 1, u'Reads': 1, u'givers': 1, u'moon': 1, u'Julius': 1, u'revenged': 1, u'moor': 1, u'exit': 1, u'impress': 1, u'pastime': 1, u'moderate': 1, u'declension': 1, u'robustious': 1, u'knife': 1, u'Groped': 1, u'artless': 1, u'process': 1, u'guiltless': 1, u'ducats': 1, u'business': 1, u'poem': 1, u'unmask': 1, u'slaughter': 1, u'broken': 1, u'Sure': 1, u\";'\": 1, u'pastors': 1, u'hectic': 1, u'valour': 1, u'scholars': 1, u'throw': 1, u'Ears': 1, u'Seneca': 1, u'stone': 1, u'joyfully': 1, u'contagion': 1, u'roar': 1, u'rosemary': 1, u'violence': 1, u'FORTINBRAS': 1, u'meaning': 1, u'slender': 1, u'addition': 1, u'whence': 1, u'stand': 1, u'knave': 1, u'act': 1, u'schoolfellows': 1, u'tributary': 1, u'yaw': 1, u'amber': 1, u'imitated': 1, u'ladies': 1, u'lands': 1, u'fertile': 1, u'commingled': 1, u'burning': 1, u'No': 1, u'distempered': 1, u'image': 1, u'garb': 1, u'unnerved': 1, u'cursed': 1, u'authorities': 1, u'secure': 1, u'OSRIC': 1, u'determine': 1, u'Buys': 1, u'Unhand': 1, u'observance': 1, u'befitted': 1, u'breath': 1, u'hew': 1, u'prepare': 1, u'Though': 1, u'wharf': 1, u'glean': 1, u'distracted': 1, u'Priam': 1, u'brute': 1, u'sides': 1, u'fates': 1, u'strict': 1, u'low': 1, u'stars': 1, u'house': 1, u'goodman': 1, u'Winner': 1, u'delated': 1, u'complete': 1, u'groan': 1, u'wits': 1, u'generous': 1, u'Imperious': 1, u'regard': 1, u'pleased': 1, u'betoken': 1, u'strikes': 1, u'shrunk': 1, u'shroud': 1, u'curiously': 1, u'land': 1, u'plucks': 1, u'gore': 1, u'mallecho': 1, u'corse': 1, u'Beneath': 1, u'rouse': 1, u'porches': 1, u'highness': 1, u'abused': 1, u'hire': 1, u'groundlings': 1, u'diadem': 1, u'rage': 1, u'appliance': 1, u'tongue': 1, u'poison': 1, u'Whilst': 1, u'sadness': 1, u'Laertes': 1, u'loneliness': 1, u'Walks': 1, u'severally': 1, u'conqueror': 1, u'grass': 1, u'affection': 1, u'Awake': 1, u'gone': 1, u'intents': 1, u'frighted': 1, u'russet': 1, u'knavish': 1, u'remembrances': 1, u'taste': 1, u'lank': 1, u'forgot': 1, u'moved': 1, u'deep': 1, u'fellow': 1, u'Rankly': 1, u'How': 1, u'Lifts': 1, u'Herod': 1, u'daily': 1, u'planets': 1, u'walks': 1, u'ay': 1, u'follows': 1, u'deed': 1, u'An': 1, u'tremble': 1, u'Swear': 1, u'film': 1, u'fill': 1, u'incorrect': 1, u'yon': 1, u'swear': 1, u'beyond': 1, u'Quoth': 1, u'wagered': 1, u'Read': 1, u'deserve': 1, u'laboursome': 1, u'swords': 1, u'green': 1, u'repent': 1, u'thither': 1, u'roses': 1, u'stealers': 1, u'Lay': 1, u'heathen': 1, u'Infects': 1, u'twere': 1, u'forcing': 1, u'Lady': 1, u'thousand': 1, u'Gracious': 1, u'poor': 1, u'conjectures': 1, u'winking': 1, u'envious': 1, u'teeth': 1, u'drift': 1, u'Poisoner': 1, u'Reynaldo': 1, u'damnable': 1, u'dishonour': 1, u'Dramatis': 1, u'bounded': 1, u'peak': 1, u'brands': 1, u'Weigh': 1, u'pooh': 1, u'Murder': 1, u'sequent': 1, u'bulk': 1, u'calls': 1, u'wife': 1, u'Polacks': 1, u'tricks': 1, u'knaves': 1, u'spills': 1, u'mass': 1, u'treason': 1, u'apparel': 1, u'woodcocks': 1, u'Thyself': 1, u'strings': 1, u'presentment': 1, u'dotes': 1, u'needful': 1, u'liar': 1, u'consider': 1, u'vile': 1, u'gown': 1, u'crowing': 1, u'beware': 1, u'lack': 1, u'worms': 1, u'seals': 1, u'Caesar': 1, u'forged': 1, u'infusion': 1, u'tarre': 1, u'dish': 1, u'follow': 1, u'Richer': 1, u'mason': 1, u'mining': 1, u'children': 1, u'oaths': 1, u'accurst': 1, u'wanton': 1, u'hebenon': 1, u'homage': 1, u'ignorant': 1, u'weed': 1, u'reserve': 1, u'former': 1, u'Pyrrhus': 1, u'revengeful': 1, u'mettled': 1, u'preserved': 1, u'dirty': 1, u'unkennel': 1, u'safety': 1, u'royally': 1, u'hideous': 1, u'carters': 1, u'Christians': 1, u'ta': 1, u'bevy': 1, u'case': 1, u'fay': 1, u'appointment': 1, u'worse': 1, u'shalt': 1, u'chameleon': 1, u'far': 1, u'fantastic': 1, u'uphoarded': 1, u'overdone': 1, u'eldest': 1, u'puzzles': 1, u'medicine': 1, u'sons': 1, u'brain': 1, u'offal': 1, u'fall': 1, u'hems': 1, u'bubbles': 1, u'difference': 1, u'lecherous': 1, u'marrow': 1, u'vouchsafe': 1, u'heaven': 1, u'sans': 1, u'portentous': 1, u'mothers': 1, u'--': 1, u'laying': 1, u'Farewell': 1, u'Rest': 1, u'afeard': 1, u'large': 1, u'fearful': 1, u'fools': 1, u'small': 1, u'Soldiers': 1, u'wantonness': 1, u'brows': 1, u'heaves': 1, u'buz': 1, u'dexterity': 1, u'Saint': 1, u'ten': 1, u'streets': 1, u'Should': 1, u'past': 1, u'winds': 1, u'rate': 1, u'design': 1, u'honourable': 1, u'lawyer': 1, u'pass': 1, u'gyved': 1, u'affectation': 1, u'casual': 1, u'Ossa': 1, u'creatures': 1, u'conscience': 1, u'grinning': 1, u'defence': 1, u'stood': 1, u'dicers': 1, u'dreaded': 1, u'sun': 1, u'sum': 1, u'Contagion': 1, u'rascal': 1, u'musty': 1, u'Caps': 1, u'conveyance': 1, u'fathoms': 1, u'lief': 1, u'coronet': 1, u'judicious': 1, u'marvellous': 1, u'tribute': 1, u'public': 1, u'multitude': 1, u'womb': 1, u'Pull': 1, u'full': 1, u'estate': 1, u'eternal': 1, u'forestall': 1, u'loose': 1, u'leaping': 1, u'revenge': 1, u'hours': 1, u'matin': 1, u'directions': 1, u'praises': 1, u'method': 1, u'crowner': 1, u'table': 1, u'tragedy': 1, u'thrift': 1, u'search': 1, u'enmity': 1, u'erbears': 1, u'whine': 1, u'soldier': 1, u'Itself': 1, u'nightly': 1, u'fatted': 1, u'pick': 1, u'action': 1, u'murdering': 1, u'narrow': 1, u'spades': 1, u'bodes': 1, u'Osric': 1, u'tragedians': 1, u'Burn': 1, u'followed': 1, u'disposition': 1, u'suddenly': 1, u'Things': 1, u'Mourners': 1, u'marriages': 1, u'Christian': 1, u'put': 1, u'Tears': 1, u'Whereto': 1, u'toys': 1, u'lewdness': 1, u'passage': 1, u'armed': 1, u'detecting': 1, u'select': 1, u'mobled': 1, u'libertine': 1, u'eye': 1, u'takes': 1, u'deject': 1, u'Re': 1, u'ownself': 1, u'incorpsed': 1, u'tyrannically': 1, u'two': 1, u'pearl': 1, u'Lives': 1, u'taken': 1, u'obstinate': 1, u'dunks': 1, u'kick': 1, u'adjoin': 1, u'horses': 1, u'flat': 1, u'wretched': 1, u'door': 1, u'knows': 1, u'purse': 1, u'company': 1, u'instrumental': 1, u'excuse': 1, u'So': 1, u'stick': 1, u'draughts': 1, u'particular': 1, u'known': 1, u'mellow': 1, u'sleeping': 1, u'sovereignty': 1, u'?--': 1, u'cunning': 1, u'town': 1, u'pursy': 1, u'appurtenance': 1, u'Now': 1, u'hour': 1, u'offender': 1, u'unyoke': 1, u'entertainment': 1, u'dew': 1, u'guards': 1, u'offended': 1, u'remain': 1, u'bias': 1, u'nine': 1, u'Nor': 1, u'carefully': 1, u'forestalled': 1, u'knocked': 1, u'Your': 1, u'history': 1, u'purchases': 1, u'compare': 1, u'implorators': 1, u'visage': 1, u'lives': 1, u'traduced': 1, u'trial': 1, u'share': 1, u'sphere': 1, u'Yorick': 1, u'numbers': 1, u'firm': 1, u'commanded': 1, u'sharp': 1, u'lacks': 1, u'elder': 1, u'hits': 1, u'reconcilement': 1, u'huge': 1, u'needs': 1, u'hent': 1, u'court': 1, u'desperation': 1, u'rather': 1, u'imminent': 1, u'acts': 1, u'ratified': 1, u'fame': 1, u'unpregnant': 1, u'Fix': 1, u'Cannot': 1, u'Leaps': 1, u'apoplex': 1, u'sacred': 1, u'Fall': 1, u'speedy': 1, u'bawdy': 1, u'strong': 1, u'witching': 1, u'argal': 1, u'creature': 1, u'noyance': 1, u'survivor': 1, u'pleasure': 1, u'anoint': 1, u'rude': 1, u'emulate': 1, u'advice': 1, u'daisy': 1, u'List': 1, u'different': 1, u'Dared': 1, u'moult': 1, u'Clowns': 1, u'blood': 1, u'waves': 1, u'gardeners': 1, u'flaxen': 1, u'Exit': 1, u'murderous': 1, u'harsh': 1, u'short': 1, u'chiefly': 1, u'orchard': 1, u'enactures': 1, u'Strengthen': 1, u'Sweet': 1, u'author': 1, u'bugs': 1, u'protestation': 1, u'footed': 1, u'daggers': 1, u'wishes': 1, u'dread': 1, u'Nero': 1, u'crafts': 1, u'sicklied': 1, u'lasting': 1, u'Armed': 1, u'crafty': 1, u'grizzled': 1, u'What': 1, u'passages': 1, u'played': 1, u'help': 1, u'flowers': 1, u'soon': 1, u'trade': 1, u'held': 1, u'hammers': 1, u'replies': 1, u'smart': 1, u'hell': 1, u'smiling': 1, u'suffer': 1, u'ravel': 1, u'roots': 1, u'Full': 1, u'March': 1, u'thereon': 1, u'salary': 1, u'forthwith': 1, u'occulted': 1, u'greatly': 1, u'unpolluted': 1, u'bosom': 1, u'fruitful': 1, u'late': 1, u'resort': 1, u'soles': 1, u'strange': 1, u'astonish': 1, u'rabble': 1, u'cross': 1, u'bout': 1, u'cool': 1, u'might': 1, u'Brutus': 1, u'fines': 1, u'fool': 1, u'rapier': 1, u'good': 1, u'holy': 1, u'kingly': 1, u'betime': 1, u'repel': 1, u'food': 1, u'propose': 1, u'HORATIO': 1, u'ye': 1, u'speechless': 1, u'Youth': 1, u'Ere': 1, u'churchyards': 1, u'bellowed': 1, u'thereof': 1, u'aery': 1, u'weeds': 1, u'foot': 1, u'towering': 1, u'barefaced': 1, u'nighted': 1, u'sucked': 1, u'mystery': 1, u'easily': 1, u'likeness': 1, u'hereafter': 1, u'fantasy': 1, u'Came': 1, u'nephews': 1, u'windlasses': 1, u'Danes': 1, u'humourous': 1, u'bless': 1, u'courses': 1, u'Pole': 1, u'habits': 1, u'Thanks': 1, u'boisterous': 1, u'found': 1, u'fairy': 1, u'Sport': 1, u'conveyances': 1, u'notes': 1, u'duller': 1, u'encumber': 1, u'heavy': 1, u'week': 1, u'dig': 1, u'haps': 1, u'weight': 1, u'jaws': 1, u'fish': 1, u'hard': 1, u'Gentleman': 1, u'Grapple': 1, u'countrymen': 1, u'undertake': 1, u'hart': 1, u'event': 1, u'Were': 1, u'really': 1, u'limed': 1, u'Propose': 1, u'Adieu': 1, u'join': 1, u'unnatural': 1, u'since': 1, u'pigeon': 1, u'I': 1, u'acting': 1, u'health': 1, u'hill': 1, u'hangers': 1, u'issue': 1, u'sighs': 1, u'consonancy': 1, u'ass': 1, u'waist': 1, u'None': 1, u'drink': 1, u'abridgement': 1, u'dirt': 1, u'upon': 1, u'According': 1, u'ponderous': 1, u'recoveries': 1, u'houses': 1, u'reason': 1, u'toy': 1, u'dire': 1, u'imagine': 1, u'backed': 1, u'poisons': 1, u'canon': 1, u'rises': 1, u'kings': 1, u'spread': 1, u'thrown': 1, u'driven': 1, u'Devoutly': 1, u'acquaint': 1, u'Soil': 1, u'insolence': 1, u'beggars': 1, u'quickness': 1, u'enough': 1, u'consequence': 1, u'castle': 1, u'undergo': 1, u'fallen': 1, u'feed': 1, u'concluded': 1, u'seeming': 1, u'purport': 1, u'feel': 1, u'threatening': 1, u'netted': 1, u'Keeps': 1, u'knocking': 1, u'Officers': 1, u'fancy': 1, u'ersways': 1, u'feet': 1, u'instances': 1, u'enlarged': 1, u'revolution': 1, u'Attends': 1, u'least': 1, u'Goes': 1, u'blank': 1, u'scuffling': 1, u'cups': 1, u'miss': 1, u'donn': 1, u'passes': 1, u'horse': 1, u'tristful': 1, u'heads': 1, u'guest': 1, u'Nature': 1, u'Becomes': 1, u'diameter': 1, u'obedience': 1, u'Olympus': 1, u'inurn': 1, u'Pleasant': 1, u'paint': 1, u'station': 1, u'smile': 1, u'storm': 1, u'marble': 1, u'revel': 1, u'hundred': 1, u'Twill': 1, u'justly': 1, u'Nemean': 1, u'glow': 1, u'vantage': 1, u'relieved': 1, u'Lest': 1, u'immediate': 1, u'Brief': 1, u'pursuest': 1, u'Looking': 1, u'part': 1, u'contracted': 1, u'upshot': 1, u'rain': 1, u'believe': 1, u'Transports': 1, u'grace': 1, u'stirr': 1, u'king': 1, u'kind': 1, u'legs': 1, u'frock': 1, u'lament': 1, u'vial': 1, u'double': 1, u'arrant': 1, u'grey': 1, u'uneffectual': 1, u'outrageous': 1, u'bride': 1, u'Conjures': 1, u'stalk': 1, u'stale': 1, u'garrison': 1, u'playing': 1, u'sty': 1, u'milky': 1, u'tongues': 1, u'withered': 1, u'picked': 1, u'daintier': 1, u'imports': 1, u'Peace': 1, u'Father': 1, u'defect': 1, u'Custom': 1, u'Grating': 1, u'juice': 1, u'contrary': 1, u'rewards': 1, u'reechy': 1, u'tables': 1, u'showers': 1, u'gall': 1, u'Mutes': 1, u'mountain': 1, u'breathing': 1, u'nights': 1, u'Bernardo': 1, u'drunk': 1, u'clutch': 1, u'trip': 1, u'Norway': 1, u'self': 1, u'flaming': 1, u'officers': 1, u'distemper': 1, u'couch': 1, u'unshaped': 1, u'also': 1, u'labour': 1, u'comment': 1, u'build': 1, u'Dangerous': 1, u'finding': 1, u'invulnerable': 1, u'With': 1, u'seized': 1, u'play': 1, u'dumbshows': 1, u'Have': 1, u'Thy': 1, u'harbingers': 1, u'wager': 1, u'amities': 1, u'sore': 1, u'trains': 1, u'eruption': 1, u'unused': 1, u'yawn': 1, u'Admit': 1, u'charm': 1, u'Jove': 1, u'eterne': 1, u'nothing': 1, u'seasons': 1, u'The': 1, u'digs': 1, u'woodcock': 1, u'stands': 1, u'suck': 1, u'demand': 1, u'prettiness': 1, u'unequal': 1, u'Capitol': 1, u'mows': 1, u'clear': 1, u'sometimes': 1, u'brains': 1, u'charitable': 1, u'satirical': 1, u'bodies': 1, u'lordship': 1, u'barren': 1, u'recks': 1, u'barrel': 1, u'eisel': 1, u'strutted': 1, u'nobility': 1, u'stones': 1, u'Grappling': 1, u'fardels': 1, u'think': 1, u'rebels': 1, u'gold': 1, u'sparrow': 1, u'sables': 1, u'fond': 1, u'Had': 1, u'Whereof': 1, u'noblest': 1, u'erhear': 1, u'wounded': 1, u'havoc': 1, u'Forward': 1, u'heavens': 1, u'fine': 1, u'find': 1, u'negligence': 1, u'peal': 1, u'gilded': 1, u'giant': 1, u'shouldst': 1, u'bravery': 1, u'justice': 1, u'Honour': 1, u'ruin': 1, u'heavily': 1, u'reels': 1, u'French': 1, u'Priest': 1, u'prenominate': 1, u'flights': 1, u'beauteous': 1, u'Confederate': 1, u'unto': 1, u'Treachery': 1, u'Masters': 1, u'hit': 1, u'gratis': 1, u'distance': 1, u'batten': 1, u'Marry': 1, u'express': 1, u'hilts': 1, u'adheres': 1, u'Niobe': 1, u'famous': 1, u'feels': 1, u'grew': 1, u'hid': 1, u'twill': 1, u'closely': 1, u'compass': 1, u'beards': 1, u'distraction': 1, u'enemy': 1, u'herb': 1, u'Rightly': 1, u'Help': 1, u'pleasures': 1, u'cry': 1, u'Sunday': 1, u'remove': 1, u'perfume': 1, u'common': 1, u'cease': 1, u'obscure': 1, u'river': 1, u'rear': 1, u'rivet': 1, u'wrote': 1, u'beautified': 1, u'barr': 1, u'art': 1, u'For': 1, u'throwing': 1, u'declines': 1, u'jade': 1, u'uses': 1, u'potent': 1, u'France': 1, u'idol': 1, u'lion': 1, u'dumb': 1, u'imputation': 1, u'sea': 1, u'tender': 1, u'close': 1, u'Neither': 1, u'hole': 1, u'comfort': 1, u'vengeance': 1, u'project': 1, u'threats': 1, u'captains': 1, u'horrid': 1, u'Ecstasy': 1, u'Might': 1, u'please': 1, u'idle': 1, u'blurs': 1, u'drooping': 1, u'kneels': 1, u'won': 1, u'milch': 1, u'falsehood': 1, u'blunted': 1, u'woe': 1, u'flame': 1, u'rite': 1, u'corruption': 1, u'mutes': 1, u'knowing': 1, u'King': 1, u'bourn': 1, u'mildew': 1, u'ranker': 1, u'engaged': 1, u'fold': 1, u'Could': 1, u'conjoin': 1, u'sirs': 1, u'Robin': 1, u'Against': 1, u'brooch': 1, u'death': 1, u'opposition': 1, u'competent': 1, u'Dane': 1, u'dally': 1, u'lightness': 1, u'c': 1, u'toward': 1, u'tyrannous': 1, u'blazes': 1, u'drowns': 1, u'Yea': 1, u'Scattering': 1, u'annual': 1, u'Wherefore': 1, u'Disasters': 1, u'anon': 1, u'ordinant': 1, u'forgotten': 1, u'lash': 1, u'Yes': 1, u'mean': 1, u'afar': 1, u'Yet': 1, u'load': 1, u'flies': 1, u'guts': 1, u'words': 1, u'distress': 1, u'majesty': 1, u'headed': 1, u'simple': 1, u'loam': 1, u'acted': 1, u'address': 1, u'allegiance': 1, u'hollow': 1, u'newborn': 1, u'Lights': 1, u'unforced': 1, u'likes': 1, u'nettles': 1, u'church': 1, u'pocky': 1, u'Was': 1, u'tenantless': 1, u'crants': 1, u'decline': 1, u'Play': 1, u'devil': 1, u'smote': 1, u'stamp': 1, u'hoops': 1, u'mutine': 1, u'Sprung': 1, u'adulterate': 1, u'Most': 1, u'secret': 1, u'dropping': 1, u'extravagant': 1, u'God': 1, u'collected': 1, u'threaten': 1, u'meeting': 1, u'hoodman': 1, u'empty': 1, u'Possess': 1, u'slips': 1, u'lived': 1, u'flints': 1, u'sending': 1, u'fire': 1, u'infect': 1, u'crack': 1, u'orisons': 1, u'great': 1, u'aye': 1, u'else': 1, u'Craves': 1, u'awake': 1, u'brokers': 1, u'opposites': 1, u'receive': 1, u'scrimers': 1, u'despite': 1, u'fretful': 1, u'pierce': 1, u'equivocation': 1, u'politician': 1, u'flames': 1, u'ertop': 1, u'abatements': 1, u'warrant': 1, u'straight': 1, u'Bring': 1, u'twenty': 1, u'quiddities': 1, u'droppings': 1, u'pace': 1, u'reformed': 1, u'behavior': 1, u'discretion': 1, u'kissing': 1, u'raven': 1, u'Phoebus': 1, u'majestical': 1, u'acquaintance': 1, u'pound': 1, u'mote': 1, u'Unbated': 1, u'Holds': 1, u'herein': 1, u'leans': 1, u'Tis': 1, u'Delay': 1, u'ecstasy': 1, u'reads': 1, u'vow': 1, u'lodged': 1, u'jangled': 1, u'Prison': 1, u'ready': 1, u'truncheon': 1, u'hoar': 1, u'ourself': 1, u'riotous': 1, u'chase': 1, u'shove': 1, u'Eyes': 1, u'choler': 1, u'Stick': 1, u'grant': 1, u'maids': 1, u'wherein': 1, u'discourse': 1, u'Carrying': 1, u'contents': 1, u'Starts': 1, u'advise': 1, u'forgiveness': 1, u'impious': 1, u'daughters': 1, u'higher': 1, u'Faith': 1, u'About': 1, u'used': 1, u'affairs': 1, u'grandsire': 1, u'yesterday': 1, u'censure': 1, u'solicited': 1, u'husbands': 1, u'moment': 1, u'strength': 1, u'moving': 1, u'ardour': 1, u'necessity': 1, u'realm': 1, u'Provincial': 1, u'confines': 1, u'Seem': 1, u'built': 1, u'gestures': 1, u'expend': 1, u'task': 1, u'bonds': 1, u'Rhenish': 1, u'earnest': 1, u'Almost': 1, u'commendable': 1, u'cheek': 1, u'spent': 1, u'maker': 1, u'morrow': 1, u'person': 1, u'cheer': 1, u'edge': 1, u'chronicles': 1, u'Examples': 1, u'withdraw': 1, u'toil': 1, u'five': 1, u'spend': 1, u'grossly': 1, u'conjunctive': 1, u'ambassador': 1, u'endeavour': 1, u'Takes': 1, u'judgments': 1, u'POLONIUS': 1, u'desk': 1, u'Seems': 1, u'pated': 1, u'shape': 1, u'behove': 1, u'shrewdly': 1, u'behind': 1, u'Taken': 1, u'Than': 1, u'praying': 1, u'Scripture': 1, u'prince': 1, u'Subscribed': 1, u'timber': 1, u'friendship': 1, u'sandal': 1, u'halfpenny': 1, u'cuffs': 1, u'conclusions': 1, u'lady': 1, u'danger': 1, u'eager': 1, u'cue': 1, u'pronouncing': 1, u'kites': 1, u'artery': 1, u'bonny': 1, u'howsoever': 1, u'swinish': 1, u'mugger': 1, u'decayer': 1, u'transformation': 1, u'surprised': 1, u'livest': 1, u'Last': 1, u'They': 1, u'demands': 1, u'Thou': 1, u'Visit': 1, u'showing': 1, u'sleeper': 1, u'unlimited': 1, u'dominions': 1, u'carriages': 1, u'mischance': 1, u'matters': 1, u'suffering': 1, u'quest': 1, u'fare': 1, u'clout': 1, u'clemency': 1, u'dearly': 1, u'England': 1, u'base': 1, u'lunacy': 1, u'wings': 1, u'overthrown': 1, u'formal': 1, u'edified': 1, u'thews': 1, u'stuff': 1, u'd': 1, u'baseness': 1, u'bruit': 1, u'confront': 1, u'tyrant': 1, u'strife': 1, u'chorus': 1, u'Thereto': 1, u'Rising': 1, u'Gonzago': 1, u'scape': 1, u'breeder': 1, u'methought': 1, u'foolish': 1, u'lenten': 1, u'ho': 1, u',--': 1, u'canst': 1, u'often': 1, u'Absent': 1, u'Pray': 1, u'spring': 1, u'Cudgel': 1, u'creation': 1, u'arrived': 1, u'back': 1, u'necessaries': 1, u'Whom': 1, u'strongest': 1, u'Messenger': 1, u'martial': 1, u'sight': 1, u'lingers': 1, u'stir': 1, u'pale': 1, u'Friend': 1, u'senseless': 1, u'Attendants': 1, u'pronounced': 1, u'sheen': 1, u'happiness': 1, u'though': 1, u'Sprinkle': 1, u'audience': 1, u'Run': 1, u'didest': 1, u'providence': 1, u'Voltimand': 1, u'loves': 1, u'Larded': 1, u'innovation': 1, u'Nothing': 1, u'Frenchman': 1, u'nose': 1, u'object': 1, u'run': 1, u'unschool': 1, u'requiem': 1, u'rub': 1, u'reach': 1, u'clay': 1, u'virtues': 1, u'O': 1, u'rue': 1, u'Danskers': 1, u'step': 1, u'Breathing': 1, u'shent': 1, u'claw': 1, u'Requite': 1, u'plots': 1, u'abroad': 1, u'wealth': 1, u'shine': 1, u'rapiers': 1, u'inter': 1, u'deserved': 1, u'debatement': 1, u'sorrows': 1, u'stricken': 1, u'range': 1, u'Looks': 1, u'wrinkled': 1, u'glimpses': 1, u'sinners': 1, u'Captain': 1, u'tenants': 1, u'angry': 1, u'silence': 1, u'seeing': 1, u'scorns': 1, u'eaten': 1, u'panders': 1, u'snatches': 1, u'Bears': 1, u'conquest': 1, u'Cries': 1, u'Young': 1, u'darkest': 1, u'Their': 1, u'throat': 1, u'blench': 1, u'Impart': 1, u'grieves': 1, u'lesson': 1, u'stealing': 1, u'Trumpets': 1, u'smells': 1, u'muddy': 1, u'liege': 1, u'story': 1, u'Norman': 1, u'forgeries': 1, u'ache': 1, u'postscript': 1, u'question': 1, u'vigour': 1, u'fast': 1, u'custom': 1, u'Bestow': 1, u'infected': 1, u'whereto': 1, u'Excellent': 1, u'forward': 1, u'calumny': 1, u'translate': 1, u'Come': 1, u'mountains': 1, u'plunge': 1, u'invite': 1, u'belike': 1, u'healthful': 1, u'solidity': 1, u'Rapier': 1, u'hoped': 1, u'boys': 1, u'counterfeit': 1, u'link': 1, u'changeling': 1, u'usurp': 1, u'Howe': 1, u'hopes': 1, u'line': 1, u'immortal': 1, u'warlike': 1, u'dull': 1, u'mineral': 1, u'motive': 1, u'skull': 1, u'Unmix': 1, u'OPHELIA': 1, u'us': 1, u'flagon': 1, u'intil': 1, u'slander': 1, u'apiece': 1, u'answerest': 1, u'sullies': 1, u'wicked': 1, u'called': 1, u'weedy': 1, u'bell': 1, u'Sings': 1, u'Normandy': 1, u'constant': 1, u'hobby': 1, u'goodly': 1, u'likewise': 1, u'Mars': 1, u'influence': 1, u'haunt': 1, u'metals': 1, u'Tellus': 1, u'deprive': 1, u'To': 1, u'single': 1, u'cure': 1, u'curb': 1, u'home': 1, u'dragging': 1, u'empire': 1, u'surmise': 1, u'stiffly': 1, u'outbreak': 1, u'inventors': 1, u'paradox': 1, u'calm': 1, u'May': 1, u'Forth': 1, u'malicious': 1, u'fears': 1, u'rood': 1, u'nick': 1, u'teemed': 1, u'points': 1, u'actors': 1, u'Mad': 1, u'Denmark': 1, u'falconers': 1, u'confine': 1, u'arithmetic': 1, u'recognizances': 1, u'perusal': 1, u'draw': 1, u'aright': 1, u'spectators': 1, u'accidental': 1, u'gross': 1, u'favourite': 1, u'heir': 1, u'purged': 1, u'unproportioned': 1, u'prepared': 1, u'shrouding': 1, u'Exceedingly': 1, u'lips': 1, u'drab': 1, u'dram': 1, u'Making': 1, u'song': 1, u'Cock': 1, u'desert': 1, u'soaks': 1, u'MARCELLUS': 1, u'ago': 1, u'suffers': 1, u'e': 1, u'vice': 1, u'credent': 1, u'Ah': 1, u'age': 1, u'Am': 1, u'wildness': 1, u'unreclaimed': 1, u'pioner': 1, u'impatient': 1, u'As': 1, u'summit': 1, u'worn': 1, u'Ay': 1, u'dismal': 1, u'Heavens': 1, u'sounded': 1, u'Haply': 1, u'Mercury': 1, u'CLAUDIUS': 1, u'unmaster': 1, u'Gis': 1, u'dawning': 1, u'daisies': 1, u'knotted': 1, u'ergrowth': 1, u'wounds': 1, u'kindless': 1, u'windy': 1, u'Doubt': 1, u'fordoes': 1, u'beckons': 1, u'lend': 1, u'served': 1, u'amiss': 1, u'strew': 1, u'Whereon': 1, u'compact': 1, u'graves': 1, u'margent': 1, u'journeys': 1, u'young': 1, u'send': 1, u'suits': 1, u'Grief': 1, u'compost': 1, u'squeezing': 1, u'blaze': 1, u'Words': 1, u'Not': 1, u'breach': 1, u'dislike': 1, u'pleasing': 1, u'sent': 1, u'Valentine': 1, u'pestilent': 1, u'virtuous': 1, u'lust': 1, u'retire': 1, u'assay': 1, u'presently': 1, u'Clown': 1, u'disjoint': 1, u'felicity': 1, u'accuse': 1, u'gins': 1, u'drinking': 1, u'infinite': 1, u'harlot': 1, u'wipe': 1, u'Ambassador': 1, u'cockle': 1, u'magic': 1, u'Hark': 1, u'stiff': 1, u'gender': 1, u'button': 1, u'try': 1, u'coming': 1, u'waxes': 1, u'dealt': 1, u'rack': 1, u'Unto': 1, u'unsatisfied': 1, u'watchman': 1, u'toils': 1, u'pledge': 1, u'abominably': 1, u'thereunto': 1, u'bleeding': 1, u'crow': 1, u'frost': 1, u'lightest': 1, u'procession': 1, u'Long': 1, u'extolment': 1, u'jump': 1, u'crook': 1, u'erthrown': 1, u'go': 1, u'fellies': 1, u'murderer': 1, u'Each': 1, u'odd': 1, u'makers': 1, u'folk': 1, u'obey': 1, u'index': 1, u'Didst': 1, u'Has': 1, u'plays': 1, u'power': 1, u'paintings': 1, u'sepulchre': 1, u'unbated': 1, u'sliver': 1, u'fat': 1, u'moan': 1, u'ended': 1, u'access': 1, u'rotten': 1, u'Alas': 1, u'capital': 1, u'shriving': 1, u'cup': 1, u'bird': 1, u'exercise': 1, u'body': 1, u'melancholy': 1, u'fishmonger': 1, u'ladyship': 1, u'desires': 1, u'exchange': 1, u'beasts': 1, u'judges': 1, u'jointly': 1, u'spake': 1, u'highly': 1, u'growing': 1, u'packing': 1, u'busy': 1, u'let': 1, u'conceited': 1, u'licence': 1, u'others': 1, u'sing': 1, u'inmost': 1, u'imperfections': 1, u'Lying': 1, u'retrograde': 1, u'convert': 1, u'stalks': 1, u'coped': 1, u'shuffling': 1, u'stairs': 1, u'soever': 1, u'fetch': 1, u'erstep': 1, u'garden': 1, u'defeat': 1, u'requite': 1, u'opinion': 1, u'makes': 1, u'undiscover': 1, u'gules': 1, u'composed': 1, u'Repast': 1, u'chaste': 1, u'shovel': 1, u'see': 1, u'slain': 1, u'heart': 1, u'forbid': 1, u'win': 1, u'cuckold': 1, u'confession': 1, u'offends': 1, u'heraldry': 1, u'hardy': 1, u'wit': 1, u'reckon': 1, u'Finger': 1, u'rede': 1, u'Ha': 1, u'Answer': 1, u'scandal': 1, u'devotion': 1, u'egg': 1, u'cloud': 1, u'ape': 1, u'standing': 1, u'confound': 1, u'fed': 1, u'fee': 1, u'figure': 1, u'remains': 1, u'Hum': 1, u'whipping': 1, u'ministers': 1, u'repulsed': 1, u'Something': 1, u'declining': 1, u'Methinks': 1, u'circumstances': 1, u'doubt': 1, u'weeping': 1, u'feelingly': 1, u'doom': 1, u'E': 1, u'start': 1, u'mirror': 1, u'impotence': 1, u'sort': 1, u'throne': 1, u'babe': 1, u'pretty': 1, u'unwatch': 1, u'started': 1, u'becomes': 1, u'inclined': 1, u'flaw': 1, u'Honest': 1, u'mend': 1, u'commune': 1, u'opposing': 1, u'labourer': 1, u'privy': 1, u'recount': 1, u'baby': 1, u'enviously': 1, u'verity': 1, u'Madam': 1, u'account': 1, u'animals': 1, u'locks': 1, u'meed': 1, u'QUEEN': 1, u'pour': 1, u'columbines': 1, u'worlds': 1, u'covenant': 1, u'thin': 1, u'praise': 1, u'smear': 1, u'fulfill': 1, u'rebuke': 1, u'abstinence': 1, u'proof': 1, u'point': 1, u'weaker': 1, u'reserved': 1, u'bent': 1, u'pocket': 1, u'lock': 1, u'proportions': 1, u'tax': 1, u'purposes': 1, u'high': 1, u'bones': 1, u'villain': 1, u'bend': 1, u'Swounds': 1, u'wonderful': 1, u'ungalled': 1, u'harrow': 1, u'trumpet': 1, u'purposed': 1, u'native': 1, u'sir': 1, u'galls': 1, u'Everlasting': 1, u'shuffled': 1, u'defective': 1, u'resemble': 1, u'digested': 1, u'differences': 1, u'comical': 1, u'moods': 1, u'struggling': 1, u'delay': 1, u'courtiers': 1, u'modesties': 1, u'unsinew': 1, u'lodge': 1, u'resolutes': 1, u'comedy': 1, u'Friends': 1, u'sin': 1, u'pales': 1, u'stock': 1, u'Ghost': 1, u'puppets': 1, u'attend': 1, u'farm': 1, u'stop': 1, u'philosophy': 1, u'apt': 1, u'canker': 1, u'permanent': 1, u'Roman': 1, u'abuse': 1, u'wrist': 1, u'attent': 1, u'Prologue': 1, u'fits': 1, u'messengers': 1, u'ertook': 1, u'hawk': 1, u'tomb': 1, u'physic': 1, u'trifling': 1, u'readiness': 1, u'Letters': 1, u'Seeming': 1, u'dreadful': 1, u'light': 1, u'pansies': 1, u'sit': 1, u'lines': 1, u'While': 1, u'One': 1, u'budge': 1, u'chief': 1, u'writ': 1, u'allow': 1, u'crawling': 1, u'smiles': 1, u'deeply': 1, u'furnish': 1, u'breast': 1, u'untimely': 1, u'ha': 1, u'eloquent': 1, u'hugger': 1, u'theft': 1, u'foreknowing': 1, u'mute': 1, u'rt': 1, u'ambition': 1, u'altogether': 1, u'quietly': 1, u'thrall': 1, u'offences': 1, u'beguile': 1, u'beautied': 1, u'comma': 1, u'grosser': 1, u'quake': 1, u'shreds': 1, u'protests': 1, u'suiting': 1, u'thyself': 1, u'adders': 1, u'perfect': 1, u'It': 1, u'whereon': 1, u'umbrage': 1, u'Exchange': 1, u'lo': 1, u'll': 1, u'brook': 1, u'whereof': 1, u'acres': 1, u'lt': 1, u'thieves': 1, u'restrain': 1, u'choose': 1, u'Frailty': 1, u'sirrah': 1, u'chances': 1, u'freely': 1, u'More': 1, u'Away': 1, u'forest': 1, u'eastward': 1, u'whilst': 1, u'crash': 1, u'sword': 1, u'pangs': 1, u'fighting': 1, u'espials': 1, u'swore': 1, u'bat': 1, u'occasions': 1, u'property': 1, u'stoup': 1, u'resolve': 1, u'Adam': 1, u'mandate': 1, u'front': 1, u'honours': 1, u'Writing': 1, u'affections': 1, u'PRINCE': 1, u'collection': 1, u'Lends': 1, u'going': 1, u'masters': 1, u'speaks': 1, u'profound': 1, u'radiant': 1, u'VII': 1, u'feast': 1, u'uncurrent': 1, u'Say': 1, u'cunnings': 1, u'treads': 1, u'Blasted': 1, u'truth': 1, u'paddling': 1, u'Ambassadors': 1, u'beneath': 1, u'giving': 1, u'Saw': 1, u'quicksilver': 1, u'lie': 1, u'From': 1, u'may': 1, u'erhanging': 1, u'stithy': 1, u'globe': 1, u'ills': 1, u'especial': 1, u'Next': 1, u'society': 1, u'books': 1, u'Which': 1, u'whet': 1, u'ambassadors': 1, u'proclaim': 1, u'array': 1, u'special': 1, u'Pays': 1, u'gallant': 1, u'respects': 1, u'southerly': 1, u'Noise': 1, u'porpentine': 1, u'actor': 1, u'Very': 1, u'Season': 1, u'confess': 1, u'Fordo': 1, u'eyelids': 1, u'mere': 1, u'remiss': 1, u'venom': 1, u'Sense': 1, u'messenger': 1, u'favours': 1, u'flushing': 1, u'impart': 1, u'lecture': 1, u'wick': 1, u'cause': 1, u'red': 1, u'disclose': 1, u'shut': 1, u'pours': 1, u'maintains': 1, u'Neptune': 1, u'nephew': 1, u'Aeneas': 1, u'surely': 1, u'oblivion': 1, u'expostulate': 1, u'Meet': 1, u'Passing': 1, u'likelihood': 1, u'bleed': 1, u'dismantled': 1, u'Thought': 1, u'hasten': 1, u'yard': 1, u'courteous': 1, u'could': 1, u'splenitive': 1, u'ask': 1, u'count': 1, u'suppliance': 1, u'times': 1, u'conversation': 1, u'length': 1, u'doublet': 1, u'weal': 1, u'mortal': 1, u'hence': 1, u'retain': 1, u'distinguish': 1, u'cicatrice': 1, u'scarf': 1, u'spilt': 1, u'Judgment': 1, u'clamour': 1, u'errule': 1, u'yond': 1, u'blown': 1, u'pitied': 1, u'bodiless': 1, u'scene': 1, u'Repent': 1, u'hey': 1, u'bonnet': 1, u'wondrous': 1, u'set': 1, u'alleys': 1, u'affliction': 1, u'owner': 1, u'probation': 1, u'blows': 1, u'precisely': 1, u'quality': 1, u'coagulate': 1, u'ulcerous': 1, u'Fare': 1, u'cutpurse': 1, u'scann': 1, u'long': 1, u'thirties': 1, u'strewments': 1, u'Hoist': 1, u'Happily': 1, u'Devised': 1, u'vulgar': 1, u'traveller': 1, u'forgery': 1, u'eale': 1, u'sergeant': 1, u'scant': 1, u'LORD': 1, u'behaved': 1, u'Stoops': 1, u'cabin': 1, u'beard': 1, u'shell': 1, u'stomach': 1, u'lot': 1, u'quarry': 1, u'ambiguous': 1, u'punish': 1, u'dallying': 1, u'acquire': 1, u'This': 1, u'lists': 1, u'bodkin': 1, u'verse': 1, u'temple': 1, u'natural': 1, u'Revisit': 1, u'divulging': 1, u'blind': 1, u'omen': 1, u'steel': 1, u'loved': 1, u'Ladies': 1, u'bid': 1, u'bloat': 1, u'Mass': 1, u'girdle': 1, u'churlish': 1, u'richer': 1, u'bed': 1, u'wilfully': 1, u'claim': 1, u'Sirs': 1, u'calamity': 1, u'assays': 1, u'lover': 1, u'bare': 1, u'amble': 1, u'torrent': 1, u'gambol': 1, u'ingenious': 1, u'betimes': 1, u'accounted': 1, u'counter': 1, u'false': 1, u'beggar': 1, u'violets': 1, u'cannoneer': 1, u'gently': 1, u'westward': 1, u'Gentlemen': 1, u'dragg': 1, u'unanel': 1, u'buy': 1, u'need': 1, u'mischief': 1, u'element': 1, u'caviare': 1, u'bark': 1, u'Remember': 1, u'sings': 1, u'bastard': 1, u'afraid': 1, u'angle': 1, u'dishes': 1, u'thunders': 1, u'profanely': 1, u'After': 1, u'able': 1, u'admittance': 1, u'Pluck': 1, u'instance': 1, u'belief': 1, u'dug': 1, u'mortised': 1, u'copied': 1, u'cozen': 1, u'ancle': 1, u'adieu': 1, u'unless': 1, u'combat': 1, u'voyage': 1, u'ermaster': 1, u'hourly': 1, u'taints': 1, u'thorns': 1, u'courtesy': 1, u'Without': 1, u'eight': 1, u'preparations': 1, u'Enter': 1, u'device': 1, u'delve': 1, u'awe': 1, u'Wouldst': 1, u'profoundest': 1, u'spirits': 1, u'rims': 1, u'deny': 1, u'Costly': 1, u'fang': 1, u'Part': 1, u'nonce': 1, u'gather': 1, u'stronger': 1, u'disease': 1, u'face': 1, u'looked': 1, u'savageness': 1, u'se': 1, u'rendezvous': 1, u'Tender': 1, u'innocent': 1, u'painting': 1, u'outlive': 1, u'purples': 1, u'gain': 1, u'Whose': 1, u'faded': 1, u'mistook': 1, u'Paris': 1, u'politic': 1, u'Acts': 1, u'potently': 1, u'vacancy': 1, u'bring': 1, u'woundless': 1, u'ditchers': 1, u'Under': 1, u'utter': 1, u'fear': 1, u'obsequious': 1, u'trivial': 1, u'thicker': 1, u'staff': 1, u'quills': 1, u'envy': 1, u'pause': 1, u'pastoral': 1, u'knowledge': 1, u'satyr': 1, u'tormenting': 1, u'Stew': 1, u'jaw': 1, u'continent': 1, u'Hadst': 1, u'woo': 1, u'rash': 1, u'contumely': 1, u'buttons': 1, u'baser': 1, u'obeys': 1, u'Couch': 1, u'maggots': 1, u'oppressor': 1, u'marriage': 1, u'roughly': 1, u'counsellor': 1, u'hope': 1, u'discovers': 1, u'meant': 1, u'supposal': 1, u'move': 1, u'Sits': 1, u'means': 1, u'Whether': 1, u'familiar': 1, u'props': 1, u'enseamed': 1, u'Eats': 1, u'bear': 1, u'sipping': 1, u'beam': 1, u'ones': 1, u'mazzard': 1, u'buyer': 1, u'reverend': 1, u'years': 1, u'spur': 1, u'statutes': 1, u'Italian': 1, u'following': 1, u'ungored': 1, u'places': 1, u'organ': 1, u'course': 1, u'purgation': 1, u'married': 1, u'dejected': 1, u'kibe': 1, u'whether': 1, u'dearest': 1, u'Both': 1, u'dangerous': 1, u'tunes': 1, u'inoculate': 1, u'tenures': 1, u'vouch': 1, u'view': 1, u'tanner': 1, u'madam': 1, u'blastments': 1, u'!--': 1, u'circumscribed': 1, u'prayers': 1, u'smooth': 1, u'frame': 1, u'turbulent': 1, u'packet': 1, u'bears': 1, u'breathe': 1, u'coil': 1, u'desperate': 1, u'romage': 1, u'cold': 1, u'battery': 1, u'foil': 1, u'closes': 1, u'Ilium': 1, u'closet': 1, u'rags': 1, u'joys': 1, u'partisan': 1, u'monstrous': 1, u'cruel': 1, u'synod': 1, u'tend': 1, u'condolement': 1, u'lug': 1, u'boughs': 1, u'progress': 1, u'neither': 1, u'sold': 1, u'mainly': 1, u'tent': 1, u'monarchs': 1, u'ends': 1, u'sole': 1, u'jot': 1, u'ability': 1, u'jig': 1, u'Hamlets': 1, u'Hecuba': 1, u'sorrow': 1, u'monument': 1, u'deliver': 1, u'gentlewoman': 1, u'Himself': 1, u'rawer': 1, u'merry': 1, u'flats': 1, u'less': 1, u'precious': 1, u'sheepskins': 1, u'swift': 1, u'secrets': 1, u'Contagious': 1, u'thumb': 1, u'aslant': 1, u'commands': 1, u'piece': 1, u'instant': 1, u'asunder': 1, u'pah': 1, u'always': 1, u'raught': 1, u'inventorially': 1, u'thence': 1, u'recorders': 1, u'equal': 1, u'minds': 1, u'whoreson': 1, u'lain': 1, u'assure': 1, u'admit': 1, u'Roscius': 1, u'stirring': 1, u'dagger': 1, u'wringing': 1, u'volley': 1, u'passing': 1, u'estimation': 1, u'safely': 1, u'invites': 1, u'grounds': 1, u'Conscience': 1, u'buzzers': 1, u'extent': 1, u'Her': 1, u'wall': 1, u'curls': 1, u'Hey': 1, u'abhorred': 1, u'commend': 1, u'invisible': 1, u'incest': 1, u'celestial': 1, u'distrust': 1, u'laugh': 1, u'news': 1, u'forbear': 1, u'respect': 1, u'.--': 1, u'flourish': 1, u'mourning': 1, u'quit': 1, u'flashes': 1, u'tread': 1, u'rusty': 1, u'Get': 1, u'teach': 1, u'Makes': 1, u'wills': 1, u'card': 1, u'riband': 1, u'cowards': 1, u'tutor': 1, u'poured': 1, u'hellish': 1, u'ah': 1, u'poet': 1, u'uncharge': 1, u'feather': 1, u'waste': 1, u'partial': 1, u'Wretched': 1, u'field': 1, u'battlements': 1, u'worthy': 1, u'bedded': 1, u'Among': 1, u'painted': 1, u'deer': 1, u'digged': 1, u'ild': 1, u'neighbour': 1, u'player': 1, u'liegemen': 1, u'juggled': 1, u'last': 1, u'general': 1, u'present': 1, u'And': 1, u'corses': 1, u'couple': 1, u'basket': 1, u'imagination': 1, u'wilt': 1, u'plain': 1, u'Rebellious': 1, u'yeoman': 1, u'marry': 1, u'thou': 1, u'skyish': 1, u'feats': 1, u'fault': 1, u'wild': 1, u'pictures': 1, u'ill': 1, u'loggats': 1, u'sith': 1, u'chapless': 1, u've': 1, u'ripe': 1, u'pendent': 1, u'almost': 1, u'unction': 1, u'glares': 1, u'thus': 1, u'demi': 1, u\":'\": 1, u'concernings': 1, u'suspiration': 1, u'Pretty': 1, u'turns': 1, u'You': 1, u'foreign': 1, u'whore': 1, u'tumbled': 1, u'moves': 1, u'stooping': 1, u'servants': 1, u'players': 1, u'perhaps': 1, u'ashamed': 1, u'chide': 1, u'statists': 1, u'Bear': 1, u'parts': 1, u'Singeing': 1, u'inch': 1, u'party': 1, u'gets': 1, u'clothe': 1, u'Worse': 1, u'Pinch': 1, u'inward': 1, u'firmament': 1, u'tedious': 1, u'unmatch': 1, u'slave': 1, u'flesh': 1, u'sequel': 1, u'wisest': 1, u'convocation': 1, u'effect': 1, u'commended': 1, u'beast': 1, u'weigh': 1, u'Haste': 1, u'student': 1, u'cerements': 1, u'dust': 1, u'whale': 1, u'judgment': 1, u'lobby': 1, u'steals': 1, u'doubtful': 1, u'audit': 1, u'broke': 1, u'scarcely': 1, u'unprofitable': 1, u'proceed': 1, u'records': 1, u'approve': 1, u'weapon': 1, u'usual': 1, u'well': 1, u'circumstance': 1, u'finds': 1, u'thought': 1, u'touching': 1, u'Methought': 1, u'oft': 1, u'sets': 1, u'posset': 1, u'Clambering': 1, u'colour': 1, u'loss': 1, u'She': 1, u'lest': 1, u'restore': 1, u'carnal': 1, u'absolute': 1, u'cried': 1, u'discord': 1, u'Retiring': 1, u'Corpse': 1, u'Mother': 1, u'crier': 1, u'cries': 1, u'palm': 1, u'interim': 1, u'distant': 1, u'quarrelling': 1, u'Collected': 1, u'skill': 1, u'prisoner': 1, u'parchment': 1, u'warrantise': 1, u'Compounded': 1, u'Be': 1, u'raves': 1, u'cut': 1, u'scent': 1, u'Spurns': 1, u'croaking': 1, u'la': 1, u'supply': 1, u'wash': 1, u'tetter': 1, u'day': 1, u'pall': 1, u'arrest': 1, u'dost': 1, u'bawds': 1, u'adoption': 1, u'attractive': 1, u'burthen': 1, u'destroy': 1, u'reverted': 1, u'stowed': 1, u'practise': 1, u'advanced': 1, u'loan': 1, u'enact': 1, u'Purpose': 1, u'Thrown': 1, u'possession': 1, u'proverb': 1, u'sick': 1, u'fate': 1, u'articles': 1, u'checking': 1, u'gyves': 1, u'manners': 1, u'whispers': 1, u'wooes': 1, u'know': 1, u'unseen': 1, u'supervise': 1, u'immediately': 1, u'springe': 1, u'cell': 1, u'Throws': 1, u'insert': 1, u'necessary': 1, u'helpful': 1, u'Sleeps': 1, u'Within': 1, u'nipping': 1, u'loser': 1, u'loses': 1, u'sized': 1, u'scullion': 1, u'reckless': 1, u'tickled': 1, u'arraign': 1, u'parching': 1, u'Fear': 1, u'works': 1, u'soft': 1, u'university': 1, u'heel': 1, u'weasel': 1, u'therein': 1, u'exceed': 1, u'quillets': 1, u'jowls': 1, u'sultry': 1, u'Pursued': 1, u'sinews': 1, u'Affront': 1, u'promontory': 1, u'hair': 1, u'convey': 1, u'flush': 1, u'proper': 1, u'paddock': 1, u'little': 1, u'employment': 1, u'nave': 1, u'KING': 1, u'bet': 1, u'lead': 1, u'Millions': 1, u'broad': 1, u'avoid': 1, u'kettle': 1, u'lean': 1, u'thank': 1, u'grinding': 1, u'whole': 1, u'wittingly': 1, u'religious': 1, u'sustain': 1, u'passion': 1, u'Retires': 1, u'capability': 1, u'patiently': 1, u'fretted': 1, u'demonstrated': 1, u'trap': 1, u'yesty': 1, u'maimed': 1, u'noise': 1, u'On': 1, u'Excitements': 1, u'slight': 1, u'Up': 1, u'carpenter': 1, u'paper': 1, u'pressure': 1, u'host': 1, u'bisson': 1, u'Folded': 1, u'hush': 1, u'stay': 1, u'Baked': 1, u'coldly': 1, u'simples': 1, u'stage': 1, u'unmannerly': 1, u'gifts': 1, u'sister': 1, u'rare': 1, u'carried': 1, u':--': 1, u'shaking': 1, u'withdrew': 1, u'offendendo': 1, u'Patrick': 1, u'Antiquity': 1, u'blush': 1, u'carries': 1, u'important': 1, u'sweat': 1, u'darest': 1, u'conjuration': 1, u'spendthrift': 1, u'emperor': 1, u'seest': 1, u'unfellowed': 1, u'owl': 1, u'muddied': 1, u'letters': 1, u\"!'\": 1, u'keeps': 1, u'primal': 1, u'rages': 1, u'Two': 1, u'repair': 1, u'due': 1, u'outward': 1, u'guard': 1, u'promise': 1, u'esteem': 1, u'female': 1, u'lawful': 1, u'gleaned': 1, u'forget': 1, u'brass': 1, u'privates': 1, u'signify': 1, u'fawning': 1, u'rivals': 1, u'vows': 1, u'weeps': 1, u'Upon': 1, u'SCENE': 1, u'spots': 1, u'imperial': 1, u'lost': 1, u'Drown': 1, u'Sailor': 1, u'unshaken': 1, u'damn': 1, u'breeding': 1, u'cliff': 1, u'doomsday': 1, u'function': 1, u'ghost': 1, u'Danish': 1, u'prophetic': 1, u'north': 1, u'effects': 1, u'pe': 1, u'Well': 1, u'wed': 1, u'gait': 1, u'volume': 1, u'neutral': 1, u'plague': 1, u'salvation': 1, u'liquor': 1, u'larger': 1, u'pomp': 1, u'assail': 1, u'highest': 1, u'ventages': 1, u'witness': 1, u'scenes': 1, u'disclaiming': 1, u'goose': 1, u'made': 1, u'livery': 1, u'princes': 1, u'heed': 1, u'challenger': 1, u'Drink': 1, u'wish': 1, u'grieve': 1, u'distract': 1, u'mattering': 1, u'placed': 1, u'garbage': 1, u'converted': 1, u'delights': 1, u'hand': 1, u'sweaty': 1, u'infants': 1, u'periwig': 1, u'annexment': 1, u'minutes': 1, u'odds': 1, u'signet': 1, u'bearing': 1, u'preaching': 1, u'Hymen': 1, u'deaths': 1, u'devise': 1, u'whisper': 1, u'incensed': 1, u'kisses': 1, u'life': 1, u'dearth': 1, u'denote': 1, u'Meantime': 1, u'beats': 1, u'hearers': 1, u'erring': 1, u'goodness': 1, u\"--'\": 1, u'kissed': 1, u'pit': 1, u'happen': 1, u'Carve': 1, u'functions': 1, u'perturbed': 1, u'didst': 1, u'Pours': 1, u'fencing': 1, u'Never': 1, u'willing': 1, u'Servant': 1, u'roars': 1, u'book': 1, u'Know': 1, u'Besides': 1, u'perdition': 1, u'swounds': 1, u'lisp': 1, u'behold': 1, u'importuned': 1, u'expel': 1, u'illusion': 1, u'reaches': 1, u'star': 1, u'Like': 1, u'Lost': 1, u'oppression': 1, u'embracing': 1, u'turneth': 1, u'Shards': 1, u'methinks': 1, u'chance': 1, u'Polack': 1, u'Colleagued': 1, u'earthly': 1, u'squeak': 1, u'rhapsody': 1, u'friends': 1, u'perfections': 1, u'Sith': 1, u'Calmly': 1, u'accidents': 1, u'pestilence': 1, u'bulwark': 1, u'tanned': 1, u'baker': 1, u'envenom': 1, u'Thus': 1, u'rule': 1, u'forgetting': 1, u'entreat': 1, u'look': 1, u'northerly': 1, u'Some': 1, u'determination': 1, u'Thick': 1, u'denies': 1, u'baked': 1, u'commencement': 1, u'liver': 1}),\n",
       " 'DefaultDict': defaultdict(<type 'int'>, {u'!': 288, u\"'\": 961, u'&': 5, u'-': 416, u',': 3269, u'.': 1317, u';': 582, u':': 531, u'?': 424, u'A': 1558, u'C': 466, u'B': 241, u'E': 1445, u'D': 517, u'G': 436, u'F': 226, u'I': 1504, u'H': 927, u'K': 131, u'J': 9, u'M': 614, u'L': 1164, u'O': 1069, u'N': 836, u'Q': 95, u'P': 301, u'S': 777, u'R': 892, u'U': 662, u'T': 1521, u'W': 436, u'V': 33, u'Y': 108, u'Z': 70, 'a': 8712, 'c': 2385, 'b': 1577, 'e': 14426, 'd': 4865, 'g': 2064, 'f': 2495, 'i': 7413, 'h': 7697, 'k': 1130, 'j': 101, 'm': 3622, 'l': 5334, 'o': 10384, 'n': 7775, 'q': 124, 'p': 1715, 's': 7920, 'r': 7235, 'u': 4078, 't': 10935, 'w': 2665, 'v': 1185, 'y': 3073, 'x': 177, 'z': 51}),\n",
       " 'OrderedDict': OrderedDict([('puRine', ['A', 0, 'G', 0]), ('Weak', ['A', 0, 0, 'T']), ('any nucleotide (not a gap)', ['A', 'C', 'G', 'T']), ('Adenine', ['A', 0, 0, 0]), ('not C (D comes adter C)', ['A', 0, 'G', 'T']), ('Keto', [0, 0, 'G', 'T']), ('not G (H comes after G)', ['A', 'C', 0, 'T']), ('Strong', [0, 'C', 'G', 0]), ('Thymine', [0, 0, 0, 'T']), ('not T (V comes after T and U', ['A', 'C', 'G', 0]), ('Uracil', [0, 0, 0, 'U']), ('not A (B comes after A)', [0, 'C', 'G', 'T']), ('pYrimidine', [0, 'C', 0, 'T']), ('Guanine', [0, 0, 'G', 0]), ('Cytosine', [0, 'C', 0, 0])]),\n",
       " 'deque': deque(['chno', 'chno', 'chno', 'Ni', 'P', 'Fe', 'Ta', 'N', 'N', 'N', 'O', 'Si', 'S', 'O', 'O', 'N', 'H', 'C']),\n",
       " 'namedtuple': song(header='Itunes Authorized Purchase', title='Kinderszenen, Op. 15: No. 7. Tr\\xc3\\xa4umerei', artist='Ernst Gr\\xc3\\xb6schel', album='100 Most Relaxing Classical', speed='256 kbps', genre='Classical', startTime='0', endTime='42')}"
      ]
     },
     "execution_count": 308,
     "metadata": {},
     "output_type": "execute_result"
    }
   ],
   "source": [
    "pandora"
   ]
  },
  {
   "cell_type": "code",
   "execution_count": null,
   "metadata": {
    "collapsed": true
   },
   "outputs": [],
   "source": []
  }
 ],
 "metadata": {
  "kernelspec": {
   "display_name": "Python 2",
   "language": "python",
   "name": "python2"
  },
  "language_info": {
   "codemirror_mode": {
    "name": "ipython",
    "version": 2
   },
   "file_extension": ".py",
   "mimetype": "text/x-python",
   "name": "python",
   "nbconvert_exporter": "python",
   "pygments_lexer": "ipython2",
   "version": "2.7.9"
  }
 },
 "nbformat": 4,
 "nbformat_minor": 0
}
