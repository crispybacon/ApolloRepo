{
 "cells": [
  {
   "cell_type": "markdown",
   "metadata": {},
   "source": [
    "### Good Book Hosts "
   ]
  },
  {
   "cell_type": "markdown",
   "metadata": {},
   "source": [
    "Files were donwloaded from the following sites:  \n",
    "Old and new Testament : https://sites.google.com/site/ruwach/bibletext  \n",
    "The Tanakh html : http://www.mechon-mamre.org/dlet.htm  \n",
    "The book of Changes (text) : http://acc6.its.brooklyn.cuny.edu/~phalsall/texts/iching.txt   \n",
    "Full Ascii Tanakh (JPS) : http://www.shamash.org/tanach/text.shtml  \n",
    "The Iliad : http://classics.mit.edu/Homer/iliad.mb.txt  "
   ]
  },
  {
   "cell_type": "code",
   "execution_count": 140,
   "metadata": {
    "collapsed": true
   },
   "outputs": [],
   "source": [
    "import os, datetime, re"
   ]
  },
  {
   "cell_type": "code",
   "execution_count": 207,
   "metadata": {
    "collapsed": false
   },
   "outputs": [],
   "source": [
    "def currentPassage(text, passageOnly=True):\n",
    "    days = 365\n",
    "    hours = 365*24\n",
    "    minutes = 365*24*60\n",
    "    with open(text, 'r') as f:\n",
    "        data = f.read()\n",
    "    now = datetime.datetime.now()\n",
    "    year = now.year\n",
    "    yearStart = datetime.datetime.fromordinal(datetime.date(year,1,1).toordinal())\n",
    "    diff = yearStart-now\n",
    "    minutes_offset = diff.total_seconds() / 60\n",
    "    secondsPerYear = 60 * 60 *24 * 365\n",
    "    offset = abs((minutes_offset / (secondsPerYear/60)) * 100)\n",
    "    position = len(data) * (offset/100)\n",
    "    sliver = len(data)/minutes\n",
    "    sliverInt = int(sliver)\n",
    "    positionInt = int(position)\n",
    "    redLine = data[positionInt:positionInt+sliverInt]\n",
    "    dBlockLeft = data[positionInt-1024:positionInt]\n",
    "    dBlockRight = data[positionInt:positionInt+1024]\n",
    "    dblock = dBlockLeft + dBlockRight\n",
    "    lineClip = re.compile('(.*)?\\n')\n",
    "    redLineLeft = lineClip.search(dBlockLeft[::-1]).group()[::-1]\n",
    "    redLineRight = lineClip.search(dBlockRight[:-1]).group()\n",
    "    passage = (redLineLeft+redLineRight)[2:-2]\n",
    "    print('Sliver Size: {}'.format(sliver))\n",
    "    print('Position: {}'.format(position))\n",
    "    print('Sliver: {}'.format(redLine))\n",
    "    print('Passage: {}'.format(passage))\n",
    "    #return passage\n",
    "    if passageOnly == True:\n",
    "        return passage\n",
    "    else:\n",
    "        return (sliver, position, passage, dblock)"
   ]
  },
  {
   "cell_type": "code",
   "execution_count": 211,
   "metadata": {
    "collapsed": true
   },
   "outputs": [],
   "source": [
    "!mv ./allFiles.txt ./bible.txt"
   ]
  },
  {
   "cell_type": "code",
   "execution_count": 212,
   "metadata": {
    "collapsed": false
   },
   "outputs": [
    {
     "name": "stdout",
     "output_type": "stream",
     "text": [
      "Sliver Size: 6.465022831050228\n",
      "Position: 398936.9622020061\n",
      "Sliver: ll not\n",
      "Passage: 7  And when the LORD saw that they humbled themselves, the word of the LORD came to Shemaiah, saying: 'They have humbled themselves; I will not destroy them; but I will grant them some deliverance, and My wrath shall not be poured out upon Jerusalem by the hand of Shishak.\n"
     ]
    },
    {
     "data": {
      "text/plain": [
       "(6.465022831050228,\n",
       " 398936.9622020061,\n",
       " \"7  And when the LORD saw that they humbled themselves, the word of the LORD came to Shemaiah, saying: 'They have humbled themselves; I will not destroy them; but I will grant them some deliverance, and My wrath shall not be poured out upon Jerusalem by the hand of Shishak.\",\n",
       " \"hed, and he was strong, that he forsook the law of the LORD, and all Israel with him. \\n 2  And it came to pass in the fifth year of king Rehoboam, that Shishak king of Egypt came up against Jerusalem, because they had dealt treacherously with the LORD, \\n 3  with twelve hundred chariots, and threescore thousand horsemen; and the people were without number that came with him out of Egypt; the Lubim, the Sukkiim, and the Ethiopians. \\n 4  And he took the fortified cities which pertained to Judah, and came unto Jerusalem. \\n 5  Now Shemaiah the prophet came to Rehoboam, and to the princes of Judah, that were gathered together to Jerusalem because of Shishak, and said unto them: 'Thus saith the LORD: Ye have forsaken Me, therefore have I also left you in the hand of Shishak.' \\n 6  Then the princes of Israel and the king humbled themselves; and they said: 'The LORD is righteous.' \\n 7  And when the LORD saw that they humbled themselves, the word of the LORD came to Shemaiah, saying: 'They have humbled themselves; I will not destroy them; but I will grant them some deliverance, and My wrath shall not be poured out upon Jerusalem by the hand of Shishak. \\n 8  Nevertheless they shall be his servants; that they may know My service, and the service of the kingdoms of the countries.' \\n 9  So Shishak king of Egypt came up against Jerusalem, and took away the treasures of the house of the LORD, and the treasures of the king's house; he took all away; he took away also the shields of gold which Solomon had made. \\n 10  And king Rehoboam made in their stead shields of brass, and committed them to the hands of the captains of the guard, that kept the door of the king's house. \\n 11  And it was so, that as oft as the king entered into the house of the LORD, the guard came and bore them, and brought them back into the guard-chamber. \\n 12  And when he humbled himself, the anger of the LORD turned from him, that He would not destroy him altogether; and moreover in Judah there were good things found. \\n 13 � So king Rehoboam strengthened him\")"
      ]
     },
     "execution_count": 212,
     "metadata": {},
     "output_type": "execute_result"
    }
   ],
   "source": [
    "currentPassage('./bible.txt', passageOnly=False)"
   ]
  },
  {
   "cell_type": "code",
   "execution_count": 213,
   "metadata": {
    "collapsed": false
   },
   "outputs": [
    {
     "name": "stdout",
     "output_type": "stream",
     "text": [
      "Sliver Size: 1.537857686453577\n",
      "Position: 94897.36503336194\n",
      "Sliver:  \n",
      "Passage: his he led her towards the bed, and his wife went with him\n"
     ]
    },
    {
     "data": {
      "text/plain": [
       "(1.537857686453577,\n",
       " 94897.36503336194,\n",
       " 'his he led her towards the bed, and his wife went with him',\n",
       " 'g Jove, sat down, and with eyes askance\\nbegan to upbraid her husband. \\n\\n\"So you are come from the fight,\" said she; \"would that you had fallen\\nrather by the hand of that brave man who was my husband. You used\\nto brag that you were a better man with hands and spear than Menelaus.\\ngo, but I then, an challenge him again- but I should advise you not\\nto do so, for if you are foolish enough to meet him in single combat,\\nyou will soon all by his spear.\" \\n\\nAnd Paris answered, \"Wife, do not vex me with your reproaches. This\\ntime, with the help of Minerva, Menelaus has vanquished me; another\\ntime I may myself be victor, for I too have gods that will stand by\\nme. Come, let us lie down together and make friends. Never yet was\\nI so passionately enamoured of you as at this moment- not even when\\nI first carried you off from Lacedaemon and sailed away with you-\\nnot even when I had converse with you upon the couch of love in the\\nisland of Cranae was I so enthralled by desire of you as now.\" On\\nthis he led her towards the bed, and his wife went with him.\\n\\nThus they laid themselves on the bed together; but the son of Atreus\\nstrode among the throng, looking everywhere for Alexandrus, and no\\nman, neither of the Trojans nor of the allies, could find him. If\\nthey had seen him they were in no mind to hide him, for they all of\\nthem hated him as they did death itself. Then Agamemnon, king of men,\\nspoke, saying, \"Hear me, Trojans, Dardanians, and allies. The victory\\nhas been with Menelaus; therefore give back Helen with all her wealth,\\nand pay such fine as shall be agreed upon, in testimony among them\\nthat shall be born hereafter.\" \\n\\nThus spoke the son of Atreus, and the Achaeans shouted in applause.\\n\\n----------------------------------------------------------------------\\n\\nBOOK IV\\n\\nNow the gods were sitting with Jove in council upon the golden floor\\nwhile Hebe went round pouring out nectar for them to drink, and as\\nthey pledged one another in their cups of gold they looked down upon\\nthe town of Troy. The son of Saturn then began to tease Ju')"
      ]
     },
     "execution_count": 213,
     "metadata": {},
     "output_type": "execute_result"
    }
   ],
   "source": [
    "currentPassage('./books/iliad.txt',passageOnly=False)"
   ]
  },
  {
   "cell_type": "code",
   "execution_count": 214,
   "metadata": {
    "collapsed": false
   },
   "outputs": [
    {
     "name": "stdout",
     "output_type": "stream",
     "text": [
      "Sliver Size: 0.18864155251141554\n",
      "Position: 11640.784748567372\n",
      "Sliver: \n",
      "Passage:          To commit transgressions\n"
     ]
    },
    {
     "data": {
      "text/plain": [
       "(0.18864155251141554,\n",
       " 11640.784748567372,\n",
       " '         To commit transgressions',\n",
       " \"an fosters his character\\n          By thoroughness in all that he does.\\n\\n     The Lines\\n\\n          Six at the beginning means:\\n          To make a fool develop\\n          It furthers one to apply discipline.\\n          The fetters should be removed.\\n          To go on in this way brings humiliation.\\n\\n     ()   Nine in the second place means:\\n          To bear with fools in kindliness brings good fortune.\\n          To know how to take women\\n          Brings supreme good fortune.\\n          The son is capable of taking charge of the household.\\n\\n          Six in the third place means:\\n          Take not a maiden who, when she sees a man of bronze,\\n          Loses possession of herself.\\n          Nothing furthers.\\n\\n          Six in the fourth place means:\\n          Entangled folly brings humiliation.\\n\\n     ()   Six in the fifth place means:\\n          Childlike folly brings good fortune.\\n\\n          Nine at the top means:\\n          In punishing folly\\n          It does not further one\\n          To commit transgressions.\\n          The only thing that furthers\\n          Is to prevent transgressions.\\n_____________________________________________________\\n\\n5.   Hsu / Waiting (Nourishment)\\n\\n          -- --\\n          -----     above     K'an   The Abysmal, Water\\n          -- --\\n          -----\\n          -----     below     Ch'ien The Creative, Heaven\\n          -----\\n\\n     The Judgement\\n\\n          Waiting. If you are sincere,\\n          You have light and success.\\n          Perseverance brings good fortune.\\n          It furthers one to cross the great water.\\n\\n     The Image\\n\\n          Clouds rise up to heaven:\\n          The image of Waiting.\\n          Thus the superior man eats and drinks,\\n          Is joyous and of good cheer.\\n\\n     The Lines\\n\\n          Nine at the beginning means:\\n          Waiting in the meadow.\\n          It furthers one to abide in what endures.\\n          No blame.\\n\\n          Nine in the second place means:\\n          Waiting on the sand.\\n          There is some gossip.\\n          The end brings good fortune.\\n\\n  \")"
      ]
     },
     "execution_count": 214,
     "metadata": {},
     "output_type": "execute_result"
    }
   ],
   "source": [
    "currentPassage('./books/iching.txt', passageOnly=False)"
   ]
  },
  {
   "cell_type": "code",
   "execution_count": 251,
   "metadata": {
    "collapsed": false
   },
   "outputs": [
    {
     "name": "stdout",
     "output_type": "stream",
     "text": [
      "Sliver Size: 1.9300437595129376\n",
      "Position: 119133.86045038256\n",
      "Sliver:  \n",
      "Passage: 3 We will not give glory to ourselves in over-great measure, but after the measure of the rule which God has given us, a measure which comes even to you\n"
     ]
    },
    {
     "data": {
      "text/plain": [
       "(1.9300437595129376,\n",
       " 119133.86045038256,\n",
       " '3 We will not give glory to ourselves in over-great measure, but after the measure of the rule which God has given us, a measure which comes even to you',\n",
       " \"eing ready to give punishment to whatever is against his authority, after you have made it clear that you are completely under his control.\\n7 Give attention to the things which are before you. If any man seems to himself to be Christ's, let him keep in mind that we are as much Christ's as he is.\\n8 For though I might take pride in our authority (which the Lord gave for building you up, and not for your destruction), it will not be a cause of shame to me:\\n9 That I may not seem to have the desire of causing you fear by my letters.\\n10 For his letters, they say, have weight and are strong; but in body he is feeble, and his way of talking has little force.\\n11 Let those who say this keep in mind that, what we are in word by letters when we are away, so will we be in act when we are present.\\n12 For we will not make comparison of ourselves with some of those who say good things about themselves: but these, measuring themselves by themselves, and making comparison of themselves with themselves, are not wise.\\n13 We will not give glory to ourselves in over-great measure, but after the measure of the rule which God has given us, a measure which comes even to you.\\n14 For we have no need to make ourselves seem more than we are, as if our authority did not come as far as to you: for we came even as far as you with the good news of Christ:\\n15 Not taking credit to ourselves for what is not our business, that is, for the work of others; but having hope that, with the growth of your faith, we may get the credit for an increase which is the effect of our work,\\n16 So that we may be able to go on and take the good news to countries still farther away than you are, and not take credit for another man's work in making things ready to our hand.\\n17 But whoever has a desire for glory, let his glory be in the Lord.\\n18 For the Lord's approval of a man is not dependent on his opinion of himself, but on the Lord's opinion of him.\\n1 Put up with me if I am a little foolish: but, truly, you do put up with me.\\n2 For I have a very great care for you\")"
      ]
     },
     "execution_count": 251,
     "metadata": {},
     "output_type": "execute_result"
    }
   ],
   "source": [
    "currentPassage('NewTestament.txt', passageOnly=False)"
   ]
  },
  {
   "cell_type": "code",
   "execution_count": null,
   "metadata": {
    "collapsed": true
   },
   "outputs": [],
   "source": []
  }
 ],
 "metadata": {
  "anaconda-cloud": {},
  "kernelspec": {
   "display_name": "Python [conda root]",
   "language": "python",
   "name": "conda-root-py"
  },
  "language_info": {
   "codemirror_mode": {
    "name": "ipython",
    "version": 3
   },
   "file_extension": ".py",
   "mimetype": "text/x-python",
   "name": "python",
   "nbconvert_exporter": "python",
   "pygments_lexer": "ipython3",
   "version": "3.5.2"
  }
 },
 "nbformat": 4,
 "nbformat_minor": 1
}
