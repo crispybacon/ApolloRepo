{
 "cells": [
  {
   "cell_type": "markdown",
   "metadata": {},
   "source": [
    "#Exercise 1\n",
    "links:  \n",
    "http://docs.sympy.org/latest/modules/geometry/index.html  \n",
    "https://pypi.python.org/pypi/Shapely  \n",
    "https://en.wikipedia.org/wiki/Euclidean_distance   "
   ]
  },
  {
   "cell_type": "markdown",
   "metadata": {},
   "source": [
    "**Excerpt from Wikipedia:**  \n",
    "Euclidean geometry is a mathematical system attributed to the Alexandrian Greek mathematician Euclid, which he described in his textbook on geometry: the Elements. Euclid's method consists in assuming a small set of intuitively appealing axioms, and deducing many other propositions (theorems) from these. Although many of Euclid's results had been stated by earlier mathematicians,[1] Euclid was the first to show how these propositions could fit into a comprehensive deductive and logical system.[2] The Elements begins with plane geometry, still taught in secondary school as the first axiomatic system and the first examples of formal proof. It goes on to the solid geometry of three dimensions. Much of the Elements states results of what are now called algebra and number theory, explained in geometrical language.[3]\n",
    "\n",
    "For more than two thousand years, the adjective \"Euclidean\" was unnecessary because no other sort of geometry had been conceived. Euclid's axioms seemed so intuitively obvious (with the possible exception of the parallel postulate) that any theorem proved from them was deemed true in an absolute, often metaphysical, sense. Today, however, many other self-consistent non-Euclidean geometries are known, the first ones having been discovered in the early 19th century. An implication of Albert Einstein's theory of general relativity is that physical space itself is not Euclidean, and Euclidean space is a good approximation for it only where the gravitational field is weak.[4]\n",
    "\n",
    "Euclidean geometry is an example of synthetic geometry, in that it proceeds logically from axioms to propositions without the use of coordinates. This is in contrast to analytic geometry, which uses coordinates."
   ]
  },
  {
   "cell_type": "code",
   "execution_count": 55,
   "metadata": {
    "collapsed": false
   },
   "outputs": [],
   "source": [
    "from sympy import *\n",
    "from sympy.geometry import *\n",
    "import shapely.geometry as shapes\n",
    "import numpy as np\n",
    "import scipy\n",
    "import matplotlib.pyplot as plt\n",
    "import matplotlib.patches as mpatches"
   ]
  },
  {
   "cell_type": "code",
   "execution_count": 43,
   "metadata": {
    "collapsed": true
   },
   "outputs": [],
   "source": [
    "%matplotlib inline"
   ]
  },
  {
   "cell_type": "code",
   "execution_count": 4,
   "metadata": {
    "collapsed": false
   },
   "outputs": [
    {
     "data": {
      "text/plain": [
       "['Abs',\n",
       " 'Add',\n",
       " 'Adjoint',\n",
       " 'AlgebraicField',\n",
       " 'AlgebraicNumber',\n",
       " 'And',\n",
       " 'AppliedPredicate',\n",
       " 'AssumptionsContext',\n",
       " 'Atom',\n",
       " 'AtomicExpr',\n",
       " 'BasePolynomialError',\n",
       " 'Basic',\n",
       " 'BlockDiagMatrix',\n",
       " 'BlockMatrix',\n",
       " 'C',\n",
       " 'CC',\n",
       " 'Catalan',\n",
       " 'Chi',\n",
       " 'Ci',\n",
       " 'Circle',\n",
       " 'CoercionFailed',\n",
       " 'Complement',\n",
       " 'ComplexField',\n",
       " 'ComputationFailed',\n",
       " 'Contains',\n",
       " 'CosineTransform',\n",
       " 'Curve',\n",
       " 'DeferredVector',\n",
       " 'Derivative',\n",
       " 'Determinant',\n",
       " 'DiagonalMatrix',\n",
       " 'DiagonalOf',\n",
       " 'Dict',\n",
       " 'DiracDelta',\n",
       " 'Domain',\n",
       " 'DomainError',\n",
       " 'Dummy',\n",
       " 'E',\n",
       " 'E1',\n",
       " 'EPath',\n",
       " 'EX',\n",
       " 'Ei',\n",
       " 'Eijk',\n",
       " 'Ellipse',\n",
       " 'EmptySet',\n",
       " 'Eq',\n",
       " 'Equality',\n",
       " 'Equivalent',\n",
       " 'EulerGamma',\n",
       " 'EvaluationFailed',\n",
       " 'ExactQuotientFailed',\n",
       " 'Expr',\n",
       " 'ExpressionDomain',\n",
       " 'ExtraneousFactors',\n",
       " 'FF',\n",
       " 'FF_gmpy',\n",
       " 'FF_python',\n",
       " 'FU',\n",
       " 'FallingFactorial',\n",
       " 'FiniteField',\n",
       " 'FiniteSet',\n",
       " 'FlagError',\n",
       " 'Float',\n",
       " 'FourierTransform',\n",
       " 'FractionField',\n",
       " 'Function',\n",
       " 'FunctionClass',\n",
       " 'FunctionMatrix',\n",
       " 'GF',\n",
       " 'GMPYFiniteField',\n",
       " 'GMPYIntegerRing',\n",
       " 'GMPYRationalField',\n",
       " 'Ge',\n",
       " 'GeneratorsError',\n",
       " 'GeneratorsNeeded',\n",
       " 'GeometryError',\n",
       " 'GoldenRatio',\n",
       " 'GramSchmidt',\n",
       " 'GreaterThan',\n",
       " 'GroebnerBasis',\n",
       " 'Gt',\n",
       " 'HadamardProduct',\n",
       " 'HankelTransform',\n",
       " 'Heaviside',\n",
       " 'HeuristicGCDFailed',\n",
       " 'HomomorphismFailed',\n",
       " 'I',\n",
       " 'ITE',\n",
       " 'Id',\n",
       " 'Identity',\n",
       " 'Idx',\n",
       " 'ImageSet',\n",
       " 'ImmutableDenseMatrix',\n",
       " 'ImmutableMatrix',\n",
       " 'ImmutableSparseMatrix',\n",
       " 'Implies',\n",
       " 'In',\n",
       " 'Indexed',\n",
       " 'IndexedBase',\n",
       " 'Integer',\n",
       " 'IntegerRing',\n",
       " 'Integral',\n",
       " 'Intersection',\n",
       " 'Interval',\n",
       " 'Inverse',\n",
       " 'InverseCosineTransform',\n",
       " 'InverseFourierTransform',\n",
       " 'InverseHankelTransform',\n",
       " 'InverseLaplaceTransform',\n",
       " 'InverseMellinTransform',\n",
       " 'InverseSineTransform',\n",
       " 'IsomorphismFailed',\n",
       " 'KroneckerDelta',\n",
       " 'LC',\n",
       " 'LM',\n",
       " 'LT',\n",
       " 'Lambda',\n",
       " 'LambertW',\n",
       " 'LaplaceTransform',\n",
       " 'Le',\n",
       " 'LessThan',\n",
       " 'LeviCivita',\n",
       " 'Li',\n",
       " 'Limit',\n",
       " 'Line',\n",
       " 'Line3D',\n",
       " 'Lt',\n",
       " 'MatAdd',\n",
       " 'MatMul',\n",
       " 'MatPow',\n",
       " 'Matrix',\n",
       " 'MatrixBase',\n",
       " 'MatrixExpr',\n",
       " 'MatrixSlice',\n",
       " 'MatrixSymbol',\n",
       " 'Max',\n",
       " 'MellinTransform',\n",
       " 'Min',\n",
       " 'Mod',\n",
       " 'Monomial',\n",
       " 'Mul',\n",
       " 'MultivariatePolynomialError',\n",
       " 'MutableDenseMatrix',\n",
       " 'MutableMatrix',\n",
       " 'MutableSparseMatrix',\n",
       " 'N',\n",
       " 'Nand',\n",
       " 'Ne',\n",
       " 'NonSquareMatrixError',\n",
       " 'Nor',\n",
       " 'Not',\n",
       " 'NotAlgebraic',\n",
       " 'NotInvertible',\n",
       " 'NotReversible',\n",
       " 'Number',\n",
       " 'NumberSymbol',\n",
       " 'O',\n",
       " 'OperationNotSupported',\n",
       " 'OptionError',\n",
       " 'Options',\n",
       " 'Or',\n",
       " 'Order',\n",
       " 'Out',\n",
       " 'POSform',\n",
       " 'Piecewise',\n",
       " 'Plane',\n",
       " 'Point',\n",
       " 'Point3D',\n",
       " 'PoleError',\n",
       " 'PolificationFailed',\n",
       " 'Poly',\n",
       " 'Polygon',\n",
       " 'PolynomialDivisionFailed',\n",
       " 'PolynomialError',\n",
       " 'PolynomialRing',\n",
       " 'Pow',\n",
       " 'PrecisionExhausted',\n",
       " 'Predicate',\n",
       " 'Product',\n",
       " 'ProductSet',\n",
       " 'PurePoly',\n",
       " 'PythonFiniteField',\n",
       " 'PythonIntegerRing',\n",
       " 'PythonRationalField',\n",
       " 'Q',\n",
       " 'QQ',\n",
       " 'QQ_gmpy',\n",
       " 'QQ_python',\n",
       " 'RR',\n",
       " 'Range',\n",
       " 'Rational',\n",
       " 'RationalField',\n",
       " 'Ray',\n",
       " 'Ray3D',\n",
       " 'RealField',\n",
       " 'RealNumber',\n",
       " 'RefinementFailed',\n",
       " 'RegularPolygon',\n",
       " 'Rel',\n",
       " 'RisingFactorial',\n",
       " 'RootOf',\n",
       " 'RootSum',\n",
       " 'S',\n",
       " 'SOPform',\n",
       " 'SYMPY_DEBUG',\n",
       " 'Segment',\n",
       " 'Segment3D',\n",
       " 'Set',\n",
       " 'ShapeError',\n",
       " 'Shi',\n",
       " 'Si',\n",
       " 'Sieve',\n",
       " 'SineTransform',\n",
       " 'SparseMatrix',\n",
       " 'StrictGreaterThan',\n",
       " 'StrictLessThan',\n",
       " 'Subs',\n",
       " 'Sum',\n",
       " 'Symbol',\n",
       " 'SympifyError',\n",
       " 'TableForm',\n",
       " 'Trace',\n",
       " 'TransformationSet',\n",
       " 'Transpose',\n",
       " 'Triangle',\n",
       " 'Tuple',\n",
       " 'Unequality',\n",
       " 'UnificationFailed',\n",
       " 'Union',\n",
       " 'UnivariatePolynomialError',\n",
       " 'Wild',\n",
       " 'WildFunction',\n",
       " 'Xor',\n",
       " 'Ynm',\n",
       " 'Ynm_c',\n",
       " 'ZZ',\n",
       " 'ZZ_gmpy',\n",
       " 'ZZ_python',\n",
       " 'ZeroMatrix',\n",
       " 'Znm',\n",
       " '_',\n",
       " '__',\n",
       " '___',\n",
       " '__builtin__',\n",
       " '__builtins__',\n",
       " '__doc__',\n",
       " '__name__',\n",
       " '__package__',\n",
       " '_dh',\n",
       " '_i',\n",
       " '_i1',\n",
       " '_i2',\n",
       " '_i3',\n",
       " '_i4',\n",
       " '_ih',\n",
       " '_ii',\n",
       " '_iii',\n",
       " '_oh',\n",
       " '_sh',\n",
       " 'absolute_import',\n",
       " 'acos',\n",
       " 'acosh',\n",
       " 'acot',\n",
       " 'acoth',\n",
       " 'acsc',\n",
       " 'add',\n",
       " 'adjoint',\n",
       " 'airyai',\n",
       " 'airyaiprime',\n",
       " 'airybi',\n",
       " 'airybiprime',\n",
       " 'apart',\n",
       " 'apart_list',\n",
       " 'apply_finite_diff',\n",
       " 'are_similar',\n",
       " 'arg',\n",
       " 'as_finite_diff',\n",
       " 'asec',\n",
       " 'asin',\n",
       " 'asinh',\n",
       " 'ask',\n",
       " 'ask_generated',\n",
       " 'assemble_partfrac_list',\n",
       " 'assoc_laguerre',\n",
       " 'assoc_legendre',\n",
       " 'assume',\n",
       " 'assuming',\n",
       " 'assumptions',\n",
       " 'atan',\n",
       " 'atan2',\n",
       " 'atanh',\n",
       " 'basic',\n",
       " 'bell',\n",
       " 'bernoulli',\n",
       " 'besseli',\n",
       " 'besselj',\n",
       " 'besselk',\n",
       " 'besselsimp',\n",
       " 'bessely',\n",
       " 'beta',\n",
       " 'binomial',\n",
       " 'binomial_coefficients',\n",
       " 'binomial_coefficients_list',\n",
       " 'bivariate',\n",
       " 'block_collapse',\n",
       " 'blockcut',\n",
       " 'bool_equal',\n",
       " 'bool_map',\n",
       " 'boolalg',\n",
       " 'bspline_basis',\n",
       " 'bspline_basis_set',\n",
       " 'cache',\n",
       " 'cacheit',\n",
       " 'calculus',\n",
       " 'cancel',\n",
       " 'capture',\n",
       " 'cartes',\n",
       " 'casoratian',\n",
       " 'catalan',\n",
       " 'cbrt',\n",
       " 'ccode',\n",
       " 'ceiling',\n",
       " 'centroid',\n",
       " 'chebyshevt',\n",
       " 'chebyshevt_poly',\n",
       " 'chebyshevt_root',\n",
       " 'chebyshevu',\n",
       " 'chebyshevu_poly',\n",
       " 'chebyshevu_root',\n",
       " 'checkodesol',\n",
       " 'checkpdesol',\n",
       " 'checksol',\n",
       " 'classify_ode',\n",
       " 'classify_pde',\n",
       " 'cofactors',\n",
       " 'collect',\n",
       " 'collect_const',\n",
       " 'combinatorial',\n",
       " 'combsimp',\n",
       " 'compatibility',\n",
       " 'compose',\n",
       " 'concrete',\n",
       " 'conjugate',\n",
       " 'construct_domain',\n",
       " 'containers',\n",
       " 'contains',\n",
       " 'content',\n",
       " 'continued_fraction',\n",
       " 'continued_fraction_convergents',\n",
       " 'continued_fraction_iterator',\n",
       " 'continued_fraction_periodic',\n",
       " 'continued_fraction_reduce',\n",
       " 'convex_hull',\n",
       " 'core',\n",
       " 'coreerrors',\n",
       " 'cos',\n",
       " 'cosh',\n",
       " 'cosine_transform',\n",
       " 'cot',\n",
       " 'coth',\n",
       " 'count_ops',\n",
       " 'count_roots',\n",
       " 'csc',\n",
       " 'cse',\n",
       " 'cse_main',\n",
       " 'cse_opts',\n",
       " 'curve',\n",
       " 'cycle_length',\n",
       " 'cyclotomic_poly',\n",
       " 'decompose',\n",
       " 'decorator',\n",
       " 'decorators',\n",
       " 'default_sort_key',\n",
       " 'deg',\n",
       " 'degree',\n",
       " 'degree_list',\n",
       " 'deltafunctions',\n",
       " 'denom',\n",
       " 'dense',\n",
       " 'det',\n",
       " 'det_quick',\n",
       " 'deutils',\n",
       " 'diag',\n",
       " 'dict_merge',\n",
       " 'diff',\n",
       " 'digamma',\n",
       " 'dirichlet_eta',\n",
       " 'discriminant',\n",
       " 'div',\n",
       " 'divisor_count',\n",
       " 'divisor_sigma',\n",
       " 'divisors',\n",
       " 'doctest',\n",
       " 'dsolve',\n",
       " 'egyptian_fraction',\n",
       " 'elementary',\n",
       " 'ellipse',\n",
       " 'elliptic_e',\n",
       " 'elliptic_f',\n",
       " 'elliptic_k',\n",
       " 'elliptic_pi',\n",
       " 'entity',\n",
       " 'enumerative',\n",
       " 'epath',\n",
       " 'epathtools',\n",
       " 'erf',\n",
       " 'erf2',\n",
       " 'erf2inv',\n",
       " 'erfc',\n",
       " 'erfcinv',\n",
       " 'erfi',\n",
       " 'erfinv',\n",
       " 'euler',\n",
       " 'euler_equations',\n",
       " 'evalf',\n",
       " 'evaluate',\n",
       " 'exceptions',\n",
       " 'exit',\n",
       " 'exp',\n",
       " 'exp_polar',\n",
       " 'expand',\n",
       " 'expand_complex',\n",
       " 'expand_func',\n",
       " 'expand_log',\n",
       " 'expand_mul',\n",
       " 'expand_multinomial',\n",
       " 'expand_power_base',\n",
       " 'expand_power_exp',\n",
       " 'expand_trig',\n",
       " 'expint',\n",
       " 'expr',\n",
       " 'expr_with_intlimits',\n",
       " 'expr_with_limits',\n",
       " 'expressions',\n",
       " 'exprtools',\n",
       " 'exptrigsimp',\n",
       " 'exquo',\n",
       " 'external',\n",
       " 'eye',\n",
       " 'factor',\n",
       " 'factor_',\n",
       " 'factor_list',\n",
       " 'factor_nc',\n",
       " 'factor_terms',\n",
       " 'factorial',\n",
       " 'factorial2',\n",
       " 'factorint',\n",
       " 'facts',\n",
       " 'false',\n",
       " 'fancysets',\n",
       " 'fcode',\n",
       " 'ff',\n",
       " 'fibonacci',\n",
       " 'field',\n",
       " 'field_isomorphism',\n",
       " 'filldedent',\n",
       " 'finite_diff',\n",
       " 'finite_diff_weights',\n",
       " 'flatten',\n",
       " 'floor',\n",
       " 'fourier_transform',\n",
       " 'fraction',\n",
       " 'fresnelc',\n",
       " 'fresnels',\n",
       " 'fu',\n",
       " 'function',\n",
       " 'functions',\n",
       " 'gamma',\n",
       " 'gcd',\n",
       " 'gcd_list',\n",
       " 'gcd_terms',\n",
       " 'gcdex',\n",
       " 'gegenbauer',\n",
       " 'generate',\n",
       " 'geometry',\n",
       " 'get_contraction_structure',\n",
       " 'get_indices',\n",
       " 'get_ipython',\n",
       " 'gff',\n",
       " 'gff_list',\n",
       " 'gosper',\n",
       " 'grevlex',\n",
       " 'grlex',\n",
       " 'groebner',\n",
       " 'ground_roots',\n",
       " 'group',\n",
       " 'gruntz',\n",
       " 'hadamard_product',\n",
       " 'half_gcdex',\n",
       " 'hankel1',\n",
       " 'hankel2',\n",
       " 'hankel_transform',\n",
       " 'harmonic',\n",
       " 'has_dups',\n",
       " 'has_variety',\n",
       " 'hermite',\n",
       " 'hermite_poly',\n",
       " 'hessian',\n",
       " 'heurisch',\n",
       " 'homogeneous_order',\n",
       " 'horner',\n",
       " 'hyper',\n",
       " 'hyperexpand',\n",
       " 'hypersimilar',\n",
       " 'hypersimp',\n",
       " 'idiff',\n",
       " 'igcd',\n",
       " 'igrevlex',\n",
       " 'igrlex',\n",
       " 'ilcm',\n",
       " 'ilex',\n",
       " 'im',\n",
       " 'imageset',\n",
       " 'immutable',\n",
       " 'index_methods',\n",
       " 'indexed',\n",
       " 'inequalities',\n",
       " 'inference',\n",
       " 'init_printing',\n",
       " 'init_session',\n",
       " 'integer_nthroot',\n",
       " 'integrals',\n",
       " 'integrate',\n",
       " 'interactive',\n",
       " 'interactive_traversal',\n",
       " 'interpolate',\n",
       " 'interpolating_poly',\n",
       " 'intersection',\n",
       " 'intervals',\n",
       " 'inv_quick',\n",
       " 'inverse_cosine_transform',\n",
       " 'inverse_fourier_transform',\n",
       " 'inverse_hankel_transform',\n",
       " 'inverse_laplace_transform',\n",
       " 'inverse_mellin_transform',\n",
       " 'inverse_sine_transform',\n",
       " 'invert',\n",
       " 'is_nthpow_residue',\n",
       " 'is_primitive_root',\n",
       " 'is_quad_residue',\n",
       " 'is_zero_dimensional',\n",
       " 'isolate',\n",
       " 'isprime',\n",
       " 'iterables',\n",
       " 'itermonomials',\n",
       " 'jacobi',\n",
       " 'jacobi_normalized',\n",
       " 'jacobi_poly',\n",
       " 'jacobi_symbol',\n",
       " 'jn',\n",
       " 'jn_zeros',\n",
       " 'jordan_cell',\n",
       " 'jscode',\n",
       " 'laguerre',\n",
       " 'laguerre_poly',\n",
       " 'lambdify',\n",
       " 'laplace_transform',\n",
       " 'latex',\n",
       " 'lcm',\n",
       " 'lcm_list',\n",
       " 'legendre',\n",
       " 'legendre_poly',\n",
       " 'legendre_symbol',\n",
       " 'lerchphi',\n",
       " 'lex',\n",
       " 'li',\n",
       " 'limit',\n",
       " 'line',\n",
       " 'line3d',\n",
       " 'line_integrate',\n",
       " 'list2numpy',\n",
       " 'ln',\n",
       " 'log',\n",
       " 'logcombine',\n",
       " 'loggamma',\n",
       " 'logic',\n",
       " 'lowergamma',\n",
       " 'lucas',\n",
       " 'magic',\n",
       " 'manualintegrate',\n",
       " 'mathematica_code',\n",
       " 'matrices',\n",
       " 'matrix2numpy',\n",
       " 'matrix_multiply_elementwise',\n",
       " 'matrix_symbols',\n",
       " 'meijerg',\n",
       " 'meijerint',\n",
       " 'mellin_transform',\n",
       " 'memoization',\n",
       " 'minimal_polynomial',\n",
       " 'minpoly',\n",
       " 'misc',\n",
       " 'mobius',\n",
       " 'mod',\n",
       " 'monic',\n",
       " 'mpmath',\n",
       " 'mul',\n",
       " 'multidimensional',\n",
       " 'multinomial',\n",
       " 'multinomial_coefficients',\n",
       " 'multiplicity',\n",
       " 'n_order',\n",
       " 'nan',\n",
       " 'nextprime',\n",
       " 'nfloat',\n",
       " 'npartitions',\n",
       " 'nroots',\n",
       " 'nsimplify',\n",
       " 'nsolve',\n",
       " 'nth_power_roots_poly',\n",
       " 'ntheory',\n",
       " 'nthroot_mod',\n",
       " 'numbered_symbols',\n",
       " 'numbers',\n",
       " 'numer',\n",
       " 'octave_code',\n",
       " 'ode',\n",
       " 'ode_order',\n",
       " 'ones',\n",
       " 'oo',\n",
       " 'operations',\n",
       " 'ordered',\n",
       " 'pager_print',\n",
       " 'parallel_poly_from_expr',\n",
       " 'parsing',\n",
       " 'partitions_',\n",
       " 'pde',\n",
       " 'pde_separate',\n",
       " 'pde_separate_add',\n",
       " 'pde_separate_mul',\n",
       " 'pdiv',\n",
       " 'pdsolve',\n",
       " 'perfect_power',\n",
       " 'periodic_argument',\n",
       " 'pexquo',\n",
       " 'pi',\n",
       " 'piecewise_fold',\n",
       " 'plane',\n",
       " 'plot',\n",
       " 'plot_backends',\n",
       " 'plot_implicit',\n",
       " 'plotting',\n",
       " 'point',\n",
       " 'point3d',\n",
       " 'polar_lift',\n",
       " 'polarify',\n",
       " 'pollard_pm1',\n",
       " 'pollard_rho',\n",
       " 'poly',\n",
       " 'poly_from_expr',\n",
       " 'polygamma',\n",
       " 'polygon',\n",
       " 'polylog',\n",
       " 'polys',\n",
       " 'polysys',\n",
       " 'posify',\n",
       " 'postfixes',\n",
       " 'postorder_traversal',\n",
       " 'powdenest',\n",
       " 'power',\n",
       " 'powsimp',\n",
       " 'pprint',\n",
       " 'pprint_try_use_unicode',\n",
       " 'pprint_use_unicode',\n",
       " 'pquo',\n",
       " 'prefixes',\n",
       " 'prem',\n",
       " 'preorder_traversal',\n",
       " 'pretty',\n",
       " 'pretty_print',\n",
       " 'preview',\n",
       " 'prevprime',\n",
       " 'prime',\n",
       " 'primefactors',\n",
       " 'primepi',\n",
       " 'primerange',\n",
       " 'primetest',\n",
       " 'primitive',\n",
       " 'primitive_element',\n",
       " 'primitive_root',\n",
       " 'primorial',\n",
       " 'principal_branch',\n",
       " 'print_function',\n",
       " 'print_gtk',\n",
       " 'print_python',\n",
       " 'print_tree',\n",
       " 'printing',\n",
       " 'prod',\n",
       " 'product',\n",
       " 'products',\n",
       " 'public',\n",
       " 'python',\n",
       " 'quadratic_residues',\n",
       " 'quit',\n",
       " 'quo',\n",
       " 'rad',\n",
       " 'radsimp',\n",
       " 'randMatrix',\n",
       " 'random_poly',\n",
       " 'randprime',\n",
       " 'rationaltools',\n",
       " 'ratsimp',\n",
       " 'ratsimpmodprime',\n",
       " 'rcollect',\n",
       " 're',\n",
       " 'real_root',\n",
       " 'real_roots',\n",
       " 'recurr',\n",
       " 'reduce_abs_inequalities',\n",
       " 'reduce_abs_inequality',\n",
       " 'reduce_inequalities',\n",
       " 'reduced',\n",
       " 'refine',\n",
       " 'refine_root',\n",
       " 'register_handler',\n",
       " 'relational',\n",
       " 'release',\n",
       " 'rem',\n",
       " 'remove_handler',\n",
       " 'reshape',\n",
       " 'residue',\n",
       " 'residue_ntheory',\n",
       " 'resultant',\n",
       " 'rf',\n",
       " 'ring',\n",
       " 'root',\n",
       " 'roots',\n",
       " 'rot_axis1',\n",
       " 'rot_axis2',\n",
       " 'rot_axis3',\n",
       " 'rsolve',\n",
       " 'rsolve_hyper',\n",
       " 'rsolve_poly',\n",
       " 'rsolve_ratio',\n",
       " 'rules',\n",
       " 'runtests',\n",
       " 'satisfiable',\n",
       " 'sec',\n",
       " 'separatevars',\n",
       " 'series',\n",
       " 'seterr',\n",
       " 'sets',\n",
       " 'sfield',\n",
       " 'shapes',\n",
       " 'sieve',\n",
       " 'sift',\n",
       " 'sign',\n",
       " 'signsimp',\n",
       " 'simplify',\n",
       " 'simplify_logic',\n",
       " 'sin',\n",
       " 'sine_transform',\n",
       " 'singleton',\n",
       " 'singularities',\n",
       " 'sinh',\n",
       " 'solve',\n",
       " 'solve_linear',\n",
       " 'solve_linear_system',\n",
       " 'solve_linear_system_LU',\n",
       " 'solve_poly_inequality',\n",
       " 'solve_poly_system',\n",
       " 'solve_rational_inequalities',\n",
       " 'solve_triangulated',\n",
       " 'solve_undetermined_coeffs',\n",
       " 'solve_univariate_inequality',\n",
       " 'solvers',\n",
       " 'source',\n",
       " 'sparse',\n",
       " 'special',\n",
       " 'sqf',\n",
       " 'sqf_list',\n",
       " 'sqf_norm',\n",
       " 'sqf_part',\n",
       " 'sqrt',\n",
       " 'sqrt_mod',\n",
       " 'sqrt_mod_iter',\n",
       " 'sqrtdenest',\n",
       " 'srepr',\n",
       " 'sring',\n",
       " 'sstr',\n",
       " 'sstrrepr',\n",
       " 'strategies',\n",
       " 'sturm',\n",
       " 'subfactorial',\n",
       " 'subresultants',\n",
       " 'subsets',\n",
       " 'summation',\n",
       " 'summations',\n",
       " 'swinnerton_dyer_poly',\n",
       " 'symarray',\n",
       " 'symbol',\n",
       " 'symbols',\n",
       " 'symmetric_poly',\n",
       " 'symmetrize',\n",
       " 'sympify',\n",
       " 'take',\n",
       " 'tan',\n",
       " 'tanh',\n",
       " 'tensor',\n",
       " 'terms_gcd',\n",
       " 'test',\n",
       " 'textplot',\n",
       " 'threaded',\n",
       " 'timed',\n",
       " 'timeutils',\n",
       " 'to_cnf',\n",
       " 'to_dnf',\n",
       " 'to_nnf',\n",
       " 'to_number_field',\n",
       " 'together',\n",
       " 'topological_sort',\n",
       " 'totient',\n",
       " 'trace',\n",
       " 'trailing',\n",
       " 'transforms',\n",
       " 'transpose',\n",
       " 'traversaltools',\n",
       " 'trigamma',\n",
       " 'trigonometry',\n",
       " 'trigsimp',\n",
       " 'true',\n",
       " 'trunc',\n",
       " 'unbranched_argument',\n",
       " 'unflatten',\n",
       " 'unpolarify',\n",
       " 'uppergamma',\n",
       " 'use',\n",
       " 'util',\n",
       " 'utilities',\n",
       " 'var',\n",
       " 'variations',\n",
       " 'vectorize',\n",
       " 'vfield',\n",
       " 'viete',\n",
       " 'vring',\n",
       " 'wronskian',\n",
       " 'xfield',\n",
       " 'xring',\n",
       " 'xthreaded',\n",
       " 'yn',\n",
       " 'zeros',\n",
       " 'zeta',\n",
       " 'zoo']"
      ]
     },
     "execution_count": 4,
     "metadata": {},
     "output_type": "execute_result"
    }
   ],
   "source": [
    "dir()"
   ]
  },
  {
   "cell_type": "markdown",
   "metadata": {},
   "source": [
    "Geometric propositions have to be proved formally in Euclidian Geometry"
   ]
  },
  {
   "cell_type": "code",
   "execution_count": 6,
   "metadata": {
    "collapsed": true
   },
   "outputs": [],
   "source": [
    "G = 'Given'\n",
    "R = 'Required'\n",
    "C = 'Construction'\n",
    "P = 'Proof'\n",
    "QED = 'What was to be proved'\n",
    "QED = 'quod erat demonstrandum'"
   ]
  },
  {
   "cell_type": "markdown",
   "metadata": {},
   "source": [
    "The angles of a triangle always equal 180 when added together"
   ]
  },
  {
   "cell_type": "markdown",
   "metadata": {},
   "source": [
    "$a + b + c = 180$"
   ]
  },
  {
   "cell_type": "code",
   "execution_count": 14,
   "metadata": {
    "collapsed": true
   },
   "outputs": [],
   "source": [
    "from scipy.spatial import distance as distance"
   ]
  },
  {
   "cell_type": "code",
   "execution_count": 16,
   "metadata": {
    "collapsed": true
   },
   "outputs": [],
   "source": [
    "a = (33,50,97)\n",
    "b = (42,42,96)"
   ]
  },
  {
   "cell_type": "code",
   "execution_count": 18,
   "metadata": {
    "collapsed": false
   },
   "outputs": [
    {
     "data": {
      "text/plain": [
       "12.083045973594572"
      ]
     },
     "execution_count": 18,
     "metadata": {},
     "output_type": "execute_result"
    }
   ],
   "source": [
    "distance.euclidean(a,b)"
   ]
  },
  {
   "cell_type": "markdown",
   "metadata": {},
   "source": [
    "###Scipy Method\n",
    "scipy.spatial.distance.euclidean(u, v)[source]  \n",
    "Computes the Euclidean distance between two 1-D arrays.  \n",
    "  \n",
    "The Euclidean distance between 1-D arrays u and v, is defined as    \n",
    "  \n",
    "${||u-v||}_2$\n",
    "\n",
    "Parameters:\t  \n",
    "u : (N,) array_like  \n",
    "Input array.  \n",
    "v : (N,) array_like  \n",
    "Input array.  \n",
    "Returns:  \t\n",
    "euclidean : double  \n",
    "The Euclidean distance between vectors u and v.    "
   ]
  },
  {
   "cell_type": "code",
   "execution_count": 33,
   "metadata": {
    "collapsed": false
   },
   "outputs": [
    {
     "data": {
      "text/plain": [
       "141.54151334502538"
      ]
     },
     "execution_count": 33,
     "metadata": {},
     "output_type": "execute_result"
    }
   ],
   "source": [
    "x = []\n",
    "for i in range(0,15):\n",
    "    y = np.random.randint(0,100)\n",
    "    x.append(y)\n",
    "u = np.array(x)\n",
    "\n",
    "x = []\n",
    "for i in range(0,15):\n",
    "    y = np.random.randint(0,100)\n",
    "    x.append(y)\n",
    "v = np.array(x)\n",
    "\n",
    "scipy.spatial.distance.euclidean( u, v )"
   ]
  },
  {
   "cell_type": "code",
   "execution_count": 34,
   "metadata": {
    "collapsed": false
   },
   "outputs": [
    {
     "data": {
      "text/plain": [
       "array([50, 81, 49, 52, 29,  4, 77, 28, 60, 50, 59, 88, 87, 20, 45])"
      ]
     },
     "execution_count": 34,
     "metadata": {},
     "output_type": "execute_result"
    }
   ],
   "source": [
    "u"
   ]
  },
  {
   "cell_type": "code",
   "execution_count": 35,
   "metadata": {
    "collapsed": false
   },
   "outputs": [
    {
     "data": {
      "text/plain": [
       "array([41, 22, 27, 13, 80, 25, 22, 51, 66, 13, 20, 95, 55, 64, 89])"
      ]
     },
     "execution_count": 35,
     "metadata": {},
     "output_type": "execute_result"
    }
   ],
   "source": [
    "v"
   ]
  },
  {
   "cell_type": "code",
   "execution_count": 36,
   "metadata": {
    "collapsed": false
   },
   "outputs": [
    {
     "data": {
      "text/plain": [
       "array([[50, 81, 49],\n",
       "       [52, 29,  4],\n",
       "       [77, 28, 60],\n",
       "       [50, 59, 88],\n",
       "       [87, 20, 45]])"
      ]
     },
     "execution_count": 36,
     "metadata": {},
     "output_type": "execute_result"
    }
   ],
   "source": [
    "u.reshape(5,3)"
   ]
  },
  {
   "cell_type": "code",
   "execution_count": 37,
   "metadata": {
    "collapsed": false
   },
   "outputs": [
    {
     "data": {
      "text/plain": [
       "array([[41, 22, 27],\n",
       "       [13, 80, 25],\n",
       "       [22, 51, 66],\n",
       "       [13, 20, 95],\n",
       "       [55, 64, 89]])"
      ]
     },
     "execution_count": 37,
     "metadata": {},
     "output_type": "execute_result"
    }
   ],
   "source": [
    "v.reshape(5,3)"
   ]
  },
  {
   "cell_type": "markdown",
   "metadata": {},
   "source": [
    "**Euclidean distance solver requires a one dimensional array**"
   ]
  },
  {
   "cell_type": "code",
   "execution_count": 40,
   "metadata": {
    "collapsed": false
   },
   "outputs": [
    {
     "data": {
      "text/plain": [
       "1"
      ]
     },
     "execution_count": 40,
     "metadata": {},
     "output_type": "execute_result"
    }
   ],
   "source": [
    "v.ndim"
   ]
  },
  {
   "cell_type": "code",
   "execution_count": 134,
   "metadata": {
    "collapsed": false
   },
   "outputs": [
    {
     "data": {
      "image/png": "[encoded data removed]",
      "text/plain": [
       "<matplotlib.figure.Figure at 0x109f6f510>"
      ]
     },
     "metadata": {},
     "output_type": "display_data"
    }
   ],
   "source": [
    "plt.plot(u, marker = '_', color = 'red', label='u')\n",
    "plt.plot(v, marker = ',', color = 'blue', label = 'v')\n",
    "plt.ylabel('Random Sample')\n",
    "plt.xlabel('Instance Value')\n",
    "plt.title('Euclidean Distance')\n",
    "plt.text(2, 90, scipy.spatial.distance.euclidean( u, v ))\n",
    "plt.legend()\n",
    "QED = plt.show()"
   ]
  },
  {
   "cell_type": "code",
   "execution_count": 159,
   "metadata": {
    "collapsed": false
   },
   "outputs": [],
   "source": [
    "def random_array( size, range_start, range_end ):\n",
    "    x = []\n",
    "    for i in range(0,size):\n",
    "        y = np.random.randint(range_start, range_end)\n",
    "        x.append(y)\n",
    "    return np.array(x)\n",
    "\n",
    "def euclidean_distance_value( u, v ):\n",
    "    return scipy.spatial.distance.euclidean( u, v )\n",
    "\n",
    "def draw_euclidean_distance_chart( u, v ):\n",
    "    plt.plot(u, marker = '_', color = 'red', label='u')\n",
    "    plt.plot(v, marker = ',', color = 'blue', label = 'v')\n",
    "    plt.ylabel('Random Sample')\n",
    "    plt.xlabel('Instance Value')\n",
    "    plt.title(scipy.spatial.distance.euclidean( u, v ))\n",
    "    #plt.text(1, 1, scipy.spatial.distance.euclidean( u, v ))\n",
    "    plt.legend()\n",
    "    QED = plt.show()\n",
    "    return QED\n",
    "\n",
    "def draw_euclidean_distance_chart_with_differnce( u, v ):\n",
    "    z = []\n",
    "    for a,b in zip(u,v):\n",
    "        z.append(abs(a-b))\n",
    "    plt.plot(u, marker = '_', color = 'red', label='u')\n",
    "    plt.plot(v, marker = ',', color = 'blue', label='v')\n",
    "    plt.plot(z, marker = '.', color = 'purple', label='diff')\n",
    "    plt.ylabel('Random Sample')\n",
    "    plt.xlabel('Instance Value')\n",
    "    plt.title(scipy.spatial.distance.euclidean( u, v ))\n",
    "    #plt.text(1, 1, scipy.spatial.distance.euclidean( u, v ))\n",
    "    plt.legend()\n",
    "    QED = plt.show()\n",
    "    return QED\n",
    "    "
   ]
  },
  {
   "cell_type": "markdown",
   "metadata": {},
   "source": [
    "##Examples"
   ]
  },
  {
   "cell_type": "code",
   "execution_count": 161,
   "metadata": {
    "collapsed": true
   },
   "outputs": [],
   "source": [
    "u = random_array(4,0,255)\n",
    "v = random_array(4,0,255)"
   ]
  },
  {
   "cell_type": "code",
   "execution_count": 162,
   "metadata": {
    "collapsed": false
   },
   "outputs": [
    {
     "data": {
      "text/plain": [
       "(array([105, 155, 227, 202]), array([ 49,  33, 199,  10]))"
      ]
     },
     "execution_count": 162,
     "metadata": {},
     "output_type": "execute_result"
    }
   ],
   "source": [
    "u,v"
   ]
  },
  {
   "cell_type": "code",
   "execution_count": 163,
   "metadata": {
    "collapsed": false
   },
   "outputs": [
    {
     "data": {
      "text/plain": [
       "235.94067050849881"
      ]
     },
     "execution_count": 163,
     "metadata": {},
     "output_type": "execute_result"
    }
   ],
   "source": [
    "euclidean_distance_value(u,v)"
   ]
  },
  {
   "cell_type": "code",
   "execution_count": 164,
   "metadata": {
    "collapsed": false
   },
   "outputs": [
    {
     "data": {
      "image/png": "[encoded data removed]",
      "text/plain": [
       "<matplotlib.figure.Figure at 0x109d93610>"
      ]
     },
     "metadata": {},
     "output_type": "display_data"
    }
   ],
   "source": [
    "draw_euclidean_distance_chart( u, v )"
   ]
  },
  {
   "cell_type": "code",
   "execution_count": 165,
   "metadata": {
    "collapsed": false
   },
   "outputs": [
    {
     "data": {
      "image/png": "[encoded data removed]",
      "text/plain": [
       "<matplotlib.figure.Figure at 0x108af4810>"
      ]
     },
     "metadata": {},
     "output_type": "display_data"
    }
   ],
   "source": [
    "draw_euclidean_distance_chart_with_differnce( u, v )"
   ]
  },
  {
   "cell_type": "code",
   "execution_count": 167,
   "metadata": {
    "collapsed": true
   },
   "outputs": [],
   "source": [
    "u2 = random_array(1024, 0, 64)\n",
    "v2 = random_array(1024, 0, 64)"
   ]
  },
  {
   "cell_type": "code",
   "execution_count": 168,
   "metadata": {
    "collapsed": false
   },
   "outputs": [
    {
     "data": {
      "text/plain": [
       "(array([14,  9, 19, ..., 13, 36,  5]), array([12, 54,  1, ..., 21, 24, 34]))"
      ]
     },
     "execution_count": 168,
     "metadata": {},
     "output_type": "execute_result"
    }
   ],
   "source": [
    "(u2,v2)"
   ]
  },
  {
   "cell_type": "code",
   "execution_count": 169,
   "metadata": {
    "collapsed": false
   },
   "outputs": [
    {
     "data": {
      "text/plain": [
       "851.10810124213947"
      ]
     },
     "execution_count": 169,
     "metadata": {},
     "output_type": "execute_result"
    }
   ],
   "source": [
    "euclidean_distance_value(u2, v2)"
   ]
  },
  {
   "cell_type": "code",
   "execution_count": 170,
   "metadata": {
    "collapsed": false
   },
   "outputs": [
    {
     "data": {
      "image/png": "[encoded data removed]",
      "text/plain": [
       "<matplotlib.figure.Figure at 0x10afcfd10>"
      ]
     },
     "metadata": {},
     "output_type": "display_data"
    }
   ],
   "source": [
    "draw_euclidean_distance_chart( u2, v2 )"
   ]
  },
  {
   "cell_type": "code",
   "execution_count": 171,
   "metadata": {
    "collapsed": false
   },
   "outputs": [
    {
     "data": {
      "image/png": "[encoded data removed]",
      "text/plain": [
       "<matplotlib.figure.Figure at 0x10afa3e10>"
      ]
     },
     "metadata": {},
     "output_type": "display_data"
    }
   ],
   "source": [
    "draw_euclidean_distance_chart_with_differnce( u2, v2 )"
   ]
  },
  {
   "cell_type": "code",
   "execution_count": 174,
   "metadata": {
    "collapsed": false
   },
   "outputs": [
    {
     "data": {
      "image/png": "[encoded data removed]",
      "text/plain": [
       "<matplotlib.figure.Figure at 0x109a43fd0>"
      ]
     },
     "metadata": {},
     "output_type": "display_data"
    }
   ],
   "source": [
    "variance = []\n",
    "for i in range(0,1024):\n",
    "    u = random_array(1024, 0, 64)\n",
    "    v = random_array(1024, 0, 64)\n",
    "    variance.append(euclidean_distance_value( u ,v ))\n",
    "plt.plot(variance, marker = ',', color = 'blue', label = 'Variance')\n",
    "plt.ylabel('Euclidean Distance')\n",
    "plt.xlabel('Iteration')\n",
    "plt.title('Base 64 at 1024 bits')\n",
    "#plt.text(2, 90, scipy.spatial.distance.euclidean( u, v ))\n",
    "plt.legend()\n",
    "QED = plt.show()"
   ]
  },
  {
   "cell_type": "code",
   "execution_count": 182,
   "metadata": {
    "collapsed": true
   },
   "outputs": [],
   "source": [
    "def test_distance(iterations, array_size, array_range_start, array_range_end):\n",
    "    variance = []\n",
    "    for i in range(0,iterations):\n",
    "        u = random_array(array_size, array_range_start, array_range_end)\n",
    "        v = random_array(array_size, array_range_start, array_range_end)\n",
    "        variance.append(euclidean_distance_value( u ,v ))\n",
    "    plt.plot(variance, marker = ',', color = 'blue', label = 'Variance')\n",
    "    plt.ylabel('Euclidean Distance')\n",
    "    plt.xlabel('Iteration')\n",
    "    plt.title('Base 64 at 1024 bits')\n",
    "    #plt.text(2, 90, scipy.spatial.distance.euclidean( u, v ))\n",
    "    plt.legend()\n",
    "    QED = plt.show()\n",
    "    return QED"
   ]
  },
  {
   "cell_type": "code",
   "execution_count": null,
   "metadata": {
    "collapsed": false
   },
   "outputs": [],
   "source": [
    "test_distance(1000000, 1024, 0, 1024)"
   ]
  }
 ],
 "metadata": {
  "kernelspec": {
   "display_name": "Python 2",
   "language": "python",
   "name": "python2"
  },
  "language_info": {
   "codemirror_mode": {
    "name": "ipython",
    "version": 2
   },
   "file_extension": ".py",
   "mimetype": "text/x-python",
   "name": "python",
   "nbconvert_exporter": "python",
   "pygments_lexer": "ipython2",
   "version": "2.7.9"
  }
 },
 "nbformat": 4,
 "nbformat_minor": 0
}
