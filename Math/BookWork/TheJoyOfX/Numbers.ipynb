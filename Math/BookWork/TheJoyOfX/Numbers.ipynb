{
 "cells": [
  {
   "cell_type": "markdown",
   "metadata": {},
   "source": [
    "# Summed Odds are Perfect Squares"
   ]
  },
  {
   "cell_type": "code",
   "execution_count": 1,
   "metadata": {
    "collapsed": true
   },
   "outputs": [],
   "source": [
    "import numpy as np\n",
    "import math"
   ]
  },
  {
   "cell_type": "code",
   "execution_count": 34,
   "metadata": {
    "collapsed": true
   },
   "outputs": [],
   "source": [
    "def sumOdds(length):\n",
    "    total = 0\n",
    "    squares = []\n",
    "    for i in range(length*2):\n",
    "        if i % 2 != 0:\n",
    "            total += i\n",
    "            squares.append(total)\n",
    "    return total, (math.sqrt(total)), squares"
   ]
  },
  {
   "cell_type": "code",
   "execution_count": 35,
   "metadata": {},
   "outputs": [
    {
     "data": {
      "text/plain": [
       "(25, 5.0, [1, 4, 9, 16, 25])"
      ]
     },
     "execution_count": 35,
     "metadata": {},
     "output_type": "execute_result"
    }
   ],
   "source": [
    "sumOdds(5)"
   ]
  },
  {
   "cell_type": "markdown",
   "metadata": {},
   "source": [
    "# Drawing Relationships"
   ]
  },
  {
   "cell_type": "code",
   "execution_count": 2,
   "metadata": {
    "collapsed": true
   },
   "outputs": [],
   "source": [
    "import networkx"
   ]
  },
  {
   "cell_type": "code",
   "execution_count": 3,
   "metadata": {
    "collapsed": true
   },
   "outputs": [],
   "source": [
    "import matplotlib.pyplot as plt"
   ]
  },
  {
   "cell_type": "code",
   "execution_count": 4,
   "metadata": {
    "collapsed": true
   },
   "outputs": [],
   "source": [
    "%matplotlib inline"
   ]
  },
  {
   "cell_type": "code",
   "execution_count": 169,
   "metadata": {
    "collapsed": true
   },
   "outputs": [],
   "source": [
    "def drawRelations(nodes, edges, node_labels, edge_labels):\n",
    "    proto = networkx.digraph.DiGraph()\n",
    "    proto.add_nodes_from(nodes)\n",
    "    layout = networkx.spring_layout(proto)\n",
    "    proto.add_edges_from(edges)\n",
    "    networkx.draw_networkx_nodes(proto, layout, node_size=800, node_color='g')\n",
    "    networkx.draw_networkx_edges(proto, layout)\n",
    "    networkx.draw_networkx_edge_labels(proto, layout, edge_labels=edge_labels )\n",
    "    networkx.draw_networkx_labels(proto, layout, node_labels)\n",
    "    plt.axis(\"off\")\n",
    "    plt.show()"
   ]
  },
  {
   "cell_type": "code",
   "execution_count": 173,
   "metadata": {},
   "outputs": [
    {
     "data": {
      "image/png": "[encoded data removed]",
      "text/plain": [
       "<matplotlib.figure.Figure at 0x200e06e9518>"
      ]
     },
     "metadata": {},
     "output_type": "display_data"
    }
   ],
   "source": [
    "drawRelations(nodes=[1,2,3,4,5],\n",
    "             edges = [(1,2),(1,3),(1,5),(2,4),(3,4)],\n",
    "             node_labels={1:'a',2:'b',3:'c',4:'d',5:'e'},\n",
    "             edge_labels={(1,2):'friendly', (1,3):'friendly', (1,5):'friendly', (2,4):'hostile', (3,4):'hostile'})"
   ]
  },
  {
   "cell_type": "markdown",
   "metadata": {
    "collapsed": true
   },
   "source": [
    "# Morse Code"
   ]
  },
  {
   "cell_type": "code",
   "execution_count": 38,
   "metadata": {
    "collapsed": true
   },
   "outputs": [],
   "source": [
    "morse = {\n",
    "    'a':'.-',\n",
    "    'b':'-..',\n",
    "    'c':'-.-.',\n",
    "    'd':'-..',\n",
    "    'e':'.',\n",
    "    'f':'..-.',\n",
    "    'g':'--.',\n",
    "    'h':'....',\n",
    "    'i':'..',\n",
    "    'j':'.---',\n",
    "    'k':'-.-',\n",
    "    'l':'.-..',\n",
    "    'm':'--',\n",
    "    'n':'-.',\n",
    "    'o':'---',\n",
    "    'p':'.--.',\n",
    "    'q':'--.-',\n",
    "    'r':'.-.',\n",
    "    's':'...',\n",
    "    't':'-',\n",
    "    'u':'..-',\n",
    "    'v':'...-',\n",
    "    'w':'.--',\n",
    "    'x':'-..-',\n",
    "    'y':'-.--',\n",
    "    'z':'--..',\n",
    "    '1':'.----',\n",
    "    '2':'..---',\n",
    "    '3':'...--',\n",
    "    '4':'....-',\n",
    "    '5':'.....',\n",
    "    '6':'-....',\n",
    "    '7':'--...',\n",
    "    '8':'---..',\n",
    "    '9':'----.',\n",
    "    '0':'-----',\n",
    "}\n",
    "def morser(msg, encode=True):\n",
    "    tx = ''\n",
    "    words = msg.split()\n",
    "    for word in words:\n",
    "        if encode == True:\n",
    "            for letter in word:\n",
    "                if letter.lower() in morse.keys():\n",
    "                    tx+=morse[letter.lower()] + ' '\n",
    "        else:\n",
    "            tx+=[c for c in morse.keys() if morse[c] == word][0] + ' '  \n",
    "        tx += ' '\n",
    "    return tx"
   ]
  },
  {
   "cell_type": "code",
   "execution_count": 39,
   "metadata": {},
   "outputs": [],
   "source": [
    "tx = morser('this is a message. This is only a message. 1 2 3 !?')"
   ]
  },
  {
   "cell_type": "code",
   "execution_count": 40,
   "metadata": {},
   "outputs": [
    {
     "data": {
      "text/plain": [
       "'- .... .. ...  .. ...  .-  -- . ... ... .- --. .  - .... .. ...  .. ...  --- -. .-.. -.--  .-  -- . ... ... .- --. .  .----  ..---  ...--   '"
      ]
     },
     "execution_count": 40,
     "metadata": {},
     "output_type": "execute_result"
    }
   ],
   "source": [
    "tx"
   ]
  },
  {
   "cell_type": "code",
   "execution_count": 41,
   "metadata": {},
   "outputs": [
    {
     "data": {
      "text/plain": [
       "'t  h  i  s  i  s  a  m  e  s  s  a  g  e  t  h  i  s  i  s  o  n  l  y  a  m  e  s  s  a  g  e  1  2  3  '"
      ]
     },
     "execution_count": 41,
     "metadata": {},
     "output_type": "execute_result"
    }
   ],
   "source": [
    "morser(tx, encode=False)"
   ]
  },
  {
   "cell_type": "code",
   "execution_count": 42,
   "metadata": {},
   "outputs": [
    {
     "data": {
      "text/plain": [
       "'.-- .... .- -  .... .- - ....  --. --- -..  .-- .-. --- ..- --. .... -  '"
      ]
     },
     "execution_count": 42,
     "metadata": {},
     "output_type": "execute_result"
    }
   ],
   "source": [
    "morser(\"What hath God wrought.\") "
   ]
  },
  {
   "cell_type": "code",
   "execution_count": null,
   "metadata": {
    "collapsed": true
   },
   "outputs": [],
   "source": []
  }
 ],
 "metadata": {
  "kernelspec": {
   "display_name": "Python 3",
   "language": "python",
   "name": "python3"
  },
  "language_info": {
   "codemirror_mode": {
    "name": "ipython",
    "version": 3
   },
   "file_extension": ".py",
   "mimetype": "text/x-python",
   "name": "python",
   "nbconvert_exporter": "python",
   "pygments_lexer": "ipython3",
   "version": "3.6.2"
  }
 },
 "nbformat": 4,
 "nbformat_minor": 2
}
