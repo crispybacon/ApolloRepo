{
 "cells": [
  {
   "cell_type": "markdown",
   "metadata": {},
   "source": [
    "https://en.wikipedia.org/wiki/Help:Displaying_a_formula"
   ]
  },
  {
   "cell_type": "code",
   "execution_count": 16,
   "metadata": {
    "collapsed": true
   },
   "outputs": [],
   "source": [
    "import wikipedia"
   ]
  },
  {
   "cell_type": "markdown",
   "metadata": {},
   "source": [
    "#Universal Gravitation Theory "
   ]
  },
  {
   "cell_type": "markdown",
   "metadata": {},
   "source": [
    "https://en.wikipedia.org/wiki/Newton%27s_law_of_universal_gravitation"
   ]
  },
  {
   "cell_type": "code",
   "execution_count": 7,
   "metadata": {
    "collapsed": false
   },
   "outputs": [],
   "source": [
    "from IPython.display import *"
   ]
  },
  {
   "cell_type": "code",
   "execution_count": 14,
   "metadata": {
    "collapsed": false
   },
   "outputs": [],
   "source": [
    "theory_markup = '\\Large F=\\Large G \\frac{m_{1} \\times m_{2}}{r^2}'"
   ]
  },
  {
   "cell_type": "markdown",
   "metadata": {},
   "source": [
    "$\\Large F=\\Large G \\frac{m_{1} \\times m_{2}}{r^2}$"
   ]
  },
  {
   "cell_type": "code",
   "execution_count": 21,
   "metadata": {
    "collapsed": true
   },
   "outputs": [],
   "source": [
    "description = '''Every point mass attracts every single other point mass by a force pointing along the \\\n",
    "line intersecting both points. The force is proportional to the product of the two masses and inversely \\\n",
    "proportional to the square of the distance between them.'''\n",
    "\n",
    "f = '''The force between the masses'''\n",
    "g = '''The Gravitational Constant'''\n",
    "m1 = '''The first masses'''\n",
    "m2 = '''The Second Mass'''\n",
    "r = '''The distance between the centers of the masses'''"
   ]
  },
  {
   "cell_type": "markdown",
   "metadata": {},
   "source": [
    "##Gravitational Constant\n",
    "$\\Large G=6.67384(80)\\times10^{-11} m^3kg^{-1}s^{-2}$"
   ]
  },
  {
   "cell_type": "markdown",
   "metadata": {},
   "source": [
    "https://en.wikipedia.org/wiki/Gravitational_constant"
   ]
  },
  {
   "cell_type": "code",
   "execution_count": 5,
   "metadata": {
    "collapsed": true
   },
   "outputs": [],
   "source": [
    "from enum import Enum"
   ]
  },
  {
   "cell_type": "code",
   "execution_count": 6,
   "metadata": {
    "collapsed": false
   },
   "outputs": [],
   "source": [
    "#From the Python Standard Lbrary Documentation \n",
    "#https://docs.python.org/3/library/enum.html\n",
    "class Planet(Enum):\n",
    "    MERCURY = (3.303e+23, 2.4397e6)\n",
    "    VENUS   = (4.869e+24, 6.0518e6)\n",
    "    EARTH   = (5.976e+24, 6.37814e6)\n",
    "    MARS    = (6.421e+23, 3.3972e6)\n",
    "    JUPITER = (1.9e+27,   7.1492e7)\n",
    "    SATURN  = (5.688e+26, 6.0268e7)\n",
    "    URANUS  = (8.686e+25, 2.5559e7)\n",
    "    NEPTUNE = (1.024e+26, 2.4746e7)\n",
    "    def __init__(self, mass, radius):\n",
    "        self.mass = mass       # in kilograms\n",
    "        self.radius = radius   # in meters\n",
    "    @property\n",
    "    def surface_gravity(self):\n",
    "        # universal gravitational constant  (m3 kg-1 s-2)\n",
    "        G = 6.67300E-11\n",
    "        return G * self.mass / (self.radius * self.radius)"
   ]
  },
  {
   "cell_type": "code",
   "execution_count": 7,
   "metadata": {
    "collapsed": true
   },
   "outputs": [],
   "source": [
    "#TODO\n",
    "#Define methods to produce the distance between two planets\n",
    "#Define methods to produce the distance between two points\n",
    "#Use Astropy"
   ]
  },
  {
   "cell_type": "code",
   "execution_count": 30,
   "metadata": {
    "collapsed": true
   },
   "outputs": [],
   "source": [
    "from astropy.constants import G"
   ]
  },
  {
   "cell_type": "code",
   "execution_count": 31,
   "metadata": {
    "collapsed": false
   },
   "outputs": [],
   "source": [
    "def universal_gravitation_theory(m1, m2, r):\n",
    "    return G*((m1 * m2)/(r * r))"
   ]
  },
  {
   "cell_type": "code",
   "execution_count": 10,
   "metadata": {
    "collapsed": false
   },
   "outputs": [
    {
     "data": {
      "text/plain": [
       "9.802652743337129"
      ]
     },
     "execution_count": 10,
     "metadata": {},
     "output_type": "execute_result"
    }
   ],
   "source": [
    "Planet.EARTH.surface_gravity"
   ]
  },
  {
   "cell_type": "code",
   "execution_count": 11,
   "metadata": {
    "collapsed": false
   },
   "outputs": [
    {
     "data": {
      "text/latex": [
       "$5.6879301 \\times 10^{24} \\; \\mathrm{\\frac{m^{3}}{kg\\,s^{2}}}$"
      ],
      "text/plain": [
       "<Quantity 5.687930110414712e+24 m3 / (kg s2)>"
      ]
     },
     "execution_count": 11,
     "metadata": {},
     "output_type": "execute_result"
    }
   ],
   "source": [
    "universal_gravitation_theory(Planet.EARTH.mass, Planet.JUPITER.mass, 365000000)"
   ]
  },
  {
   "cell_type": "code",
   "execution_count": 26,
   "metadata": {
    "collapsed": true
   },
   "outputs": [],
   "source": [
    "planets = [\n",
    "    'MERCURY',\n",
    "    'VENUS',\n",
    "    'MARS',\n",
    "    'JUPITER',\n",
    "    'SATURN',\n",
    "    'URANUS',\n",
    "    'NEPTUNE',\n",
    "]"
   ]
  },
  {
   "cell_type": "markdown",
   "metadata": {},
   "source": [
    "An AU is the distance from Earth to the Sun. \n",
    "Roughly 93 million miles. "
   ]
  },
  {
   "cell_type": "code",
   "execution_count": 36,
   "metadata": {
    "collapsed": true
   },
   "outputs": [],
   "source": [
    "#Distance between orbits in AU\n",
    "distances = { \n",
    "'MERCURY':0.39,\n",
    "'VENUS':0.72,\n",
    "'EARTH':1.0,\n",
    "'MARS':1.5,\n",
    "'JUPITER':5.2,\n",
    "'SATURN':9.5,\n",
    "'URANUS':19.2,\n",
    "'NEPTUNE':30.1,\n",
    "'PLUTO':39.5,\n",
    "    }"
   ]
  },
  {
   "cell_type": "code",
   "execution_count": 49,
   "metadata": {
    "collapsed": false
   },
   "outputs": [
    {
     "name": "stdout",
     "output_type": "stream",
     "text": [
      "('Planet: Planet.MERCURY.mass', 'Distance in Miles: 36270000.0')\n",
      "1.00138214133e+23 m3 / (kg s2)\n",
      "('Planet: Planet.VENUS.mass', 'Distance in Miles: 66960000.0')\n",
      "4.33107060816e+23 m3 / (kg s2)\n",
      "('Planet: Planet.MARS.mass', 'Distance in Miles: 139500000.0')\n",
      "1.31595377449e+22 m3 / (kg s2)\n",
      "('Planet: Planet.JUPITER.mass', 'Distance in Miles: 483600000.0')\n",
      "3.24016701045e+24 m3 / (kg s2)\n",
      "('Planet: Planet.SATURN.mass', 'Distance in Miles: 883500000.0')\n",
      "2.90624925846e+23 m3 / (kg s2)\n",
      "('Planet: Planet.URANUS.mass', 'Distance in Miles: 1785600000.0')\n",
      "1.08652031257e+22 m3 / (kg s2)\n",
      "('Planet: Planet.NEPTUNE.mass', 'Distance in Miles: 2799300000.0')\n",
      "5.21179647405e+21 m3 / (kg s2)\n"
     ]
    }
   ],
   "source": [
    "gravitic_constants = {}\n",
    "for planet in planets:\n",
    "    dest = 'Planet.' + planet + '.mass'\n",
    "    distance_in_miles = distances[planet] * 93000000\n",
    "    print('Planet: ' + dest, 'Distance in Miles: ' + str(distance_in_miles))\n",
    "    lpG = approximate_pull_by_orbital_distance = universal_gravitation_theory(Planet.EARTH.mass, eval(dest), distance_in_miles )\n",
    "    gravitic_constants[planet] = {'distance':distances[planet] *93000000, 'linear_gravity_from_earth': lpG }\n",
    "    print(lpG)"
   ]
  },
  {
   "cell_type": "code",
   "execution_count": 33,
   "metadata": {
    "collapsed": false
   },
   "outputs": [
    {
     "data": {
      "text/latex": [
       "$1.9466772 \\times 10^{23} \\; \\mathrm{\\frac{m^{3}}{kg\\,s^{2}}}$"
      ],
      "text/plain": [
       "<Quantity 1.9466771812016437e+23 m3 / (kg s2)>"
      ]
     },
     "execution_count": 33,
     "metadata": {},
     "output_type": "execute_result"
    }
   ],
   "source": [
    "universal_gravitation_theory(Planet.EARTH.mass, Planet.MARS.mass, distance_in_miles )"
   ]
  },
  {
   "cell_type": "code",
   "execution_count": 38,
   "metadata": {
    "collapsed": false
   },
   "outputs": [
    {
     "data": {
      "text/plain": [
       "1.5"
      ]
     },
     "execution_count": 38,
     "metadata": {},
     "output_type": "execute_result"
    }
   ],
   "source": [
    "distances['MARS']"
   ]
  },
  {
   "cell_type": "code",
   "execution_count": 45,
   "metadata": {
    "collapsed": false
   },
   "outputs": [
    {
     "data": {
      "text/plain": [
       "36270000.0"
      ]
     },
     "execution_count": 45,
     "metadata": {},
     "output_type": "execute_result"
    }
   ],
   "source": [
    "distances['MERCURY'] * 93000000"
   ]
  },
  {
   "cell_type": "code",
   "execution_count": 53,
   "metadata": {
    "collapsed": false
   },
   "outputs": [
    {
     "data": {
      "text/latex": [
       "$3.240167 \\times 10^{24} \\; \\mathrm{\\frac{m^{3}}{kg\\,s^{2}}}$"
      ],
      "text/plain": [
       "<Quantity 3.240167010448929e+24 m3 / (kg s2)>"
      ]
     },
     "execution_count": 53,
     "metadata": {},
     "output_type": "execute_result"
    }
   ],
   "source": [
    "gravitic_constants['JUPITER']['linear_gravity_from_earth']"
   ]
  }
 ],
 "metadata": {
  "kernelspec": {
   "display_name": "Python 2",
   "language": "python",
   "name": "python2"
  },
  "language_info": {
   "codemirror_mode": {
    "name": "ipython",
    "version": 2
   },
   "file_extension": ".py",
   "mimetype": "text/x-python",
   "name": "python",
   "nbconvert_exporter": "python",
   "pygments_lexer": "ipython2",
   "version": "2.7.9"
  }
 },
 "nbformat": 4,
 "nbformat_minor": 0
}
