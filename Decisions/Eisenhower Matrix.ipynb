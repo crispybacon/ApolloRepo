{
 "cells": [
  {
   "cell_type": "markdown",
   "metadata": {},
   "source": [
    "# Decisions #1 \"The Eisenhower Matrix\""
   ]
  },
  {
   "cell_type": "markdown",
   "metadata": {},
   "source": [
    "The Eisenhower Matrix is a decision Model that contrasts the importance and urgency of an issue in order to make a decision about the execution precedence of a chain of events."
   ]
  },
  {
   "cell_type": "code",
   "execution_count": 1,
   "metadata": {
    "collapsed": true
   },
   "outputs": [],
   "source": [
    "import matplotlib.pyplot as plt"
   ]
  },
  {
   "cell_type": "code",
   "execution_count": 2,
   "metadata": {
    "collapsed": true
   },
   "outputs": [],
   "source": [
    "import random"
   ]
  },
  {
   "cell_type": "code",
   "execution_count": 3,
   "metadata": {
    "collapsed": false
   },
   "outputs": [],
   "source": [
    "def eisenhowerMatrix(x,y,display=True):\n",
    "    i=0\n",
    "    decisions = {}\n",
    "    for a,b in zip(x,y):\n",
    "        i+=1\n",
    "        if a>=-50 and a<=-1 and b >= -50 and b<=-1:\n",
    "            decisions[i]={'Do it Later':(a,b)}\n",
    "        elif a>=-50 and a<=-1 and b >= 0 and b<=50:\n",
    "            decisions[i]={'Decide When':(a,b)}\n",
    "        elif a>=0 and a <= 50 and b>=-50 and b<=-1:\n",
    "            decisions[i]={'Delegate to Someone Else':(a,b)}\n",
    "        elif a>=0 and a<=50 and b>=0 and b<=50:\n",
    "            decisions[i]={'Do it Now':(a,b)}\n",
    "    i=0\n",
    "    if display==True:\n",
    "        plt.xlim([-50,50])\n",
    "        plt.ylim([-50,50])\n",
    "        plt.plot([-50,50], linewidth=1, color='black' )\n",
    "        plt.plot([-50,50], [0,0], linewidth=1, color='black' )\n",
    "        plt.xlabel('Urgency')\n",
    "        plt.ylabel('Importance')\n",
    "        plt.annotate('Do it Later', xy=(-25, 25), xytext=(-33, -25))\n",
    "        plt.annotate('Delegate to Someone Else', xy=(25, -25), xytext=(5, -25))\n",
    "        plt.annotate('Decide When', xy=(-25, 25), xytext=(-33, 25))\n",
    "        plt.annotate('Do it Now', xy=(25, 25), xytext=(15, 25))\n",
    "        plt.title('Eisenhower Decision Matrix')\n",
    "        plt.plot(x,y,'x', color='red')\n",
    "        for a,b in zip(x,y):\n",
    "            i+=1\n",
    "            plt.annotate(i, xy=(a,b), textcoords='data')\n",
    "        plt.show()\n",
    "        plt.close()\n",
    "    return decisions"
   ]
  },
  {
   "cell_type": "code",
   "execution_count": 4,
   "metadata": {
    "collapsed": false
   },
   "outputs": [
    {
     "data": {
      "image/png": "[encoded data removed]",
      "text/plain": [
       "<matplotlib.figure.Figure at 0x7f043bf15828>"
      ]
     },
     "metadata": {},
     "output_type": "display_data"
    },
    {
     "data": {
      "text/plain": [
       "{1: {'Decide When': (-27, 3)},\n",
       " 2: {'Delegate to Someone Else': (6, -42)},\n",
       " 3: {'Do it Later': (-30, -18)},\n",
       " 4: {'Do it Now': (9, 21)}}"
      ]
     },
     "execution_count": 4,
     "metadata": {},
     "output_type": "execute_result"
    }
   ],
   "source": [
    "x = [-27, 6, -30, 9]\n",
    "y = [3, -42, -18, 21]\n",
    "eisenhowerMatrix(x,y)"
   ]
  },
  {
   "cell_type": "markdown",
   "metadata": {},
   "source": [
    "#### Cursory test for errors"
   ]
  },
  {
   "cell_type": "code",
   "execution_count": 5,
   "metadata": {
    "collapsed": false
   },
   "outputs": [],
   "source": [
    "testResults=[]\n",
    "for i in range(1000):\n",
    "    x = [random.choice(range(-50,50)) for y in range(25)]\n",
    "    y = [random.choice(range(-50,50)) for y in range(25)]\n",
    "    testResults.append(eisenhowerMatrix(x,y, display=False))"
   ]
  },
  {
   "cell_type": "code",
   "execution_count": 6,
   "metadata": {
    "collapsed": false
   },
   "outputs": [
    {
     "data": {
      "text/plain": [
       "1000"
      ]
     },
     "execution_count": 6,
     "metadata": {},
     "output_type": "execute_result"
    }
   ],
   "source": [
    "len(testResults)"
   ]
  },
  {
   "cell_type": "code",
   "execution_count": 7,
   "metadata": {
    "collapsed": false
   },
   "outputs": [
    {
     "name": "stdout",
     "output_type": "stream",
     "text": [
      "1 loop, best of 3: 223 ms per loop\n"
     ]
    }
   ],
   "source": [
    "%%timeit\n",
    "testResults=[]\n",
    "for i in range(1000):\n",
    "    x = [random.choice(range(-50,50)) for y in range(25)]\n",
    "    y = [random.choice(range(-50,50)) for y in range(25)]\n",
    "    testResults.append(eisenhowerMatrix(x,y, display=False))"
   ]
  },
  {
   "cell_type": "markdown",
   "metadata": {},
   "source": [
    "With the Wisdom of Mr. Eisenhower in hand, all that is left for team Apollo   \n",
    "is to determine numeric values for urgency and importance in whatever issue is being assessed.    \n",
    "Importance is determined by the relationship between the task being assessed and its impact   \n",
    "to the percentage of the total units of what is being measured.  \n",
    "Urgency is determined by measuring the importance of the task as compared to the amount of time  \n",
    "remaining to complete the task.  "
   ]
  },
  {
   "cell_type": "code",
   "execution_count": null,
   "metadata": {
    "collapsed": true
   },
   "outputs": [],
   "source": []
  }
 ],
 "metadata": {
  "kernelspec": {
   "display_name": "Python 3",
   "language": "python",
   "name": "python3"
  },
  "language_info": {
   "codemirror_mode": {
    "name": "ipython",
    "version": 3
   },
   "file_extension": ".py",
   "mimetype": "text/x-python",
   "name": "python",
   "nbconvert_exporter": "python",
   "pygments_lexer": "ipython3",
   "version": "3.6.0"
  }
 },
 "nbformat": 4,
 "nbformat_minor": 2
}
