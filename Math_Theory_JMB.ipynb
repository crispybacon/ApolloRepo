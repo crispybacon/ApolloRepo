{
 "cells": [
  {
   "cell_type": "markdown",
   "id": "8fcf36d7-b478-4db2-bf0d-175443854fe6",
   "metadata": {},
   "source": [
    "# Math Theory Jesse Bacon (LangChain Example by Googe Vertex Code Bison)"
   ]
  },
  {
   "cell_type": "code",
   "execution_count": null,
   "id": "efc0fd8a-a252-43cb-b8ae-a09ef9bf93a9",
   "metadata": {},
   "outputs": [],
   "source": [
    "import matplotlib.pyplot as plt\n",
    "\n",
    "# Define the function to calculate pi using the base 4 system of numerals\n",
    "def calculate_pi_base_4(n):\n",
    "    \"\"\"\n",
    "    Calculates the value of pi using the base 4 system of numerals.\n",
    "\n",
    "    Args:\n",
    "        n: The number of iterations to use.\n",
    "\n",
    "    Returns:\n",
    "        The value of pi calculated using the base 4 system of numerals.\n",
    "    \"\"\"\n",
    "\n",
    "    # Initialize the variables\n",
    "    q, r, t, k, n, l = 1, 0, 1, 1, 0, 3\n",
    "    decimal = list()\n",
    "\n",
    "    # Iterate n times\n",
    "    while n < 50:\n",
    "\n",
    "        if 4 * q + r - t < n * t:\n",
    "            # yield digit\n",
    "            yield n\n",
    "            # insert period here if needed\n",
    "            if int(4 * q + r - t) == int(t * n):\n",
    "                decimal.append('.')\n",
    "            nr = 10 * (r - n * t)\n",
    "            n = ((10 * (3 * q + r)) // t) - 10 * n\n",
    "            q *= 10\n",
    "            r = nr\n",
    "\n",
    "        else:\n",
    "            nr = (2 * q + r) * l\n",
    "            nn = (q * (7 * k) + 2 + (r * l)) // (t * l)\n",
    "            q *= k\n",
    "            t *= l\n",
    "            l += 2\n",
    "            k += 1\n",
    "            n = nn\n",
    "            r = nr\n",
    "\n",
    "# Calculate pi using the base 4 system of numerals\n",
    "pi_base_4 = [d for d in calculate_pi_base_4(1000)]\n",
    "\n",
    "# Display the result in a matplotlib plot\n",
    "plt.plot(pi_base_4)\n",
    "plt.show()\n"
   ]
  },
  {
   "cell_type": "code",
   "execution_count": null,
   "id": "5f9f2ab8-1986-4df2-8cda-f0e88353b794",
   "metadata": {},
   "outputs": [],
   "source": []
  }
 ],
 "metadata": {
  "kernelspec": {
   "display_name": "Python 3 (ipykernel)",
   "language": "python",
   "name": "python3"
  },
  "language_info": {
   "codemirror_mode": {
    "name": "ipython",
    "version": 3
   },
   "file_extension": ".py",
   "mimetype": "text/x-python",
   "name": "python",
   "nbconvert_exporter": "python",
   "pygments_lexer": "ipython3",
   "version": "3.10.12"
  }
 },
 "nbformat": 4,
 "nbformat_minor": 5
}
