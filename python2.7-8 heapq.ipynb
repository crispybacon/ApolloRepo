{
 "cells": [
  {
   "cell_type": "markdown",
   "metadata": {},
   "source": [
    "#heapq"
   ]
  },
  {
   "cell_type": "markdown",
   "metadata": {},
   "source": [
    "** Heaps are binary trees for which every parent node has a value less than or equal to any of its children. This implementation uses arrays for which heap[k] <= heap[2*k+1] and heap[k] <= heap[2*k+2] for all k, counting elements from zero. For the sake of comparison, non-existing elements are considered to be infinite. The interesting property of a heap is that its smallest element is always the root, heap[0].**"
   ]
  },
  {
   "cell_type": "code",
   "execution_count": 5,
   "metadata": {
    "collapsed": false
   },
   "outputs": [],
   "source": [
    "import heapq"
   ]
  },
  {
   "cell_type": "code",
   "execution_count": 2,
   "metadata": {
    "collapsed": true
   },
   "outputs": [],
   "source": [
    "colors = ['red', 'blue', 'green']\n",
    "pix = []\n",
    "pairs = ( (\"1\",\"1\"), (\"1\",\"2\"), (\"2\",\"1\"), (\"2\",\"2\"), )"
   ]
  },
  {
   "cell_type": "markdown",
   "metadata": {},
   "source": [
    "##heappush(heap, item)"
   ]
  },
  {
   "cell_type": "code",
   "execution_count": 7,
   "metadata": {
    "collapsed": false
   },
   "outputs": [],
   "source": [
    "for pair in pairs:\n",
    "    heapq.heappush(pix, pair)"
   ]
  },
  {
   "cell_type": "code",
   "execution_count": 8,
   "metadata": {
    "collapsed": false
   },
   "outputs": [
    {
     "data": {
      "text/plain": [
       "[('1', '1'), ('1', '2'), ('2', '1'), ('2', '2')]"
      ]
     },
     "execution_count": 8,
     "metadata": {},
     "output_type": "execute_result"
    }
   ],
   "source": [
    "pix"
   ]
  },
  {
   "cell_type": "code",
   "execution_count": 9,
   "metadata": {
    "collapsed": false
   },
   "outputs": [
    {
     "data": {
      "text/plain": [
       "('1', '1')"
      ]
     },
     "execution_count": 9,
     "metadata": {},
     "output_type": "execute_result"
    }
   ],
   "source": [
    "pix[0]"
   ]
  },
  {
   "cell_type": "code",
   "execution_count": 10,
   "metadata": {
    "collapsed": false
   },
   "outputs": [
    {
     "data": {
      "text/plain": [
       "'1'"
      ]
     },
     "execution_count": 10,
     "metadata": {},
     "output_type": "execute_result"
    }
   ],
   "source": [
    "pix[0][1]"
   ]
  },
  {
   "cell_type": "markdown",
   "metadata": {},
   "source": [
    "##heappop(heap)"
   ]
  },
  {
   "cell_type": "code",
   "execution_count": 11,
   "metadata": {
    "collapsed": false
   },
   "outputs": [
    {
     "data": {
      "text/plain": [
       "('1', '1')"
      ]
     },
     "execution_count": 11,
     "metadata": {},
     "output_type": "execute_result"
    }
   ],
   "source": [
    "heapq.heappop(pix)"
   ]
  },
  {
   "cell_type": "code",
   "execution_count": 12,
   "metadata": {
    "collapsed": false
   },
   "outputs": [
    {
     "data": {
      "text/plain": [
       "[('1', '2'), ('2', '2'), ('2', '1')]"
      ]
     },
     "execution_count": 12,
     "metadata": {},
     "output_type": "execute_result"
    }
   ],
   "source": [
    "pix"
   ]
  },
  {
   "cell_type": "code",
   "execution_count": 13,
   "metadata": {
    "collapsed": false
   },
   "outputs": [
    {
     "data": {
      "text/plain": [
       "('1', '2')"
      ]
     },
     "execution_count": 13,
     "metadata": {},
     "output_type": "execute_result"
    }
   ],
   "source": [
    "heapq.heappop([pix[0]])"
   ]
  },
  {
   "cell_type": "code",
   "execution_count": 14,
   "metadata": {
    "collapsed": false
   },
   "outputs": [
    {
     "data": {
      "text/plain": [
       "[('1', '2'), ('2', '2'), ('2', '1')]"
      ]
     },
     "execution_count": 14,
     "metadata": {},
     "output_type": "execute_result"
    }
   ],
   "source": [
    "pix"
   ]
  },
  {
   "cell_type": "markdown",
   "metadata": {},
   "source": [
    "**the root will not pop**"
   ]
  },
  {
   "cell_type": "code",
   "execution_count": 15,
   "metadata": {
    "collapsed": false
   },
   "outputs": [
    {
     "data": {
      "text/plain": [
       "(1, 0)"
      ]
     },
     "execution_count": 15,
     "metadata": {},
     "output_type": "execute_result"
    }
   ],
   "source": [
    "heapq.heappushpop(pix, (1,0))"
   ]
  },
  {
   "cell_type": "code",
   "execution_count": 16,
   "metadata": {
    "collapsed": false
   },
   "outputs": [
    {
     "data": {
      "text/plain": [
       "[('1', '2'), ('2', '2'), ('2', '1')]"
      ]
     },
     "execution_count": 16,
     "metadata": {},
     "output_type": "execute_result"
    }
   ],
   "source": [
    "pix"
   ]
  },
  {
   "cell_type": "code",
   "execution_count": 19,
   "metadata": {
    "collapsed": false
   },
   "outputs": [
    {
     "data": {
      "text/plain": [
       "('1', '2')"
      ]
     },
     "execution_count": 19,
     "metadata": {},
     "output_type": "execute_result"
    }
   ],
   "source": [
    "heapq.heappushpop(pix, ('3', '3') )"
   ]
  },
  {
   "cell_type": "code",
   "execution_count": 20,
   "metadata": {
    "collapsed": false
   },
   "outputs": [
    {
     "data": {
      "text/plain": [
       "[('2', '1'), ('2', '2'), ('3', '3')]"
      ]
     },
     "execution_count": 20,
     "metadata": {},
     "output_type": "execute_result"
    }
   ],
   "source": [
    "pix"
   ]
  },
  {
   "cell_type": "code",
   "execution_count": 21,
   "metadata": {
    "collapsed": true
   },
   "outputs": [],
   "source": [
    "heapq.heappush( pix, ('4','4') )"
   ]
  },
  {
   "cell_type": "code",
   "execution_count": 22,
   "metadata": {
    "collapsed": false
   },
   "outputs": [
    {
     "data": {
      "text/plain": [
       "[('2', '1'), ('2', '2'), ('3', '3'), ('4', '4')]"
      ]
     },
     "execution_count": 22,
     "metadata": {},
     "output_type": "execute_result"
    }
   ],
   "source": [
    "pix"
   ]
  },
  {
   "cell_type": "code",
   "execution_count": 23,
   "metadata": {
    "collapsed": false
   },
   "outputs": [
    {
     "data": {
      "text/plain": [
       "('2', '1')"
      ]
     },
     "execution_count": 23,
     "metadata": {},
     "output_type": "execute_result"
    }
   ],
   "source": [
    "heapq.heappushpop(pix, ('4', '5') )"
   ]
  },
  {
   "cell_type": "code",
   "execution_count": 24,
   "metadata": {
    "collapsed": false
   },
   "outputs": [
    {
     "data": {
      "text/plain": [
       "[('2', '2'), ('4', '4'), ('3', '3'), ('4', '5')]"
      ]
     },
     "execution_count": 24,
     "metadata": {},
     "output_type": "execute_result"
    }
   ],
   "source": [
    "pix"
   ]
  },
  {
   "cell_type": "code",
   "execution_count": 26,
   "metadata": {
    "collapsed": false
   },
   "outputs": [],
   "source": [
    "pix.sort()"
   ]
  },
  {
   "cell_type": "code",
   "execution_count": 27,
   "metadata": {
    "collapsed": false
   },
   "outputs": [
    {
     "data": {
      "text/plain": [
       "[('2', '2'), ('3', '3'), ('4', '4'), ('4', '5')]"
      ]
     },
     "execution_count": 27,
     "metadata": {},
     "output_type": "execute_result"
    }
   ],
   "source": [
    "pix"
   ]
  },
  {
   "cell_type": "markdown",
   "metadata": {},
   "source": [
    "##heapify(list)"
   ]
  },
  {
   "cell_type": "code",
   "execution_count": 28,
   "metadata": {
    "collapsed": true
   },
   "outputs": [],
   "source": [
    "heapq.heapify(colors)"
   ]
  },
  {
   "cell_type": "code",
   "execution_count": 29,
   "metadata": {
    "collapsed": false
   },
   "outputs": [
    {
     "data": {
      "text/plain": [
       "['blue', 'red', 'green']"
      ]
     },
     "execution_count": 29,
     "metadata": {},
     "output_type": "execute_result"
    }
   ],
   "source": [
    "colors"
   ]
  },
  {
   "cell_type": "code",
   "execution_count": 30,
   "metadata": {
    "collapsed": false
   },
   "outputs": [
    {
     "data": {
      "text/plain": [
       "('2', '2')"
      ]
     },
     "execution_count": 30,
     "metadata": {},
     "output_type": "execute_result"
    }
   ],
   "source": [
    "heapq.heapreplace(pix, ('5', '5') )"
   ]
  },
  {
   "cell_type": "code",
   "execution_count": 31,
   "metadata": {
    "collapsed": false
   },
   "outputs": [
    {
     "data": {
      "text/plain": [
       "[('3', '3'), ('4', '5'), ('4', '4'), ('5', '5')]"
      ]
     },
     "execution_count": 31,
     "metadata": {},
     "output_type": "execute_result"
    }
   ],
   "source": [
    "pix"
   ]
  },
  {
   "cell_type": "code",
   "execution_count": 32,
   "metadata": {
    "collapsed": false
   },
   "outputs": [
    {
     "data": {
      "text/plain": [
       "'blue'"
      ]
     },
     "execution_count": 32,
     "metadata": {},
     "output_type": "execute_result"
    }
   ],
   "source": [
    "heapq.heapreplace(colors, 'purple')"
   ]
  },
  {
   "cell_type": "code",
   "execution_count": 34,
   "metadata": {
    "collapsed": false
   },
   "outputs": [
    {
     "data": {
      "text/plain": [
       "'green'"
      ]
     },
     "execution_count": 34,
     "metadata": {},
     "output_type": "execute_result"
    }
   ],
   "source": [
    "heapq.heapreplace(colors, 'brown')"
   ]
  },
  {
   "cell_type": "code",
   "execution_count": 35,
   "metadata": {
    "collapsed": false
   },
   "outputs": [
    {
     "data": {
      "text/plain": [
       "['brown', 'red', 'purple']"
      ]
     },
     "execution_count": 35,
     "metadata": {},
     "output_type": "execute_result"
    }
   ],
   "source": [
    "colors"
   ]
  },
  {
   "cell_type": "code",
   "execution_count": 36,
   "metadata": {
    "collapsed": true
   },
   "outputs": [],
   "source": [
    "colors.sort()"
   ]
  },
  {
   "cell_type": "code",
   "execution_count": 37,
   "metadata": {
    "collapsed": false
   },
   "outputs": [
    {
     "data": {
      "text/plain": [
       "['brown', 'purple', 'red']"
      ]
     },
     "execution_count": 37,
     "metadata": {},
     "output_type": "execute_result"
    }
   ],
   "source": [
    "colors"
   ]
  },
  {
   "cell_type": "markdown",
   "metadata": {},
   "source": [
    "##merge()"
   ]
  },
  {
   "cell_type": "code",
   "execution_count": 39,
   "metadata": {
    "collapsed": false
   },
   "outputs": [],
   "source": [
    "keys = heapq.merge(pix)"
   ]
  },
  {
   "cell_type": "code",
   "execution_count": 40,
   "metadata": {
    "collapsed": false
   },
   "outputs": [
    {
     "data": {
      "text/plain": [
       "('3', '3')"
      ]
     },
     "execution_count": 40,
     "metadata": {},
     "output_type": "execute_result"
    }
   ],
   "source": [
    "keys.next()"
   ]
  },
  {
   "cell_type": "code",
   "execution_count": 41,
   "metadata": {
    "collapsed": false
   },
   "outputs": [
    {
     "data": {
      "text/plain": [
       "('4', '5')"
      ]
     },
     "execution_count": 41,
     "metadata": {},
     "output_type": "execute_result"
    }
   ],
   "source": [
    "keys.next()"
   ]
  },
  {
   "cell_type": "markdown",
   "metadata": {},
   "source": [
    "##nlargest(n, iterable, [key])"
   ]
  },
  {
   "cell_type": "code",
   "execution_count": 46,
   "metadata": {
    "collapsed": false
   },
   "outputs": [
    {
     "data": {
      "text/plain": [
       "[('5', '5'), ('4', '5')]"
      ]
     },
     "execution_count": 46,
     "metadata": {},
     "output_type": "execute_result"
    }
   ],
   "source": [
    "heapq.nlargest(2, pix)"
   ]
  },
  {
   "cell_type": "code",
   "execution_count": 51,
   "metadata": {
    "collapsed": false
   },
   "outputs": [
    {
     "data": {
      "text/plain": [
       "[('5', '5'), ('4', '5')]"
      ]
     },
     "execution_count": 51,
     "metadata": {},
     "output_type": "execute_result"
    }
   ],
   "source": [
    "heapq.nlargest(2, pix, str)"
   ]
  },
  {
   "cell_type": "markdown",
   "metadata": {},
   "source": [
    "##nsmallest(n, iterable, [key])"
   ]
  },
  {
   "cell_type": "code",
   "execution_count": 54,
   "metadata": {
    "collapsed": false
   },
   "outputs": [
    {
     "data": {
      "text/plain": [
       "[('3', '3')]"
      ]
     },
     "execution_count": 54,
     "metadata": {},
     "output_type": "execute_result"
    }
   ],
   "source": [
    "heapq.nsmallest(1, pix)"
   ]
  },
  {
   "cell_type": "markdown",
   "metadata": {},
   "source": [
    "**Notes in the standard Library here detail how to implement a task que using heaps.**"
   ]
  },
  {
   "cell_type": "markdown",
   "metadata": {
    "collapsed": true
   },
   "source": [
    "#bisect"
   ]
  },
  {
   "cell_type": "code",
   "execution_count": 1,
   "metadata": {
    "collapsed": true
   },
   "outputs": [],
   "source": [
    "import bisect"
   ]
  },
  {
   "cell_type": "code",
   "execution_count": 31,
   "metadata": {
    "collapsed": false
   },
   "outputs": [],
   "source": [
    "memories = [ 5, 7, 11, 19, 23, 99, 99, 23, 19, 11, 7, 5 ]"
   ]
  },
  {
   "cell_type": "markdown",
   "metadata": {},
   "source": [
    "##bisect_left"
   ]
  },
  {
   "cell_type": "code",
   "execution_count": 11,
   "metadata": {
    "collapsed": false
   },
   "outputs": [
    {
     "data": {
      "text/plain": [
       "2"
      ]
     },
     "execution_count": 11,
     "metadata": {},
     "output_type": "execute_result"
    }
   ],
   "source": [
    "bisect.bisect_left(memories, 11)"
   ]
  },
  {
   "cell_type": "code",
   "execution_count": 12,
   "metadata": {
    "collapsed": false
   },
   "outputs": [
    {
     "data": {
      "text/plain": [
       "2"
      ]
     },
     "execution_count": 12,
     "metadata": {},
     "output_type": "execute_result"
    }
   ],
   "source": [
    "bisect.bisect_left(memories, 11)"
   ]
  },
  {
   "cell_type": "code",
   "execution_count": 32,
   "metadata": {
    "collapsed": true
   },
   "outputs": [],
   "source": [
    "memories = [ 5, 7, 19, 23, 99, 99, 23, 19, 11, 7, 5 ]"
   ]
  },
  {
   "cell_type": "code",
   "execution_count": 25,
   "metadata": {
    "collapsed": false
   },
   "outputs": [
    {
     "data": {
      "text/plain": [
       "2"
      ]
     },
     "execution_count": 25,
     "metadata": {},
     "output_type": "execute_result"
    }
   ],
   "source": [
    "bisect.bisect_left(memories, 11)"
   ]
  },
  {
   "cell_type": "code",
   "execution_count": 33,
   "metadata": {
    "collapsed": true
   },
   "outputs": [],
   "source": [
    "memories = [1, 2, 3, 4, 5]"
   ]
  },
  {
   "cell_type": "code",
   "execution_count": 28,
   "metadata": {
    "collapsed": false
   },
   "outputs": [
    {
     "data": {
      "text/plain": [
       "2"
      ]
     },
     "execution_count": 28,
     "metadata": {},
     "output_type": "execute_result"
    }
   ],
   "source": [
    "bisect.bisect_left(memories, 3)"
   ]
  },
  {
   "cell_type": "code",
   "execution_count": 34,
   "metadata": {
    "collapsed": true
   },
   "outputs": [],
   "source": [
    "memories = [1, 2, 4, 5]"
   ]
  },
  {
   "cell_type": "code",
   "execution_count": 30,
   "metadata": {
    "collapsed": false
   },
   "outputs": [
    {
     "data": {
      "text/plain": [
       "2"
      ]
     },
     "execution_count": 30,
     "metadata": {},
     "output_type": "execute_result"
    }
   ],
   "source": [
    "bisect.bisect_left(memories, 3)"
   ]
  },
  {
   "cell_type": "markdown",
   "metadata": {},
   "source": [
    "##bisect(a, x, lo=0, hi=len(a))"
   ]
  },
  {
   "cell_type": "code",
   "execution_count": 35,
   "metadata": {
    "collapsed": true
   },
   "outputs": [],
   "source": [
    "memories = [ 5, 7, 19, 23, 99, 99, 23, 19, 11, 7, 5 ]"
   ]
  },
  {
   "cell_type": "code",
   "execution_count": 13,
   "metadata": {
    "collapsed": true
   },
   "outputs": [],
   "source": [
    "example = bisect.bisect(memories, 19)"
   ]
  },
  {
   "cell_type": "code",
   "execution_count": 14,
   "metadata": {
    "collapsed": false
   },
   "outputs": [
    {
     "data": {
      "text/plain": [
       "4"
      ]
     },
     "execution_count": 14,
     "metadata": {},
     "output_type": "execute_result"
    }
   ],
   "source": [
    "example"
   ]
  },
  {
   "cell_type": "code",
   "execution_count": 18,
   "metadata": {
    "collapsed": false
   },
   "outputs": [
    {
     "data": {
      "text/plain": [
       "4"
      ]
     },
     "execution_count": 18,
     "metadata": {},
     "output_type": "execute_result"
    }
   ],
   "source": [
    "bisect.bisect(memories, 19 , 0, 11)"
   ]
  },
  {
   "cell_type": "markdown",
   "metadata": {},
   "source": [
    "##bisect_right"
   ]
  },
  {
   "cell_type": "code",
   "execution_count": 19,
   "metadata": {
    "collapsed": false
   },
   "outputs": [
    {
     "data": {
      "text/plain": [
       "4"
      ]
     },
     "execution_count": 19,
     "metadata": {},
     "output_type": "execute_result"
    }
   ],
   "source": [
    "bisect.bisect_right(memories, 19)"
   ]
  },
  {
   "cell_type": "code",
   "execution_count": 22,
   "metadata": {
    "collapsed": true
   },
   "outputs": [],
   "source": [
    "memories = [ 5, 7, 11, 19, 23, 99, 99, 23, 11, 7, 5 ]"
   ]
  },
  {
   "cell_type": "code",
   "execution_count": 36,
   "metadata": {
    "collapsed": false
   },
   "outputs": [
    {
     "data": {
      "text/plain": [
       "3"
      ]
     },
     "execution_count": 36,
     "metadata": {},
     "output_type": "execute_result"
    }
   ],
   "source": [
    "bisect.bisect_right(memories, 19)"
   ]
  },
  {
   "cell_type": "markdown",
   "metadata": {},
   "source": [
    "##insort_left(a, x, lo=0, hi=len(a))"
   ]
  },
  {
   "cell_type": "code",
   "execution_count": 37,
   "metadata": {
    "collapsed": true
   },
   "outputs": [],
   "source": [
    "bisect.insort_left(numbers, [9,9,9], 0)"
   ]
  },
  {
   "cell_type": "code",
   "execution_count": 38,
   "metadata": {
    "collapsed": false
   },
   "outputs": [
    {
     "data": {
      "text/plain": [
       "[1, 2, 4, 5, [9, 9, 9]]"
      ]
     },
     "execution_count": 38,
     "metadata": {},
     "output_type": "execute_result"
    }
   ],
   "source": [
    "numbers"
   ]
  },
  {
   "cell_type": "code",
   "execution_count": 39,
   "metadata": {
    "collapsed": true
   },
   "outputs": [],
   "source": [
    "bisect.insort_left(numbers, 1, 0)"
   ]
  },
  {
   "cell_type": "code",
   "execution_count": 40,
   "metadata": {
    "collapsed": false
   },
   "outputs": [
    {
     "data": {
      "text/plain": [
       "[1, 1, 2, 4, 5, [9, 9, 9]]"
      ]
     },
     "execution_count": 40,
     "metadata": {},
     "output_type": "execute_result"
    }
   ],
   "source": [
    "numbers"
   ]
  },
  {
   "cell_type": "markdown",
   "metadata": {},
   "source": [
    "##insort_right"
   ]
  },
  {
   "cell_type": "code",
   "execution_count": 41,
   "metadata": {
    "collapsed": true
   },
   "outputs": [],
   "source": [
    "bisect.insort_right(numbers, 4, 0)"
   ]
  },
  {
   "cell_type": "code",
   "execution_count": 42,
   "metadata": {
    "collapsed": false
   },
   "outputs": [
    {
     "data": {
      "text/plain": [
       "[1, 1, 2, 4, 4, 5, [9, 9, 9]]"
      ]
     },
     "execution_count": 42,
     "metadata": {},
     "output_type": "execute_result"
    }
   ],
   "source": [
    "numbers"
   ]
  },
  {
   "cell_type": "code",
   "execution_count": 43,
   "metadata": {
    "collapsed": true
   },
   "outputs": [],
   "source": [
    "bisect.insort_right(numbers, 6, 0)"
   ]
  },
  {
   "cell_type": "code",
   "execution_count": 44,
   "metadata": {
    "collapsed": false
   },
   "outputs": [
    {
     "data": {
      "text/plain": [
       "[1, 1, 2, 4, 4, 5, 6, [9, 9, 9]]"
      ]
     },
     "execution_count": 44,
     "metadata": {},
     "output_type": "execute_result"
    }
   ],
   "source": [
    "numbers"
   ]
  },
  {
   "cell_type": "code",
   "execution_count": 46,
   "metadata": {
    "collapsed": false
   },
   "outputs": [],
   "source": [
    "bisect.insort_right(numbers, 4, 0)"
   ]
  },
  {
   "cell_type": "code",
   "execution_count": 48,
   "metadata": {
    "collapsed": false
   },
   "outputs": [
    {
     "data": {
      "text/plain": [
       "[1, 1, 2, 4, 4, 4, 5, 6, [9, 9, 9]]"
      ]
     },
     "execution_count": 48,
     "metadata": {},
     "output_type": "execute_result"
    }
   ],
   "source": [
    "numbers"
   ]
  },
  {
   "cell_type": "code",
   "execution_count": 49,
   "metadata": {
    "collapsed": true
   },
   "outputs": [],
   "source": [
    "bisect.insort_right(numbers, 1, 3)"
   ]
  },
  {
   "cell_type": "code",
   "execution_count": 50,
   "metadata": {
    "collapsed": false
   },
   "outputs": [
    {
     "data": {
      "text/plain": [
       "[1, 1, 2, 1, 4, 4, 4, 5, 6, [9, 9, 9]]"
      ]
     },
     "execution_count": 50,
     "metadata": {},
     "output_type": "execute_result"
    }
   ],
   "source": [
    "numbers"
   ]
  },
  {
   "cell_type": "markdown",
   "metadata": {},
   "source": [
    "**Sticky**"
   ]
  },
  {
   "cell_type": "markdown",
   "metadata": {},
   "source": [
    "##insort"
   ]
  },
  {
   "cell_type": "code",
   "execution_count": 52,
   "metadata": {
    "collapsed": true
   },
   "outputs": [],
   "source": [
    "bisect.insort(numbers, 31, 7)"
   ]
  },
  {
   "cell_type": "code",
   "execution_count": 53,
   "metadata": {
    "collapsed": false
   },
   "outputs": [
    {
     "data": {
      "text/plain": [
       "[1, 1, 2, 1, 4, 4, 4, 5, 6, 31, [9, 9, 9]]"
      ]
     },
     "execution_count": 53,
     "metadata": {},
     "output_type": "execute_result"
    }
   ],
   "source": [
    "numbers"
   ]
  },
  {
   "cell_type": "markdown",
   "metadata": {},
   "source": [
    "**seventh sticky group**"
   ]
  },
  {
   "cell_type": "markdown",
   "metadata": {},
   "source": [
    "**This will be usefull in associative memory storage routines for simulated neural networks.**"
   ]
  },
  {
   "cell_type": "markdown",
   "metadata": {},
   "source": [
    "#array"
   ]
  },
  {
   "cell_type": "markdown",
   "metadata": {},
   "source": [
    "array type codes"
   ]
  },
  {
   "cell_type": "code",
   "execution_count": 113,
   "metadata": {
    "collapsed": false
   },
   "outputs": [],
   "source": [
    "type_codes = []\n",
    "c = {'c':{'Type Code':'c', 'C Type':'char', 'Python Type':'character', 'Minimum Bytes':'1', }}\n",
    "b = {'b':{'Type Code':'b', 'C Type':'signed char', 'Python Type':'int', 'Minimum Bytes':'1', }}\n",
    "B = {'B':{'Type Code':'B', 'C Type':'unsigned char', 'Python Type':'int', 'Minimum Bytes':'1', }}\n",
    "u = {'u':{'Type Code':'u', 'C Type':'PY_UNICODE', 'Python Type':'Unicode character', 'Minimum Bytes':'2', }}\n",
    "h = {'h':{'Type Code':'h', 'C Type':'signed short', 'Python Type':'int', 'Minimum Bytes':'2', }}\n",
    "b = {'H':{'Type Code':'H', 'C Type':'unsigned short', 'Python Type':'int', 'Minimum Bytes':'2', }}\n",
    "i = {'i':{'Type Code':'i', 'C Type':'signed int', 'Python Type':'int', 'Minimum Bytes':'2', }}\n",
    "I = {'I':{'Type Code':'I', 'C Type':'unsigned int', 'Python Type':'long', 'Minimum Bytes':'2', }}\n",
    "l = {'l':{'Type Code':'l', 'C Type':'signed long', 'Python Type':'int', 'Minimum Bytes':'4', }}\n",
    "L = {'L':{'Type Code':'L', 'C Type':'unsinged long', 'Python Type':'long', 'Minimum Bytes':'4', }}\n",
    "f = {'f':{'Type Code':'f', 'C Type':'float', 'Python Type':'float', 'Minimum Bytes':'4', }}\n",
    "d = {'d':{'Type Code':'d', 'C Type':'double', 'Python Type':'float', 'Minimum Bytes':'8', }}\n",
    "df0 = pd.DataFrame(c)\n",
    "df1 = pd.DataFrame(b)\n",
    "df2 = pd.DataFrame(B)\n",
    "df3 = pd.DataFrame(u)\n",
    "df4 = pd.DataFrame(h)\n",
    "df5 = pd.DataFrame(b)\n",
    "df6 = pd.DataFrame(i)\n",
    "df7 = pd.DataFrame(I)\n",
    "df8 = pd.DataFrame(l)\n",
    "df9 = pd.DataFrame(L)\n",
    "df10 = pd.DataFrame(f)\n",
    "df11 = pd.DataFrame(d)\n",
    "chart = pd.concat( [df0,df1,df2,df3,df4,df5,df6,df7,df8,df9,df,df10,df11], axis=1 )"
   ]
  },
  {
   "cell_type": "code",
   "execution_count": 114,
   "metadata": {
    "collapsed": false
   },
   "outputs": [
    {
     "data": {
      "text/html": [
       "<div style=\"max-height:1000px;max-width:1500px;overflow:auto;\">\n",
       "<table border=\"1\" class=\"dataframe\">\n",
       "  <thead>\n",
       "    <tr style=\"text-align: right;\">\n",
       "      <th></th>\n",
       "      <th>c</th>\n",
       "      <th>H</th>\n",
       "      <th>B</th>\n",
       "      <th>u</th>\n",
       "      <th>h</th>\n",
       "      <th>H</th>\n",
       "      <th>i</th>\n",
       "      <th>I</th>\n",
       "      <th>l</th>\n",
       "      <th>L</th>\n",
       "      <th>c</th>\n",
       "      <th>f</th>\n",
       "      <th>d</th>\n",
       "    </tr>\n",
       "  </thead>\n",
       "  <tbody>\n",
       "    <tr>\n",
       "      <th>C Type</th>\n",
       "      <td>char</td>\n",
       "      <td>unsigned short</td>\n",
       "      <td>unsigned char</td>\n",
       "      <td>PY_UNICODE</td>\n",
       "      <td>signed short</td>\n",
       "      <td>unsigned short</td>\n",
       "      <td>signed int</td>\n",
       "      <td>unsigned int</td>\n",
       "      <td>signed long</td>\n",
       "      <td>unsinged long</td>\n",
       "      <td>char</td>\n",
       "      <td>float</td>\n",
       "      <td>double</td>\n",
       "    </tr>\n",
       "    <tr>\n",
       "      <th>Minimum Bytes</th>\n",
       "      <td>1</td>\n",
       "      <td>2</td>\n",
       "      <td>1</td>\n",
       "      <td>2</td>\n",
       "      <td>2</td>\n",
       "      <td>2</td>\n",
       "      <td>2</td>\n",
       "      <td>2</td>\n",
       "      <td>4</td>\n",
       "      <td>4</td>\n",
       "      <td>1</td>\n",
       "      <td>4</td>\n",
       "      <td>8</td>\n",
       "    </tr>\n",
       "    <tr>\n",
       "      <th>Python Type</th>\n",
       "      <td>character</td>\n",
       "      <td>int</td>\n",
       "      <td>int</td>\n",
       "      <td>Unicode character</td>\n",
       "      <td>int</td>\n",
       "      <td>int</td>\n",
       "      <td>int</td>\n",
       "      <td>long</td>\n",
       "      <td>int</td>\n",
       "      <td>long</td>\n",
       "      <td>character</td>\n",
       "      <td>float</td>\n",
       "      <td>float</td>\n",
       "    </tr>\n",
       "    <tr>\n",
       "      <th>Type Code</th>\n",
       "      <td>c</td>\n",
       "      <td>H</td>\n",
       "      <td>B</td>\n",
       "      <td>u</td>\n",
       "      <td>h</td>\n",
       "      <td>H</td>\n",
       "      <td>i</td>\n",
       "      <td>I</td>\n",
       "      <td>l</td>\n",
       "      <td>L</td>\n",
       "      <td>c</td>\n",
       "      <td>f</td>\n",
       "      <td>d</td>\n",
       "    </tr>\n",
       "  </tbody>\n",
       "</table>\n",
       "</div>"
      ],
      "text/plain": [
       "                       c               H              B                  u  \\\n",
       "C Type              char  unsigned short  unsigned char         PY_UNICODE   \n",
       "Minimum Bytes          1               2              1                  2   \n",
       "Python Type    character             int            int  Unicode character   \n",
       "Type Code              c               H              B                  u   \n",
       "\n",
       "                          h               H           i             I  \\\n",
       "C Type         signed short  unsigned short  signed int  unsigned int   \n",
       "Minimum Bytes             2               2           2             2   \n",
       "Python Type             int             int         int          long   \n",
       "Type Code                 h               H           i             I   \n",
       "\n",
       "                         l              L          c      f       d  \n",
       "C Type         signed long  unsinged long       char  float  double  \n",
       "Minimum Bytes            4              4          1      4       8  \n",
       "Python Type            int           long  character  float   float  \n",
       "Type Code                l              L          c      f       d  "
      ]
     },
     "execution_count": 114,
     "metadata": {},
     "output_type": "execute_result"
    }
   ],
   "source": [
    "chart"
   ]
  },
  {
   "cell_type": "markdown",
   "metadata": {},
   "source": [
    "**for regex log fields this will do the trick. Pandas includes a plotting function and matplotlib.pyplot has support for streaming data in live charts.**"
   ]
  },
  {
   "cell_type": "code",
   "execution_count": 1,
   "metadata": {
    "collapsed": false
   },
   "outputs": [],
   "source": [
    "types_b = [\n",
    "    {'c':{'Type Code':'c', 'C Type':'char', 'Python Type':'character', 'Minimum Bytes':'1', }},\n",
    "    {'b':{'Type Code':'b', 'C Type':'signed char', 'Python Type':'int', 'Minimum Bytes':'1', }},\n",
    "    {'B':{'Type Code':'B', 'C Type':'unsigned char', 'Python Type':'int', 'Minimum Bytes':'1', }},\n",
    "    {'u':{'Type Code':'u', 'C Type':'PY_UNICODE', 'Python Type':'Unicode character', 'Minimum Bytes':'2', }},\n",
    "    {'h':{'Type Code':'h', 'C Type':'signed short', 'Python Type':'int', 'Minimum Bytes':'2', }},\n",
    "    {'H':{'Type Code':'H', 'C Type':'unsigned short', 'Python Type':'int', 'Minimum Bytes':'2', }},\n",
    "    {'i':{'Type Code':'i', 'C Type':'signed int', 'Python Type':'int', 'Minimum Bytes':'2', }},\n",
    "    {'I':{'Type Code':'I', 'C Type':'unsigned int', 'Python Type':'long', 'Minimum Bytes':'2', }},\n",
    "    {'l':{'Type Code':'l', 'C Type':'signed long', 'Python Type':'int', 'Minimum Bytes':'4', }},\n",
    "    {'L':{'Type Code':'L', 'C Type':'unsinged long', 'Python Type':'long', 'Minimum Bytes':'4', }},\n",
    "    {'f':{'Type Code':'f', 'C Type':'float', 'Python Type':'float', 'Minimum Bytes':'4', }},\n",
    "    {'d':{'Type Code':'d', 'C Type':'double', 'Python Type':'float', 'Minimum Bytes':'8', }},\n",
    "]\n",
    "def programmatic_chart(list_of_dicts): \n",
    "    '''\n",
    "    The Dicts should be in the the format above:\n",
    "    the name of the data type : followed by a dict of key/value pairs that \n",
    "    represent the data type.\n",
    "    '''\n",
    "    c = 0\n",
    "    frames = []\n",
    "    for i in range(0, len(types_b)):\n",
    "        df = pd.DataFrame(types_b[i].values())\n",
    "        #df.rename(index={i: types_b[0].keys()[0]})\n",
    "        frames.append(df)\n",
    "        c += 1\n",
    "    chart = pd.concat( frames, )\n",
    "    chart.index=(range(0,len(chart)))\n",
    "    return chart"
   ]
  },
  {
   "cell_type": "code",
   "execution_count": 224,
   "metadata": {
    "collapsed": false
   },
   "outputs": [],
   "source": [
    "x = programmatic_chart(types_b)"
   ]
  },
  {
   "cell_type": "code",
   "execution_count": 225,
   "metadata": {
    "collapsed": false
   },
   "outputs": [
    {
     "data": {
      "text/html": [
       "<div style=\"max-height:1000px;max-width:1500px;overflow:auto;\">\n",
       "<table border=\"1\" class=\"dataframe\">\n",
       "  <thead>\n",
       "    <tr style=\"text-align: right;\">\n",
       "      <th></th>\n",
       "      <th>C Type</th>\n",
       "      <th>Minimum Bytes</th>\n",
       "      <th>Python Type</th>\n",
       "      <th>Type Code</th>\n",
       "    </tr>\n",
       "  </thead>\n",
       "  <tbody>\n",
       "    <tr>\n",
       "      <th>0</th>\n",
       "      <td>char</td>\n",
       "      <td>1</td>\n",
       "      <td>character</td>\n",
       "      <td>c</td>\n",
       "    </tr>\n",
       "    <tr>\n",
       "      <th>1</th>\n",
       "      <td>signed char</td>\n",
       "      <td>1</td>\n",
       "      <td>int</td>\n",
       "      <td>b</td>\n",
       "    </tr>\n",
       "    <tr>\n",
       "      <th>2</th>\n",
       "      <td>unsigned char</td>\n",
       "      <td>1</td>\n",
       "      <td>int</td>\n",
       "      <td>B</td>\n",
       "    </tr>\n",
       "    <tr>\n",
       "      <th>3</th>\n",
       "      <td>PY_UNICODE</td>\n",
       "      <td>2</td>\n",
       "      <td>Unicode character</td>\n",
       "      <td>u</td>\n",
       "    </tr>\n",
       "    <tr>\n",
       "      <th>4</th>\n",
       "      <td>signed short</td>\n",
       "      <td>2</td>\n",
       "      <td>int</td>\n",
       "      <td>h</td>\n",
       "    </tr>\n",
       "    <tr>\n",
       "      <th>5</th>\n",
       "      <td>unsigned short</td>\n",
       "      <td>2</td>\n",
       "      <td>int</td>\n",
       "      <td>H</td>\n",
       "    </tr>\n",
       "    <tr>\n",
       "      <th>6</th>\n",
       "      <td>signed int</td>\n",
       "      <td>2</td>\n",
       "      <td>int</td>\n",
       "      <td>i</td>\n",
       "    </tr>\n",
       "    <tr>\n",
       "      <th>7</th>\n",
       "      <td>unsigned int</td>\n",
       "      <td>2</td>\n",
       "      <td>long</td>\n",
       "      <td>I</td>\n",
       "    </tr>\n",
       "    <tr>\n",
       "      <th>8</th>\n",
       "      <td>signed long</td>\n",
       "      <td>4</td>\n",
       "      <td>int</td>\n",
       "      <td>l</td>\n",
       "    </tr>\n",
       "    <tr>\n",
       "      <th>9</th>\n",
       "      <td>unsinged long</td>\n",
       "      <td>4</td>\n",
       "      <td>long</td>\n",
       "      <td>L</td>\n",
       "    </tr>\n",
       "    <tr>\n",
       "      <th>10</th>\n",
       "      <td>float</td>\n",
       "      <td>4</td>\n",
       "      <td>float</td>\n",
       "      <td>f</td>\n",
       "    </tr>\n",
       "    <tr>\n",
       "      <th>11</th>\n",
       "      <td>double</td>\n",
       "      <td>8</td>\n",
       "      <td>float</td>\n",
       "      <td>d</td>\n",
       "    </tr>\n",
       "  </tbody>\n",
       "</table>\n",
       "</div>"
      ],
      "text/plain": [
       "            C Type Minimum Bytes        Python Type Type Code\n",
       "0             char             1          character         c\n",
       "1      signed char             1                int         b\n",
       "2    unsigned char             1                int         B\n",
       "3       PY_UNICODE             2  Unicode character         u\n",
       "4     signed short             2                int         h\n",
       "5   unsigned short             2                int         H\n",
       "6       signed int             2                int         i\n",
       "7     unsigned int             2               long         I\n",
       "8      signed long             4                int         l\n",
       "9    unsinged long             4               long         L\n",
       "10           float             4              float         f\n",
       "11          double             8              float         d"
      ]
     },
     "execution_count": 225,
     "metadata": {},
     "output_type": "execute_result"
    }
   ],
   "source": [
    "x"
   ]
  },
  {
   "cell_type": "code",
   "execution_count": 12,
   "metadata": {
    "collapsed": false
   },
   "outputs": [
    {
     "name": "stdout",
     "output_type": "stream",
     "text": [
      "The Zen of Python, by Tim Peters\n",
      "\n",
      "Beautiful is better than ugly.\n",
      "Explicit is better than implicit.\n",
      "Simple is better than complex.\n",
      "Complex is better than complicated.\n",
      "Flat is better than nested.\n",
      "Sparse is better than dense.\n",
      "Readability counts.\n",
      "Special cases aren't special enough to break the rules.\n",
      "Although practicality beats purity.\n",
      "Errors should never pass silently.\n",
      "Unless explicitly silenced.\n",
      "In the face of ambiguity, refuse the temptation to guess.\n",
      "There should be one-- and preferably only one --obvious way to do it.\n",
      "Although that way may not be obvious at first unless you're Dutch.\n",
      "Now is better than never.\n",
      "Although never is often better than *right* now.\n",
      "If the implementation is hard to explain, it's a bad idea.\n",
      "If the implementation is easy to explain, it may be a good idea.\n",
      "Namespaces are one honking great idea -- let's do more of those!\n"
     ]
    }
   ],
   "source": [
    "import array, this"
   ]
  },
  {
   "cell_type": "markdown",
   "metadata": {},
   "source": [
    "##array.array()"
   ]
  },
  {
   "cell_type": "code",
   "execution_count": 28,
   "metadata": {
    "collapsed": false
   },
   "outputs": [],
   "source": [
    "chars = str.join('', this.s).split(' ')\n",
    "charchars = ''\n",
    "for items in chars:\n",
    "    charchars += items\n",
    "ar_chars = array.array( 'c', charchars  )"
   ]
  },
  {
   "cell_type": "markdown",
   "metadata": {},
   "source": [
    "##array.typecode"
   ]
  },
  {
   "cell_type": "code",
   "execution_count": 36,
   "metadata": {
    "collapsed": false
   },
   "outputs": [
    {
     "data": {
      "text/plain": [
       "'c'"
      ]
     },
     "execution_count": 36,
     "metadata": {},
     "output_type": "execute_result"
    }
   ],
   "source": [
    "ar_chars.typecode"
   ]
  },
  {
   "cell_type": "markdown",
   "metadata": {},
   "source": [
    "##ar_chars.itemsize"
   ]
  },
  {
   "cell_type": "code",
   "execution_count": 37,
   "metadata": {
    "collapsed": false
   },
   "outputs": [
    {
     "data": {
      "text/plain": [
       "1"
      ]
     },
     "execution_count": 37,
     "metadata": {},
     "output_type": "execute_result"
    }
   ],
   "source": [
    "ar_chars.itemsize"
   ]
  },
  {
   "cell_type": "markdown",
   "metadata": {},
   "source": [
    "##array_chars.append(x)"
   ]
  },
  {
   "cell_type": "code",
   "execution_count": 43,
   "metadata": {
    "collapsed": false
   },
   "outputs": [],
   "source": [
    "for item in 'worcestershire':\n",
    "    ar_chars.append(item)"
   ]
  },
  {
   "cell_type": "markdown",
   "metadata": {},
   "source": [
    "##array.buffer_info()"
   ]
  },
  {
   "cell_type": "code",
   "execution_count": 44,
   "metadata": {
    "collapsed": false
   },
   "outputs": [
    {
     "data": {
      "text/plain": [
       "(4352703408, 747)"
      ]
     },
     "execution_count": 44,
     "metadata": {},
     "output_type": "execute_result"
    }
   ],
   "source": [
    "ar_chars.buffer_info()"
   ]
  },
  {
   "cell_type": "code",
   "execution_count": 46,
   "metadata": {
    "collapsed": false
   },
   "outputs": [
    {
     "data": {
      "text/plain": [
       "747"
      ]
     },
     "execution_count": 46,
     "metadata": {},
     "output_type": "execute_result"
    }
   ],
   "source": [
    "ar_chars.buffer_info()[1] * ar_chars.itemsize"
   ]
  },
  {
   "cell_type": "code",
   "execution_count": 47,
   "metadata": {
    "collapsed": false
   },
   "outputs": [
    {
     "data": {
      "text/plain": [
       "1"
      ]
     },
     "execution_count": 47,
     "metadata": {},
     "output_type": "execute_result"
    }
   ],
   "source": [
    "ar_chars.itemsize"
   ]
  },
  {
   "cell_type": "markdown",
   "metadata": {},
   "source": [
    "##array.byteswap()"
   ]
  },
  {
   "cell_type": "code",
   "execution_count": 48,
   "metadata": {
    "collapsed": true
   },
   "outputs": [],
   "source": [
    "ar_chars.byteswap()"
   ]
  },
  {
   "cell_type": "markdown",
   "metadata": {},
   "source": [
    "##array.count(x)"
   ]
  },
  {
   "cell_type": "code",
   "execution_count": 51,
   "metadata": {
    "collapsed": false
   },
   "outputs": [
    {
     "data": {
      "text/plain": [
       "(6, 20)"
      ]
     },
     "execution_count": 51,
     "metadata": {},
     "output_type": "execute_result"
    }
   ],
   "source": [
    "ar_chars.count('-'), ar_chars.count('\\n')"
   ]
  },
  {
   "cell_type": "markdown",
   "metadata": {},
   "source": [
    "##array.extend(iterable)"
   ]
  },
  {
   "cell_type": "code",
   "execution_count": 53,
   "metadata": {
    "collapsed": false
   },
   "outputs": [],
   "source": [
    "log = '1,2,3,4,5,6,7,8,9,0,1/1/1/1,0:00, t  \\n,*,|+\\t, \"\"\"'\n",
    "ar_chars.extend(log)"
   ]
  },
  {
   "cell_type": "code",
   "execution_count": 54,
   "metadata": {
    "collapsed": false
   },
   "outputs": [
    {
     "data": {
      "text/plain": [
       "array('c', 'GurMrabsClguba,olGvzCrgref\\n\\nOrnhgvshyvforggregunahtyl.\\nRkcyvpvgvforggregunavzcyvpvg.\\nFvzcyrvforggregunapbzcyrk.\\nPbzcyrkvforggregunapbzcyvpngrq.\\nSyngvforggregunaarfgrq.\\nFcnefrvforggregunaqrafr.\\nErnqnovyvglpbhagf.\\nFcrpvnypnfrfnera\\'gfcrpvnyrabhtugboernxgurehyrf.\\nNygubhtucenpgvpnyvglorngfchevgl.\\nReebeffubhyqarirecnfffvyragyl.\\nHayrffrkcyvpvgylfvyraprq.\\nVagursnprbsnzovthvgl,ershfrgurgrzcgngvbagbthrff.\\nGurerfubhyqorbar--naqcersrenoylbaylbar--boivbhfjnlgbqbvg.\\nNygubhtugungjnlznlabgorboivbhfngsvefghayrfflbh\\'erQhgpu.\\nAbjvforggregunaarire.\\nNygubhtuarirevfbsgraorggreguna*evtug*abj.\\nVsgurvzcyrzragngvbavfuneqgbrkcynva,vg\\'fnonqvqrn.\\nVsgurvzcyrzragngvbavfrnflgbrkcynva,vgznlorntbbqvqrn.\\nAnzrfcnprfnerbarubaxvatterngvqrn--yrg\\'fqbzberbsgubfr!cworcestershire1,2,3,4,5,6,7,8,9,0,1/1/1/1,0:00, t  \\n,*,|+\\t, \"\"\"')"
      ]
     },
     "execution_count": 54,
     "metadata": {},
     "output_type": "execute_result"
    }
   ],
   "source": [
    "ar_chars"
   ]
  },
  {
   "cell_type": "markdown",
   "metadata": {},
   "source": [
    "##array.fromfile(f, n)"
   ]
  },
  {
   "cell_type": "code",
   "execution_count": 59,
   "metadata": {
    "collapsed": false
   },
   "outputs": [
    {
     "name": "stdout",
     "output_type": "stream",
     "text": [
      "Writing snippit.txt\n"
     ]
    }
   ],
   "source": [
    "%%writefile snippit.txt\n",
    "People like love and money\n",
    "to make a better life\n",
    "and if had either\n",
    "probably a wife"
   ]
  },
  {
   "cell_type": "code",
   "execution_count": 66,
   "metadata": {
    "collapsed": false
   },
   "outputs": [],
   "source": [
    "with open('./snippit.txt', 'r') as f:\n",
    "    x = len(f.read())\n",
    "with open('./snippit.txt', 'r') as f:\n",
    "    ar_chars.fromfile( f , x )"
   ]
  },
  {
   "cell_type": "markdown",
   "metadata": {},
   "source": [
    "#array.fromlist(list)"
   ]
  },
  {
   "cell_type": "code",
   "execution_count": 72,
   "metadata": {
    "collapsed": false
   },
   "outputs": [
    {
     "ename": "TypeError",
     "evalue": "array item must be char",
     "output_type": "error",
     "traceback": [
      "\u001b[0;31m---------------------------------------------------------------------------\u001b[0m",
      "\u001b[0;31mTypeError\u001b[0m                                 Traceback (most recent call last)",
      "\u001b[0;32m<ipython-input-72-008a1026c6b2>\u001b[0m in \u001b[0;36m<module>\u001b[0;34m()\u001b[0m\n\u001b[1;32m      1\u001b[0m \u001b[0mmp_sa\u001b[0m \u001b[0;34m=\u001b[0m \u001b[0;34m[\u001b[0m\u001b[0;34m'-concept'\u001b[0m\u001b[0;34m,\u001b[0m \u001b[0;34m'-thought'\u001b[0m\u001b[0;34m,\u001b[0m \u001b[0;34m'-ip'\u001b[0m\u001b[0;34m,\u001b[0m \u001b[0;34m'-invention'\u001b[0m\u001b[0;34m,\u001b[0m \u001b[0;34m'-code'\u001b[0m\u001b[0;34m,\u001b[0m \u001b[0;34m'-business'\u001b[0m\u001b[0;34m,\u001b[0m \u001b[0;34m'-process'\u001b[0m\u001b[0;34m,\u001b[0m \u001b[0;34m'-labor'\u001b[0m\u001b[0;34m,\u001b[0m \u001b[0;34m'+worthless-training'\u001b[0m\u001b[0;34m,\u001b[0m \u001b[0;34m'+beginner'\u001b[0m\u001b[0;34m]\u001b[0m\u001b[0;34m\u001b[0m\u001b[0m\n\u001b[0;32m----> 2\u001b[0;31m \u001b[0mar_chars\u001b[0m\u001b[0;34m.\u001b[0m\u001b[0mfromlist\u001b[0m\u001b[0;34m(\u001b[0m\u001b[0mmp_sa\u001b[0m\u001b[0;34m)\u001b[0m\u001b[0;34m\u001b[0m\u001b[0m\n\u001b[0m",
      "\u001b[0;31mTypeError\u001b[0m: array item must be char"
     ]
    }
   ],
   "source": [
    "mp_sa = ['-concept', '-thought', '-ip', '-invention', '-code', '-business', '-process', '-labor', '+worthless-training', '+beginner']\n",
    "ar_chars.fromlist(mp_sa)"
   ]
  },
  {
   "cell_type": "code",
   "execution_count": 76,
   "metadata": {
    "collapsed": false
   },
   "outputs": [],
   "source": [
    "x = list('1234')"
   ]
  },
  {
   "cell_type": "code",
   "execution_count": 78,
   "metadata": {
    "collapsed": false
   },
   "outputs": [],
   "source": [
    "ar_chars.fromlist(x)"
   ]
  },
  {
   "cell_type": "markdown",
   "metadata": {},
   "source": [
    "##array.fromstring()"
   ]
  },
  {
   "cell_type": "code",
   "execution_count": 79,
   "metadata": {
    "collapsed": true
   },
   "outputs": [],
   "source": [
    "ar_chars.fromstring('Post modern neo classicism with an overtone of Asimov and a streak of Stravinski.')"
   ]
  },
  {
   "cell_type": "code",
   "execution_count": 80,
   "metadata": {
    "collapsed": false
   },
   "outputs": [
    {
     "data": {
      "text/plain": [
       "array('c', 'GurMrabsClguba,olGvzCrgref\\n\\nOrnhgvshyvforggregunahtyl.\\nRkcyvpvgvforggregunavzcyvpvg.\\nFvzcyrvforggregunapbzcyrk.\\nPbzcyrkvforggregunapbzcyvpngrq.\\nSyngvforggregunaarfgrq.\\nFcnefrvforggregunaqrafr.\\nErnqnovyvglpbhagf.\\nFcrpvnypnfrfnera\\'gfcrpvnyrabhtugboernxgurehyrf.\\nNygubhtucenpgvpnyvglorngfchevgl.\\nReebeffubhyqarirecnfffvyragyl.\\nHayrffrkcyvpvgylfvyraprq.\\nVagursnprbsnzovthvgl,ershfrgurgrzcgngvbagbthrff.\\nGurerfubhyqorbar--naqcersrenoylbaylbar--boivbhfjnlgbqbvg.\\nNygubhtugungjnlznlabgorboivbhfngsvefghayrfflbh\\'erQhgpu.\\nAbjvforggregunaarire.\\nNygubhtuarirevfbsgraorggreguna*evtug*abj.\\nVsgurvzcyrzragngvbavfuneqgbrkcynva,vg\\'fnonqvqrn.\\nVsgurvzcyrzragngvbavfrnflgbrkcynva,vgznlorntbbqvqrn.\\nAnzrfcnprfnerbarubaxvatterngvqrn--yrg\\'fqbzberbsgubfr!cworcestershire1,2,3,4,5,6,7,8,9,0,1/1/1/1,0:00, t  \\n,*,|+\\t, \"\"\"People like love and money\\nto make a better life\\nand if had either\\nprobably a wife1234Post modern neo classicism with an overtone of Asimov and a streak of Stravinski.')"
      ]
     },
     "execution_count": 80,
     "metadata": {},
     "output_type": "execute_result"
    }
   ],
   "source": [
    "ar_chars"
   ]
  },
  {
   "cell_type": "markdown",
   "metadata": {},
   "source": [
    "##array.fromunicode(s)"
   ]
  },
  {
   "cell_type": "code",
   "execution_count": 85,
   "metadata": {
    "collapsed": false
   },
   "outputs": [],
   "source": [
    "nonVogonicStatement = unicode('An Infinite Impossibility could need to be possible.')"
   ]
  },
  {
   "cell_type": "code",
   "execution_count": 89,
   "metadata": {
    "collapsed": false
   },
   "outputs": [
    {
     "ename": "ValueError",
     "evalue": "fromunicode() may only be called on type 'u' arrays",
     "output_type": "error",
     "traceback": [
      "\u001b[0;31m---------------------------------------------------------------------------\u001b[0m",
      "\u001b[0;31mValueError\u001b[0m                                Traceback (most recent call last)",
      "\u001b[0;32m<ipython-input-89-08db575ee6d4>\u001b[0m in \u001b[0;36m<module>\u001b[0;34m()\u001b[0m\n\u001b[0;32m----> 1\u001b[0;31m \u001b[0mar_chars\u001b[0m\u001b[0;34m.\u001b[0m\u001b[0mfromunicode\u001b[0m\u001b[0;34m(\u001b[0m\u001b[0mnonVogonicStatement\u001b[0m\u001b[0;34m)\u001b[0m\u001b[0;34m\u001b[0m\u001b[0m\n\u001b[0m",
      "\u001b[0;31mValueError\u001b[0m: fromunicode() may only be called on type 'u' arrays"
     ]
    }
   ],
   "source": [
    "ar_chars.fromunicode(nonVogonicStatement)"
   ]
  },
  {
   "cell_type": "code",
   "execution_count": 91,
   "metadata": {
    "collapsed": false
   },
   "outputs": [
    {
     "data": {
      "text/plain": [
       "u'An Infinite Impossibility could need to be possible.'"
      ]
     },
     "execution_count": 91,
     "metadata": {},
     "output_type": "execute_result"
    }
   ],
   "source": [
    "nonVogonicStatement"
   ]
  },
  {
   "cell_type": "code",
   "execution_count": 92,
   "metadata": {
    "collapsed": false
   },
   "outputs": [
    {
     "ename": "ValueError",
     "evalue": "fromunicode() may only be called on type 'u' arrays",
     "output_type": "error",
     "traceback": [
      "\u001b[0;31m---------------------------------------------------------------------------\u001b[0m",
      "\u001b[0;31mValueError\u001b[0m                                Traceback (most recent call last)",
      "\u001b[0;32m<ipython-input-92-d22162870eac>\u001b[0m in \u001b[0;36m<module>\u001b[0;34m()\u001b[0m\n\u001b[0;32m----> 1\u001b[0;31m \u001b[0mar_chars\u001b[0m\u001b[0;34m.\u001b[0m\u001b[0mfromunicode\u001b[0m\u001b[0;34m(\u001b[0m\u001b[0municode\u001b[0m\u001b[0;34m(\u001b[0m\u001b[0;34m'AnInfiniteImpossibilitycouldneedtobepossible.'\u001b[0m\u001b[0;34m)\u001b[0m\u001b[0;34m)\u001b[0m\u001b[0;34m\u001b[0m\u001b[0m\n\u001b[0m",
      "\u001b[0;31mValueError\u001b[0m: fromunicode() may only be called on type 'u' arrays"
     ]
    }
   ],
   "source": [
    "ar_chars.fromunicode(unicode('AnInfiniteImpossibilitycouldneedtobepossible.'))"
   ]
  },
  {
   "cell_type": "code",
   "execution_count": 99,
   "metadata": {
    "collapsed": false
   },
   "outputs": [
    {
     "ename": "ValueError",
     "evalue": "tounicode() may only be called on type 'u' arrays",
     "output_type": "error",
     "traceback": [
      "\u001b[0;31m---------------------------------------------------------------------------\u001b[0m",
      "\u001b[0;31mValueError\u001b[0m                                Traceback (most recent call last)",
      "\u001b[0;32m<ipython-input-99-ac0adee7cf50>\u001b[0m in \u001b[0;36m<module>\u001b[0;34m()\u001b[0m\n\u001b[0;32m----> 1\u001b[0;31m \u001b[0mar_charsb\u001b[0m \u001b[0;34m=\u001b[0m \u001b[0mar_chars\u001b[0m\u001b[0;34m.\u001b[0m\u001b[0mtounicode\u001b[0m\u001b[0;34m(\u001b[0m\u001b[0;34m)\u001b[0m\u001b[0;34m\u001b[0m\u001b[0m\n\u001b[0m",
      "\u001b[0;31mValueError\u001b[0m: tounicode() may only be called on type 'u' arrays"
     ]
    }
   ],
   "source": [
    "ar_charsb = ar_chars.tounicode()"
   ]
  },
  {
   "cell_type": "markdown",
   "metadata": {},
   "source": [
    "**moving on**"
   ]
  },
  {
   "cell_type": "markdown",
   "metadata": {},
   "source": [
    "##array.index(x)"
   ]
  },
  {
   "cell_type": "code",
   "execution_count": 102,
   "metadata": {
    "collapsed": false
   },
   "outputs": [
    {
     "data": {
      "text/plain": [
       "415"
      ]
     },
     "execution_count": 102,
     "metadata": {},
     "output_type": "execute_result"
    }
   ],
   "source": [
    "ar_chars.index('-')"
   ]
  },
  {
   "cell_type": "code",
   "execution_count": 103,
   "metadata": {
    "collapsed": false
   },
   "outputs": [
    {
     "data": {
      "text/plain": [
       "776"
      ]
     },
     "execution_count": 103,
     "metadata": {},
     "output_type": "execute_result"
    }
   ],
   "source": [
    "ar_chars.index(':')"
   ]
  },
  {
   "cell_type": "code",
   "execution_count": 104,
   "metadata": {
    "collapsed": false
   },
   "outputs": [
    {
     "data": {
      "text/plain": [
       "565"
      ]
     },
     "execution_count": 104,
     "metadata": {},
     "output_type": "execute_result"
    }
   ],
   "source": [
    "ar_chars.index('*')"
   ]
  },
  {
   "cell_type": "markdown",
   "metadata": {},
   "source": [
    "##array.insert()"
   ]
  },
  {
   "cell_type": "code",
   "execution_count": 107,
   "metadata": {
    "collapsed": false
   },
   "outputs": [],
   "source": [
    "ar_chars.insert( 778, \":\")"
   ]
  },
  {
   "cell_type": "markdown",
   "metadata": {},
   "source": [
    "##array.pop([i])"
   ]
  },
  {
   "cell_type": "code",
   "execution_count": 111,
   "metadata": {
    "collapsed": false
   },
   "outputs": [
    {
     "data": {
      "text/plain": [
       "':'"
      ]
     },
     "execution_count": 111,
     "metadata": {},
     "output_type": "execute_result"
    }
   ],
   "source": [
    "ar_chars.pop(778)"
   ]
  },
  {
   "cell_type": "markdown",
   "metadata": {},
   "source": [
    "##array.read(f, n)"
   ]
  },
  {
   "cell_type": "markdown",
   "metadata": {},
   "source": [
    "deprecated, same as array.readfile()"
   ]
  },
  {
   "cell_type": "markdown",
   "metadata": {},
   "source": [
    "##array.remove()"
   ]
  },
  {
   "cell_type": "code",
   "execution_count": 114,
   "metadata": {
    "collapsed": false
   },
   "outputs": [],
   "source": [
    "ar_chars.remove('\"')"
   ]
  },
  {
   "cell_type": "code",
   "execution_count": 115,
   "metadata": {
    "collapsed": false
   },
   "outputs": [
    {
     "data": {
      "text/plain": [
       "array('c', 'GurMrabsClguba,olGvzCrgref\\n\\nOrnhgvshyvforggregunahtyl.\\nRkcyvpvgvforggregunavzcyvpvg.\\nFvzcyrvforggregunapbzcyrk.\\nPbzcyrkvforggregunapbzcyvpngrq.\\nSyngvforggregunaarfgrq.\\nFcnefrvforggregunaqrafr.\\nErnqnovyvglpbhagf.\\nFcrpvnypnfrfnera\\'gfcrpvnyrabhtugboernxgurehyrf.\\nNygubhtucenpgvpnyvglorngfchevgl.\\nReebeffubhyqarirecnfffvyragyl.\\nHayrffrkcyvpvgylfvyraprq.\\nVagursnprbsnzovthvgl,ershfrgurgrzcgngvbagbthrff.\\nGurerfubhyqorbar--naqcersrenoylbaylbar--boivbhfjnlgbqbvg.\\nNygubhtugungjnlznlabgorboivbhfngsvefghayrfflbh\\'erQhgpu.\\nAbjvforggregunaarire.\\nNygubhtuarirevfbsgraorggreguna*evtug*abj.\\nVsgurvzcyrzragngvbavfuneqgbrkcynva,vg\\'fnonqvqrn.\\nVsgurvzcyrzragngvbavfrnflgbrkcynva,vgznlorntbbqvqrn.\\nAnzrfcnprfnerbarubaxvatterngvqrn--yrg\\'fqbzberbsgubfr!cworcestershire1,2,3,4,5,6,7,8,9,0,1/1/1/1,0:00, t  \\n,*,|+\\t, \"\"People like love and money\\nto make a better life\\nand if had either\\nprobably a wife1234Post modern neo classicism with an overtone of Asimov and a streak of Stravinski.')"
      ]
     },
     "execution_count": 115,
     "metadata": {},
     "output_type": "execute_result"
    }
   ],
   "source": [
    "ar_chars"
   ]
  },
  {
   "cell_type": "code",
   "execution_count": null,
   "metadata": {
    "collapsed": true
   },
   "outputs": [],
   "source": [
    "ar_chars.remove('\"')"
   ]
  },
  {
   "cell_type": "code",
   "execution_count": 119,
   "metadata": {
    "collapsed": false
   },
   "outputs": [
    {
     "data": {
      "text/plain": [
       "array('c', \"GurMrabsClguba,olGvzCrgref\\n\\nOrnhgvshyvforggregunahtyl.\\nRkcyvpvgvforggregunavzcyvpvg.\\nFvzcyrvforggregunapbzcyrk.\\nPbzcyrkvforggregunapbzcyvpngrq.\\nSyngvforggregunaarfgrq.\\nFcnefrvforggregunaqrafr.\\nErnqnovyvglpbhagf.\\nFcrpvnypnfrfnera'gfcrpvnyrabhtugboernxgurehyrf.\\nNygubhtucenpgvpnyvglorngfchevgl.\\nReebeffubhyqarirecnfffvyragyl.\\nHayrffrkcyvpvgylfvyraprq.\\nVagursnprbsnzovthvgl,ershfrgurgrzcgngvbagbthrff.\\nGurerfubhyqorbar--naqcersrenoylbaylbar--boivbhfjnlgbqbvg.\\nNygubhtugungjnlznlabgorboivbhfngsvefghayrfflbh'erQhgpu.\\nAbjvforggregunaarire.\\nNygubhtuarirevfbsgraorggreguna*evtug*abj.\\nVsgurvzcyrzragngvbavfuneqgbrkcynva,vg'fnonqvqrn.\\nVsgurvzcyrzragngvbavfrnflgbrkcynva,vgznlorntbbqvqrn.\\nAnzrfcnprfnerbarubaxvatterngvqrn--yrg'fqbzberbsgubfr!cworcestershire1,2,3,4,5,6,7,8,9,0,1/1/1/1,0:00, t  \\n,*,|+\\t, People like love and money\\nto make a better life\\nand if had either\\nprobably a wife1234Post modern neo classicism with an overtone of Asimov and a streak of Stravinski.\")"
      ]
     },
     "execution_count": 119,
     "metadata": {},
     "output_type": "execute_result"
    }
   ],
   "source": [
    "ar_chars"
   ]
  },
  {
   "cell_type": "code",
   "execution_count": 120,
   "metadata": {
    "collapsed": false
   },
   "outputs": [
    {
     "data": {
      "text/plain": [
       "960"
      ]
     },
     "execution_count": 120,
     "metadata": {},
     "output_type": "execute_result"
    }
   ],
   "source": [
    "len(ar_chars)"
   ]
  },
  {
   "cell_type": "markdown",
   "metadata": {},
   "source": [
    "##array.reverse()"
   ]
  },
  {
   "cell_type": "code",
   "execution_count": null,
   "metadata": {
    "collapsed": true
   },
   "outputs": [],
   "source": [
    "for char in 'The Python learns you. You Learn the Python. Every day we train.':\n",
    "    ar_chars.append(char)"
   ]
  },
  {
   "cell_type": "code",
   "execution_count": 136,
   "metadata": {
    "collapsed": true
   },
   "outputs": [],
   "source": [
    "ar_chars.reverse()"
   ]
  },
  {
   "cell_type": "code",
   "execution_count": 137,
   "metadata": {
    "collapsed": false
   },
   "outputs": [
    {
     "data": {
      "text/plain": [
       "array('c', \".niart ew yad yrevE .nohtyP eht nraeL uoY .uoy snrael nohtyP ehT.iksnivartS fo kaerts a dna vomisA fo enotrevo na htiw msicissalc oen nredom tsoP4321efiw a ylbaborp\\nrehtie dah fi dna\\nefil retteb a ekam ot\\nyenom dna evol ekil elpoeP ,\\t+|,*,\\n  t ,00:0,1/1/1/1,0,9,8,7,6,5,4,3,2,1erihsretsecrowc!rfbugsbrebzbqf'gry--nrqvgnrettavxaburabrenfrpncfrznA\\n.nrqvqbbtnrolnzgv,avnyckrbglfnrfvabvgngarzryczvrugsV\\n.nrqvqnonf'gv,avnyckrbgqenufvabvgngarzryczvrugsV\\n.jba*gutve*anugerggroargsbfverirauthbugyN\\n.eriraanugerggrofvjbA\\n.upghQre'hblffryahgfevsgnfhbviobrogbalnzlnjgnuguthbugyN\\n.gvbqbglnjfhbviob--rablyablyonersrecqan--rabroqyhbufreruG\\n.ffrhtbgabvgngczrgrugrfhsre,lgvhtvoznsbrpnsrugaV\\n.qrparyvflygvpvyckrffryaH\\n.lygaryvfffnceriraqyhbuffebeeR\\n.lgvehcfgnrolgvynpvgpnecuthbugyN\\n.fryherugxnreobguthbarynvprcfg'arenfrfnpynvprcF\\n.fgahbplgvyvonqnrE\\n.rfarqanugerggrofvrfencF\\n.qrgfraanugerggrofvgnyS\\n.qrgnpvyczbpanugerggrofvkryczbP\\n.kryczbpanugerggrofvryczvF\\n.gvpvyczvanugerggrofvgvpvyckR\\n.lythanugerggrofvyhsvghnrO\\n\\nfergrCzvGlo,abuglCsbarMruG\")"
      ]
     },
     "execution_count": 137,
     "metadata": {},
     "output_type": "execute_result"
    }
   ],
   "source": [
    "ar_chars"
   ]
  },
  {
   "cell_type": "code",
   "execution_count": 139,
   "metadata": {
    "collapsed": false
   },
   "outputs": [],
   "source": [
    "with open('ar_chars.array', 'w') as f:\n",
    "    ar_chars.tofile(f)"
   ]
  },
  {
   "cell_type": "code",
   "execution_count": 147,
   "metadata": {
    "collapsed": false
   },
   "outputs": [],
   "source": [
    "plink = !cat ./ar_chars.array"
   ]
  },
  {
   "cell_type": "code",
   "execution_count": 148,
   "metadata": {
    "collapsed": false
   },
   "outputs": [
    {
     "data": {
      "text/plain": [
       "['.niart ew yad yrevE .nohtyP eht nraeL uoY .uoy snrael nohtyP ehT.iksnivartS fo kaerts a dna vomisA fo enotrevo na htiw msicissalc oen nredom tsoP4321efiw a ylbaborp',\n",
       " 'rehtie dah fi dna',\n",
       " 'efil retteb a ekam ot',\n",
       " 'yenom dna evol ekil elpoeP ,\\t+|,*,',\n",
       " \"  t ,00:0,1/1/1/1,0,9,8,7,6,5,4,3,2,1erihsretsecrowc!rfbugsbrebzbqf'gry--nrqvgnrettavxaburabrenfrpncfrznA\",\n",
       " '.nrqvqbbtnrolnzgv,avnyckrbglfnrfvabvgngarzryczvrugsV',\n",
       " \".nrqvqnonf'gv,avnyckrbgqenufvabvgngarzryczvrugsV\",\n",
       " '.jba*gutve*anugerggroargsbfverirauthbugyN',\n",
       " '.eriraanugerggrofvjbA',\n",
       " \".upghQre'hblffryahgfevsgnfhbviobrogbalnzlnjgnuguthbugyN\",\n",
       " '.gvbqbglnjfhbviob--rablyablyonersrecqan--rabroqyhbufreruG',\n",
       " '.ffrhtbgabvgngczrgrugrfhsre,lgvhtvoznsbrpnsrugaV',\n",
       " '.qrparyvflygvpvyckrffryaH',\n",
       " '.lygaryvfffnceriraqyhbuffebeeR',\n",
       " '.lgvehcfgnrolgvynpvgpnecuthbugyN',\n",
       " \".fryherugxnreobguthbarynvprcfg'arenfrfnpynvprcF\",\n",
       " '.fgahbplgvyvonqnrE',\n",
       " '.rfarqanugerggrofvrfencF',\n",
       " '.qrgfraanugerggrofvgnyS',\n",
       " '.qrgnpvyczbpanugerggrofvkryczbP',\n",
       " '.kryczbpanugerggrofvryczvF',\n",
       " '.gvpvyczvanugerggrofvgvpvyckR',\n",
       " '.lythanugerggrofvyhsvghnrO',\n",
       " '',\n",
       " 'fergrCzvGlo,abuglCsbarMruG']"
      ]
     },
     "execution_count": 148,
     "metadata": {},
     "output_type": "execute_result"
    }
   ],
   "source": [
    "plink"
   ]
  },
  {
   "cell_type": "markdown",
   "metadata": {},
   "source": [
    "##array.tolist()"
   ]
  },
  {
   "cell_type": "code",
   "execution_count": 149,
   "metadata": {
    "collapsed": false
   },
   "outputs": [],
   "source": [
    "ar_list = ar_chars.tolist()"
   ]
  },
  {
   "cell_type": "markdown",
   "metadata": {},
   "source": [
    "##array.tostring()"
   ]
  },
  {
   "cell_type": "code",
   "execution_count": 150,
   "metadata": {
    "collapsed": true
   },
   "outputs": [],
   "source": [
    "ar_string = ar_chars.tostring()"
   ]
  },
  {
   "cell_type": "markdown",
   "metadata": {},
   "source": [
    "##array.tounicode()"
   ]
  },
  {
   "cell_type": "markdown",
   "metadata": {},
   "source": [
    "**moving on**"
   ]
  },
  {
   "cell_type": "markdown",
   "metadata": {},
   "source": [
    "##array.write()"
   ]
  },
  {
   "cell_type": "code",
   "execution_count": 153,
   "metadata": {
    "collapsed": true
   },
   "outputs": [],
   "source": [
    "ar_chars.reverse()"
   ]
  },
  {
   "cell_type": "code",
   "execution_count": 154,
   "metadata": {
    "collapsed": true
   },
   "outputs": [],
   "source": [
    "with open('ar_chars.array2', 'w') as f:\n",
    "    ar_chars.write(f)"
   ]
  },
  {
   "cell_type": "markdown",
   "metadata": {},
   "source": [
    "##Fun"
   ]
  },
  {
   "cell_type": "code",
   "execution_count": 157,
   "metadata": {
    "collapsed": false,
    "scrolled": true
   },
   "outputs": [],
   "source": [
    "from this import d as codex\n",
    "def Zen_Python_decode(message):\n",
    "    split_message = message.split(' ')\n",
    "    dec_message = []\n",
    "    for word in split_message:\n",
    "        dec_word = ''\n",
    "        for letter in word:\n",
    "            if letter in codex.keys():\n",
    "                dec_word += codex[letter]\n",
    "            else:\n",
    "                dec_word += letter\n",
    "        dec_message.append(dec_word) \n",
    "    return(str.join(' ', dec_message))"
   ]
  },
  {
   "cell_type": "code",
   "execution_count": 162,
   "metadata": {
    "collapsed": false
   },
   "outputs": [],
   "source": [
    "ar_string = ar_chars.tostring()"
   ]
  },
  {
   "cell_type": "code",
   "execution_count": 163,
   "metadata": {
    "collapsed": false
   },
   "outputs": [
    {
     "data": {
      "text/plain": [
       "\"TheZenofPython,byTimPeters\\n\\nBeautifulisbetterthanugly.\\nExplicitisbetterthanimplicit.\\nSimpleisbetterthancomplex.\\nComplexisbetterthancomplicated.\\nFlatisbetterthannested.\\nSparseisbetterthandense.\\nReadabilitycounts.\\nSpecialcasesaren'tspecialenoughtobreaktherules.\\nAlthoughpracticalitybeatspurity.\\nErrorsshouldneverpasssilently.\\nUnlessexplicitlysilenced.\\nInthefaceofambiguity,refusethetemptationtoguess.\\nThereshouldbeone--andpreferablyonlyone--obviouswaytodoit.\\nAlthoughthatwaymaynotbeobviousatfirstunlessyou'reDutch.\\nNowisbetterthannever.\\nAlthoughneverisoftenbetterthan*right*now.\\nIftheimplementationishardtoexplain,it'sabadidea.\\nIftheimplementationiseasytoexplain,itmaybeagoodidea.\\nNamespacesareonehonkinggreatidea--let'sdomoreofthose!pjbeprfgrefuver1,2,3,4,5,6,7,8,9,0,1/1/1/1,0:00, g  \\n,*,|+\\t, Crbcyr yvxr ybir naq zbarl\\ngb znxr n orggre yvsr\\nnaq vs unq rvgure\\ncebonoyl n jvsr1234Cbfg zbqrea arb pynffvpvfz jvgu na biregbar bs Nfvzbi naq n fgernx bs Fgenivafxv.Gur Clguba yrneaf lbh. Lbh Yrnea gur Clguba. Rirel qnl jr genva.\""
      ]
     },
     "execution_count": 163,
     "metadata": {},
     "output_type": "execute_result"
    }
   ],
   "source": [
    "Zen_Python_decode(ar_string)"
   ]
  },
  {
   "cell_type": "code",
   "execution_count": 164,
   "metadata": {
    "collapsed": false
   },
   "outputs": [
    {
     "name": "stdout",
     "output_type": "stream",
     "text": [
      "TheZenofPython,byTimPeters\n",
      "\n",
      "Beautifulisbetterthanugly.\n",
      "Explicitisbetterthanimplicit.\n",
      "Simpleisbetterthancomplex.\n",
      "Complexisbetterthancomplicated.\n",
      "Flatisbetterthannested.\n",
      "Sparseisbetterthandense.\n",
      "Readabilitycounts.\n",
      "Specialcasesaren'tspecialenoughtobreaktherules.\n",
      "Althoughpracticalitybeatspurity.\n",
      "Errorsshouldneverpasssilently.\n",
      "Unlessexplicitlysilenced.\n",
      "Inthefaceofambiguity,refusethetemptationtoguess.\n",
      "Thereshouldbeone--andpreferablyonlyone--obviouswaytodoit.\n",
      "Althoughthatwaymaynotbeobviousatfirstunlessyou'reDutch.\n",
      "Nowisbetterthannever.\n",
      "Althoughneverisoftenbetterthan*right*now.\n",
      "Iftheimplementationishardtoexplain,it'sabadidea.\n",
      "Iftheimplementationiseasytoexplain,itmaybeagoodidea.\n",
      "Namespacesareonehonkinggreatidea--let'sdomoreofthose!pjbeprfgrefuver1,2,3,4,5,6,7,8,9,0,1/1/1/1,0:00, g  \n",
      ",*,|+\t, Crbcyr yvxr ybir naq zbarl\n",
      "gb znxr n orggre yvsr\n",
      "naq vs unq rvgure\n",
      "cebonoyl n jvsr1234Cbfg zbqrea arb pynffvpvfz jvgu na biregbar bs Nfvzbi naq n fgernx bs Fgenivafxv.Gur Clguba yrneaf lbh. Lbh Yrnea gur Clguba. Rirel qnl jr genva.\n"
     ]
    }
   ],
   "source": [
    "print(Zen_Python_decode(ar_string))"
   ]
  },
  {
   "cell_type": "code",
   "execution_count": null,
   "metadata": {
    "collapsed": true
   },
   "outputs": [],
   "source": []
  }
 ],
 "metadata": {
  "kernelspec": {
   "display_name": "Python 2",
   "language": "python",
   "name": "python2"
  },
  "language_info": {
   "codemirror_mode": {
    "name": "ipython",
    "version": 2
   },
   "file_extension": ".py",
   "mimetype": "text/x-python",
   "name": "python",
   "nbconvert_exporter": "python",
   "pygments_lexer": "ipython2",
   "version": "2.7.9"
  }
 },
 "nbformat": 4,
 "nbformat_minor": 0
}
