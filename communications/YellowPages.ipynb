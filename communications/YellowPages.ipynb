{
 "cells": [
  {
   "cell_type": "markdown",
   "metadata": {},
   "source": [
    "#Yellow Pages Canada"
   ]
  },
  {
   "cell_type": "code",
   "execution_count": 5,
   "metadata": {
    "collapsed": true
   },
   "outputs": [],
   "source": [
    "import json, requests, urllib, re, pprint"
   ]
  },
  {
   "cell_type": "code",
   "execution_count": 1,
   "metadata": {
    "collapsed": true
   },
   "outputs": [],
   "source": [
    "YP_Local_AD_Network_api_key_request_url = 'https://publisher.yp.com/register'\n",
    "yellow_api_search_key_request_url = 'http://developer.yellowapi.com/member/register'"
   ]
  },
  {
   "cell_type": "markdown",
   "metadata": {},
   "source": [
    "##YellowAPI\n",
    "http://www.yellowapi.com/docs/  \n",
    "http://www.yellowapi.com/docs/places/  \n",
    "http://www.yellowapi.com/docs/deals/  "
   ]
  },
  {
   "cell_type": "code",
   "execution_count": 3,
   "metadata": {
    "collapsed": true
   },
   "outputs": [],
   "source": [
    "sandbox_api = ''\n",
    "production_api = ''\n",
    "sandbox_root = 'http://api.sandbox.yellowapi.com'\n",
    "production_root = 'http://api.yellowapi.com'"
   ]
  },
  {
   "cell_type": "markdown",
   "metadata": {},
   "source": [
    "###Places API Methods\n",
    "**FindBusiness** - This request returns local Canadian businesses that are most relevant to the search criteria.  \n",
    "**GetBusinessDetails** - Get business details.  Requires a FindBusiness call first. Information returned on this first call provides the necessary information for the GetBusinessDetails call.  \n",
    "**FindDealer** - When applicable, this request returns a list of all dealers/franchises/branches for that business. A business with several locations may have a “parent” listing (primary) and one or more “children” listings.  \n",
    "**GetTypeAhead** - USed for an autocomplete form  "
   ]
  },
  {
   "cell_type": "code",
   "execution_count": 246,
   "metadata": {
    "collapsed": false
   },
   "outputs": [],
   "source": [
    "class sandbox():\n",
    "    '''\n",
    "    Yellow Pages Canada Sandbox API implementation\n",
    "    create an instance of sandbox\n",
    "    \n",
    "    instance = sandbox()\n",
    "    \n",
    "    the search methods have parameters.  They are available for reference through the instance $Method_paramaters\n",
    "    \n",
    "    instance.Business_parameters\n",
    "    \n",
    "    build a dict prom selected paramaters for your method and pass that to the $Method_search function.\n",
    "    \n",
    "    params = { 'what':'Boots' }\n",
    "    instance.Business_Search( params )\n",
    "    '''\n",
    "    \n",
    "    global sandbox_api\n",
    "    global sandbox_root\n",
    "    global Business_Search_parameters\n",
    "    global Business_Details_Search_parameters\n",
    "    global FindDealer_Search_paramaters\n",
    "    global GetTypeAhead_Search_parameters\n",
    "    sandbox_api = ''\n",
    "    sandbox_root = 'http://api.sandbox.yellowapi.com'\n",
    "    \n",
    "    Business_Search_parameters = {\n",
    "        'pg':{ 'description':'Requested page', 'example':'integer > 0, max 50 defailt 1', 'required':'N'},\n",
    "        'what':{ 'description':'search term or keyword or telephone number', 'example':'any text string, utf-8', 'required':'Y'},\n",
    "        'lang':{ 'description':'language for returned content', 'example':'en, fr', 'required':'N'},\n",
    "        'where':{ 'description':'This may be a location name or a specific coordinate specification in the format: cZ{longitude},{latitude}.', 'example':'Toronto , cZ-73.61995,45.49981, UTF-8', 'required':'Y' },\n",
    "        'pgLen':{ 'descrition':'Number of results', 'example':'integer > 0, Max 100, Default 40', 'required':'N'},\n",
    "        'dist':{ 'description':'Maximum distance to return results within (when latitude/longitude is specified) in kilometres', 'example':'Positive decimal value', 'required':'N'},\n",
    "        'fmt':{ 'desription':'The format of output', 'example':'JSON or XML', 'required':'Y'},\n",
    "        'sflag':{ 'description':'Flags to modify or filter the search result. These may be combined as logical “AND” filters.  To combine more than one filter, use the “dash” to separate each value.', 'example':'bn – {what} search term in business name, fto – results has photo, vdo – results has video', 'required':'N'},\n",
    "        'apikey':{ 'description':'an API key for the Places API', 'example':'24 characters alphanumeric string', 'required':'Y'},\n",
    "        'UID':{ 'description':'A string of characters which uniquely identifies a user of the application. (ie. IP address, session ID, or hash of the phone ID)', 'example':'IP address, session ID, hash of the phone ID, etc.', 'required':'Y' }\n",
    "    }\n",
    "    Business_Details_Search_parameters = {\n",
    "        'prov':{ 'description':'Normalized name of Province.  Canada is acceptable', 'example':'text-string', 'required':'Y' },\n",
    "        'city':{ 'description':'The city location', 'example':'Text string', 'required':'N' },\n",
    "        'bus-name':{ 'description':'Business Name normalized', 'example':'text-string', 'required':'Y' },\n",
    "        'listingId':{ 'description':'The unique listing id identifying the business', 'example':'from getbusiness and getdealer', 'required':'Y' },\n",
    "        'lang':{ 'description':'Suggestion Language', 'example':'en, fr', 'required':'N' },\n",
    "        'fmt':{ 'description':'The format of the Output', 'example':'JSON or XML', 'required':'Y' },\n",
    "        'apikey':{ 'description':'API key', 'example':'24 character alphanumeric', 'required':'Y' },\n",
    "        'UID':{ 'description':'A string of characers which uniquely identifies a user of the application', 'example':'phone-number or proper name', 'required':'Y' },\n",
    "    }\n",
    "    FindDealer_Search_paramaters = {\n",
    "        'pid':{ 'description':'The listingId of a parent business. A parent business can be identified by the ‘isParent’ flag in the Listing object returned by FindBusinesses.', 'example':'Valid parent listing id', 'required':'Y' },\n",
    "        'pg':{ 'description':'The requested page', 'example':'Number > 0 <=50 default 1', 'required':'N' },\n",
    "        'pgLen':{ 'description':'Results to return per page', 'example':'Number > 0 and <= 100 default 40', 'required':'N' },\n",
    "        'lang':{ 'description':'Suggestion language', 'example':'en, fr', 'required':'N' },\n",
    "        'fmt':{ 'description':'THe format of the ouput', 'example':'JSON or XML', 'required':'Y' },\n",
    "        'apikey':{ 'description':'API key', 'example':'24 character alphanumeric', 'required':'Y' },\n",
    "        'UID':{ 'description':'A string of characers which uniquely identifies a user of the application', 'example':'phone-number or proper name', 'required':'Y' }, \n",
    "    }\n",
    "    \n",
    "    GetTypeAhead_Search_parameters = {\n",
    "        'text':{ 'description':'Characters typed by user', 'example':'Any Character sequence', 'required':'Y' },\n",
    "        'lang':{ 'description':'Suggestion language', 'example':'en, fr', 'required':'N' },\n",
    "        'field':{ 'description':'which field to provide suggestion', 'example':'WHAT, WHERE', 'required':'Y' },\n",
    "        'apikey':{ 'description':'the api key', 'example':'24 digit alpha numeric code', 'required':'Y' },\n",
    "        'fmt':{ 'description':'THe format of the ouput', 'example':'JSON or XML', 'required':'Y' },\n",
    "        'UID':{ 'description':'A unique identifier', 'example':'Phone number, proper name', 'required':'Y' },\n",
    "    }\n",
    "    \n",
    "    def __init__(self):\n",
    "        self.sandbox_api = sandbox_api\n",
    "        self.sandbox_root = sandbox_root\n",
    "        self.Business_Search_parameters = Business_Search_parameters\n",
    "        self.Business_Details_Search_parameters = Business_Details_Search_parameters\n",
    "        self.FindDealer_Search_paramaters = FindDealer_Search_paramaters\n",
    "        self.GetTypeAhead_Search_parameters = GetTypeAhead_Search_parameters\n",
    "        \n",
    "    def FindBusiness_Search_Required_Parameters(self):\n",
    "        return [p for p in Business_Search_parameters if Business_Search_parameters[p]['required'] == 'Y']\n",
    "    \n",
    "    def GetBusinessDetails_Search_Required_Parameters(self):\n",
    "        return [p for p in Business_Details_Search_parameters if Business_Details_Search_parameters[p]['required'] == 'Y']\n",
    "    \n",
    "    def FindDealer_Search_Required_Paramaters(self):\n",
    "        return [p for p in FindDealer_Search_paramaters if FindDealer_Search_paramaters[p]['required'] == 'Y']\n",
    "    \n",
    "    def GetTypeAhead_Search_Required_Parameters(self):\n",
    "        return [p for p in GetTypeAhead_Search_parameters if GetTypeAhead_Search_parameters[p]['required'] == 'Y']\n",
    "    \n",
    "    def FindBusiness_Search(self, parameters_dict):\n",
    "        '''\n",
    "        build a dict prom selected paramaters for your method and pass that to the $Method_search function.\n",
    "        \n",
    "        instance = sandbox()\n",
    "        params = { 'what':'Boots' }\n",
    "        instance.Business_Search( params )\n",
    "        \n",
    "        All Required Paramaters have to be passed in\n",
    "        [p for p in instance.Business_parameters if p.values()[0]['required' == 'Y']\n",
    "        \n",
    "        specify JSON output 'fmt':'JSON'\n",
    "        '''\n",
    "        form = params\n",
    "        query = urllib.urlencode(form)\n",
    "        #print (sandbox_root + '/FindBusiness/' + \"?\" + query)\n",
    "        YellowAPI_request = urllib.urlopen(sandbox_root + '/FindBusiness/' + \"?\" + query)\n",
    "        x = json.loads(YellowAPI_request.read())\n",
    "        pprint.pprint(x)\n",
    "    \n",
    "    def GetBusinessDetails_Search(self, parameters_dict):\n",
    "        '''\n",
    "        pass in the business id from FindBusiness() in the paramaters\n",
    "        '''\n",
    "        form = params\n",
    "        query = urllib.urlencode(form)\n",
    "        #print (sandbox_root + '/GetBusinessDetails/' + \"?\" + query)\n",
    "        YellowAPI_request = urllib.urlopen(sandbox_root + '/GetBusinessDetails/' + \"?\" + query)\n",
    "        x = json.loads(YellowAPI_request.read())\n",
    "        pprint.pprint(x)\n",
    "    \n",
    "    def FindDealer_Search(self, paramaters_dict):\n",
    "        '''\n",
    "        pass in the parentId in params.\n",
    "        '''\n",
    "        form = params\n",
    "        query = urllib.urlencode(form)\n",
    "        #print (sandbox_root + '/FindDealer/' + \"?\" + query)\n",
    "        YellowAPI_request = urllib.urlopen(sandbox_root + '/FindDealer/' + \"?\" + query)\n",
    "        x = json.loads(YellowAPI_request.read())\n",
    "        pprint.pprint(x)\n",
    "    \n",
    "    def GetTypeAhead_Search(self, parameters_dict):\n",
    "        '''\n",
    "        pass in required paramaters in dict form.\n",
    "        \n",
    "        This is for autocomplete for a web form. field is WHAT or WHERE\n",
    "        '''\n",
    "        form = params\n",
    "        query = urllib.urlencode(form)\n",
    "        #print (sandbox_root + '/GetTypeAhead/' + \"?\" + query)\n",
    "        YellowAPI_request = urllib.urlopen(sandbox_root + '/GetTypeAhead/' + \"?\" + query)\n",
    "        x = json.loads(YellowAPI_request.read())\n",
    "        pprint.pprint(x)"
   ]
  },
  {
   "cell_type": "code",
   "execution_count": 247,
   "metadata": {
    "collapsed": false
   },
   "outputs": [
    {
     "data": {
      "text/plain": [
       "['Business_Details_Search_parameters',\n",
       " 'Business_Search_parameters',\n",
       " 'FindBusiness_Search',\n",
       " 'FindBusiness_Search_Required_Parameters',\n",
       " 'FindDealer_Search',\n",
       " 'FindDealer_Search_Required_Paramaters',\n",
       " 'FindDealer_Search_paramaters',\n",
       " 'GetBusinessDetails_Search',\n",
       " 'GetBusinessDetails_Search_Required_Parameters',\n",
       " 'GetTypeAhead_Search',\n",
       " 'GetTypeAhead_Search_Required_Parameters',\n",
       " 'GetTypeAhead_Search_parameters',\n",
       " '__doc__',\n",
       " '__init__',\n",
       " '__module__',\n",
       " 'sandbox_api',\n",
       " 'sandbox_root']"
      ]
     },
     "execution_count": 247,
     "metadata": {},
     "output_type": "execute_result"
    }
   ],
   "source": [
    "instance = sandbox()\n",
    "dir(instance)"
   ]
  },
  {
   "cell_type": "code",
   "execution_count": 228,
   "metadata": {
    "collapsed": false
   },
   "outputs": [
    {
     "data": {
      "text/plain": [
       "['what', 'apikey', 'fmt', 'where', 'UID']"
      ]
     },
     "execution_count": 228,
     "metadata": {},
     "output_type": "execute_result"
    }
   ],
   "source": [
    "instance.FindBusiness_Search_Required_Parameters()"
   ]
  },
  {
   "cell_type": "code",
   "execution_count": 179,
   "metadata": {
    "collapsed": false
   },
   "outputs": [
    {
     "name": "stdout",
     "output_type": "stream",
     "text": [
      "{u'listings': [{u'address': {u'city': u'Toronto',\n",
      "                             u'pcode': u'M6J 1Y3',\n",
      "                             u'prov': u'ON',\n",
      "                             u'street': u'1375 Dundas St W'},\n",
      "                u'content': {u'DspAd': {u'avail': False, u'inMkt': False},\n",
      "                             u'Logo': {u'avail': False, u'inMkt': False},\n",
      "                             u'Photo': {u'avail': False, u'inMkt': False},\n",
      "                             u'Profile': {u'avail': True, u'inMkt': True},\n",
      "                             u'Url': {u'avail': False, u'inMkt': False},\n",
      "                             u'Video': {u'avail': False, u'inMkt': False}},\n",
      "                u'distance': u'3.8',\n",
      "                u'geoCode': {u'latitude': u'43.649541',\n",
      "                             u'longitude': u'-79.427902'},\n",
      "                u'id': u'100744375',\n",
      "                u'isParent': False,\n",
      "                u'name': u'Solita',\n",
      "                u'parentId': u''},\n",
      "               {u'address': {u'city': u'Toronto',\n",
      "                             u'pcode': u'M6R 1X3',\n",
      "                             u'prov': u'ON',\n",
      "                             u'street': u'2288 Dundas St W'},\n",
      "                u'content': {u'DspAd': {u'avail': False, u'inMkt': False},\n",
      "                             u'Logo': {u'avail': False, u'inMkt': False},\n",
      "                             u'Photo': {u'avail': False, u'inMkt': False},\n",
      "                             u'Profile': {u'avail': False, u'inMkt': False},\n",
      "                             u'Url': {u'avail': False, u'inMkt': False},\n",
      "                             u'Video': {u'avail': False, u'inMkt': False}},\n",
      "                u'distance': u'5.2',\n",
      "                u'geoCode': {u'latitude': u'43.655358',\n",
      "                             u'longitude': u'-79.452247'},\n",
      "                u'id': u'2192524',\n",
      "                u'isParent': False,\n",
      "                u'name': u'Coffee Time',\n",
      "                u'parentId': u''},\n",
      "               {u'address': {u'city': u'Toronto',\n",
      "                             u'pcode': u'M5A 4M8',\n",
      "                             u'prov': u'ON',\n",
      "                             u'street': u'222 The Esplanade'},\n",
      "                u'content': {u'DspAd': {u'avail': False, u'inMkt': False},\n",
      "                             u'Logo': {u'avail': False, u'inMkt': False},\n",
      "                             u'Photo': {u'avail': False, u'inMkt': False},\n",
      "                             u'Profile': {u'avail': False, u'inMkt': False},\n",
      "                             u'Url': {u'avail': False, u'inMkt': False},\n",
      "                             u'Video': {u'avail': False, u'inMkt': False}},\n",
      "                u'distance': u'3.1',\n",
      "                u'geoCode': {u'latitude': u'43.649439',\n",
      "                             u'longitude': u'-79.365529'},\n",
      "                u'id': u'100569492',\n",
      "                u'isParent': False,\n",
      "                u'name': u'Coffee Time',\n",
      "                u'parentId': u''},\n",
      "               {u'address': {u'city': u'Toronto',\n",
      "                             u'pcode': u'M9N 1X7',\n",
      "                             u'prov': u'ON',\n",
      "                             u'street': u'2097 Weston Rd.'},\n",
      "                u'content': {u'DspAd': {u'avail': False, u'inMkt': False},\n",
      "                             u'Logo': {u'avail': False, u'inMkt': False},\n",
      "                             u'Photo': {u'avail': False, u'inMkt': False},\n",
      "                             u'Profile': {u'avail': False, u'inMkt': False},\n",
      "                             u'Url': {u'avail': False, u'inMkt': False},\n",
      "                             u'Video': {u'avail': False, u'inMkt': False}},\n",
      "                u'distance': u'11.2',\n",
      "                u'geoCode': {u'latitude': u'43.702165',\n",
      "                             u'longitude': u'-79.523242'},\n",
      "                u'id': u'100882097',\n",
      "                u'isParent': False,\n",
      "                u'name': u'Country Style',\n",
      "                u'parentId': u''},\n",
      "               {u'address': {u'city': u'North York',\n",
      "                             u'pcode': u'M3B 3L6',\n",
      "                             u'prov': u'ON',\n",
      "                             u'street': u'95 Moatfield Dr'},\n",
      "                u'content': {u'DspAd': {u'avail': False, u'inMkt': False},\n",
      "                             u'Logo': {u'avail': False, u'inMkt': False},\n",
      "                             u'Photo': {u'avail': False, u'inMkt': False},\n",
      "                             u'Profile': {u'avail': True, u'inMkt': True},\n",
      "                             u'Url': {u'avail': False, u'inMkt': False},\n",
      "                             u'Video': {u'avail': False, u'inMkt': False}},\n",
      "                u'distance': u'10.5',\n",
      "                u'geoCode': {u'latitude': u'43.760058',\n",
      "                             u'longitude': u'-79.349857'},\n",
      "                u'id': u'2869042',\n",
      "                u'isParent': False,\n",
      "                u'name': u'Kraft Canada Inc',\n",
      "                u'parentId': u''},\n",
      "               {u'address': {u'city': u'Toronto',\n",
      "                             u'pcode': u'M6H 3K6',\n",
      "                             u'prov': u'ON',\n",
      "                             u'street': u'740 Dufferin St'},\n",
      "                u'content': {u'DspAd': {u'avail': False, u'inMkt': False},\n",
      "                             u'Logo': {u'avail': False, u'inMkt': False},\n",
      "                             u'Photo': {u'avail': False, u'inMkt': False},\n",
      "                             u'Profile': {u'avail': False, u'inMkt': False},\n",
      "                             u'Url': {u'avail': False, u'inMkt': False},\n",
      "                             u'Video': {u'avail': False, u'inMkt': False}},\n",
      "                u'distance': u'3.9',\n",
      "                u'geoCode': {u'latitude': u'43.652851',\n",
      "                             u'longitude': u'-79.432687'},\n",
      "                u'id': u'100883169',\n",
      "                u'isParent': False,\n",
      "                u'name': u'Express Country Style',\n",
      "                u'parentId': u''},\n",
      "               {u'address': {u'city': u'Toronto',\n",
      "                             u'pcode': u'M5S 1G2',\n",
      "                             u'prov': u'ON',\n",
      "                             u'street': u'66 Harbord St'},\n",
      "                u'content': {u'DspAd': {u'avail': False, u'inMkt': False},\n",
      "                             u'Logo': {u'avail': False, u'inMkt': False},\n",
      "                             u'Photo': {u'avail': False, u'inMkt': False},\n",
      "                             u'Profile': {u'avail': True, u'inMkt': True},\n",
      "                             u'Url': {u'avail': True, u'inMkt': True},\n",
      "                             u'Video': {u'avail': False, u'inMkt': False}},\n",
      "                u'distance': u'1.2',\n",
      "                u'geoCode': {u'latitude': u'43.663182',\n",
      "                             u'longitude': u'-79.40162'},\n",
      "                u'id': u'4358003',\n",
      "                u'isParent': False,\n",
      "                u'name': u'Second Cup',\n",
      "                u'parentId': u''},\n",
      "               {u'address': {u'city': u'Toronto',\n",
      "                             u'pcode': u'M6B 3X8',\n",
      "                             u'prov': u'ON',\n",
      "                             u'street': u'815 Caledonia Rd'},\n",
      "                u'content': {u'DspAd': {u'avail': False, u'inMkt': False},\n",
      "                             u'Logo': {u'avail': False, u'inMkt': False},\n",
      "                             u'Photo': {u'avail': False, u'inMkt': False},\n",
      "                             u'Profile': {u'avail': True, u'inMkt': True},\n",
      "                             u'Url': {u'avail': False, u'inMkt': False},\n",
      "                             u'Video': {u'avail': False, u'inMkt': False}},\n",
      "                u'distance': u'6.8',\n",
      "                u'geoCode': {u'latitude': u'43.701544',\n",
      "                             u'longitude': u'-79.464215'},\n",
      "                u'id': u'5107065',\n",
      "                u'isParent': False,\n",
      "                u'name': u'Tim Hortons',\n",
      "                u'parentId': u''},\n",
      "               {u'address': {u'city': u'Toronto',\n",
      "                             u'pcode': u'M4P 1E4',\n",
      "                             u'prov': u'ON',\n",
      "                             u'street': u'2300 Yonge Street, PO Box 2368'},\n",
      "                u'content': {u'DspAd': {u'avail': False, u'inMkt': False},\n",
      "                             u'Logo': {u'avail': False, u'inMkt': False},\n",
      "                             u'Photo': {u'avail': False, u'inMkt': False},\n",
      "                             u'Profile': {u'avail': True, u'inMkt': True},\n",
      "                             u'Url': {u'avail': False, u'inMkt': False},\n",
      "                             u'Video': {u'avail': False, u'inMkt': False}},\n",
      "                u'distance': u'4.1',\n",
      "                u'geoCode': {u'latitude': u'43.707235',\n",
      "                             u'longitude': u'-79.398469'},\n",
      "                u'id': u'3937798',\n",
      "                u'isParent': False,\n",
      "                u'name': u'Yogen Fruz',\n",
      "                u'parentId': u''},\n",
      "               {u'address': {u'city': u'Toronto',\n",
      "                             u'pcode': u'M5S 1Y3',\n",
      "                             u'prov': u'ON',\n",
      "                             u'street': u'500 Bloor St W'},\n",
      "                u'content': {u'DspAd': {u'avail': False, u'inMkt': False},\n",
      "                             u'Logo': {u'avail': False, u'inMkt': False},\n",
      "                             u'Photo': {u'avail': False, u'inMkt': False},\n",
      "                             u'Profile': {u'avail': False, u'inMkt': False},\n",
      "                             u'Url': {u'avail': False, u'inMkt': False},\n",
      "                             u'Video': {u'avail': False, u'inMkt': False}},\n",
      "                u'distance': u'1.7',\n",
      "                u'geoCode': {u'latitude': u'43.665346',\n",
      "                             u'longitude': u'-79.410197'},\n",
      "                u'id': u'100869201',\n",
      "                u'isParent': False,\n",
      "                u'name': u'Aroma Espresso Bar',\n",
      "                u'parentId': u''},\n",
      "               {u'address': {u'city': u'Toronto',\n",
      "                             u'pcode': u'M3B 1X8',\n",
      "                             u'prov': u'ON',\n",
      "                             u'street': u'808 York Mills Rd'},\n",
      "                u'content': {u'DspAd': {u'avail': False, u'inMkt': False},\n",
      "                             u'Logo': {u'avail': False, u'inMkt': False},\n",
      "                             u'Photo': {u'avail': False, u'inMkt': False},\n",
      "                             u'Profile': {u'avail': True, u'inMkt': True},\n",
      "                             u'Url': {u'avail': True, u'inMkt': True},\n",
      "                             u'Video': {u'avail': False, u'inMkt': False}},\n",
      "                u'distance': u'9.6',\n",
      "                u'geoCode': {u'latitude': u'43.753511',\n",
      "                             u'longitude': u'-79.357791'},\n",
      "                u'id': u'2527414',\n",
      "                u'isParent': False,\n",
      "                u'name': u'Second Cup',\n",
      "                u'parentId': u''},\n",
      "               {u'address': {u'city': u'Toronto',\n",
      "                             u'pcode': u'M5M 3Z7',\n",
      "                             u'prov': u'ON',\n",
      "                             u'street': u'1871 Avenue Rd'},\n",
      "                u'content': {u'DspAd': {u'avail': False, u'inMkt': False},\n",
      "                             u'Logo': {u'avail': False, u'inMkt': False},\n",
      "                             u'Photo': {u'avail': False, u'inMkt': False},\n",
      "                             u'Profile': {u'avail': False, u'inMkt': False},\n",
      "                             u'Url': {u'avail': False, u'inMkt': False},\n",
      "                             u'Video': {u'avail': False, u'inMkt': False}},\n",
      "                u'distance': u'7.2',\n",
      "                u'geoCode': {u'latitude': u'43.73225',\n",
      "                             u'longitude': u'-79.419417'},\n",
      "                u'id': u'100440785',\n",
      "                u'isParent': False,\n",
      "                u'name': u'Tim Hortons',\n",
      "                u'parentId': u''},\n",
      "               {u'address': {u'city': u'Toronto',\n",
      "                             u'pcode': u'M9N 2T8',\n",
      "                             u'prov': u'ON',\n",
      "                             u'street': u'1890 Jane St'},\n",
      "                u'content': {u'DspAd': {u'avail': False, u'inMkt': False},\n",
      "                             u'Logo': {u'avail': False, u'inMkt': False},\n",
      "                             u'Photo': {u'avail': False, u'inMkt': False},\n",
      "                             u'Profile': {u'avail': False, u'inMkt': False},\n",
      "                             u'Url': {u'avail': False, u'inMkt': False},\n",
      "                             u'Video': {u'avail': False, u'inMkt': False}},\n",
      "                u'distance': u'10.2',\n",
      "                u'geoCode': {u'latitude': u'43.709552',\n",
      "                             u'longitude': u'-79.505605'},\n",
      "                u'id': u'100441713',\n",
      "                u'isParent': False,\n",
      "                u'name': u'Tim Hortons',\n",
      "                u'parentId': u''},\n",
      "               {u'address': {u'city': u'Toronto',\n",
      "                             u'pcode': u'M6H 1N7',\n",
      "                             u'prov': u'ON',\n",
      "                             u'street': u'1287 Bloor St W'},\n",
      "                u'content': {u'DspAd': {u'avail': False, u'inMkt': False},\n",
      "                             u'Logo': {u'avail': False, u'inMkt': False},\n",
      "                             u'Photo': {u'avail': False, u'inMkt': False},\n",
      "                             u'Profile': {u'avail': False, u'inMkt': False},\n",
      "                             u'Url': {u'avail': False, u'inMkt': False},\n",
      "                             u'Video': {u'avail': False, u'inMkt': False}},\n",
      "                u'distance': u'4.4',\n",
      "                u'geoCode': {u'latitude': u'43.658365',\n",
      "                             u'longitude': u'-79.44261'},\n",
      "                u'id': u'400136',\n",
      "                u'isParent': False,\n",
      "                u'name': u'Coffee Time',\n",
      "                u'parentId': u''},\n",
      "               {u'address': {u'city': u'Toronto',\n",
      "                             u'pcode': u'M4W 1A8',\n",
      "                             u'prov': u'ON',\n",
      "                             u'street': u'2 Bloor St E'},\n",
      "                u'content': {u'DspAd': {u'avail': False, u'inMkt': False},\n",
      "                             u'Logo': {u'avail': False, u'inMkt': False},\n",
      "                             u'Photo': {u'avail': False, u'inMkt': False},\n",
      "                             u'Profile': {u'avail': False, u'inMkt': False},\n",
      "                             u'Url': {u'avail': False, u'inMkt': False},\n",
      "                             u'Video': {u'avail': False, u'inMkt': False}},\n",
      "                u'distance': u'0.3',\n",
      "                u'geoCode': {u'latitude': u'43.6702311',\n",
      "                             u'longitude': u'-79.3867468'},\n",
      "                u'id': u'100883172',\n",
      "                u'isParent': False,\n",
      "                u'name': u'Express Country Style',\n",
      "                u'parentId': u''}],\n",
      " u'summary': {u'Prov': u'ON',\n",
      "              u'currentPage': 1,\n",
      "              u'firstListing': 1,\n",
      "              u'lastListing': 15,\n",
      "              u'latitude': u'43.67057',\n",
      "              u'listingsPerPage': 15,\n",
      "              u'longitude': u'-79.390898',\n",
      "              u'pageCount': 201,\n",
      "              u'totalListings': 3001,\n",
      "              u'what': u'Coffee',\n",
      "              u'where': u'Toronto'}}\n"
     ]
    }
   ],
   "source": [
    "params = { 'what':'Coffee', 'apikey':sandbox_api, 'where':'Toronto', 'UID':'crispybacon', 'fmt':'JSON' }\n",
    "instance.FindBusiness_Search( params )"
   ]
  },
  {
   "cell_type": "code",
   "execution_count": 236,
   "metadata": {
    "collapsed": false
   },
   "outputs": [
    {
     "data": {
      "text/plain": [
       "['apikey', 'UID', 'listingId', 'prov', 'fmt', 'bus-name']"
      ]
     },
     "execution_count": 236,
     "metadata": {},
     "output_type": "execute_result"
    }
   ],
   "source": [
    "instance.GetBusinessDetails_Search_Required_Parameters()"
   ]
  },
  {
   "cell_type": "code",
   "execution_count": 237,
   "metadata": {
    "collapsed": false
   },
   "outputs": [
    {
     "name": "stdout",
     "output_type": "stream",
     "text": [
      "{u'address': {u'city': u'Toronto',\n",
      "              u'pcode': u'M6J 1Y3',\n",
      "              u'prov': u'ON',\n",
      "              u'street': u'1375 Dundas St W'},\n",
      " u'categories': [{u'isSensitive': False, u'name': u'Cafes Terraces'},\n",
      "                 {u'isSensitive': False, u'name': u'Gourmet Food Shops'}],\n",
      " u'geoCode': {u'latitude': u'43.649541', u'longitude': u'-79.427902'},\n",
      " u'id': u'100744375',\n",
      " u'logos': {u'EN': u'http://cdn.ci2.yp.ca/l/1596/84/15968499aa_l.gif',\n",
      "            u'FR': u'http://cdn.ci3.yp.ca/t/1596/85/15968515aa_t.gif'},\n",
      " u'merchantUrl': u'http://www.yellowpages.ca/bus/Ontario/Toronto/Solita/100744375.html',\n",
      " u'name': u'Solita',\n",
      " u'phones': [{u'dispNum': u'416-519-5534',\n",
      "              u'npa': u'416',\n",
      "              u'num': u'5534',\n",
      "              u'nxx': u'519',\n",
      "              u'type': u'primary'}],\n",
      " u'products': {u'dispAd': [],\n",
      "               u'photos': [],\n",
      "               u'profiles': [{u'headerImage': None,\n",
      "                              u'lang': u'FR',\n",
      "                              u'profileId': u'8091915',\n",
      "                              u'udac': u'VP'},\n",
      "                             {u'keywords': {u'ProdServ': [u'Gourmet Shop']},\n",
      "                              u'lang': u'EN'}],\n",
      "               u'videos': [],\n",
      "               u'webUrl': []}}\n"
     ]
    }
   ],
   "source": [
    "params = { 'apikey':sandbox_api, 'UID':'Jesse Bacon', 'listingId':'100744375', 'prov':'Canada', 'fmt':'JSON', 'bus-name':'Solita'}\n",
    "instance.GetBusinessDetails_Search( params )"
   ]
  },
  {
   "cell_type": "code",
   "execution_count": 212,
   "metadata": {
    "collapsed": false
   },
   "outputs": [
    {
     "data": {
      "text/plain": [
       "['apikey', 'UID', 'fmt', 'pid']"
      ]
     },
     "execution_count": 212,
     "metadata": {},
     "output_type": "execute_result"
    }
   ],
   "source": [
    "instance.FindDealer_Search_Required_paramaters()"
   ]
  },
  {
   "cell_type": "code",
   "execution_count": 224,
   "metadata": {
    "collapsed": false
   },
   "outputs": [
    {
     "name": "stdout",
     "output_type": "stream",
     "text": [
      "{u'address': {u'city': u'', u'pcode': u'', u'prov': u'', u'street': u''},\n",
      " u'categories': [{u'isSensitive': False, u'name': u'General Insurance'},\n",
      "                 {u'isSensitive': False,\n",
      "                  u'name': u'Insurance Agents & Brokers'}],\n",
      " u'id': u'6418182',\n",
      " u'logos': {u'EN': u'http://cdn.ci2.yp.ca/t/1577/09/15770919aa_t.gif',\n",
      "            u'FR': u'http://cdn.ci1.yp.ca/t/1582/91/15829183aa_t.gif'},\n",
      " u'merchantUrl': u'http://www.yellowpages.ca/bus/Canada/The-Co-operators/6418182.html',\n",
      " u'name': u'The Co-operators',\n",
      " u'phones': [],\n",
      " u'products': {u'dispAd': [{u'thmbUrl': u'http://cdn.ci2.yp.ca/l/1548/53/15485359aa_l.gif',\n",
      "                            u'url': u'http://cdn.ci3.yp.ca/f/1548/53/15485359aa_f.jpg'}],\n",
      "               u'photos': [],\n",
      "               u'profiles': [{u'keywords': {u'LangSpk': [u'Anglais'],\n",
      "                                            u'OpenHrs': [u'Lundi 8:30 - 17:00',\n",
      "                                                         u'Mardi 8:30 - 17:00',\n",
      "                                                         u'Mercredi 8:30 - 17:00',\n",
      "                                                         u'Jeudi 8:30 - 17:00',\n",
      "                                                         u'Vendredi 8:30 - 17:00'],\n",
      "                                            u'ProdServ': [u'Assurance maladie']},\n",
      "                              u'lang': u'FR'},\n",
      "                             {u'keywords': {u'LangSpk': [u'English'],\n",
      "                                            u'OpenHrs': [u'Monday 8:30 am - 5:00 pm',\n",
      "                                                         u'Tuesday 8:30 am - 5:00 pm',\n",
      "                                                         u'Wednesday 8:30 am - 5:00 pm',\n",
      "                                                         u'Thursday 8:30 am - 5:00 pm',\n",
      "                                                         u'Friday 8:30 am - 5:00 pm'],\n",
      "                                            u'ProdServ': [u'Auto Insurance',\n",
      "                                                          u'Business Insurance',\n",
      "                                                          u'Commercial Insurance',\n",
      "                                                          u'Financial Planning',\n",
      "                                                          u'Financial Service',\n",
      "                                                          u'Home Insurance',\n",
      "                                                          u'Insurance',\n",
      "                                                          u'Insurance Broker',\n",
      "                                                          u'Insurance Life',\n",
      "                                                          u'Insurance Service',\n",
      "                                                          u'Life',\n",
      "                                                          u'Life Insurance',\n",
      "                                                          u'Health Insurance']},\n",
      "                              u'lang': u'EN'}],\n",
      "               u'videos': [{u'thmbUrl': u'http://yellowpage.vo.llnwd.net/o37/63776031001/201409/2286/63776031001_3776168148001_cooperators.jpg?pubId=63776031001',\n",
      "                            u'universalUrl': u'http://legacy-videos.yp.ca/6418182/167708/2402380140001',\n",
      "                            u'url': u'http://cdn.media.yp.ca/167708/1369250616847.flv'}],\n",
      "               u'webUrl': [u'http://www.cooperators.ca']}}\n"
     ]
    }
   ],
   "source": [
    "params = { 'apikey':sandbox_api, 'UID':'Jesse Bacon', 'listingId':'6418182', 'prov':'Canada', 'fmt':'JSON', 'bus-name':'The Co-operators'}\n",
    "instance.GetBusinessDetails_Search(params)"
   ]
  },
  {
   "cell_type": "code",
   "execution_count": 248,
   "metadata": {
    "collapsed": false
   },
   "outputs": [
    {
     "data": {
      "text/plain": [
       "['apikey', 'UID', 'text', 'fmt', 'field']"
      ]
     },
     "execution_count": 248,
     "metadata": {},
     "output_type": "execute_result"
    }
   ],
   "source": [
    "instance.GetTypeAhead_Search_Required_Parameters()"
   ]
  },
  {
   "cell_type": "code",
   "execution_count": 245,
   "metadata": {
    "collapsed": false
   },
   "outputs": [
    {
     "name": "stdout",
     "output_type": "stream",
     "text": [
      "{u'suggestedValues': [{u'alt': u'martial arts lessons & schools',\n",
      "                       u'code': u'',\n",
      "                       u'type': u's',\n",
      "                       u'value': u'martial arts lessons & schools'},\n",
      "                      {u'alt': u'martial arts',\n",
      "                       u'code': u'',\n",
      "                       u'type': u's',\n",
      "                       u'value': u'martial arts'},\n",
      "                      {u'alt': u'Martin',\n",
      "                       u'code': u'',\n",
      "                       u'type': u's',\n",
      "                       u'value': u'Martin'},\n",
      "                      {u'alt': u'martial arts supplies',\n",
      "                       u'code': u'',\n",
      "                       u'type': u's',\n",
      "                       u'value': u'martial arts supplies'},\n",
      "                      {u'alt': u'Martel',\n",
      "                       u'code': u'',\n",
      "                       u'type': u's',\n",
      "                       u'value': u'Martel'},\n",
      "                      {u'alt': u'martial arts & self-defense instruction',\n",
      "                       u'code': u'',\n",
      "                       u'type': u's',\n",
      "                       u'value': u'martial arts & self-defense instruction'},\n",
      "                      {u'alt': u'martial arts & self-defense equipment & supplies',\n",
      "                       u'code': u'',\n",
      "                       u'type': u's',\n",
      "                       u'value': u'martial arts & self-defense equipment & supplies'},\n",
      "                      {u'alt': u'Martin Deerline',\n",
      "                       u'code': u'',\n",
      "                       u'type': u's',\n",
      "                       u'value': u'Martin Deerline'},\n",
      "                      {u'alt': u'Martin Auto Centre',\n",
      "                       u'code': u'',\n",
      "                       u'type': u's',\n",
      "                       u'value': u'Martin Auto Centre'},\n",
      "                      {u'alt': u'martial arts equipment',\n",
      "                       u'code': u'',\n",
      "                       u'type': u's',\n",
      "                       u'value': u'martial arts equipment'}]}\n"
     ]
    }
   ],
   "source": [
    "params = { 'text':'Mart', 'apikey':sandbox_api, 'UID':'Jesse Bacon', 'field':'WHAT', 'fmt':'JSON' }\n",
    "instance.GetTypeAhead_Search( params )"
   ]
  },
  {
   "cell_type": "code",
   "execution_count": null,
   "metadata": {
    "collapsed": true
   },
   "outputs": [],
   "source": []
  }
 ],
 "metadata": {
  "kernelspec": {
   "display_name": "Python 2",
   "language": "python",
   "name": "python2"
  },
  "language_info": {
   "codemirror_mode": {
    "name": "ipython",
    "version": 2
   },
   "file_extension": ".py",
   "mimetype": "text/x-python",
   "name": "python",
   "nbconvert_exporter": "python",
   "pygments_lexer": "ipython2",
   "version": "2.7.10"
  }
 },
 "nbformat": 4,
 "nbformat_minor": 0
}
