{
 "cells": [
  {
   "cell_type": "markdown",
   "metadata": {},
   "source": [
    "# Google Applications Prototypes"
   ]
  },
  {
   "cell_type": "markdown",
   "metadata": {},
   "source": [
    "## Geocode API\n",
    "The Geocode api requires a registered Google application.  This can be done in the google developer console.  After that enable the GeoCode API and set your search quotas to your estimated use and budget.  1000 Searches runs about $5 US.  "
   ]
  },
  {
   "cell_type": "code",
   "execution_count": 1,
   "metadata": {},
   "outputs": [],
   "source": [
    "import urllib, json\n",
    "\n",
    "google_key = ''\n",
    "\n",
    "def apiRequest(url, key, *args, **kwargs):\n",
    "    request=url\n",
    "    key=key\n",
    "    form={'key':key,**kwargs}\n",
    "    query=urllib.parse.urlencode(form)\n",
    "    #print(query)\n",
    "    req = request+\"?\"+query\n",
    "    print(req)\n",
    "    request=urllib.request.urlopen(req)\n",
    "    print(request.info())\n",
    "    return json.loads(request.read())"
   ]
  },
  {
   "cell_type": "code",
   "execution_count": null,
   "metadata": {},
   "outputs": [],
   "source": [
    "apiRequest(\"https://maps.googleapis.com/maps/api/geocode/json\", key=google_key, address='2775 Hamilton Rd. Waldorf, MD')"
   ]
  },
  {
   "cell_type": "raw",
   "metadata": {},
   "source": [
    "{'error_message': 'You have exceeded your rate-limit for this API.',\n",
    " 'results': [],\n",
    " 'status': 'OVER_QUERY_LIMIT'}"
   ]
  },
  {
   "cell_type": "markdown",
   "metadata": {},
   "source": [
    "The quota was set to 30 requests per day or 100 seconds.  Google says that is not enough and to set it much higher.  I have cancelled the project."
   ]
  }
 ],
 "metadata": {
  "kernelspec": {
   "display_name": "Python 3",
   "language": "python",
   "name": "python3"
  },
  "language_info": {
   "codemirror_mode": {
    "name": "ipython",
    "version": 3
   },
   "file_extension": ".py",
   "mimetype": "text/x-python",
   "name": "python",
   "nbconvert_exporter": "python",
   "pygments_lexer": "ipython3",
   "version": "3.6.6"
  }
 },
 "nbformat": 4,
 "nbformat_minor": 2
}
