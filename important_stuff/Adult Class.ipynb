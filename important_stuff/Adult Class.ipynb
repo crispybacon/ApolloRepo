{
 "cells": [
  {
   "cell_type": "markdown",
   "metadata": {},
   "source": [
    "```python\n",
    "from Banking import revenue\n",
    "from Life import current.occupation, child, current.occupationalHours\n",
    "from reponsibility import financial, family\n",
    "from Health import sleepRation\n",
    "class Adult(child):\n",
    "    @job\n",
    "    job = current.occupation()\n",
    "    def __init__(self, responsibility):\n",
    "        self.responsibility = responsibility\n",
    "    def viability(self):\n",
    "        self.viability = revenue(job)-financial(responsibility)\n",
    "        return self.viability\n",
    "    def timeBalance(self, responsibility):\n",
    "        '''Hours per day'''\n",
    "        self.familyTime = (168-curent.occupationalHours)/7 - sleepRatio\n",
    "        return self.familyTime\n",
    "    def hobbyModifier(self, familyTime, priority):\n",
    "        '''priority is a number 1-10 that reflects the importance of the hobby\n",
    "        compared to family time.'''\n",
    "        self.hobbyModifier = ((familytime*.01)*familytime)*10\n",
    "        return self.hobbymodifier\n",
    "    def _neverForget(self):\n",
    "        return self\n",
    "```"
   ]
  }
 ],
 "metadata": {
  "anaconda-cloud": {},
  "kernelspec": {
   "display_name": "Python [conda root]",
   "language": "python",
   "name": "conda-root-py"
  },
  "language_info": {
   "codemirror_mode": {
    "name": "ipython",
    "version": 3
   },
   "file_extension": ".py",
   "mimetype": "text/x-python",
   "name": "python",
   "nbconvert_exporter": "python",
   "pygments_lexer": "ipython3",
   "version": "3.5.2"
  }
 },
 "nbformat": 4,
 "nbformat_minor": 1
}
