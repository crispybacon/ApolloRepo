{
 "cells": [
  {
   "cell_type": "markdown",
   "metadata": {},
   "source": [
    "# Weight Lifting \n",
    "There are many ways of working out.  This notebook is about lifting weights.  I am not a sports physician and what works for most people may not be what is best for you.  I make no claims about the efficiency of the formulas presented and as always consult your physician or licensed trainer for your personal workout guidelines.  These guidleines are presented here as the fruit of ten years of research in the subject of lifting heavy things as a way to promote health and wellness.  "
   ]
  },
  {
   "cell_type": "code",
   "execution_count": 1,
   "metadata": {},
   "outputs": [],
   "source": [
    "import matplotlib.pyplot as plt\n",
    "import pandas as pd\n",
    "import numpy as np"
   ]
  },
  {
   "cell_type": "markdown",
   "metadata": {},
   "source": [
    "S = Stage  \n",
    "W = Week  \n",
    "WPW = Workouts Per Week  \n",
    "P = Pounds Per Repetition  \n",
    "NS = Number Sets  \n",
    "RPS = Repetitions Per Set   \n",
    "MW = Muscle Weight  \n",
    "BW = Body Weight  \n",
    "BFP = Body Fat Percentage  \n",
    "W = Waste Weight"
   ]
  },
  {
   "cell_type": "markdown",
   "metadata": {},
   "source": [
    "# Stage\n",
    "The athletes current level of experience with strength training exercies."
   ]
  },
  {
   "cell_type": "code",
   "execution_count": 2,
   "metadata": {},
   "outputs": [],
   "source": [
    "stages = {'beginner', 'intermediate', 'advanced', 'expert'}\n",
    "S = 'Expert'"
   ]
  },
  {
   "cell_type": "markdown",
   "metadata": {},
   "source": [
    "**Beginner**  - You have decided to change your life and bought a gym membership or some home equipment.  \n",
    "**Intermediate** - You diet, and go to the gym.  \n",
    "**Advanced** - You are aware of your daily protein intake and try to balance various training methods.  \n",
    "**Expert** - There is a way you could be training at the moment and people like your cooking."
   ]
  },
  {
   "cell_type": "markdown",
   "metadata": {},
   "source": [
    "# Week\n",
    "The athetes current position in time in a training cycle."
   ]
  },
  {
   "cell_type": "code",
   "execution_count": 3,
   "metadata": {},
   "outputs": [],
   "source": [
    "W = 0"
   ]
  },
  {
   "cell_type": "markdown",
   "metadata": {},
   "source": [
    "# Workouts Per Week\n",
    "This will vary on a per case basis by body type, conditioning level and age.  Additionally the number of workouts per week is modified by the goal of the athlete.  For muscle growth, it is required to rest.  Workouts may be performed on the same day."
   ]
  },
  {
   "cell_type": "code",
   "execution_count": 4,
   "metadata": {},
   "outputs": [],
   "source": [
    "WPW = 5 #With Weights"
   ]
  },
  {
   "cell_type": "code",
   "execution_count": 5,
   "metadata": {},
   "outputs": [],
   "source": [
    "def applyStageToWPW(stage):\n",
    "    return {'beginner':3, 'intermediate':4, 'advanced':5, 'expert':6}[stage.lower()]"
   ]
  },
  {
   "cell_type": "code",
   "execution_count": 6,
   "metadata": {},
   "outputs": [
    {
     "data": {
      "text/plain": [
       "6"
      ]
     },
     "execution_count": 6,
     "metadata": {},
     "output_type": "execute_result"
    }
   ],
   "source": [
    "applyStageToWPW('Expert')"
   ]
  },
  {
   "cell_type": "markdown",
   "metadata": {},
   "source": [
    "# Body Weight\n",
    "An Athletes actual weight."
   ]
  },
  {
   "cell_type": "code",
   "execution_count": 7,
   "metadata": {},
   "outputs": [],
   "source": [
    "BW = 165"
   ]
  },
  {
   "cell_type": "markdown",
   "metadata": {},
   "source": [
    "# Body Fat Percentage\n",
    "The percentage of fat reported on an athlete by a physician.  \n",
    "https://www.mensjournal.com/health-fitness/what-4-specific-body-fat-percentage-ranges-look-men/18-20/  \n",
    "According to Mens journal an intermediate range of fat is 18-24%, Advanced range is 17-14% and Athletes can safely remain at a minimum of 6-13% without causing risk to themselves.  "
   ]
  },
  {
   "cell_type": "code",
   "execution_count": 8,
   "metadata": {},
   "outputs": [],
   "source": [
    "BFP = 15"
   ]
  },
  {
   "cell_type": "markdown",
   "metadata": {},
   "source": [
    "# Waste Weight"
   ]
  },
  {
   "cell_type": "code",
   "execution_count": 9,
   "metadata": {},
   "outputs": [],
   "source": [
    "W = 10"
   ]
  },
  {
   "cell_type": "markdown",
   "metadata": {},
   "source": [
    "# Muscle Weight\n",
    "An Athletes Muscle weight (The weight of your body minus waste and fat). "
   ]
  },
  {
   "cell_type": "code",
   "execution_count": 10,
   "metadata": {},
   "outputs": [],
   "source": [
    "MW = (BW - ((BW*(BFP/100))))-W"
   ]
  },
  {
   "cell_type": "code",
   "execution_count": 11,
   "metadata": {},
   "outputs": [
    {
     "data": {
      "text/plain": [
       "130.25"
      ]
     },
     "execution_count": 11,
     "metadata": {},
     "output_type": "execute_result"
    }
   ],
   "source": [
    "MW"
   ]
  },
  {
   "cell_type": "markdown",
   "metadata": {},
   "source": [
    "# Pounds Per Repitition\n",
    "The number of pounds to put up per repitition.  \n",
    "Each repetition should be performed in a manner that proper form is maintained and no stress is sent to any particular joint or feature of the body.  Maintaining a proper spinal position is the most important part of a good clean repetition.  The amount of weight used should be comfortable enough that at the point of muscle failure, you can cleanly return the weight to the starting position without stressing your back or joints.  A higher amount of weight makes this proportionally more difficult at the edge of the muscle sets capability, which is where you want to stay, for as long as comfortably possible.  Leg extension weights are set for one leg only."
   ]
  },
  {
   "cell_type": "code",
   "execution_count": 53,
   "metadata": {},
   "outputs": [],
   "source": [
    "def applyStagetoPPS(stage, MW):\n",
    "    forms = {'Bench_Press':MW*.65, 'Squat':MW*.85, 'Curl':MW*.15, \n",
    "     'Press':MW*.20, 'Leg_Extension':(MW*.4)/2, 'Calf_Raise':MW*.65}\n",
    "    stages = {'beginner':.0, 'intermediate':.2, 'advanced':.35, 'expert':.5}\n",
    "    current_form = {}\n",
    "    for exercise in forms:\n",
    "        current_form[exercise] = forms[exercise] + (forms[exercise]*stages[stage.lower()])\n",
    "    return current_form"
   ]
  },
  {
   "cell_type": "code",
   "execution_count": 54,
   "metadata": {},
   "outputs": [],
   "source": [
    "workouts = applyStagetoPPS('advanced', MW)"
   ]
  },
  {
   "cell_type": "code",
   "execution_count": 55,
   "metadata": {},
   "outputs": [
    {
     "data": {
      "text/plain": [
       "{'Bench_Press': 114.294375,\n",
       " 'Squat': 149.461875,\n",
       " 'Curl': 26.375624999999996,\n",
       " 'Press': 35.167500000000004,\n",
       " 'Leg_Extension': 35.167500000000004,\n",
       " 'Calf_Raise': 114.294375}"
      ]
     },
     "execution_count": 55,
     "metadata": {},
     "output_type": "execute_result"
    }
   ],
   "source": [
    "workouts"
   ]
  },
  {
   "cell_type": "markdown",
   "metadata": {},
   "source": [
    "# Repetitions Per Set\n",
    "The number of repetitions per set depends upon the point of muscle fatigue you can deal with.  The first set of three, an athlete should be able to perform 20 repetitions at the weight listed for the scale applied.  Remember that body weight is your weight without fat and waste in you.    "
   ]
  },
  {
   "cell_type": "code",
   "execution_count": 15,
   "metadata": {},
   "outputs": [],
   "source": [
    "RPS = 20"
   ]
  },
  {
   "cell_type": "markdown",
   "metadata": {},
   "source": [
    "# Number of Sets\n",
    "Three sets per exercise is a great starting point with this method of training.  At the advanced level, more sets can be added. The principle is to work to the limit in the first three sets.  Sets after the third set may use less weight.  Some athletes prefer to train a specific muscle group in one day, or for a period of time as required by a specific event they are training for.  Training every muscle group every day is fine, however it is advised to vary the routine."
   ]
  },
  {
   "cell_type": "code",
   "execution_count": 56,
   "metadata": {},
   "outputs": [],
   "source": [
    "def reduceWeights(workouts, perc, MW):\n",
    "    forms = {'Bench_Press':MW*.65, 'Squat':MW*.85, 'Curl':MW*.15, \n",
    "     'Press':MW*.20, 'Leg_Extension':(MW*.4)/2, 'Calf_Raise':MW*.65}\n",
    "    current_form = {}\n",
    "    for exercise in forms:\n",
    "        current_form[exercise] = workouts[exercise] - (workouts[exercise]*(perc/100))\n",
    "    return current_form"
   ]
  },
  {
   "cell_type": "code",
   "execution_count": 58,
   "metadata": {},
   "outputs": [],
   "source": [
    "def applyStagetoNS(stage, workouts, MW):\n",
    "    if stage == 'beginner':\n",
    "        return {'set1':{'exercises':workouts, 'reps':RPS}, \n",
    "               'set2':{'exercises':workouts, 'reps':RPS},\n",
    "               'set3':{'exercises':workouts, 'reps':RPS}}\n",
    "    elif stage == 'intermediate':\n",
    "        return {'set1':{'exercises':workouts, 'reps':RPS}, \n",
    "               'set2':{'exercises':workouts, 'reps':RPS},\n",
    "               'set3':{'exercises':workouts, 'reps':RPS},\n",
    "                'set4':{'exercises':reduceWeights(workouts, 10, MW), 'reps':RPS*.90},}\n",
    "    elif stage == 'advanced':\n",
    "        return {'set1':{'exercises':workouts, 'reps':RPS}, \n",
    "               'set2':{'exercises':workouts, 'reps':RPS},\n",
    "               'set3':{'exercises':workouts, 'reps':RPS},\n",
    "               'set4':{'exercises':reduceWeights(workouts, 10, MW), 'reps':RPS*.90},\n",
    "               'set5':{'exercises':reduceWeights(workouts, 20, MW), 'reps':RPS*.80},}\n",
    "    elif stage == 'expert':\n",
    "        return {'set1':{'exercises':workouts, 'reps':RPS}, \n",
    "               'set2':{'exercises':workouts, 'reps':RPS},\n",
    "               'set3':{'exercises':workouts, 'reps':RPS},\n",
    "               'set4':{'exercises':reduceWeights(workouts, 10, MW), 'reps':RPS*.90},\n",
    "               'set5':{'exercises':reduceWeights(workouts, 20, MW), 'reps':RPS*.80},\n",
    "               'set6':{'exercises':reduceWeights(workouts, 30, MW), 'reps':RPS*.70},}"
   ]
  },
  {
   "cell_type": "code",
   "execution_count": 59,
   "metadata": {},
   "outputs": [],
   "source": [
    "def focusSet(exercise, routine):\n",
    "    for x in routine:\n",
    "        print(x, exercise, 'Pounds:', routine[x]['exercises'][exercise], 'Repetions:', routine[x]['reps'])"
   ]
  },
  {
   "cell_type": "code",
   "execution_count": 61,
   "metadata": {},
   "outputs": [],
   "source": [
    "routine = applyStagetoNS('expert', workouts, MW)"
   ]
  },
  {
   "cell_type": "code",
   "execution_count": 62,
   "metadata": {},
   "outputs": [
    {
     "name": "stdout",
     "output_type": "stream",
     "text": [
      "set1 Curl Pounds: 26.375624999999996 Repetions: 20\n",
      "set2 Curl Pounds: 26.375624999999996 Repetions: 20\n",
      "set3 Curl Pounds: 26.375624999999996 Repetions: 20\n",
      "set4 Curl Pounds: 23.738062499999998 Repetions: 18.0\n",
      "set5 Curl Pounds: 21.100499999999997 Repetions: 16.0\n",
      "set6 Curl Pounds: 18.462937499999995 Repetions: 14.0\n"
     ]
    }
   ],
   "source": [
    "focusSet('Curl', routine)"
   ]
  },
  {
   "cell_type": "code",
   "execution_count": 63,
   "metadata": {},
   "outputs": [
    {
     "data": {
      "text/plain": [
       "{'set1': {'exercises': {'Bench_Press': 114.294375,\n",
       "   'Squat': 149.461875,\n",
       "   'Curl': 26.375624999999996,\n",
       "   'Press': 35.167500000000004,\n",
       "   'Leg_Extension': 35.167500000000004,\n",
       "   'Calf_Raise': 114.294375},\n",
       "  'reps': 20},\n",
       " 'set2': {'exercises': {'Bench_Press': 114.294375,\n",
       "   'Squat': 149.461875,\n",
       "   'Curl': 26.375624999999996,\n",
       "   'Press': 35.167500000000004,\n",
       "   'Leg_Extension': 35.167500000000004,\n",
       "   'Calf_Raise': 114.294375},\n",
       "  'reps': 20},\n",
       " 'set3': {'exercises': {'Bench_Press': 114.294375,\n",
       "   'Squat': 149.461875,\n",
       "   'Curl': 26.375624999999996,\n",
       "   'Press': 35.167500000000004,\n",
       "   'Leg_Extension': 35.167500000000004,\n",
       "   'Calf_Raise': 114.294375},\n",
       "  'reps': 20},\n",
       " 'set4': {'exercises': {'Bench_Press': 102.8649375,\n",
       "   'Squat': 134.51568749999998,\n",
       "   'Curl': 23.738062499999998,\n",
       "   'Press': 31.650750000000002,\n",
       "   'Leg_Extension': 31.650750000000002,\n",
       "   'Calf_Raise': 102.8649375},\n",
       "  'reps': 18.0},\n",
       " 'set5': {'exercises': {'Bench_Press': 91.4355,\n",
       "   'Squat': 119.56949999999999,\n",
       "   'Curl': 21.100499999999997,\n",
       "   'Press': 28.134000000000004,\n",
       "   'Leg_Extension': 28.134000000000004,\n",
       "   'Calf_Raise': 91.4355},\n",
       "  'reps': 16.0},\n",
       " 'set6': {'exercises': {'Bench_Press': 80.00606250000001,\n",
       "   'Squat': 104.6233125,\n",
       "   'Curl': 18.462937499999995,\n",
       "   'Press': 24.617250000000006,\n",
       "   'Leg_Extension': 24.617250000000006,\n",
       "   'Calf_Raise': 80.00606250000001},\n",
       "  'reps': 14.0}}"
      ]
     },
     "execution_count": 63,
     "metadata": {},
     "output_type": "execute_result"
    }
   ],
   "source": [
    "routine"
   ]
  },
  {
   "cell_type": "code",
   "execution_count": 64,
   "metadata": {},
   "outputs": [],
   "source": [
    "def routineToDataFlat(routine):\n",
    "    squat = []\n",
    "    curl = []\n",
    "    press = []\n",
    "    leg_ex = []\n",
    "    calf = []\n",
    "    for x in routine:\n",
    "        squat.append(routine[x]['exercises']['Squat'])\n",
    "        curl.append(routine[x]['exercises']['Curl'])\n",
    "        press.append(routine[x]['exercises']['Press'])\n",
    "        leg_ex.append(routine[x]['exercises']['Leg_Extension'])\n",
    "        calf.append(routine[x]['exercises']['Calf_Raise'])\n",
    "    return (squat, curl, press, leg_ex, calf)"
   ]
  },
  {
   "cell_type": "code",
   "execution_count": 65,
   "metadata": {},
   "outputs": [],
   "source": [
    "def routineToData(routine):\n",
    "    data = []\n",
    "    for x in routine:\n",
    "        data.append(tuple(routine[x]['exercises'].values()))\n",
    "    return tuple(data)"
   ]
  },
  {
   "cell_type": "code",
   "execution_count": 86,
   "metadata": {},
   "outputs": [],
   "source": [
    "def plotRoutine(data,routine):\n",
    "    # Based on an example from the matplotlib gallery\n",
    "    reps = [routine[x]['reps'] for x in routine]\n",
    "    fig = plt.figure(figsize=(16,12))\n",
    "    plt.ylabel(\"Pounds\")\n",
    "    plt.xlabel(\"Sets\")\n",
    "    plt.title(\"Pounds Per Set\")\n",
    "    #plt.rcParams[\"figure.figsize\"] = (4,10)\n",
    "    labels = ['Bench_Press','Squat','Curl','Press','Leg_Extension','Calf_Raise']\n",
    "    colors = ['#a93226','#1f618d','#d35400','#f1c40f','#512e5f','#ccd1d1']\n",
    "    #plt.yscale('log')\n",
    "    dim = len(data[0])\n",
    "    w = 0.75\n",
    "    dimw = w / dim\n",
    "    m = np.array(data[0]).max()\n",
    "    x = np.arange(len(data))\n",
    "    for i in range(len(data[0])):\n",
    "        y = [d[i] for d in data]\n",
    "        b = plt.bar(x + i * dimw, y, dimw, bottom=0.001, label=labels[i], color=colors[i])\n",
    "    l = plt.plot(x, reps,'x', marker='x', markersize=20, label='repetitions', color='w',)\n",
    "    plt.grid(True)\n",
    "    plt.legend(loc=0)\n",
    "    plt.show()"
   ]
  },
  {
   "cell_type": "code",
   "execution_count": 87,
   "metadata": {},
   "outputs": [],
   "source": [
    "data = routineToData(routine)"
   ]
  },
  {
   "cell_type": "code",
   "execution_count": 88,
   "metadata": {},
   "outputs": [
    {
     "data": {
      "image/png": "[encoded data removed]",
      "text/plain": [
       "<matplotlib.figure.Figure at 0x7fbec6c95eb8>"
      ]
     },
     "metadata": {},
     "output_type": "display_data"
    }
   ],
   "source": [
    "plotRoutine(data, routine)"
   ]
  },
  {
   "cell_type": "markdown",
   "metadata": {},
   "source": [
    "# Creating a Routine\n",
    "Every athletes routine will vary.  it is important to track progress and focus.  This information is valuable to the athletes trainer and fitness facility.  If the athlete is training at home, monitoring these features will help prevent a training plateau.  "
   ]
  },
  {
   "cell_type": "code",
   "execution_count": 69,
   "metadata": {},
   "outputs": [],
   "source": [
    "dates = pd.date_range(start=\"2019-02-01\", periods=90, freq=\"d\")\n",
    "df = pd.DataFrame(columns=['Stage','BFP', 'BW', 'Exercises', 'Set1_repititions', 'Week', 'Minutes_training'], index=dates)"
   ]
  },
  {
   "cell_type": "code",
   "execution_count": 70,
   "metadata": {},
   "outputs": [
    {
     "data": {
      "text/html": [
       "<div>\n",
       "<style scoped>\n",
       "    .dataframe tbody tr th:only-of-type {\n",
       "        vertical-align: middle;\n",
       "    }\n",
       "\n",
       "    .dataframe tbody tr th {\n",
       "        vertical-align: top;\n",
       "    }\n",
       "\n",
       "    .dataframe thead th {\n",
       "        text-align: right;\n",
       "    }\n",
       "</style>\n",
       "<table border=\"1\" class=\"dataframe\">\n",
       "  <thead>\n",
       "    <tr style=\"text-align: right;\">\n",
       "      <th></th>\n",
       "      <th>Stage</th>\n",
       "      <th>BFP</th>\n",
       "      <th>BW</th>\n",
       "      <th>Exercises</th>\n",
       "      <th>Set1_repititions</th>\n",
       "      <th>Week</th>\n",
       "      <th>Minutes_training</th>\n",
       "    </tr>\n",
       "  </thead>\n",
       "  <tbody>\n",
       "    <tr>\n",
       "      <th>2019-02-01</th>\n",
       "      <td>NaN</td>\n",
       "      <td>NaN</td>\n",
       "      <td>NaN</td>\n",
       "      <td>NaN</td>\n",
       "      <td>NaN</td>\n",
       "      <td>NaN</td>\n",
       "      <td>NaN</td>\n",
       "    </tr>\n",
       "    <tr>\n",
       "      <th>2019-02-02</th>\n",
       "      <td>NaN</td>\n",
       "      <td>NaN</td>\n",
       "      <td>NaN</td>\n",
       "      <td>NaN</td>\n",
       "      <td>NaN</td>\n",
       "      <td>NaN</td>\n",
       "      <td>NaN</td>\n",
       "    </tr>\n",
       "    <tr>\n",
       "      <th>2019-02-03</th>\n",
       "      <td>NaN</td>\n",
       "      <td>NaN</td>\n",
       "      <td>NaN</td>\n",
       "      <td>NaN</td>\n",
       "      <td>NaN</td>\n",
       "      <td>NaN</td>\n",
       "      <td>NaN</td>\n",
       "    </tr>\n",
       "    <tr>\n",
       "      <th>2019-02-04</th>\n",
       "      <td>NaN</td>\n",
       "      <td>NaN</td>\n",
       "      <td>NaN</td>\n",
       "      <td>NaN</td>\n",
       "      <td>NaN</td>\n",
       "      <td>NaN</td>\n",
       "      <td>NaN</td>\n",
       "    </tr>\n",
       "    <tr>\n",
       "      <th>2019-02-05</th>\n",
       "      <td>NaN</td>\n",
       "      <td>NaN</td>\n",
       "      <td>NaN</td>\n",
       "      <td>NaN</td>\n",
       "      <td>NaN</td>\n",
       "      <td>NaN</td>\n",
       "      <td>NaN</td>\n",
       "    </tr>\n",
       "    <tr>\n",
       "      <th>2019-02-06</th>\n",
       "      <td>NaN</td>\n",
       "      <td>NaN</td>\n",
       "      <td>NaN</td>\n",
       "      <td>NaN</td>\n",
       "      <td>NaN</td>\n",
       "      <td>NaN</td>\n",
       "      <td>NaN</td>\n",
       "    </tr>\n",
       "    <tr>\n",
       "      <th>2019-02-07</th>\n",
       "      <td>NaN</td>\n",
       "      <td>NaN</td>\n",
       "      <td>NaN</td>\n",
       "      <td>NaN</td>\n",
       "      <td>NaN</td>\n",
       "      <td>NaN</td>\n",
       "      <td>NaN</td>\n",
       "    </tr>\n",
       "    <tr>\n",
       "      <th>2019-02-08</th>\n",
       "      <td>NaN</td>\n",
       "      <td>NaN</td>\n",
       "      <td>NaN</td>\n",
       "      <td>NaN</td>\n",
       "      <td>NaN</td>\n",
       "      <td>NaN</td>\n",
       "      <td>NaN</td>\n",
       "    </tr>\n",
       "    <tr>\n",
       "      <th>2019-02-09</th>\n",
       "      <td>NaN</td>\n",
       "      <td>NaN</td>\n",
       "      <td>NaN</td>\n",
       "      <td>NaN</td>\n",
       "      <td>NaN</td>\n",
       "      <td>NaN</td>\n",
       "      <td>NaN</td>\n",
       "    </tr>\n",
       "    <tr>\n",
       "      <th>2019-02-10</th>\n",
       "      <td>NaN</td>\n",
       "      <td>NaN</td>\n",
       "      <td>NaN</td>\n",
       "      <td>NaN</td>\n",
       "      <td>NaN</td>\n",
       "      <td>NaN</td>\n",
       "      <td>NaN</td>\n",
       "    </tr>\n",
       "  </tbody>\n",
       "</table>\n",
       "</div>"
      ],
      "text/plain": [
       "           Stage  BFP   BW Exercises Set1_repititions Week Minutes_training\n",
       "2019-02-01   NaN  NaN  NaN       NaN              NaN  NaN              NaN\n",
       "2019-02-02   NaN  NaN  NaN       NaN              NaN  NaN              NaN\n",
       "2019-02-03   NaN  NaN  NaN       NaN              NaN  NaN              NaN\n",
       "2019-02-04   NaN  NaN  NaN       NaN              NaN  NaN              NaN\n",
       "2019-02-05   NaN  NaN  NaN       NaN              NaN  NaN              NaN\n",
       "2019-02-06   NaN  NaN  NaN       NaN              NaN  NaN              NaN\n",
       "2019-02-07   NaN  NaN  NaN       NaN              NaN  NaN              NaN\n",
       "2019-02-08   NaN  NaN  NaN       NaN              NaN  NaN              NaN\n",
       "2019-02-09   NaN  NaN  NaN       NaN              NaN  NaN              NaN\n",
       "2019-02-10   NaN  NaN  NaN       NaN              NaN  NaN              NaN"
      ]
     },
     "execution_count": 70,
     "metadata": {},
     "output_type": "execute_result"
    }
   ],
   "source": [
    "df.head(10)"
   ]
  },
  {
   "cell_type": "markdown",
   "metadata": {},
   "source": [
    "# Widgets Exercise\n",
    "This exercise is in programming.  Time to squat with the docs.  \n",
    "https://ipywidgets.readthedocs.io/en/stable/  "
   ]
  },
  {
   "cell_type": "markdown",
   "metadata": {},
   "source": [
    "**Widget #1** - Plot Routine\n",
    "##### Selectors  \n",
    "1. Stage select \n",
    "2. Body Weight\n",
    "3. BFP  \n",
    "##### Actions\n",
    "```python\n",
    "workouts = applyStagetoPPS('advanced')  \n",
    "routine = applyStagetoNS('expert', workouts)   \n",
    "plotRoutine(routineToData(data), routine)  \n",
    "```\n",
    "\n",
    "**Widget #2** - Print Sets for focus  \n",
    "###### Selectors  \n",
    "1. Stage select \n",
    "2. Body Weight  \n",
    "3. BFP\n",
    "4. Focus\n",
    "##### Actions\n",
    "```python\n",
    "workouts = applyStagetoPPS('advanced')  \n",
    "routine = applyStagetoNS('expert', workouts)   \n",
    "focusSet('Curl', routine) \n",
    "```"
   ]
  },
  {
   "cell_type": "code",
   "execution_count": 71,
   "metadata": {},
   "outputs": [],
   "source": [
    "from ipywidgets import interact, interactive, fixed, interact_manual\n",
    "import ipywidgets as widgets"
   ]
  },
  {
   "cell_type": "code",
   "execution_count": 97,
   "metadata": {},
   "outputs": [],
   "source": [
    "stage = widgets.Select(\n",
    "    options=['beginner', 'intermediate', 'advanced', 'expert'],\n",
    "    value='beginner',\n",
    "    # rows=10,\n",
    "    description='Stage:',\n",
    "    disabled=False\n",
    ")\n",
    "bodyWeight = widgets.SelectionSlider(\n",
    "    options=range(500),\n",
    "    value=150,\n",
    "    description='BW',\n",
    "    disabled=False,\n",
    "    continuous_update=False,\n",
    "    orientation='vertical',\n",
    "    readout=True\n",
    ")\n",
    "bodyFatPercentage = widgets.SelectionSlider(\n",
    "    options=range(6,50),\n",
    "    value=15,\n",
    "    description='BFP',\n",
    "    disabled=False,\n",
    "    continuous_update=False,\n",
    "    orientation='vertical',\n",
    "    readout=True\n",
    ")\n",
    "button = widgets.Button(\n",
    "    description='Build Set',\n",
    "    layout={'width': '300px'}\n",
    ")"
   ]
  },
  {
   "cell_type": "code",
   "execution_count": 98,
   "metadata": {},
   "outputs": [],
   "source": [
    "def simDisplay(s, bw, bfp): \n",
    "    MW = (bw - ((bw*(bfp/100))))-W\n",
    "    workouts = applyStagetoPPS(s, MW) \n",
    "    routine = applyStagetoNS(s, workouts, MW)   \n",
    "    data = routineToData(routine)\n",
    "    plotRoutine(data, routine)\n",
    "    print(workouts)"
   ]
  },
  {
   "cell_type": "code",
   "execution_count": 99,
   "metadata": {},
   "outputs": [],
   "source": [
    "out = widgets.interactive_output(simDisplay, {'s':stage, 'bw':bodyWeight, 'bfp':bodyFatPercentage})"
   ]
  },
  {
   "cell_type": "code",
   "execution_count": 100,
   "metadata": {},
   "outputs": [
    {
     "data": {
      "application/vnd.jupyter.widget-view+json": {
       "model_id": "dc39a984316a41f9a17df5be005f7fa7",
       "version_major": 2,
       "version_minor": 0
      },
      "text/plain": [
       "HBox(children=(VBox(children=(Select(description='Stage:', options=('beginner', 'intermediate', 'advanced', 'e…"
      ]
     },
     "metadata": {},
     "output_type": "display_data"
    }
   ],
   "source": [
    "widgets.HBox([widgets.VBox([stage, bodyWeight, bodyFatPercentage]), out])"
   ]
  },
  {
   "cell_type": "markdown",
   "metadata": {},
   "source": [
    "# Widget Exercise #2\n",
    "Come on, You can do it!"
   ]
  },
  {
   "cell_type": "code",
   "execution_count": null,
   "metadata": {},
   "outputs": [],
   "source": []
  }
 ],
 "metadata": {
  "kernelspec": {
   "display_name": "Python 3",
   "language": "python",
   "name": "python3"
  },
  "language_info": {
   "codemirror_mode": {
    "name": "ipython",
    "version": 3
   },
   "file_extension": ".py",
   "mimetype": "text/x-python",
   "name": "python",
   "nbconvert_exporter": "python",
   "pygments_lexer": "ipython3",
   "version": "3.6.4"
  }
 },
 "nbformat": 4,
 "nbformat_minor": 2
}
