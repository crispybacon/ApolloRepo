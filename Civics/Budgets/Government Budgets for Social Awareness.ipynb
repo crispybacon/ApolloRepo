{
 "cells": [
  {
   "cell_type": "markdown",
   "metadata": {},
   "source": [
    "Synopsis:  "
   ]
  },
  {
   "cell_type": "code",
   "execution_count": 1,
   "metadata": {
    "collapsed": true
   },
   "outputs": [],
   "source": [
    "import pandas as pd\n",
    "import numpy as np\n",
    "import matplotlib.pyplot as plt\n",
    "import pymongo, string, re\n",
    "import gridfs"
   ]
  },
  {
   "cell_type": "markdown",
   "metadata": {},
   "source": [
    "#### Obtaining the Data Files"
   ]
  },
  {
   "cell_type": "markdown",
   "metadata": {},
   "source": [
    "The Consolidated Federal Funds data set is available for download at :  \n",
    "http://www2.census.gov/pub/outgoing/govs/special60/"
   ]
  },
  {
   "cell_type": "code",
   "execution_count": 27,
   "metadata": {
    "collapsed": true
   },
   "outputs": [],
   "source": [
    "import requests"
   ]
  },
  {
   "cell_type": "code",
   "execution_count": 28,
   "metadata": {
    "collapsed": true
   },
   "outputs": [],
   "source": [
    "files = requests.get('http://www2.census.gov/pub/outgoing/govs/special60/')"
   ]
  },
  {
   "cell_type": "code",
   "execution_count": 30,
   "metadata": {
    "collapsed": false
   },
   "outputs": [
    {
     "data": {
      "text/plain": [
       "200"
      ]
     },
     "execution_count": 30,
     "metadata": {},
     "output_type": "execute_result"
    }
   ],
   "source": [
    "files.status_code"
   ]
  },
  {
   "cell_type": "code",
   "execution_count": 34,
   "metadata": {
    "collapsed": false
   },
   "outputs": [],
   "source": [
    "import re"
   ]
  },
  {
   "cell_type": "code",
   "execution_count": 40,
   "metadata": {
    "collapsed": false
   },
   "outputs": [],
   "source": [
    "zips = re.compile('href=\".*\\.zip\"')"
   ]
  },
  {
   "cell_type": "code",
   "execution_count": 41,
   "metadata": {
    "collapsed": false
   },
   "outputs": [
    {
     "data": {
      "text/plain": [
       "['href=\"1-3_Govt_Org_Nat_CoArea_ElecOff.zip\"',\n",
       " 'href=\"1_Emp_Retire_Historical_DB.zip\"',\n",
       " 'href=\"4_Govt_Org_Directory_Surveys.zip\"',\n",
       " 'href=\"City_Govt_Emp.zip\"',\n",
       " 'href=\"City_Govt_Fin.zip\"',\n",
       " 'href=\"County_Area_Emp.zip\"',\n",
       " 'href=\"County_Area_Fin.zip\"',\n",
       " 'href=\"County_Govt_Emp.zip\"',\n",
       " 'href=\"County_Govt_Fin.zip\"',\n",
       " 'href=\"Govt_Finances.zip\"',\n",
       " 'href=\"Public_Emp.zip\"',\n",
       " 'href=\"Small_Municipal_and_Twp_Gov_Finances.zip\"',\n",
       " 'href=\"State_Govt_Fin.zip\"',\n",
       " 'href=\"_IndEmp1972-2010.zip\"',\n",
       " 'href=\"_IndFin_1967-2012.zip\"',\n",
       " 'href=\"_Tax_Prop_Value_DB.zip\"',\n",
       " 'href=\"consolidated%20federal%20funds%20report%201983-1992.zip\"',\n",
       " 'href=\"consolidated%20federal%20funds%20report%201993-2010.zip\"',\n",
       " 'href=\"consolidated%20federal%20funds%20report%20states%201993-2010.zip\"',\n",
       " 'href=\"county_area_finances_2007.zip\"',\n",
       " 'href=\"county_area_finances_2012.zip\"',\n",
       " 'href=\"elsec%20school%20district%20finance%20data%20fy%201987-91.zip\"',\n",
       " 'href=\"emp_est.zip\"',\n",
       " 'href=\"hist_emp.zip\"',\n",
       " 'href=\"hist_fin.zip\"',\n",
       " 'href=\"indfin%20school%20district%20finance%20data%20fy%201967-91.zip\"',\n",
       " 'href=\"labrel.zip\"',\n",
       " 'href=\"public%20education%20finances%20publications%20(pre-1992).zip\"',\n",
       " 'href=\"rex-dac.zip\"']"
      ]
     },
     "execution_count": 41,
     "metadata": {},
     "output_type": "execute_result"
    }
   ],
   "source": [
    "zips.findall(files.text)"
   ]
  },
  {
   "cell_type": "markdown",
   "metadata": {},
   "source": [
    "Everything we need for this report is in the Consolidated Federal Funds Report zip"
   ]
  },
  {
   "cell_type": "code",
   "execution_count": 46,
   "metadata": {
    "collapsed": false
   },
   "outputs": [],
   "source": [
    "with open('./data/consolidated federal funds report states 1993-2010.zip', 'wb') as f:\n",
    "    response = requests.get('http://www2.census.gov/pub/outgoing/govs/special60/consolidated%20federal%20funds%20report%20states%201993-2010.zip')\n",
    "    file_out = response.raw\n",
    "    f.write(file_out.read())"
   ]
  },
  {
   "cell_type": "markdown",
   "metadata": {},
   "source": [
    "# Opening the  raw  files"
   ]
  },
  {
   "cell_type": "code",
   "execution_count": 2,
   "metadata": {
    "collapsed": true
   },
   "outputs": [],
   "source": [
    "with open('./data/consolidated federal funds report 1993-2010/10agen.txt', 'r') as f: \n",
    "    agencies_raw = f.readlines()\n",
    "with open('./data/consolidated federal funds report 1993-2010/10prog.txt', 'r') as f: \n",
    "    programs_raw = f.readlines()\n",
    "with open('./data/consolidated federal funds report 1993-2010/10cffcom.txt', 'r') as f: \n",
    "    data_raw = f.readlines()"
   ]
  },
  {
   "cell_type": "markdown",
   "metadata": {},
   "source": [
    "#### Efficiently parsing the data files"
   ]
  },
  {
   "cell_type": "code",
   "execution_count": 3,
   "metadata": {
    "collapsed": true
   },
   "outputs": [],
   "source": [
    "def sliceAgencyCodes(s):\n",
    "    result = {}\n",
    "    result['AGENCY_CODE'] = s[0:4]\n",
    "    result['AGENCY_NAME'] = s[4:].strip()\n",
    "    return result\n",
    "def sliceFundingReport(s):\n",
    "    result = {}\n",
    "    result['FIPS_CODE'] = s[:10]\n",
    "    result['STATE_CODE'] = s[:2]\n",
    "    result['COUNTY_CODE'] = s[3:6]\n",
    "    result['PLACE_CODE'] = s[5:10]\n",
    "    result['STATE'] = s[10:12]\n",
    "    result['COUNTY'] = s[12:36].strip()\n",
    "    result['PLACE'] = s[36:60].strip()\n",
    "    result['POP'] = s[60:69]\n",
    "    result['CONG_DIST'] = s[69:103].strip()\n",
    "    result['PROG'] = s[103:109]\n",
    "    result['OBJ'] = s[109:111]\n",
    "    result['AGENCY'] = s[111:115]\n",
    "    result['SIGN'] = s[115]\n",
    "    result['AMOUNT'] = s[116:129].strip()\n",
    "    return result\n",
    "def sliceProgramsReport(s):\n",
    "    result = {}\n",
    "    result['CODE'] = s[:6]\n",
    "    result['NAME'] = s[6:].strip()\n",
    "    return result"
   ]
  },
  {
   "cell_type": "code",
   "execution_count": 4,
   "metadata": {
    "collapsed": false
   },
   "outputs": [
    {
     "data": {
      "text/plain": [
       "{'CODE': '10.001', 'NAME': 'AGRICULTURAL RESEARCH-BASIC AND APPLIED RESEARCH'}"
      ]
     },
     "execution_count": 4,
     "metadata": {},
     "output_type": "execute_result"
    }
   ],
   "source": [
    "sliceProgramsReport(programs_raw[0])"
   ]
  },
  {
   "cell_type": "code",
   "execution_count": 5,
   "metadata": {
    "collapsed": false
   },
   "outputs": [
    {
     "data": {
      "text/plain": [
       "{'AGENCY_CODE': '0000', 'AGENCY_NAME': 'LEGISLATIVE BRANCH'}"
      ]
     },
     "execution_count": 5,
     "metadata": {},
     "output_type": "execute_result"
    }
   ],
   "source": [
    "sliceAgencyCodes(agencies_raw[0])"
   ]
  },
  {
   "cell_type": "code",
   "execution_count": 6,
   "metadata": {
    "collapsed": false
   },
   "outputs": [
    {
     "data": {
      "text/plain": [
       "{'AGENCY': '7022',\n",
       " 'AMOUNT': '000002220055',\n",
       " 'CONG_DIST': '02',\n",
       " 'COUNTY': 'Autauga County',\n",
       " 'COUNTY_CODE': '010',\n",
       " 'FIPS_CODE': '0100103220',\n",
       " 'OBJ': 'II',\n",
       " 'PLACE': 'Autaugaville',\n",
       " 'PLACE_CODE': '03220',\n",
       " 'POP': '000000000',\n",
       " 'PROG': '97.022',\n",
       " 'SIGN': '0',\n",
       " 'STATE': 'AL',\n",
       " 'STATE_CODE': '01'}"
      ]
     },
     "execution_count": 6,
     "metadata": {},
     "output_type": "execute_result"
    }
   ],
   "source": [
    "sliceFundingReport(data_raw[0])"
   ]
  },
  {
   "cell_type": "markdown",
   "metadata": {},
   "source": [
    "#### Creating the DataFrames and Dictionaries"
   ]
  },
  {
   "cell_type": "code",
   "execution_count": 7,
   "metadata": {
    "collapsed": true
   },
   "outputs": [],
   "source": [
    "def createProgramsDict(obj):\n",
    "    programs = {}\n",
    "    for line in obj:\n",
    "        result = sliceProgramsReport(line)\n",
    "        programs[result['CODE']] = result['NAME']\n",
    "    return programs\n",
    "def createAgenciesDict(obj):\n",
    "    agencies = {}\n",
    "    for line in obj:\n",
    "        result = sliceAgencyCodes(line)\n",
    "        agencies[result['AGENCY_CODE']] = result['AGENCY_NAME']\n",
    "    return agencies\n",
    "def createFundingReportDict(obj):\n",
    "    data = {}\n",
    "    counter = 0\n",
    "    for line in obj:\n",
    "        result = sliceFundingReport(line)\n",
    "        data[counter] = result\n",
    "        counter += 1\n",
    "    return data"
   ]
  },
  {
   "cell_type": "code",
   "execution_count": 8,
   "metadata": {
    "collapsed": false
   },
   "outputs": [],
   "source": [
    "Programs = createProgramsDict(programs_raw)"
   ]
  },
  {
   "cell_type": "code",
   "execution_count": 9,
   "metadata": {
    "collapsed": false
   },
   "outputs": [
    {
     "data": {
      "text/plain": [
       "'FLOOD INSURANCE'"
      ]
     },
     "execution_count": 9,
     "metadata": {},
     "output_type": "execute_result"
    }
   ],
   "source": [
    "Programs['97.022']"
   ]
  },
  {
   "cell_type": "code",
   "execution_count": 10,
   "metadata": {
    "collapsed": false
   },
   "outputs": [],
   "source": [
    "Agencies = createAgenciesDict(agencies_raw)"
   ]
  },
  {
   "cell_type": "code",
   "execution_count": 11,
   "metadata": {
    "collapsed": false
   },
   "outputs": [
    {
     "data": {
      "text/plain": [
       "'FEDERAL EMERGENCY MANAGEMENT AGENCY'"
      ]
     },
     "execution_count": 11,
     "metadata": {},
     "output_type": "execute_result"
    }
   ],
   "source": [
    "Agencies['7022']"
   ]
  },
  {
   "cell_type": "code",
   "execution_count": 12,
   "metadata": {
    "collapsed": true
   },
   "outputs": [],
   "source": [
    "data = createFundingReportDict(data_raw)"
   ]
  },
  {
   "cell_type": "code",
   "execution_count": 13,
   "metadata": {
    "collapsed": false
   },
   "outputs": [
    {
     "data": {
      "text/plain": [
       "(539075, 539075)"
      ]
     },
     "execution_count": 13,
     "metadata": {},
     "output_type": "execute_result"
    }
   ],
   "source": [
    "len(data_raw), len(data)"
   ]
  },
  {
   "cell_type": "code",
   "execution_count": 14,
   "metadata": {
    "collapsed": false
   },
   "outputs": [
    {
     "data": {
      "text/plain": [
       "{'AGENCY': '1700',\n",
       " 'AMOUNT': '000000026000',\n",
       " 'CONG_DIST': '02',\n",
       " 'COUNTY': 'Autauga County',\n",
       " 'COUNTY_CODE': '010',\n",
       " 'FIPS_CODE': '0100103220',\n",
       " 'OBJ': 'DR',\n",
       " 'PLACE': 'Autaugaville',\n",
       " 'PLACE_CODE': '03220',\n",
       " 'POP': '000000000',\n",
       " 'PROG': 'DR.100',\n",
       " 'SIGN': '0',\n",
       " 'STATE': 'AL',\n",
       " 'STATE_CODE': '01'}"
      ]
     },
     "execution_count": 14,
     "metadata": {},
     "output_type": "execute_result"
    }
   ],
   "source": [
    "data[1]"
   ]
  },
  {
   "cell_type": "code",
   "execution_count": 15,
   "metadata": {
    "collapsed": false
   },
   "outputs": [],
   "source": [
    "df_data = pd.DataFrame.from_dict(data, orient='index')"
   ]
  },
  {
   "cell_type": "code",
   "execution_count": 16,
   "metadata": {
    "collapsed": false,
    "scrolled": true
   },
   "outputs": [
    {
     "data": {
      "text/html": [
       "<div>\n",
       "<table border=\"1\" class=\"dataframe\">\n",
       "  <thead>\n",
       "    <tr style=\"text-align: right;\">\n",
       "      <th></th>\n",
       "      <th>CONG_DIST</th>\n",
       "      <th>PLACE_CODE</th>\n",
       "      <th>STATE</th>\n",
       "      <th>AGENCY</th>\n",
       "      <th>COUNTY</th>\n",
       "      <th>PROG</th>\n",
       "      <th>SIGN</th>\n",
       "      <th>PLACE</th>\n",
       "      <th>AMOUNT</th>\n",
       "      <th>COUNTY_CODE</th>\n",
       "      <th>FIPS_CODE</th>\n",
       "      <th>OBJ</th>\n",
       "      <th>POP</th>\n",
       "      <th>STATE_CODE</th>\n",
       "    </tr>\n",
       "  </thead>\n",
       "  <tbody>\n",
       "    <tr>\n",
       "      <th>0</th>\n",
       "      <td>02</td>\n",
       "      <td>03220</td>\n",
       "      <td>AL</td>\n",
       "      <td>7022</td>\n",
       "      <td>Autauga County</td>\n",
       "      <td>97.022</td>\n",
       "      <td>0</td>\n",
       "      <td>Autaugaville</td>\n",
       "      <td>000002220055</td>\n",
       "      <td>010</td>\n",
       "      <td>0100103220</td>\n",
       "      <td>II</td>\n",
       "      <td>000000000</td>\n",
       "      <td>01</td>\n",
       "    </tr>\n",
       "    <tr>\n",
       "      <th>1</th>\n",
       "      <td>02</td>\n",
       "      <td>03220</td>\n",
       "      <td>AL</td>\n",
       "      <td>1700</td>\n",
       "      <td>Autauga County</td>\n",
       "      <td>DR.100</td>\n",
       "      <td>0</td>\n",
       "      <td>Autaugaville</td>\n",
       "      <td>000000026000</td>\n",
       "      <td>010</td>\n",
       "      <td>0100103220</td>\n",
       "      <td>DR</td>\n",
       "      <td>000000000</td>\n",
       "      <td>01</td>\n",
       "    </tr>\n",
       "    <tr>\n",
       "      <th>2</th>\n",
       "      <td>02</td>\n",
       "      <td>03220</td>\n",
       "      <td>AL</td>\n",
       "      <td>1727</td>\n",
       "      <td>Autauga County</td>\n",
       "      <td>DR.100</td>\n",
       "      <td>0</td>\n",
       "      <td>Autaugaville</td>\n",
       "      <td>000000005000</td>\n",
       "      <td>010</td>\n",
       "      <td>0100103220</td>\n",
       "      <td>DR</td>\n",
       "      <td>000000000</td>\n",
       "      <td>01</td>\n",
       "    </tr>\n",
       "  </tbody>\n",
       "</table>\n",
       "</div>"
      ],
      "text/plain": [
       "  CONG_DIST PLACE_CODE STATE AGENCY          COUNTY    PROG SIGN  \\\n",
       "0        02      03220    AL   7022  Autauga County  97.022    0   \n",
       "1        02      03220    AL   1700  Autauga County  DR.100    0   \n",
       "2        02      03220    AL   1727  Autauga County  DR.100    0   \n",
       "\n",
       "          PLACE        AMOUNT COUNTY_CODE   FIPS_CODE OBJ        POP  \\\n",
       "0  Autaugaville  000002220055         010  0100103220  II  000000000   \n",
       "1  Autaugaville  000000026000         010  0100103220  DR  000000000   \n",
       "2  Autaugaville  000000005000         010  0100103220  DR  000000000   \n",
       "\n",
       "  STATE_CODE  \n",
       "0         01  \n",
       "1         01  \n",
       "2         01  "
      ]
     },
     "execution_count": 16,
     "metadata": {},
     "output_type": "execute_result"
    }
   ],
   "source": [
    "df_data.head(3)"
   ]
  },
  {
   "cell_type": "code",
   "execution_count": 25,
   "metadata": {
    "collapsed": true
   },
   "outputs": [],
   "source": [
    "import copy"
   ]
  },
  {
   "cell_type": "code",
   "execution_count": 26,
   "metadata": {
    "collapsed": true
   },
   "outputs": [],
   "source": [
    "df_data2 = copy.deepcopy(df_data)"
   ]
  },
  {
   "cell_type": "code",
   "execution_count": 18,
   "metadata": {
    "collapsed": true
   },
   "outputs": [],
   "source": [
    "df_data2['AGENCY_NAME'] = 'NA'\n",
    "df_data2['PROGRAM_NAME'] = 'NA'"
   ]
  },
  {
   "cell_type": "code",
   "execution_count": 19,
   "metadata": {
    "collapsed": false
   },
   "outputs": [
    {
     "data": {
      "text/html": [
       "<div>\n",
       "<table border=\"1\" class=\"dataframe\">\n",
       "  <thead>\n",
       "    <tr style=\"text-align: right;\">\n",
       "      <th></th>\n",
       "      <th>CONG_DIST</th>\n",
       "      <th>PLACE_CODE</th>\n",
       "      <th>STATE</th>\n",
       "      <th>AGENCY</th>\n",
       "      <th>COUNTY</th>\n",
       "      <th>PROG</th>\n",
       "      <th>SIGN</th>\n",
       "      <th>PLACE</th>\n",
       "      <th>AMOUNT</th>\n",
       "      <th>COUNTY_CODE</th>\n",
       "      <th>FIPS_CODE</th>\n",
       "      <th>OBJ</th>\n",
       "      <th>POP</th>\n",
       "      <th>STATE_CODE</th>\n",
       "      <th>AGENCY_NAME</th>\n",
       "      <th>PROGRAM_NAME</th>\n",
       "    </tr>\n",
       "  </thead>\n",
       "  <tbody>\n",
       "    <tr>\n",
       "      <th>0</th>\n",
       "      <td>02</td>\n",
       "      <td>03220</td>\n",
       "      <td>AL</td>\n",
       "      <td>7022</td>\n",
       "      <td>Autauga County</td>\n",
       "      <td>97.022</td>\n",
       "      <td>0</td>\n",
       "      <td>Autaugaville</td>\n",
       "      <td>000002220055</td>\n",
       "      <td>010</td>\n",
       "      <td>0100103220</td>\n",
       "      <td>II</td>\n",
       "      <td>000000000</td>\n",
       "      <td>01</td>\n",
       "      <td>NA</td>\n",
       "      <td>NA</td>\n",
       "    </tr>\n",
       "  </tbody>\n",
       "</table>\n",
       "</div>"
      ],
      "text/plain": [
       "  CONG_DIST PLACE_CODE STATE AGENCY          COUNTY    PROG SIGN  \\\n",
       "0        02      03220    AL   7022  Autauga County  97.022    0   \n",
       "\n",
       "          PLACE        AMOUNT COUNTY_CODE   FIPS_CODE OBJ        POP  \\\n",
       "0  Autaugaville  000002220055         010  0100103220  II  000000000   \n",
       "\n",
       "  STATE_CODE AGENCY_NAME PROGRAM_NAME  \n",
       "0         01          NA           NA  "
      ]
     },
     "execution_count": 19,
     "metadata": {},
     "output_type": "execute_result"
    }
   ],
   "source": [
    "df_data2.head(1)"
   ]
  },
  {
   "cell_type": "code",
   "execution_count": 20,
   "metadata": {
    "collapsed": false
   },
   "outputs": [],
   "source": [
    "def lookupAgency(s):\n",
    "    return Agencies[s]\n",
    "def lookupProgram(s):\n",
    "    return Programs[s]"
   ]
  },
  {
   "cell_type": "markdown",
   "metadata": {},
   "source": [
    "#### Joining the Data"
   ]
  },
  {
   "cell_type": "code",
   "execution_count": 21,
   "metadata": {
    "collapsed": false
   },
   "outputs": [],
   "source": [
    "df_data2['PROGRAM_NAME'] = df_data2.apply(lambda x: lookupProgram(x['PROG']), axis=1)"
   ]
  },
  {
   "cell_type": "code",
   "execution_count": 22,
   "metadata": {
    "collapsed": true
   },
   "outputs": [],
   "source": [
    "df_data2['AGENCY_NAME'] = df_data2.apply(lambda x: lookupAgency(x['AGENCY']), axis=1)"
   ]
  },
  {
   "cell_type": "code",
   "execution_count": 23,
   "metadata": {
    "collapsed": false
   },
   "outputs": [
    {
     "data": {
      "text/html": [
       "<div>\n",
       "<table border=\"1\" class=\"dataframe\">\n",
       "  <thead>\n",
       "    <tr style=\"text-align: right;\">\n",
       "      <th></th>\n",
       "      <th>CONG_DIST</th>\n",
       "      <th>PLACE_CODE</th>\n",
       "      <th>STATE</th>\n",
       "      <th>AGENCY</th>\n",
       "      <th>COUNTY</th>\n",
       "      <th>PROG</th>\n",
       "      <th>SIGN</th>\n",
       "      <th>PLACE</th>\n",
       "      <th>AMOUNT</th>\n",
       "      <th>COUNTY_CODE</th>\n",
       "      <th>FIPS_CODE</th>\n",
       "      <th>OBJ</th>\n",
       "      <th>POP</th>\n",
       "      <th>STATE_CODE</th>\n",
       "      <th>AGENCY_NAME</th>\n",
       "      <th>PROGRAM_NAME</th>\n",
       "    </tr>\n",
       "  </thead>\n",
       "  <tbody>\n",
       "    <tr>\n",
       "      <th>0</th>\n",
       "      <td>02</td>\n",
       "      <td>03220</td>\n",
       "      <td>AL</td>\n",
       "      <td>7022</td>\n",
       "      <td>Autauga County</td>\n",
       "      <td>97.022</td>\n",
       "      <td>0</td>\n",
       "      <td>Autaugaville</td>\n",
       "      <td>000002220055</td>\n",
       "      <td>010</td>\n",
       "      <td>0100103220</td>\n",
       "      <td>II</td>\n",
       "      <td>000000000</td>\n",
       "      <td>01</td>\n",
       "      <td>FEDERAL EMERGENCY MANAGEMENT AGENCY</td>\n",
       "      <td>FLOOD INSURANCE</td>\n",
       "    </tr>\n",
       "  </tbody>\n",
       "</table>\n",
       "</div>"
      ],
      "text/plain": [
       "  CONG_DIST PLACE_CODE STATE AGENCY          COUNTY    PROG SIGN  \\\n",
       "0        02      03220    AL   7022  Autauga County  97.022    0   \n",
       "\n",
       "          PLACE        AMOUNT COUNTY_CODE   FIPS_CODE OBJ        POP  \\\n",
       "0  Autaugaville  000002220055         010  0100103220  II  000000000   \n",
       "\n",
       "  STATE_CODE                          AGENCY_NAME     PROGRAM_NAME  \n",
       "0         01  FEDERAL EMERGENCY MANAGEMENT AGENCY  FLOOD INSURANCE  "
      ]
     },
     "execution_count": 23,
     "metadata": {},
     "output_type": "execute_result"
    }
   ],
   "source": [
    "df_data2.head(1)"
   ]
  },
  {
   "cell_type": "code",
   "execution_count": 24,
   "metadata": {
    "collapsed": true
   },
   "outputs": [],
   "source": [
    "df_data = df_data2"
   ]
  },
  {
   "cell_type": "markdown",
   "metadata": {},
   "source": [
    "#### Writing to Mongo"
   ]
  },
  {
   "cell_type": "code",
   "execution_count": 198,
   "metadata": {
    "collapsed": false
   },
   "outputs": [],
   "source": [
    "client = pymongo.MongoClient()"
   ]
  },
  {
   "cell_type": "code",
   "execution_count": 200,
   "metadata": {
    "collapsed": false
   },
   "outputs": [],
   "source": [
    "db = client.OpenData_Government_Funding"
   ]
  },
  {
   "cell_type": "code",
   "execution_count": 233,
   "metadata": {
    "collapsed": true
   },
   "outputs": [],
   "source": [
    "year2010Combined = db.create_collection('year2010Combined')"
   ]
  },
  {
   "cell_type": "code",
   "execution_count": 203,
   "metadata": {
    "collapsed": true
   },
   "outputs": [],
   "source": [
    "import json"
   ]
  },
  {
   "cell_type": "code",
   "execution_count": 229,
   "metadata": {
    "collapsed": false
   },
   "outputs": [],
   "source": [
    "df_json = json.loads(df_data.T.to_json())"
   ]
  },
  {
   "cell_type": "code",
   "execution_count": 230,
   "metadata": {
    "collapsed": false
   },
   "outputs": [
    {
     "data": {
      "text/plain": [
       "{'AGENCY': '1630',\n",
       " 'AGENCY_NAME': 'EMPLOYMENT AND TRAINING ADMINISTRATION',\n",
       " 'AMOUNT': '000012822660',\n",
       " 'CONG_DIST': '0203040507',\n",
       " 'COUNTY': 'Maricopa County',\n",
       " 'COUNTY_CODE': '135',\n",
       " 'FIPS_CODE': '0401355000',\n",
       " 'OBJ': 'GG',\n",
       " 'PLACE': 'Phoenix',\n",
       " 'PLACE_CODE': '55000',\n",
       " 'POP': '000000000',\n",
       " 'PROG': '17.207',\n",
       " 'PROGRAM_NAME': 'EMPLOYMENT SERVICE',\n",
       " 'SIGN': '0',\n",
       " 'STATE': 'AZ',\n",
       " 'STATE_CODE': '04'}"
      ]
     },
     "execution_count": 230,
     "metadata": {},
     "output_type": "execute_result"
    }
   ],
   "source": [
    "df_json['17487']"
   ]
  },
  {
   "cell_type": "code",
   "execution_count": 234,
   "metadata": {
    "collapsed": false
   },
   "outputs": [],
   "source": [
    "for record in df_json:\n",
    "    db.year2010Combined.insert_one(df_json[record])"
   ]
  },
  {
   "cell_type": "markdown",
   "metadata": {},
   "source": [
    "#### Running a Report"
   ]
  },
  {
   "cell_type": "code",
   "execution_count": 250,
   "metadata": {
    "collapsed": true
   },
   "outputs": [],
   "source": [
    "B = db.year2010Combined.find({'AGENCY':'9999'})"
   ]
  },
  {
   "cell_type": "code",
   "execution_count": 251,
   "metadata": {
    "collapsed": false
   },
   "outputs": [
    {
     "data": {
      "text/html": [
       "<div>\n",
       "<table border=\"1\" class=\"dataframe\">\n",
       "  <thead>\n",
       "    <tr style=\"text-align: right;\">\n",
       "      <th></th>\n",
       "      <th>AGENCY</th>\n",
       "      <th>AGENCY_NAME</th>\n",
       "      <th>AMOUNT</th>\n",
       "      <th>CONG_DIST</th>\n",
       "      <th>COUNTY</th>\n",
       "      <th>COUNTY_CODE</th>\n",
       "      <th>FIPS_CODE</th>\n",
       "      <th>OBJ</th>\n",
       "      <th>PLACE</th>\n",
       "      <th>PLACE_CODE</th>\n",
       "      <th>POP</th>\n",
       "      <th>PROG</th>\n",
       "      <th>PROGRAM_NAME</th>\n",
       "      <th>SIGN</th>\n",
       "      <th>STATE</th>\n",
       "      <th>STATE_CODE</th>\n",
       "      <th>_id</th>\n",
       "    </tr>\n",
       "  </thead>\n",
       "  <tbody>\n",
       "    <tr>\n",
       "      <th>0</th>\n",
       "      <td>9999</td>\n",
       "      <td>UNNAMED AGENCY-NONDEFENSE</td>\n",
       "      <td>000151658888</td>\n",
       "      <td></td>\n",
       "      <td>U.S. undistributed</td>\n",
       "      <td>999</td>\n",
       "      <td>9999999999</td>\n",
       "      <td>PC</td>\n",
       "      <td>U.S. undistributed</td>\n",
       "      <td>99999</td>\n",
       "      <td>000000000</td>\n",
       "      <td>PC.200</td>\n",
       "      <td>PROCUREMENT CONTRACTS--ALL FED GOVT AGENCIES O...</td>\n",
       "      <td>0</td>\n",
       "      <td>UD</td>\n",
       "      <td>99</td>\n",
       "      <td>57dcddbb73cf75271e013da0</td>\n",
       "    </tr>\n",
       "  </tbody>\n",
       "</table>\n",
       "</div>"
      ],
      "text/plain": [
       "  AGENCY                AGENCY_NAME        AMOUNT CONG_DIST  \\\n",
       "0   9999  UNNAMED AGENCY-NONDEFENSE  000151658888             \n",
       "\n",
       "               COUNTY COUNTY_CODE   FIPS_CODE OBJ               PLACE  \\\n",
       "0  U.S. undistributed         999  9999999999  PC  U.S. undistributed   \n",
       "\n",
       "  PLACE_CODE        POP    PROG  \\\n",
       "0      99999  000000000  PC.200   \n",
       "\n",
       "                                        PROGRAM_NAME SIGN STATE STATE_CODE  \\\n",
       "0  PROCUREMENT CONTRACTS--ALL FED GOVT AGENCIES O...    0    UD         99   \n",
       "\n",
       "                        _id  \n",
       "0  57dcddbb73cf75271e013da0  "
      ]
     },
     "execution_count": 251,
     "metadata": {},
     "output_type": "execute_result"
    }
   ],
   "source": [
    "pd.DataFrame(list(B))"
   ]
  },
  {
   "cell_type": "code",
   "execution_count": 268,
   "metadata": {
    "collapsed": false
   },
   "outputs": [
    {
     "data": {
      "text/plain": [
       "0.10         5698\n",
       "0.20        18000\n",
       "0.30        42000\n",
       "0.40        87244\n",
       "0.50       173000\n",
       "0.60       345256\n",
       "0.70       738253\n",
       "0.80      1900000\n",
       "0.90      7236216\n",
       "0.95     21341194\n",
       "0.99    138667542\n",
       "Name: AMOUNT, dtype: int64"
      ]
     },
     "execution_count": 268,
     "metadata": {},
     "output_type": "execute_result"
    }
   ],
   "source": [
    "df_data.AMOUNT.astype(int).quantile([.1,.2,.3,.4,.5,.6,.7,.8,.9,.95,.99]).astype(int)"
   ]
  },
  {
   "cell_type": "code",
   "execution_count": 273,
   "metadata": {
    "collapsed": true
   },
   "outputs": [],
   "source": [
    "df_data['AMOUNT'] = np.array(df_data['AMOUNT']).astype(int)"
   ]
  },
  {
   "cell_type": "code",
   "execution_count": 274,
   "metadata": {
    "collapsed": false
   },
   "outputs": [],
   "source": [
    "agency_spending = df_data.groupby('AGENCY_NAME').agg({'AMOUNT':np.sum})"
   ]
  },
  {
   "cell_type": "code",
   "execution_count": 283,
   "metadata": {
    "collapsed": false
   },
   "outputs": [
    {
     "data": {
      "text/plain": [
       "AGENCY_NAME\n",
       "FEDERAL EMERGENCY MANAGEMENT AGENCY                                  1242911715358\n",
       "CENTERS FOR MEDICARE AND MEDICAID SERVICES                            812386547077\n",
       "SOCIAL SECURITY ADMINISTRATION                                        749199692970\n",
       "ASSISTANT SECRETARY FOR HOUSING--FEDERAL HOUSING COMMISSIONER         306543577748\n",
       "ARMY, DEPARTMENT OF THE (EXCEPT CORPS OF ENGINEERS CIVIL PROGRAM)     263709200970\n",
       "Name: AMOUNT, dtype: int64"
      ]
     },
     "execution_count": 283,
     "metadata": {},
     "output_type": "execute_result"
    }
   ],
   "source": [
    "agency_spending.AMOUNT.sort_values(ascending=False).head(5)"
   ]
  },
  {
   "cell_type": "code",
   "execution_count": 284,
   "metadata": {
    "collapsed": false
   },
   "outputs": [
    {
     "data": {
      "text/plain": [
       "AGENCY_NAME\n",
       "U.S ARMY CORPS OF ENGINEERS - CIVIL PROGRAM FINANCING ONLY     20000\n",
       "RECOVERY ACCOUNTABILITY AND TRANSPARENCY BOARD                 72361\n",
       "WOODROW WILSON INTERNATIONAL CENTER FOR SCHOLARS              106824\n",
       "NATIONAL SECURITY AGENCY/CENTRAL SECURITY SERVICE             150000\n",
       "OFFICE OF FEDERAL HOUSING ENTERPRISE OVERSIGHT                215638\n",
       "Name: AMOUNT, dtype: int64"
      ]
     },
     "execution_count": 284,
     "metadata": {},
     "output_type": "execute_result"
    }
   ],
   "source": [
    "agency_spending.AMOUNT.sort_values(ascending=True).head(5)"
   ]
  },
  {
   "cell_type": "code",
   "execution_count": 285,
   "metadata": {
    "collapsed": true
   },
   "outputs": [],
   "source": [
    "program_spending = df_data.groupby('PROGRAM_NAME').agg({'AMOUNT':np.sum})"
   ]
  },
  {
   "cell_type": "code",
   "execution_count": 289,
   "metadata": {
    "collapsed": false
   },
   "outputs": [
    {
     "data": {
      "text/plain": [
       "1588"
      ]
     },
     "execution_count": 289,
     "metadata": {},
     "output_type": "execute_result"
    }
   ],
   "source": [
    "program_spending.AMOUNT.sort_values(ascending=True).count()"
   ]
  },
  {
   "cell_type": "code",
   "execution_count": 292,
   "metadata": {
    "collapsed": true
   },
   "outputs": [],
   "source": [
    "test = df_data['PROGRAM_NAME']  "
   ]
  },
  {
   "cell_type": "code",
   "execution_count": 291,
   "metadata": {
    "collapsed": false
   },
   "outputs": [
    {
     "data": {
      "text/html": [
       "<div>\n",
       "<table border=\"1\" class=\"dataframe\">\n",
       "  <thead>\n",
       "    <tr style=\"text-align: right;\">\n",
       "      <th></th>\n",
       "      <th>AMOUNT</th>\n",
       "    </tr>\n",
       "    <tr>\n",
       "      <th>PROGRAM_NAME</th>\n",
       "      <th></th>\n",
       "    </tr>\n",
       "  </thead>\n",
       "  <tbody>\n",
       "    <tr>\n",
       "      <th>1890 INSTITUTION CAPACITY BUILDING GRANTS</th>\n",
       "      <td>32514073</td>\n",
       "    </tr>\n",
       "    <tr>\n",
       "      <th>1994 INSTITUTIONS RESEARCH PROGRAM</th>\n",
       "      <td>1772911</td>\n",
       "    </tr>\n",
       "    <tr>\n",
       "      <th>21ST CENTURY COMMUNITY LEARNING CENTERS</th>\n",
       "      <td>1142842680</td>\n",
       "    </tr>\n",
       "    <tr>\n",
       "      <th>21ST CENTURY MUSEUM PROFESSIONALS</th>\n",
       "      <td>1795798</td>\n",
       "    </tr>\n",
       "    <tr>\n",
       "      <th>ABANDONED INFANTS</th>\n",
       "      <td>10900315</td>\n",
       "    </tr>\n",
       "    <tr>\n",
       "      <th>ABANDONED MINE HAZARD MITIGATION - RECOVERY</th>\n",
       "      <td>406530</td>\n",
       "    </tr>\n",
       "    <tr>\n",
       "      <th>ABANDONED MINE LAND RECLAMATION PROGRAM</th>\n",
       "      <td>598924114</td>\n",
       "    </tr>\n",
       "    <tr>\n",
       "      <th>ABSTINENCE EDUCATION</th>\n",
       "      <td>22905173</td>\n",
       "    </tr>\n",
       "    <tr>\n",
       "      <th>ACADEMIC EXCHANGE PROGRAMS - HUMPHREY FELLOWSHIP PROGRAM</th>\n",
       "      <td>13538425</td>\n",
       "    </tr>\n",
       "    <tr>\n",
       "      <th>ACADEMIC EXCHANGE PROGRAMS - SPECIAL ACADEMIC EXCHANGE PROGRAMS</th>\n",
       "      <td>10000000</td>\n",
       "    </tr>\n",
       "  </tbody>\n",
       "</table>\n",
       "</div>"
      ],
      "text/plain": [
       "                                                        AMOUNT\n",
       "PROGRAM_NAME                                                  \n",
       "1890 INSTITUTION CAPACITY BUILDING GRANTS             32514073\n",
       "1994 INSTITUTIONS RESEARCH PROGRAM                     1772911\n",
       "21ST CENTURY COMMUNITY LEARNING CENTERS             1142842680\n",
       "21ST CENTURY MUSEUM PROFESSIONALS                      1795798\n",
       "ABANDONED INFANTS                                     10900315\n",
       "ABANDONED MINE HAZARD MITIGATION - RECOVERY             406530\n",
       "ABANDONED MINE LAND RECLAMATION PROGRAM              598924114\n",
       "ABSTINENCE EDUCATION                                  22905173\n",
       "ACADEMIC EXCHANGE PROGRAMS - HUMPHREY FELLOWSHI...    13538425\n",
       "ACADEMIC EXCHANGE PROGRAMS - SPECIAL ACADEMIC E...    10000000"
      ]
     },
     "execution_count": 291,
     "metadata": {},
     "output_type": "execute_result"
    }
   ],
   "source": [
    "program_spending.head(10)"
   ]
  },
  {
   "cell_type": "code",
   "execution_count": 293,
   "metadata": {
    "collapsed": false
   },
   "outputs": [
    {
     "data": {
      "text/plain": [
       "'21ST CENTURY COMMUNITY LEARNING CENTERS'"
      ]
     },
     "execution_count": 293,
     "metadata": {},
     "output_type": "execute_result"
    }
   ],
   "source": [
    "test"
   ]
  },
  {
   "cell_type": "markdown",
   "metadata": {},
   "source": [
    "More to come"
   ]
  },
  {
   "cell_type": "code",
   "execution_count": null,
   "metadata": {
    "collapsed": true
   },
   "outputs": [],
   "source": []
  }
 ],
 "metadata": {
  "anaconda-cloud": {},
  "kernelspec": {
   "display_name": "Python [default]",
   "language": "python",
   "name": "python3"
  },
  "language_info": {
   "codemirror_mode": {
    "name": "ipython",
    "version": 3
   },
   "file_extension": ".py",
   "mimetype": "text/x-python",
   "name": "python",
   "nbconvert_exporter": "python",
   "pygments_lexer": "ipython3",
   "version": "3.4.5"
  }
 },
 "nbformat": 4,
 "nbformat_minor": 0
}
