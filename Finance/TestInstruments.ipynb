{
 "cells": [
  {
   "cell_type": "code",
   "execution_count": 3,
   "metadata": {
    "collapsed": true
   },
   "outputs": [],
   "source": [
    "import pymongo\n",
    "import numpy as np\n",
    "import matplotlib.pyplot as plt\n",
    "import matplotlib.animation as animation"
   ]
  },
  {
   "cell_type": "markdown",
   "metadata": {},
   "source": [
    "Data available from    \n",
    "http://data.worldbank.org/data-catalog/international-debt-statistics  "
   ]
  },
  {
   "cell_type": "code",
   "execution_count": 4,
   "metadata": {},
   "outputs": [],
   "source": [
    "client = pymongo.MongoClient()"
   ]
  },
  {
   "cell_type": "code",
   "execution_count": 5,
   "metadata": {},
   "outputs": [],
   "source": [
    "db=client.governmentDebts"
   ]
  },
  {
   "cell_type": "code",
   "execution_count": 6,
   "metadata": {
    "collapsed": true
   },
   "outputs": [],
   "source": [
    "collection = db.statsByYear"
   ]
  },
  {
   "cell_type": "code",
   "execution_count": 7,
   "metadata": {},
   "outputs": [
    {
     "name": "stdout",
     "output_type": "stream",
     "text": [
      "Using matplotlib backend: TkAgg\n"
     ]
    }
   ],
   "source": [
    "%matplotlib"
   ]
  },
  {
   "cell_type": "code",
   "execution_count": 15,
   "metadata": {},
   "outputs": [
    {
     "name": "stderr",
     "output_type": "stream",
     "text": [
      "/home/jesse/anaconda3/envs/py35/lib/python3.5/site-packages/matplotlib/backend_bases.py:2445: MatplotlibDeprecationWarning: Using default event loop until function specific to this GUI is implemented\n",
      "  warnings.warn(str, mplDeprecation)\n",
      "Exception in Tkinter callback\n",
      "Traceback (most recent call last):\n",
      "  File \"/home/jesse/anaconda3/envs/py35/lib/python3.5/tkinter/__init__.py\", line 1559, in __call__\n",
      "    return self.func(*args)\n",
      "  File \"/home/jesse/anaconda3/envs/py35/lib/python3.5/tkinter/__init__.py\", line 605, in callit\n",
      "    func(*args)\n",
      "  File \"/home/jesse/anaconda3/envs/py35/lib/python3.5/site-packages/matplotlib/backends/backend_tkagg.py\", line 144, in _on_timer\n",
      "    TimerBase._on_timer(self)\n",
      "  File \"/home/jesse/anaconda3/envs/py35/lib/python3.5/site-packages/matplotlib/backend_bases.py\", line 1311, in _on_timer\n",
      "    ret = func(*args, **kwargs)\n",
      "  File \"/home/jesse/anaconda3/envs/py35/lib/python3.5/site-packages/matplotlib/animation.py\", line 1241, in _step\n",
      "    still_going = Animation._step(self, *args)\n",
      "  File \"/home/jesse/anaconda3/envs/py35/lib/python3.5/site-packages/matplotlib/animation.py\", line 1030, in _step\n",
      "    self._draw_next_frame(framedata, self._blit)\n",
      "  File \"/home/jesse/anaconda3/envs/py35/lib/python3.5/site-packages/matplotlib/animation.py\", line 1049, in _draw_next_frame\n",
      "    self._draw_frame(framedata)\n",
      "  File \"/home/jesse/anaconda3/envs/py35/lib/python3.5/site-packages/matplotlib/animation.py\", line 1512, in _draw_frame\n",
      "    self._drawn_artists = self._func(framedata, *self._args)\n",
      "  File \"<ipython-input-15-6d130e6b507e>\", line 22, in update\n",
      "    plt.pause(-1)\n",
      "  File \"/home/jesse/anaconda3/envs/py35/lib/python3.5/site-packages/matplotlib/pyplot.py\", line 300, in pause\n",
      "    canvas.start_event_loop(interval)\n",
      "  File \"/home/jesse/anaconda3/envs/py35/lib/python3.5/site-packages/matplotlib/backends/backend_tkagg.py\", line 514, in start_event_loop\n",
      "    FigureCanvasBase.start_event_loop_default(self,timeout)\n",
      "  File \"/home/jesse/anaconda3/envs/py35/lib/python3.5/site-packages/matplotlib/backend_bases.py\", line 2453, in start_event_loop_default\n",
      "    self.flush_events()\n",
      "  File \"/home/jesse/anaconda3/envs/py35/lib/python3.5/site-packages/matplotlib/backends/backend_tkagg.py\", line 511, in flush_events\n",
      "    self._master.update()\n",
      "  File \"/home/jesse/anaconda3/envs/py35/lib/python3.5/tkinter/__init__.py\", line 1034, in update\n",
      "    self.tk.call('update')\n",
      "_tkinter.TclError: can't invoke \"update\" command:  application has been destroyed\n"
     ]
    }
   ],
   "source": [
    "query = {'Country Name': 'Turkey'}\n",
    "record = collection.find(query)\n",
    "data = record.next()\n",
    "yrange = range(1800,2017)\n",
    "ydata = [data[str(i)] for i in yrange]\n",
    "ydata = np.array(ydata)\n",
    "ydata = np.nan_to_num(ydata)\n",
    "x = list(range(30))\n",
    "y = ydata[:30]\n",
    "fig = plt.figure(figsize=(6, 6), facecolor='white',)\n",
    "ax = plt.subplot(111, frameon=False)\n",
    "ax.text(0.5, 1.0, '{} World Debt'.format(query['Country Name']),\n",
    "        transform=ax.transAxes,ha=\"center\", \n",
    "        va=\"bottom\", color=\"gray\", \n",
    "        fontweight=\"light\", fontsize=16)\n",
    "ax.set_ylim(0,ydata.max())\n",
    "ax.set_xlim(ydata[0],ydata[-1])\n",
    "idx = 0\n",
    "def update(idx,*args):\n",
    "    idx+=1\n",
    "    if idx >= len(ydata)-30:\n",
    "        plt.pause(-1)\n",
    "    yset = ydata[idx:idx+30]\n",
    "    test_line.set_ydata(yset)\n",
    "    #print(yset)\n",
    "    return test_line\n",
    "test_line, = ax.plot(x,y, color=\"red\")\n",
    "anim = animation.FuncAnimation(fig, update, interval=1)\n",
    "plt.grid(True)\n",
    "plt.axhline(ydata.max()*.75, color='blue')\n",
    "plt.show()"
   ]
  },
  {
   "cell_type": "markdown",
   "metadata": {},
   "source": [
    "# US is not working in theabove example.  \n",
    "Try Mexico or Italy or Turkey"
   ]
  },
  {
   "cell_type": "code",
   "execution_count": null,
   "metadata": {
    "collapsed": true
   },
   "outputs": [],
   "source": [
    "query = {'Country Name': 'United States'}\n",
    "record = collection.find(query)\n",
    "data = record.next()\n",
    "yrange = range(1800,2017)\n",
    "ydata = [data[str(i)] for i in yrange]\n",
    "#ydata = range(0, len(range(1800,2017)))\n",
    "ydata = np.array(ydata)\n",
    "ydata = np.nan_to_num(ydata)\n",
    "x = [list(yrange)[0]]\n",
    "y = ydata[:1]\n",
    "fig = plt.figure(figsize=(6, 6), facecolor='white',)\n",
    "ax = plt.subplot(111, frameon=False)\n",
    "ax.text(0.5, 1.0, '{} World Debt'.format(query['Country Name']),\n",
    "        transform=ax.transAxes,ha=\"center\", \n",
    "        va=\"bottom\", color=\"gray\", \n",
    "        fontweight=\"heavy\", fontsize=16)\n",
    "ax.set_ylim(0,ydata.max())\n",
    "ax.set_xlim(yrange[0],yrange[-1])\n",
    "idx = 1\n",
    "def update(idx,*args):\n",
    "    idx+=1\n",
    "    if idx >= len(ydata)-1:\n",
    "        plt.pause(-1)\n",
    "    yset = ydata[0:idx+2]\n",
    "    x.append(x[-1]+1)\n",
    "    test_line.set_data(x,yset)\n",
    "    return test_line\n",
    "test_line, = ax.plot(x,y, color=\"crimson\")\n",
    "anim = animation.FuncAnimation(fig, update, interval=1)\n",
    "plt.grid(True)\n",
    "plt.axhline(ydata.max()*.75, color='blue')\n",
    "plt.show()"
   ]
  },
  {
   "cell_type": "code",
   "execution_count": null,
   "metadata": {
    "collapsed": true
   },
   "outputs": [],
   "source": []
  }
 ],
 "metadata": {
  "kernelspec": {
   "display_name": "Python 3",
   "language": "python",
   "name": "python3"
  },
  "language_info": {
   "codemirror_mode": {
    "name": "ipython",
    "version": 3
   },
   "file_extension": ".py",
   "mimetype": "text/x-python",
   "name": "python",
   "nbconvert_exporter": "python",
   "pygments_lexer": "ipython3",
   "version": "3.5.3"
  }
 },
 "nbformat": 4,
 "nbformat_minor": 2
}
