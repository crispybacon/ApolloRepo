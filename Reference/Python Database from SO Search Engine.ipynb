{
 "cells": [
  {
   "cell_type": "markdown",
   "metadata": {},
   "source": [
    "# Grabbing the database"
   ]
  },
  {
   "cell_type": "markdown",
   "metadata": {},
   "source": [
    "StackOverflow.com is an amazing knowledgebase.   \n",
    "That being said,  This notebook aims to create a local copy of the Python   \n",
    "Questions and answers to free synapses for search engine caching engines.  \n",
    "The dataset is graciously hosted by the folks at Kaggle.com and \n",
    "All Stack Overflow user contributions are licensed under CC-BY-SA 3.0 with attribution required.  \n",
    "https://creativecommons.org/licenses/by-sa/3.0/  \n",
    "https://stackoverflow.com  "
   ]
  },
  {
   "cell_type": "code",
   "execution_count": null,
   "metadata": {
    "collapsed": true
   },
   "outputs": [],
   "source": [
    "import requests, shutil"
   ]
  },
  {
   "cell_type": "code",
   "execution_count": null,
   "metadata": {
    "collapsed": true
   },
   "outputs": [],
   "source": [
    "BigZipResponse = requests.get('https://www.kaggle.com/stackoverflow/pythonquestions/downloads/pythonquestions.zip')"
   ]
  },
  {
   "cell_type": "code",
   "execution_count": null,
   "metadata": {
    "collapsed": true
   },
   "outputs": [],
   "source": [
    "with open('pythonquestions.zip', 'wb') as f:\n",
    "    shutil.copyfileobj(r.raw, f)"
   ]
  },
  {
   "cell_type": "markdown",
   "metadata": {},
   "source": [
    "# Importing the files"
   ]
  },
  {
   "cell_type": "code",
   "execution_count": 2,
   "metadata": {
    "collapsed": false
   },
   "outputs": [],
   "source": [
    "import pymongo"
   ]
  },
  {
   "cell_type": "markdown",
   "metadata": {},
   "source": [
    "Start the mongo daemon\n",
    "```bash\n",
    "mongod\n",
    "```"
   ]
  },
  {
   "cell_type": "code",
   "execution_count": 3,
   "metadata": {
    "collapsed": false
   },
   "outputs": [],
   "source": [
    "client = pymongo.MongoClient()\n",
    "databases = client.database_names()\n",
    "database = client['PythonSODB']\n",
    "database.create_collection('PythonQuestions')\n",
    "database.create_collection('PythonAnswers')\n",
    "database.create_collection('Tags')"
   ]
  },
  {
   "cell_type": "code",
   "execution_count": 72,
   "metadata": {
    "collapsed": true
   },
   "outputs": [],
   "source": [
    "import re, copy, os, codecs"
   ]
  },
  {
   "cell_type": "code",
   "execution_count": null,
   "metadata": {
    "collapsed": true
   },
   "outputs": [],
   "source": [
    "collection = database['PythonQuestions']"
   ]
  },
  {
   "cell_type": "code",
   "execution_count": 194,
   "metadata": {
    "collapsed": false
   },
   "outputs": [],
   "source": [
    "def SODBToMongo(input_csv, collection, answers=True):\n",
    "    answers_fields = 'Id,OwnerUserId,CreationDate,ParentId,Score,Body'.split(',')\n",
    "    questions_fields = 'Id,OwnerUserId,CreationDate,Score,Title,Body'.split(',')\n",
    "    if answers == True:\n",
    "        fields = answers_fields\n",
    "    else:\n",
    "        fields = questions_fields\n",
    "    f2 = open(input_csv, 'r')\n",
    "    f = codecs.open(input_csv, \"r\",encoding='utf-8', errors='ignore')\n",
    "    file_chunk = 65536\n",
    "    so_entry = re.compile('''(\\d+),(\\d+),(\\d+\\S+?),(\\d+),([\\S\\s]+?),(.*?)\\n\\d+,\\d+,\\d{4}''', re.DOTALL)\n",
    "    header_offset = f.readline()\n",
    "    header_offset = len(header_offset)\n",
    "    current_offset = header_offset\n",
    "    max_offset = f2.seek(0, os.SEEK_END)\n",
    "    f2.close()\n",
    "    f.seek(header_offset, 0)\n",
    "    counter = 0\n",
    "    while current_offset < max_offset:\n",
    "        try:\n",
    "            work_file = codecs.open(input_csv, \"r\",encoding='utf-8', errors='ignore')\n",
    "            work_file.seek(current_offset, 0)\n",
    "            file_chunk = work_file.read(65536)\n",
    "            entry_values = so_entry.search(file_chunk)\n",
    "            entry_list = entry_values.groups()\n",
    "            current_offset += len(','.join(entry_list))\n",
    "            entry = {}\n",
    "            entry[fields[0]] = entry_list[0]\n",
    "            entry[fields[1]] = entry_list[1]\n",
    "            entry[fields[2]] = entry_list[2]\n",
    "            entry[fields[3]] = entry_list[3]\n",
    "            entry[fields[4]] = entry_list[4]\n",
    "            entry[fields[5]] = entry_list[5]\n",
    "            collection.insert_one(entry)\n",
    "            percent_complete = (current_offset / max_offset) * 100\n",
    "            counter += 1\n",
    "            if counter % 10000 == 0:\n",
    "                print('{}% of {} imported to {}'.format(percent_complete, input_csv, collection.name))\n",
    "        except:\n",
    "            return \"End of File Reached\""
   ]
  },
  {
   "cell_type": "code",
   "execution_count": null,
   "metadata": {
    "collapsed": false
   },
   "outputs": [
    {
     "name": "stdout",
     "output_type": "stream",
     "text": [
      "1.1861742238326771% of Questions.csv imported to PythonQuestions\n",
      "2.3758887287340316% of Questions.csv imported to PythonQuestions\n",
      "3.560339207979959% of Questions.csv imported to PythonQuestions\n"
     ]
    }
   ],
   "source": [
    "SODBToMongo('Questions.csv', collection, answers=False)"
   ]
  },
  {
   "cell_type": "code",
   "execution_count": 192,
   "metadata": {
    "collapsed": false
   },
   "outputs": [
    {
     "name": "stdout",
     "output_type": "stream",
     "text": [
      "['Id', 'OwnerUserId', 'CreationDate', 'ParentId', 'Score', 'Body']\n",
      "0.8727682072551932% of Answers.utf8.csv imported to PythonAnswers\n",
      "1.7323076061806386% of Answers.utf8.csv imported to PythonAnswers\n",
      "2.6289880016785405% of Answers.utf8.csv imported to PythonAnswers\n",
      "3.521581849076276% of Answers.utf8.csv imported to PythonAnswers\n",
      "4.385918500119308% of Answers.utf8.csv imported to PythonAnswers\n",
      "5.24166031851211% of Answers.utf8.csv imported to PythonAnswers\n",
      "6.131862495573751% of Answers.utf8.csv imported to PythonAnswers\n",
      "6.989917518869405% of Answers.utf8.csv imported to PythonAnswers\n",
      "7.881396254091457% of Answers.utf8.csv imported to PythonAnswers\n",
      "8.716353396820956% of Answers.utf8.csv imported to PythonAnswers\n",
      "9.562498148343908% of Answers.utf8.csv imported to PythonAnswers\n",
      "10.441118436962322% of Answers.utf8.csv imported to PythonAnswers\n",
      "11.294696049354275% of Answers.utf8.csv imported to PythonAnswers\n",
      "12.156469333537771% of Answers.utf8.csv imported to PythonAnswers\n",
      "13.022073146414058% of Answers.utf8.csv imported to PythonAnswers\n",
      "13.92342095387252% of Answers.utf8.csv imported to PythonAnswers\n",
      "14.806794807788767% of Answers.utf8.csv imported to PythonAnswers\n",
      "15.713322920234093% of Answers.utf8.csv imported to PythonAnswers\n",
      "16.652082753389784% of Answers.utf8.csv imported to PythonAnswers\n",
      "17.591817852085864% of Answers.utf8.csv imported to PythonAnswers\n",
      "18.48884005423775% of Answers.utf8.csv imported to PythonAnswers\n",
      "19.422733200079094% of Answers.utf8.csv imported to PythonAnswers\n",
      "20.35709640633856% of Answers.utf8.csv imported to PythonAnswers\n",
      "21.277461647774146% of Answers.utf8.csv imported to PythonAnswers\n",
      "22.19517980961738% of Answers.utf8.csv imported to PythonAnswers\n",
      "23.12890748247665% of Answers.utf8.csv imported to PythonAnswers\n",
      "24.0974531845877% of Answers.utf8.csv imported to PythonAnswers\n",
      "25.05572308772985% of Answers.utf8.csv imported to PythonAnswers\n",
      "26.026271061736132% of Answers.utf8.csv imported to PythonAnswers\n",
      "27.02513919969207% of Answers.utf8.csv imported to PythonAnswers\n",
      "28.072447600667754% of Answers.utf8.csv imported to PythonAnswers\n",
      "29.096702418048142% of Answers.utf8.csv imported to PythonAnswers\n",
      "30.102561789496875% of Answers.utf8.csv imported to PythonAnswers\n",
      "31.117775021581473% of Answers.utf8.csv imported to PythonAnswers\n",
      "32.11606668876504% of Answers.utf8.csv imported to PythonAnswers\n",
      "33.116614450707196% of Answers.utf8.csv imported to PythonAnswers\n",
      "34.09819920415159% of Answers.utf8.csv imported to PythonAnswers\n",
      "35.11627075014416% of Answers.utf8.csv imported to PythonAnswers\n",
      "36.09590802326335% of Answers.utf8.csv imported to PythonAnswers\n",
      "37.10279574339937% of Answers.utf8.csv imported to PythonAnswers\n",
      "38.147662319617396% of Answers.utf8.csv imported to PythonAnswers\n",
      "39.193405927046484% of Answers.utf8.csv imported to PythonAnswers\n",
      "40.200363814560596% of Answers.utf8.csv imported to PythonAnswers\n",
      "41.22753259163055% of Answers.utf8.csv imported to PythonAnswers\n",
      "42.2497979502891% of Answers.utf8.csv imported to PythonAnswers\n",
      "43.319341356125726% of Answers.utf8.csv imported to PythonAnswers\n",
      "44.35447040868749% of Answers.utf8.csv imported to PythonAnswers\n",
      "45.37056970221963% of Answers.utf8.csv imported to PythonAnswers\n",
      "46.379922310825414% of Answers.utf8.csv imported to PythonAnswers\n",
      "47.39694805780883% of Answers.utf8.csv imported to PythonAnswers\n",
      "48.40580339325682% of Answers.utf8.csv imported to PythonAnswers\n",
      "49.47081032556192% of Answers.utf8.csv imported to PythonAnswers\n",
      "50.52104867218634% of Answers.utf8.csv imported to PythonAnswers\n",
      "51.56422390951676% of Answers.utf8.csv imported to PythonAnswers\n",
      "52.64774453503939% of Answers.utf8.csv imported to PythonAnswers\n",
      "53.70983848389671% of Answers.utf8.csv imported to PythonAnswers\n",
      "54.77877125049858% of Answers.utf8.csv imported to PythonAnswers\n",
      "55.86909615921272% of Answers.utf8.csv imported to PythonAnswers\n",
      "56.95509119156248% of Answers.utf8.csv imported to PythonAnswers\n",
      "57.962855332758444% of Answers.utf8.csv imported to PythonAnswers\n",
      "59.00539625699089% of Answers.utf8.csv imported to PythonAnswers\n",
      "60.07505363905559% of Answers.utf8.csv imported to PythonAnswers\n",
      "61.16798535738855% of Answers.utf8.csv imported to PythonAnswers\n",
      "62.241683282159435% of Answers.utf8.csv imported to PythonAnswers\n",
      "63.30646531276396% of Answers.utf8.csv imported to PythonAnswers\n",
      "64.36080753578018% of Answers.utf8.csv imported to PythonAnswers\n",
      "65.39678677290401% of Answers.utf8.csv imported to PythonAnswers\n",
      "66.46147837911346% of Answers.utf8.csv imported to PythonAnswers\n",
      "67.55335136323366% of Answers.utf8.csv imported to PythonAnswers\n",
      "68.63813988277089% of Answers.utf8.csv imported to PythonAnswers\n",
      "69.6832281879037% of Answers.utf8.csv imported to PythonAnswers\n",
      "70.74128000766193% of Answers.utf8.csv imported to PythonAnswers\n",
      "71.79924286738778% of Answers.utf8.csv imported to PythonAnswers\n",
      "72.89046091530238% of Answers.utf8.csv imported to PythonAnswers\n",
      "73.9739482265742% of Answers.utf8.csv imported to PythonAnswers\n",
      "75.04390726734957% of Answers.utf8.csv imported to PythonAnswers\n",
      "76.1139480683742% of Answers.utf8.csv imported to PythonAnswers\n",
      "77.14967787572267% of Answers.utf8.csv imported to PythonAnswers\n",
      "78.18651339891967% of Answers.utf8.csv imported to PythonAnswers\n",
      "79.2505231002443% of Answers.utf8.csv imported to PythonAnswers\n",
      "80.31028993275336% of Answers.utf8.csv imported to PythonAnswers\n",
      "81.4271174872792% of Answers.utf8.csv imported to PythonAnswers\n",
      "82.50605002048607% of Answers.utf8.csv imported to PythonAnswers\n",
      "83.57180011684784% of Answers.utf8.csv imported to PythonAnswers\n",
      "84.62347842010097% of Answers.utf8.csv imported to PythonAnswers\n",
      "85.7054326656841% of Answers.utf8.csv imported to PythonAnswers\n",
      "86.78317003488914% of Answers.utf8.csv imported to PythonAnswers\n",
      "87.86646026735119% of Answers.utf8.csv imported to PythonAnswers\n",
      "88.93137409059631% of Answers.utf8.csv imported to PythonAnswers\n",
      "90.00418570985919% of Answers.utf8.csv imported to PythonAnswers\n",
      "91.09074281341503% of Answers.utf8.csv imported to PythonAnswers\n",
      "92.19707479254075% of Answers.utf8.csv imported to PythonAnswers\n",
      "93.31097801480809% of Answers.utf8.csv imported to PythonAnswers\n",
      "94.38752851806646% of Answers.utf8.csv imported to PythonAnswers\n",
      "95.4523775432633% of Answers.utf8.csv imported to PythonAnswers\n",
      "96.53368075760794% of Answers.utf8.csv imported to PythonAnswers\n",
      "97.61728082480559% of Answers.utf8.csv imported to PythonAnswers\n",
      "98.73160639367394% of Answers.utf8.csv imported to PythonAnswers\n",
      "99.79279841715477% of Answers.utf8.csv imported to PythonAnswers\n"
     ]
    },
    {
     "data": {
      "text/plain": [
       "'End of File Reached'"
      ]
     },
     "execution_count": 192,
     "metadata": {},
     "output_type": "execute_result"
    }
   ],
   "source": [
    "collection = database['PythonAnswers']\n",
    "SODBToMongo('Answers.csv', collection, answers=True)"
   ]
  },
  {
   "cell_type": "code",
   "execution_count": null,
   "metadata": {
    "collapsed": true
   },
   "outputs": [],
   "source": [
    "def tagsImport(tags_file, collection):\n",
    "    reg = re.compile('(\\d+),(\\S+)\\n')\n",
    "    f = open(tags_file, 'r')\n",
    "    f.readline()\n",
    "    counter = 0\n",
    "    for i,l in enumerate(iter(f)):\n",
    "        pass\n",
    "    end = i+1\n",
    "    f.seek(0, 0)\n",
    "    for line in f:\n",
    "        data = f.readline()\n",
    "        data = reg.search(data).groups()\n",
    "        collection.insert_one({'Id':data[0], 'Tags':data[1]})\n",
    "        counter +=1\n",
    "        if counter%10000 == 0:\n",
    "            print('{}% of tags written to {}'.format(counter/end * 100, collection.name))\n",
    "    return('All tags written to {}'.format(collection.name))"
   ]
  },
  {
   "cell_type": "code",
   "execution_count": null,
   "metadata": {
    "collapsed": true
   },
   "outputs": [],
   "source": [
    "collection = database['Tags']\n",
    "tagsImport('Tags.csv', collection)"
   ]
  },
  {
   "cell_type": "markdown",
   "metadata": {},
   "source": [
    "TODO\n",
    "* Need to write a loop to grab the last entry in the file"
   ]
  },
  {
   "cell_type": "code",
   "execution_count": null,
   "metadata": {
    "collapsed": true
   },
   "outputs": [],
   "source": []
  }
 ],
 "metadata": {
  "anaconda-cloud": {},
  "kernelspec": {
   "display_name": "Python [conda root]",
   "language": "python",
   "name": "conda-root-py"
  },
  "language_info": {
   "codemirror_mode": {
    "name": "ipython",
    "version": 3
   },
   "file_extension": ".py",
   "mimetype": "text/x-python",
   "name": "python",
   "nbconvert_exporter": "python",
   "pygments_lexer": "ipython3",
   "version": "3.5.2"
  }
 },
 "nbformat": 4,
 "nbformat_minor": 1
}
