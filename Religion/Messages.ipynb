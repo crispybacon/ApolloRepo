{
 "cells": [
  {
   "cell_type": "markdown",
   "metadata": {},
   "source": [
    "### Good Book Hosts "
   ]
  },
  {
   "cell_type": "markdown",
   "metadata": {},
   "source": [
    "Files were donwloaded from the following sites:  \n",
    "Old and new Testament : https://sites.google.com/site/ruwach/bibletext  \n",
    "The Tanakh html : http://www.mechon-mamre.org/dlet.htm  \n",
    "The book of Changes (text) : http://acc6.its.brooklyn.cuny.edu/~phalsall/texts/iching.txt   \n",
    "Full Ascii Tanakh (JPS) : http://www.shamash.org/tanach/text.shtml  \n",
    "The Iliad : http://classics.mit.edu/Homer/iliad.mb.txt  "
   ]
  },
  {
   "cell_type": "code",
   "execution_count": 1,
   "metadata": {
    "collapsed": true
   },
   "outputs": [],
   "source": [
    "import os, datetime, re"
   ]
  },
  {
   "cell_type": "code",
   "execution_count": 2,
   "metadata": {
    "collapsed": false
   },
   "outputs": [],
   "source": [
    "def currentPassage(text, passageOnly=True, regex='standard'):\n",
    "    days = 365\n",
    "    hours = 365*24\n",
    "    minutes = 365*24*60\n",
    "    with open(text, 'r') as f:\n",
    "        data = f.read()\n",
    "        now = datetime.datetime.now()\n",
    "        year = now.year\n",
    "        yearStart = datetime.datetime.fromordinal(datetime.date(year,1,1).toordinal())\n",
    "        diff = yearStart-now\n",
    "        minutes_offset = diff.total_seconds() / 60\n",
    "        secondsPerYear = 60 * 60 *24 * 365\n",
    "        offset = abs((minutes_offset / (secondsPerYear/60)) * 100)\n",
    "        position = len(data) * (offset/100)\n",
    "        sliver = len(data)/minutes\n",
    "        sliverInt = int(sliver)\n",
    "        positionInt = int(position)\n",
    "        redLine = data[positionInt:positionInt+sliverInt]\n",
    "        dBlockLeft = data[positionInt-1024:positionInt]\n",
    "        dBlockRight = data[positionInt:positionInt+1024]\n",
    "        dblock = dBlockLeft + dBlockRight\n",
    "        if regex == 'standard':\n",
    "            lineClip = re.compile('(.*)?\\n')\n",
    "        else:\n",
    "            lineClip = re.compile(regex)\n",
    "        redLineLeft = lineClip.search(dBlockLeft[::-1]).group()[::-1]\n",
    "        redLineRight = lineClip.search(dBlockRight[:-1]).group()\n",
    "        passage = (redLineLeft+redLineRight)[1:-1]\n",
    "        print('Sliver Size: {}'.format(sliver))\n",
    "        print('Position: {}'.format(position))\n",
    "        print('Sliver: {}'.format(redLine))\n",
    "        print('Passage: {}'.format(passage))\n",
    "        if passageOnly == True:\n",
    "            return passage\n",
    "        else:\n",
    "            return (sliver, position, passage, dblock)"
   ]
  },
  {
   "cell_type": "markdown",
   "metadata": {
    "collapsed": true
   },
   "source": [
    "#### Daily Message"
   ]
  },
  {
   "cell_type": "code",
   "execution_count": 3,
   "metadata": {
    "collapsed": false
   },
   "outputs": [
    {
     "name": "stdout",
     "output_type": "stream",
     "text": [
      "Sliver Size: 6.465022831050228\n",
      "Position: 470445.68075230817\n",
      "Sliver: prepar\n",
      "Passage:  36  And Hezekiah rejoiced, and all the people, because of that which God had prepared for the people; for the thing was done suddenly. \n"
     ]
    },
    {
     "data": {
      "text/plain": [
       "' 36  And Hezekiah rejoiced, and all the people, because of that which God had prepared for the people; for the thing was done suddenly. '"
      ]
     },
     "execution_count": 3,
     "metadata": {},
     "output_type": "execute_result"
    }
   ],
   "source": [
    "currentPassage('./bible.txt')"
   ]
  },
  {
   "cell_type": "code",
   "execution_count": 4,
   "metadata": {
    "collapsed": false
   },
   "outputs": [
    {
     "name": "stdout",
     "output_type": "stream",
     "text": [
      "Sliver Size: 1.537857686453577\n",
      "Position: 111906.58260697755\n",
      "Sliver: s\n",
      "Passage: wine as long as you please, whereas now you would not care though\n"
     ]
    },
    {
     "data": {
      "text/plain": [
       "'wine as long as you please, whereas now you would not care though'"
      ]
     },
     "execution_count": 4,
     "metadata": {},
     "output_type": "execute_result"
    }
   ],
   "source": [
    "currentPassage('./iliad.txt')"
   ]
  },
  {
   "cell_type": "code",
   "execution_count": 5,
   "metadata": {
    "collapsed": false
   },
   "outputs": [
    {
     "name": "stdout",
     "output_type": "stream",
     "text": [
      "Sliver Size: 0.18864155251141554\n",
      "Position: 13727.039032310888\n",
      "Sliver: \n",
      "Passage:           It does not further one to cross the great water.\n"
     ]
    },
    {
     "data": {
      "text/plain": [
       "'          It does not further one to cross the great water.'"
      ]
     },
     "execution_count": 5,
     "metadata": {},
     "output_type": "execute_result"
    }
   ],
   "source": [
    "currentPassage('iching.txt')"
   ]
  },
  {
   "cell_type": "code",
   "execution_count": 6,
   "metadata": {
    "collapsed": false
   },
   "outputs": [
    {
     "name": "stdout",
     "output_type": "stream",
     "text": [
      "Sliver Size: 1.9300437595129376\n",
      "Position: 140445.1341628484\n",
      "Sliver:  \n",
      "Passage: 12 It is not our feelings to you which are narrow, but yours to us.\n"
     ]
    },
    {
     "data": {
      "text/plain": [
       "'12 It is not our feelings to you which are narrow, but yours to us.'"
      ]
     },
     "execution_count": 6,
     "metadata": {},
     "output_type": "execute_result"
    }
   ],
   "source": [
    "currentPassage('NewTestament.txt')"
   ]
  },
  {
   "cell_type": "code",
   "execution_count": 7,
   "metadata": {
    "collapsed": false
   },
   "outputs": [
    {
     "name": "stdout",
     "output_type": "stream",
     "text": [
      "Sliver Size: 2.3212823439878236\n",
      "Position: 168914.7340527941\n",
      "Sliver: ha\n",
      "Passage: \"Merchant service be damned.  Talk not that lingo to me.  Dost see\n"
     ]
    },
    {
     "data": {
      "text/plain": [
       "'\"Merchant service be damned.  Talk not that lingo to me.  Dost see'"
      ]
     },
     "execution_count": 7,
     "metadata": {},
     "output_type": "execute_result"
    }
   ],
   "source": [
    "currentPassage('MobyDickMelville.txt')"
   ]
  },
  {
   "cell_type": "code",
   "execution_count": 8,
   "metadata": {
    "collapsed": false
   },
   "outputs": [
    {
     "name": "stdout",
     "output_type": "stream",
     "text": [
      "Sliver Size: 1.0227397260273972\n",
      "Position: 74422.57971868085\n",
      "Sliver:  \n",
      "Passage: 1 And Moses spake unto the heads of the tribes concerning the children of Israel, saying, This is the thing which the LORD hath commanded.\n"
     ]
    },
    {
     "data": {
      "text/plain": [
       "'1 And Moses spake unto the heads of the tribes concerning the children of Israel, saying, This is the thing which the LORD hath commanded.'"
      ]
     },
     "execution_count": 8,
     "metadata": {},
     "output_type": "execute_result"
    }
   ],
   "source": [
    "currentPassage('./books/OldTestament/Numbers/KJV_Numbers.txt')"
   ]
  },
  {
   "cell_type": "code",
   "execution_count": 9,
   "metadata": {
    "collapsed": false
   },
   "outputs": [
    {
     "name": "stdout",
     "output_type": "stream",
     "text": [
      "Sliver Size: 0.35137366818873667\n",
      "Position: 25568.709923959832\n",
      "Sliver: \n",
      "Passage:  20  Thus did Moses, and Aaron, and all the congregation of the children of Israel, unto the Levites; according unto all that the LORD commanded Moses touching the Levites, so did the children of Israel unto them. \n"
     ]
    },
    {
     "data": {
      "text/plain": [
       "' 20  Thus did Moses, and Aaron, and all the congregation of the children of Israel, unto the Levites; according unto all that the LORD commanded Moses touching the Levites, so did the children of Israel unto them. '"
      ]
     },
     "execution_count": 9,
     "metadata": {},
     "output_type": "execute_result"
    }
   ],
   "source": [
    "currentPassage('./books/jps/JPS_Numbers')"
   ]
  },
  {
   "cell_type": "code",
   "execution_count": 10,
   "metadata": {
    "collapsed": false
   },
   "outputs": [
    {
     "name": "stdout",
     "output_type": "stream",
     "text": [
      "Sliver Size: 0.25198439878234397\n",
      "Position: 18336.36624559629\n",
      "Sliver: \n",
      "Passage:  4  (5:23) then it shall be, if he hath sinned, and is guilty, that he shall restore that which he took by robbery, or the thing which he hath gotten by oppression, or the deposit which was deposited with him, or the lost thing which he found, \n"
     ]
    },
    {
     "data": {
      "text/plain": [
       "' 4  (5:23) then it shall be, if he hath sinned, and is guilty, that he shall restore that which he took by robbery, or the thing which he hath gotten by oppression, or the deposit which was deposited with him, or the lost thing which he found, '"
      ]
     },
     "execution_count": 10,
     "metadata": {},
     "output_type": "execute_result"
    }
   ],
   "source": [
    "currentPassage('./books/jps/JPS_Leviticus')"
   ]
  },
  {
   "cell_type": "code",
   "execution_count": null,
   "metadata": {
    "collapsed": true
   },
   "outputs": [],
   "source": []
  }
 ],
 "metadata": {
  "anaconda-cloud": {},
  "kernelspec": {
   "display_name": "Python 3",
   "language": "python",
   "name": "python3"
  },
  "language_info": {
   "codemirror_mode": {
    "name": "ipython",
    "version": 3
   },
   "file_extension": ".py",
   "mimetype": "text/x-python",
   "name": "python",
   "nbconvert_exporter": "python",
   "pygments_lexer": "ipython3",
   "version": "3.6.0"
  }
 },
 "nbformat": 4,
 "nbformat_minor": 1
}
